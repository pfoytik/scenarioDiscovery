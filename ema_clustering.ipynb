{
 "cells": [
  {
   "cell_type": "markdown",
   "metadata": {},
   "source": [
    "# Test different clustering methods to identify scenarios of high criticality\n",
    "- PRIM\n",
    "- K-means\n",
    "- CART"
   ]
  },
  {
   "cell_type": "code",
   "execution_count": 1,
   "metadata": {},
   "outputs": [],
   "source": [
    "from concurrent.futures import ThreadPoolExecutor\n",
    "import sqlite3\n",
    "import pickle\n",
    "import pandas as pd"
   ]
  },
  {
   "cell_type": "code",
   "execution_count": 2,
   "metadata": {},
   "outputs": [],
   "source": [
    "def read_fleet_from_db(query):\n",
    "    dat = {}\n",
    "    conn = sqlite3.connect(dbFile)\n",
    "    c = conn.cursor()\n",
    "    c.execute(query)\n",
    "    rows = c.fetchall()   \n",
    "    print(\"Length of rows: \", len(rows)) \n",
    "    for row in rows:\n",
    "        ID = row[0]\n",
    "        response = row[1]\n",
    "        input = row[2]\n",
    "        output_90 = row[3]\n",
    "        output_100 = row[4]\n",
    "        output_dist = row[5]\n",
    "\n",
    "        inIDS = pickle.loads(input)\n",
    "        odist = pickle.loads(output_dist)\n",
    "        inXML = pickle.loads(input)\n",
    "\n",
    "        tmpDat = [ID, response, inIDS, output_90, output_100, odist]\n",
    "\n",
    "        d = tmpDat\n",
    "        scen = {}\n",
    "            \n",
    "        #try:\n",
    "        #    root = d[2].getroot()\n",
    "        #except:\n",
    "        #    print('error')\n",
    "        #    root = []\n",
    "        #    continue\n",
    "        scenID = d[0]\n",
    "        #print(root.tag)\n",
    "        #for child in root:    \n",
    "        #    ### find the segment ID\n",
    "        #    segmentID = child.find('ID').text\n",
    "        #    speed = float(child.find('Freeflow_Speed').text)\n",
    "        #    lanes = float(child.find('Number_of_Lanes').text)\n",
    "        #    blocked = False\n",
    "        #    if segmentID in link_ids:\n",
    "        #        scen[segmentID] = speed\n",
    "        saveDat = [inIDS, d[3]]  \n",
    "        dat[ID] = saveDat#.append([ID, response, inXML, output_90, output_100, odist])\n",
    "\n",
    "    conn.close()\n",
    "    return dat\n",
    "\n",
    "def read_ladris_from_db(query):\n",
    "    dat = {}\n",
    "    conn = sqlite3.connect(dbFile)\n",
    "    c = conn.cursor()\n",
    "    c.execute(query)\n",
    "    rows = c.fetchall()    \n",
    "    for row in rows:\n",
    "        ID = row[0]\n",
    "        response = row[1]\n",
    "        input = row[2]\n",
    "        output_90 = row[3]\n",
    "        output_100 = row[4]\n",
    "        output_dist = row[5]\n",
    "\n",
    "        inIDS = pickle.loads(input)\n",
    "        odist = pickle.loads(output_dist)\n",
    "        inXML = pickle.loads(input)\n",
    "\n",
    "        tmpDat = [ID, response, inXML, output_90, output_100, odist]\n",
    "\n",
    "        d = tmpDat\n",
    "        scen = {}\n",
    "\n",
    "        scenID = d[0]\n",
    "        #print(root.tag)\n",
    "        #for child in d[2]:    \n",
    "        #    ### find the segment ID\n",
    "        #    segmentID = child['osmid']\n",
    "        #    speed = float(child['speed_mph'])\n",
    "        #    lanes = float(child['num_lanes'])\n",
    "        #    blocked = child['is_blocked']\n",
    "        #    if blocked == True:\n",
    "        #        scen[segmentID] = 1\n",
    "        #    #if segmentID in link_ids:\n",
    "        #        #scen[segmentID] = blocked\n",
    "        saveDat = [inIDS, d[3]]  \n",
    "        dat[ID] = saveDat#.append([ID, response, inXML, output_90, output_100, odist])\n",
    "\n",
    "    conn.close()\n",
    "    return dat"
   ]
  },
  {
   "cell_type": "code",
   "execution_count": 3,
   "metadata": {},
   "outputs": [],
   "source": [
    "dbFile = 'lhs_samples/fleet_roadBlocked_scenarios.db'"
   ]
  },
  {
   "cell_type": "code",
   "execution_count": 4,
   "metadata": {},
   "outputs": [
    {
     "name": "stdout",
     "output_type": "stream",
     "text": [
      "Length of rows:  0\n",
      "Length of rows:  34\n",
      "Length of rows:  2000\n",
      "Length of rows:  2000\n",
      "Length of rows:  2000\n",
      "6034\n"
     ]
    }
   ],
   "source": [
    "queries = [\n",
    "    'SELECT * FROM scenarios ORDER BY id DESC limit 2000',\n",
    "    'SELECT * FROM scenarios ORDER BY id DESC limit 2000 offset 2000',\n",
    "    'SELECT * FROM scenarios ORDER BY id DESC limit 2000 offset 4000',\n",
    "    'SELECT * FROM scenarios ORDER BY id DESC limit 2000 offset 6000',\n",
    "    'SELECT * FROM scenarios ORDER BY id DESC limit 1000 offset 8000',    \n",
    "]\n",
    "\n",
    "comb_scenarios = {}\n",
    "with ThreadPoolExecutor(max_workers=6) as executor:\n",
    "    for result in executor.map(read_fleet_from_db, queries):\n",
    "        comb_scenarios.update(result)\n",
    "\n",
    "print(len(comb_scenarios))"
   ]
  },
  {
   "cell_type": "markdown",
   "metadata": {},
   "source": [
    "### Create Dataframes from the database read\n",
    "- df_results: a dataframe of the results\n",
    "- df: a dataframe of the inputs"
   ]
  },
  {
   "cell_type": "code",
   "execution_count": 5,
   "metadata": {},
   "outputs": [],
   "source": [
    "df_results = pd.DataFrame([x[1] for x in comb_scenarios.values()])\n",
    "\n",
    "dataDict = {}\n",
    "for k in comb_scenarios.keys():\n",
    "    for link in comb_scenarios[k][0]:        \n",
    "        if link in dataDict.keys():\n",
    "            pass\n",
    "        else:\n",
    "            #if link in link_ids:\n",
    "            dataDict[link] = []   \n",
    "\n",
    "for k in comb_scenarios.keys():\n",
    "    for i in dataDict.keys():\n",
    "        if i in comb_scenarios[k][0]:\n",
    "            #if link in link_ids:\n",
    "            dataDict[i].append(1)\n",
    "        else:\n",
    "            #if link in link_ids:\n",
    "            dataDict[i].append(0) \n",
    "\n",
    "df = pd.DataFrame(dataDict)\n",
    "\n"
   ]
  },
  {
   "cell_type": "code",
   "execution_count": 6,
   "metadata": {},
   "outputs": [],
   "source": [
    "experiments = df\n",
    "### Create outcomes as an array of df_results\n",
    "outcomes = list(df_results[0].values)"
   ]
  },
  {
   "cell_type": "code",
   "execution_count": 7,
   "metadata": {},
   "outputs": [
    {
     "name": "stdout",
     "output_type": "stream",
     "text": [
      "                  0\n",
      "count   6032.000000\n",
      "mean   18935.958223\n",
      "std     4913.071413\n",
      "min     9600.000000\n",
      "25%    13200.000000\n",
      "50%    23400.000000\n",
      "75%    23400.000000\n",
      "max    30000.000000\n"
     ]
    }
   ],
   "source": [
    "### print descriptive statistics of outcomes\n",
    "print(df_results.describe())\n"
   ]
  },
  {
   "cell_type": "code",
   "execution_count": 8,
   "metadata": {},
   "outputs": [
    {
     "name": "stderr",
     "output_type": "stream",
     "text": [
      "\n",
      "Bad key text.latex.preview in file /home/pfoytik/anaconda3/lib/python3.7/site-packages/matplotlib/mpl-data/stylelib/_classic_test.mplstyle, line 123 ('text.latex.preview : False')\n",
      "You probably need to get an updated matplotlibrc file from\n",
      "https://github.com/matplotlib/matplotlib/blob/v3.5.3/matplotlibrc.template\n",
      "or from the matplotlib source distribution\n",
      "\n",
      "Bad key mathtext.fallback_to_cm in file /home/pfoytik/anaconda3/lib/python3.7/site-packages/matplotlib/mpl-data/stylelib/_classic_test.mplstyle, line 155 ('mathtext.fallback_to_cm : True  # When True, use symbols from the Computer Modern')\n",
      "You probably need to get an updated matplotlibrc file from\n",
      "https://github.com/matplotlib/matplotlib/blob/v3.5.3/matplotlibrc.template\n",
      "or from the matplotlib source distribution\n",
      "\n",
      "Bad key savefig.jpeg_quality in file /home/pfoytik/anaconda3/lib/python3.7/site-packages/matplotlib/mpl-data/stylelib/_classic_test.mplstyle, line 418 ('savefig.jpeg_quality: 95       # when a jpeg is saved, the default quality parameter.')\n",
      "You probably need to get an updated matplotlibrc file from\n",
      "https://github.com/matplotlib/matplotlib/blob/v3.5.3/matplotlibrc.template\n",
      "or from the matplotlib source distribution\n",
      "\n",
      "Bad key keymap.all_axes in file /home/pfoytik/anaconda3/lib/python3.7/site-packages/matplotlib/mpl-data/stylelib/_classic_test.mplstyle, line 466 ('keymap.all_axes : a                 # enable all axes')\n",
      "You probably need to get an updated matplotlibrc file from\n",
      "https://github.com/matplotlib/matplotlib/blob/v3.5.3/matplotlibrc.template\n",
      "or from the matplotlib source distribution\n",
      "\n",
      "Bad key animation.avconv_path in file /home/pfoytik/anaconda3/lib/python3.7/site-packages/matplotlib/mpl-data/stylelib/_classic_test.mplstyle, line 477 ('animation.avconv_path: avconv     # Path to avconv binary. Without full path')\n",
      "You probably need to get an updated matplotlibrc file from\n",
      "https://github.com/matplotlib/matplotlib/blob/v3.5.3/matplotlibrc.template\n",
      "or from the matplotlib source distribution\n",
      "\n",
      "Bad key animation.avconv_args in file /home/pfoytik/anaconda3/lib/python3.7/site-packages/matplotlib/mpl-data/stylelib/_classic_test.mplstyle, line 479 ('animation.avconv_args:            # Additional arguments to pass to avconv')\n",
      "You probably need to get an updated matplotlibrc file from\n",
      "https://github.com/matplotlib/matplotlib/blob/v3.5.3/matplotlibrc.template\n",
      "or from the matplotlib source distribution\n"
     ]
    },
    {
     "ename": "NameError",
     "evalue": "name 'plt' is not defined",
     "output_type": "error",
     "traceback": [
      "\u001b[0;31m---------------------------------------------------------------------------\u001b[0m",
      "\u001b[0;31mNameError\u001b[0m                                 Traceback (most recent call last)",
      "\u001b[0;32m/tmp/ipykernel_1727378/3960134691.py\u001b[0m in \u001b[0;36m<module>\u001b[0;34m\u001b[0m\n\u001b[1;32m      1\u001b[0m \u001b[0;31m### Plot histogram of df_results[0]\u001b[0m\u001b[0;34m\u001b[0m\u001b[0;34m\u001b[0m\u001b[0;34m\u001b[0m\u001b[0m\n\u001b[1;32m      2\u001b[0m \u001b[0mdf_results\u001b[0m\u001b[0;34m[\u001b[0m\u001b[0;36m0\u001b[0m\u001b[0;34m]\u001b[0m\u001b[0;34m.\u001b[0m\u001b[0mplot\u001b[0m\u001b[0;34m(\u001b[0m\u001b[0mkind\u001b[0m\u001b[0;34m=\u001b[0m\u001b[0;34m'hist'\u001b[0m\u001b[0;34m,\u001b[0m \u001b[0mbins\u001b[0m\u001b[0;34m=\u001b[0m\u001b[0;36m20\u001b[0m\u001b[0;34m)\u001b[0m\u001b[0;34m\u001b[0m\u001b[0;34m\u001b[0m\u001b[0m\n\u001b[0;32m----> 3\u001b[0;31m \u001b[0mplt\u001b[0m\u001b[0;34m.\u001b[0m\u001b[0mxlabel\u001b[0m\u001b[0;34m(\u001b[0m\u001b[0;34m'Time to 90% blocked'\u001b[0m\u001b[0;34m)\u001b[0m\u001b[0;34m\u001b[0m\u001b[0;34m\u001b[0m\u001b[0m\n\u001b[0m\u001b[1;32m      4\u001b[0m \u001b[0mplt\u001b[0m\u001b[0;34m.\u001b[0m\u001b[0mylabel\u001b[0m\u001b[0;34m(\u001b[0m\u001b[0;34m'Frequency'\u001b[0m\u001b[0;34m)\u001b[0m\u001b[0;34m\u001b[0m\u001b[0;34m\u001b[0m\u001b[0m\n\u001b[1;32m      5\u001b[0m \u001b[0mplt\u001b[0m\u001b[0;34m.\u001b[0m\u001b[0mtitle\u001b[0m\u001b[0;34m(\u001b[0m\u001b[0;34m'Histogram of Time to 90% blocked'\u001b[0m\u001b[0;34m)\u001b[0m\u001b[0;34m\u001b[0m\u001b[0;34m\u001b[0m\u001b[0m\n",
      "\u001b[0;31mNameError\u001b[0m: name 'plt' is not defined"
     ]
    },
    {
     "data": {
      "image/png": "[encoded data removed]",
      "text/plain": [
       "<Figure size 640x480 with 1 Axes>"
      ]
     },
     "metadata": {},
     "output_type": "display_data"
    }
   ],
   "source": [
    "### Plot histogram of df_results[0]\n",
    "df_results[0].plot(kind='hist', bins=20)\n",
    "plt.xlabel('Time to 90% blocked')\n",
    "plt.ylabel('Frequency')\n",
    "plt.title('Histogram of Time to 90% blocked')\n",
    "plt.show()\n",
    "\n"
   ]
  },
  {
   "cell_type": "code",
   "execution_count": 9,
   "metadata": {},
   "outputs": [
    {
     "name": "stdout",
     "output_type": "stream",
     "text": [
      "3260\n",
      "3260\n",
      "6034\n"
     ]
    }
   ],
   "source": [
    "print(len(experiments[df_results[0] > 17500]))\n",
    "print(len(df_results[df_results[0] > 17500]))\n",
    "print(len(df_results))"
   ]
  },
  {
   "cell_type": "code",
   "execution_count": 10,
   "metadata": {},
   "outputs": [],
   "source": [
    "### establish data sets for high and low outcomes\n",
    "high_results = df_results[df_results[0] > 17500]\n",
    "low_results = df_results[df_results[0] <= 17500]\n",
    "\n",
    "### establish data sets for high and low inputs\n",
    "high_inputs = experiments[df_results[0] > 17500]\n",
    "low_inputs = experiments[df_results[0] <= 17500]\n"
   ]
  },
  {
   "cell_type": "markdown",
   "metadata": {},
   "source": [
    "# Prim analysis"
   ]
  },
  {
   "cell_type": "code",
   "execution_count": 11,
   "metadata": {},
   "outputs": [],
   "source": [
    "np_results = df_results[0].to_numpy()"
   ]
  },
  {
   "cell_type": "code",
   "execution_count": 12,
   "metadata": {},
   "outputs": [
    {
     "data": {
      "text/plain": [
       "array([16500., 23400., 13200., ..., 12900., 23400.,  9600.])"
      ]
     },
     "execution_count": 12,
     "metadata": {},
     "output_type": "execute_result"
    }
   ],
   "source": [
    "np_results"
   ]
  },
  {
   "cell_type": "code",
   "execution_count": 13,
   "metadata": {},
   "outputs": [
    {
     "data": {
      "image/png": "[encoded data removed]",
      "text/plain": [
       "<Figure size 640x480 with 1 Axes>"
      ]
     },
     "metadata": {},
     "output_type": "display_data"
    }
   ],
   "source": [
    "### plot df_results\n",
    "import matplotlib.pyplot as plt\n",
    "\n",
    "### plot histogram of df_results\n",
    "plt.hist(df_results[0], bins=20)\n",
    "plt.show()"
   ]
  },
  {
   "cell_type": "code",
   "execution_count": 14,
   "metadata": {},
   "outputs": [],
   "source": [
    "import prim as p_rim"
   ]
  },
  {
   "cell_type": "code",
   "execution_count": 24,
   "metadata": {},
   "outputs": [],
   "source": [
    "result_limits = {}"
   ]
  },
  {
   "cell_type": "markdown",
   "metadata": {},
   "source": [
    "# High and Low Limits Data"
   ]
  },
  {
   "cell_type": "code",
   "execution_count": 16,
   "metadata": {},
   "outputs": [],
   "source": [
    "high_results = df_results[df_results[0] > 17500]\n",
    "low_results = df_results[df_results[0] <= 17500]\n",
    "\n",
    "high_inputs = experiments[df_results[0] > 17500]\n",
    "low_inputs = experiments[df_results[0] <= 17500]"
   ]
  },
  {
   "cell_type": "code",
   "execution_count": 17,
   "metadata": {},
   "outputs": [
    {
     "name": "stdout",
     "output_type": "stream",
     "text": [
      "3260\n",
      "2772\n",
      "3260\n",
      "2772\n"
     ]
    }
   ],
   "source": [
    "### Print the length of high and low results and high and low inputs\n",
    "print(len(high_results))\n",
    "print(len(low_results))\n",
    "print(len(high_inputs))\n",
    "print(len(low_inputs))"
   ]
  },
  {
   "cell_type": "markdown",
   "metadata": {},
   "source": [
    "# PRIM Analysis"
   ]
  },
  {
   "cell_type": "code",
   "execution_count": 18,
   "metadata": {},
   "outputs": [
    {
     "data": {
      "image/png": "[encoded data removed]",
      "text/plain": [
       "<Figure size 640x480 with 1 Axes>"
      ]
     },
     "metadata": {},
     "output_type": "display_data"
    }
   ],
   "source": [
    "### show histogram of high results\n",
    "plt.hist(high_results[0], bins=20)\n",
    "plt.show()\n"
   ]
  },
  {
   "cell_type": "code",
   "execution_count": 19,
   "metadata": {},
   "outputs": [],
   "source": [
    "prim_alg = p_rim.Prim(high_inputs, high_results[0], threshold=22000.0, threshold_type=\">\")\n"
   ]
  },
  {
   "cell_type": "code",
   "execution_count": 20,
   "metadata": {},
   "outputs": [],
   "source": [
    "box = prim_alg.find_box()"
   ]
  },
  {
   "cell_type": "code",
   "execution_count": 21,
   "metadata": {},
   "outputs": [
    {
     "data": {
      "text/html": [
       "<div>\n",
       "<style scoped>\n",
       "    .dataframe tbody tr th:only-of-type {\n",
       "        vertical-align: middle;\n",
       "    }\n",
       "\n",
       "    .dataframe tbody tr th {\n",
       "        vertical-align: top;\n",
       "    }\n",
       "\n",
       "    .dataframe thead th {\n",
       "        text-align: right;\n",
       "    }\n",
       "</style>\n",
       "<table border=\"1\" class=\"dataframe\">\n",
       "  <thead>\n",
       "    <tr style=\"text-align: right;\">\n",
       "      <th></th>\n",
       "      <th>min</th>\n",
       "      <th>max</th>\n",
       "      <th>qp values</th>\n",
       "    </tr>\n",
       "  </thead>\n",
       "  <tbody>\n",
       "    <tr>\n",
       "      <th>10949279384</th>\n",
       "      <td>0.0</td>\n",
       "      <td>0.0</td>\n",
       "      <td>0.000002</td>\n",
       "    </tr>\n",
       "    <tr>\n",
       "      <th>10708847376</th>\n",
       "      <td>0.0</td>\n",
       "      <td>0.0</td>\n",
       "      <td>0.000004</td>\n",
       "    </tr>\n",
       "    <tr>\n",
       "      <th>105537673</th>\n",
       "      <td>0.0</td>\n",
       "      <td>0.0</td>\n",
       "      <td>0.000004</td>\n",
       "    </tr>\n",
       "    <tr>\n",
       "      <th>1155656405</th>\n",
       "      <td>0.0</td>\n",
       "      <td>0.0</td>\n",
       "      <td>0.000025</td>\n",
       "    </tr>\n",
       "    <tr>\n",
       "      <th>708548339</th>\n",
       "      <td>0.0</td>\n",
       "      <td>0.0</td>\n",
       "      <td>0.000448</td>\n",
       "    </tr>\n",
       "    <tr>\n",
       "      <th>1173048758</th>\n",
       "      <td>0.0</td>\n",
       "      <td>0.0</td>\n",
       "      <td>0.000507</td>\n",
       "    </tr>\n",
       "    <tr>\n",
       "      <th>10105538098</th>\n",
       "      <td>0.0</td>\n",
       "      <td>0.0</td>\n",
       "      <td>0.001198</td>\n",
       "    </tr>\n",
       "    <tr>\n",
       "      <th>10708958457</th>\n",
       "      <td>0.0</td>\n",
       "      <td>0.0</td>\n",
       "      <td>0.001239</td>\n",
       "    </tr>\n",
       "    <tr>\n",
       "      <th>10112036712</th>\n",
       "      <td>0.0</td>\n",
       "      <td>0.0</td>\n",
       "      <td>0.001243</td>\n",
       "    </tr>\n",
       "    <tr>\n",
       "      <th>10708549612</th>\n",
       "      <td>0.0</td>\n",
       "      <td>0.0</td>\n",
       "      <td>0.003342</td>\n",
       "    </tr>\n",
       "    <tr>\n",
       "      <th>1172978482</th>\n",
       "      <td>0.0</td>\n",
       "      <td>0.0</td>\n",
       "      <td>0.008863</td>\n",
       "    </tr>\n",
       "  </tbody>\n",
       "</table>\n",
       "</div>"
      ],
      "text/plain": [
       "             min  max  qp values\n",
       "10949279384  0.0  0.0   0.000002\n",
       "10708847376  0.0  0.0   0.000004\n",
       "105537673    0.0  0.0   0.000004\n",
       "1155656405   0.0  0.0   0.000025\n",
       "708548339    0.0  0.0   0.000448\n",
       "1173048758   0.0  0.0   0.000507\n",
       "10105538098  0.0  0.0   0.001198\n",
       "10708958457  0.0  0.0   0.001239\n",
       "10112036712  0.0  0.0   0.001243\n",
       "10708549612  0.0  0.0   0.003342\n",
       "1172978482   0.0  0.0   0.008863"
      ]
     },
     "execution_count": 21,
     "metadata": {},
     "output_type": "execute_result"
    }
   ],
   "source": [
    "box.limits"
   ]
  },
  {
   "cell_type": "code",
   "execution_count": 25,
   "metadata": {},
   "outputs": [],
   "source": [
    "result_limits['high_limits'] = box.limits"
   ]
  },
  {
   "cell_type": "code",
   "execution_count": 26,
   "metadata": {},
   "outputs": [
    {
     "data": {
      "image/png": "[encoded data removed]",
      "text/plain": [
       "<Figure size 640x480 with 1 Axes>"
      ]
     },
     "metadata": {},
     "output_type": "display_data"
    }
   ],
   "source": [
    "### plot histogram of low results\n",
    "plt.hist(low_results[0], bins=20)\n",
    "plt.show()"
   ]
  },
  {
   "cell_type": "code",
   "execution_count": 27,
   "metadata": {},
   "outputs": [],
   "source": [
    "prim_alg = p_rim.Prim(low_inputs, low_results[0], threshold=14000.0, threshold_type=\"<\")\n",
    "box = prim_alg.find_box()"
   ]
  },
  {
   "cell_type": "code",
   "execution_count": 28,
   "metadata": {},
   "outputs": [
    {
     "data": {
      "text/html": [
       "<div>\n",
       "<style scoped>\n",
       "    .dataframe tbody tr th:only-of-type {\n",
       "        vertical-align: middle;\n",
       "    }\n",
       "\n",
       "    .dataframe tbody tr th {\n",
       "        vertical-align: top;\n",
       "    }\n",
       "\n",
       "    .dataframe thead th {\n",
       "        text-align: right;\n",
       "    }\n",
       "</style>\n",
       "<table border=\"1\" class=\"dataframe\">\n",
       "  <thead>\n",
       "    <tr style=\"text-align: right;\">\n",
       "      <th></th>\n",
       "      <th>min</th>\n",
       "      <th>max</th>\n",
       "      <th>qp values</th>\n",
       "    </tr>\n",
       "  </thead>\n",
       "  <tbody>\n",
       "    <tr>\n",
       "      <th>710782582</th>\n",
       "      <td>0.0</td>\n",
       "      <td>0.0</td>\n",
       "      <td>8.639269e-11</td>\n",
       "    </tr>\n",
       "    <tr>\n",
       "      <th>708749840</th>\n",
       "      <td>0.0</td>\n",
       "      <td>0.0</td>\n",
       "      <td>3.200012e-09</td>\n",
       "    </tr>\n",
       "    <tr>\n",
       "      <th>1156083863</th>\n",
       "      <td>0.0</td>\n",
       "      <td>0.0</td>\n",
       "      <td>1.042189e-08</td>\n",
       "    </tr>\n",
       "    <tr>\n",
       "      <th>709017866</th>\n",
       "      <td>0.0</td>\n",
       "      <td>0.0</td>\n",
       "      <td>2.535031e-08</td>\n",
       "    </tr>\n",
       "    <tr>\n",
       "      <th>10116970509</th>\n",
       "      <td>0.0</td>\n",
       "      <td>0.0</td>\n",
       "      <td>2.835421e-08</td>\n",
       "    </tr>\n",
       "    <tr>\n",
       "      <th>1172855239</th>\n",
       "      <td>0.0</td>\n",
       "      <td>0.0</td>\n",
       "      <td>7.846876e-08</td>\n",
       "    </tr>\n",
       "    <tr>\n",
       "      <th>105541877</th>\n",
       "      <td>0.0</td>\n",
       "      <td>0.0</td>\n",
       "      <td>1.735145e-07</td>\n",
       "    </tr>\n",
       "    <tr>\n",
       "      <th>10710783587</th>\n",
       "      <td>0.0</td>\n",
       "      <td>0.0</td>\n",
       "      <td>1.806088e-07</td>\n",
       "    </tr>\n",
       "    <tr>\n",
       "      <th>91169778</th>\n",
       "      <td>0.0</td>\n",
       "      <td>0.0</td>\n",
       "      <td>1.258043e-06</td>\n",
       "    </tr>\n",
       "    <tr>\n",
       "      <th>10709015681</th>\n",
       "      <td>0.0</td>\n",
       "      <td>0.0</td>\n",
       "      <td>2.936052e-06</td>\n",
       "    </tr>\n",
       "    <tr>\n",
       "      <th>91169784</th>\n",
       "      <td>0.0</td>\n",
       "      <td>0.0</td>\n",
       "      <td>3.686560e-06</td>\n",
       "    </tr>\n",
       "    <tr>\n",
       "      <th>11156083863</th>\n",
       "      <td>0.0</td>\n",
       "      <td>0.0</td>\n",
       "      <td>1.969915e-05</td>\n",
       "    </tr>\n",
       "    <tr>\n",
       "      <th>91169911</th>\n",
       "      <td>0.0</td>\n",
       "      <td>0.0</td>\n",
       "      <td>2.143108e-05</td>\n",
       "    </tr>\n",
       "    <tr>\n",
       "      <th>10709015680</th>\n",
       "      <td>0.0</td>\n",
       "      <td>0.0</td>\n",
       "      <td>5.309213e-05</td>\n",
       "    </tr>\n",
       "    <tr>\n",
       "      <th>10709017866</th>\n",
       "      <td>0.0</td>\n",
       "      <td>0.0</td>\n",
       "      <td>1.364196e-04</td>\n",
       "    </tr>\n",
       "    <tr>\n",
       "      <th>105539865</th>\n",
       "      <td>0.0</td>\n",
       "      <td>0.0</td>\n",
       "      <td>1.693747e-04</td>\n",
       "    </tr>\n",
       "    <tr>\n",
       "      <th>10091169911</th>\n",
       "      <td>0.0</td>\n",
       "      <td>0.0</td>\n",
       "      <td>3.499020e-04</td>\n",
       "    </tr>\n",
       "    <tr>\n",
       "      <th>11156090945</th>\n",
       "      <td>0.0</td>\n",
       "      <td>0.0</td>\n",
       "      <td>3.724678e-04</td>\n",
       "    </tr>\n",
       "    <tr>\n",
       "      <th>91170120</th>\n",
       "      <td>0.0</td>\n",
       "      <td>0.0</td>\n",
       "      <td>4.511229e-04</td>\n",
       "    </tr>\n",
       "    <tr>\n",
       "      <th>127847573</th>\n",
       "      <td>0.0</td>\n",
       "      <td>0.0</td>\n",
       "      <td>1.022103e-03</td>\n",
       "    </tr>\n",
       "    <tr>\n",
       "      <th>10708958458</th>\n",
       "      <td>0.0</td>\n",
       "      <td>0.0</td>\n",
       "      <td>1.166527e-03</td>\n",
       "    </tr>\n",
       "    <tr>\n",
       "      <th>1173056608</th>\n",
       "      <td>0.0</td>\n",
       "      <td>0.0</td>\n",
       "      <td>1.197048e-03</td>\n",
       "    </tr>\n",
       "    <tr>\n",
       "      <th>710783587</th>\n",
       "      <td>0.0</td>\n",
       "      <td>0.0</td>\n",
       "      <td>1.238609e-03</td>\n",
       "    </tr>\n",
       "    <tr>\n",
       "      <th>709015681</th>\n",
       "      <td>0.0</td>\n",
       "      <td>0.0</td>\n",
       "      <td>2.598912e-03</td>\n",
       "    </tr>\n",
       "    <tr>\n",
       "      <th>10105574033</th>\n",
       "      <td>0.0</td>\n",
       "      <td>0.0</td>\n",
       "      <td>2.872559e-03</td>\n",
       "    </tr>\n",
       "    <tr>\n",
       "      <th>11156083866</th>\n",
       "      <td>0.0</td>\n",
       "      <td>0.0</td>\n",
       "      <td>7.547026e-03</td>\n",
       "    </tr>\n",
       "    <tr>\n",
       "      <th>10116946397</th>\n",
       "      <td>0.0</td>\n",
       "      <td>0.0</td>\n",
       "      <td>1.890308e-02</td>\n",
       "    </tr>\n",
       "    <tr>\n",
       "      <th>11173056608</th>\n",
       "      <td>0.0</td>\n",
       "      <td>0.0</td>\n",
       "      <td>2.000423e-02</td>\n",
       "    </tr>\n",
       "    <tr>\n",
       "      <th>1175073250</th>\n",
       "      <td>0.0</td>\n",
       "      <td>0.0</td>\n",
       "      <td>2.082421e-02</td>\n",
       "    </tr>\n",
       "    <tr>\n",
       "      <th>1172872766</th>\n",
       "      <td>0.0</td>\n",
       "      <td>0.0</td>\n",
       "      <td>5.127988e-02</td>\n",
       "    </tr>\n",
       "    <tr>\n",
       "      <th>10704060378</th>\n",
       "      <td>0.0</td>\n",
       "      <td>0.0</td>\n",
       "      <td>5.410485e-02</td>\n",
       "    </tr>\n",
       "    <tr>\n",
       "      <th>10711376239</th>\n",
       "      <td>0.0</td>\n",
       "      <td>0.0</td>\n",
       "      <td>5.574047e-02</td>\n",
       "    </tr>\n",
       "    <tr>\n",
       "      <th>10704124376</th>\n",
       "      <td>0.0</td>\n",
       "      <td>0.0</td>\n",
       "      <td>1.396425e-01</td>\n",
       "    </tr>\n",
       "    <tr>\n",
       "      <th>105593453</th>\n",
       "      <td>0.0</td>\n",
       "      <td>0.0</td>\n",
       "      <td>1.435892e-01</td>\n",
       "    </tr>\n",
       "    <tr>\n",
       "      <th>1155878763</th>\n",
       "      <td>0.0</td>\n",
       "      <td>0.0</td>\n",
       "      <td>1.000000e+00</td>\n",
       "    </tr>\n",
       "  </tbody>\n",
       "</table>\n",
       "</div>"
      ],
      "text/plain": [
       "             min  max     qp values\n",
       "710782582    0.0  0.0  8.639269e-11\n",
       "708749840    0.0  0.0  3.200012e-09\n",
       "1156083863   0.0  0.0  1.042189e-08\n",
       "709017866    0.0  0.0  2.535031e-08\n",
       "10116970509  0.0  0.0  2.835421e-08\n",
       "1172855239   0.0  0.0  7.846876e-08\n",
       "105541877    0.0  0.0  1.735145e-07\n",
       "10710783587  0.0  0.0  1.806088e-07\n",
       "91169778     0.0  0.0  1.258043e-06\n",
       "10709015681  0.0  0.0  2.936052e-06\n",
       "91169784     0.0  0.0  3.686560e-06\n",
       "11156083863  0.0  0.0  1.969915e-05\n",
       "91169911     0.0  0.0  2.143108e-05\n",
       "10709015680  0.0  0.0  5.309213e-05\n",
       "10709017866  0.0  0.0  1.364196e-04\n",
       "105539865    0.0  0.0  1.693747e-04\n",
       "10091169911  0.0  0.0  3.499020e-04\n",
       "11156090945  0.0  0.0  3.724678e-04\n",
       "91170120     0.0  0.0  4.511229e-04\n",
       "127847573    0.0  0.0  1.022103e-03\n",
       "10708958458  0.0  0.0  1.166527e-03\n",
       "1173056608   0.0  0.0  1.197048e-03\n",
       "710783587    0.0  0.0  1.238609e-03\n",
       "709015681    0.0  0.0  2.598912e-03\n",
       "10105574033  0.0  0.0  2.872559e-03\n",
       "11156083866  0.0  0.0  7.547026e-03\n",
       "10116946397  0.0  0.0  1.890308e-02\n",
       "11173056608  0.0  0.0  2.000423e-02\n",
       "1175073250   0.0  0.0  2.082421e-02\n",
       "1172872766   0.0  0.0  5.127988e-02\n",
       "10704060378  0.0  0.0  5.410485e-02\n",
       "10711376239  0.0  0.0  5.574047e-02\n",
       "10704124376  0.0  0.0  1.396425e-01\n",
       "105593453    0.0  0.0  1.435892e-01\n",
       "1155878763   0.0  0.0  1.000000e+00"
      ]
     },
     "execution_count": 28,
     "metadata": {},
     "output_type": "execute_result"
    }
   ],
   "source": [
    "box.limits"
   ]
  },
  {
   "cell_type": "code",
   "execution_count": 29,
   "metadata": {},
   "outputs": [],
   "source": [
    "result_limits['low_limits'] = box.limits"
   ]
  },
  {
   "cell_type": "markdown",
   "metadata": {},
   "source": [
    "# KMeans tests"
   ]
  },
  {
   "cell_type": "code",
   "execution_count": 54,
   "metadata": {},
   "outputs": [
    {
     "name": "stdout",
     "output_type": "stream",
     "text": [
      "0    202\n",
      "1    191\n",
      "3    159\n",
      "2     27\n",
      "dtype: int64\n"
     ]
    }
   ],
   "source": [
    "### cluster the results\n",
    "from sklearn.cluster import KMeans\n",
    "\n",
    "### kmeans cluster the columns of high_inputs\n",
    "kmeans = KMeans(n_clusters=4, random_state=21).fit(high_inputs.T)\n",
    "\n",
    "### print the count of each cluster\n",
    "print(pd.Series(kmeans.labels_).value_counts())\n"
   ]
  },
  {
   "cell_type": "code",
   "execution_count": 58,
   "metadata": {},
   "outputs": [
    {
     "name": "stdout",
     "output_type": "stream",
     "text": [
      "Index(['10091169783', '91167825', '91169890', '11173048760', '704060377',\n",
      "       '10105593568', '10704060378', '710783586', '10091169901', '10708503028',\n",
      "       '91170618', '105539865', '10949290451', '949790370', '10091170041',\n",
      "       '709015679', '10091170205', '11173060573', '127825678', '127847572',\n",
      "       '1173040618', '91169787', '91170209', '711121754', '10708957455',\n",
      "       '1172978482', '105537706'],\n",
      "      dtype='object')\n"
     ]
    }
   ],
   "source": [
    "### print the labels for cluster 2\n",
    "print(high_inputs.columns[kmeans.labels_ == 2])\n",
    "\n",
    "\n"
   ]
  },
  {
   "cell_type": "code",
   "execution_count": 59,
   "metadata": {},
   "outputs": [],
   "source": [
    "result_limits['high_kmeans'] = kmeans"
   ]
  },
  {
   "cell_type": "code",
   "execution_count": 60,
   "metadata": {},
   "outputs": [
    {
     "name": "stdout",
     "output_type": "stream",
     "text": [
      "1    191\n",
      "3    152\n",
      "2    123\n",
      "0    113\n",
      "dtype: int64\n"
     ]
    }
   ],
   "source": [
    "### kmeans cluster the columns of high_inputs\n",
    "kmeans = KMeans(n_clusters=4, random_state=21).fit(low_inputs.T)\n",
    "\n",
    "### print the count of each cluster\n",
    "print(pd.Series(kmeans.labels_).value_counts())"
   ]
  },
  {
   "cell_type": "code",
   "execution_count": 61,
   "metadata": {},
   "outputs": [],
   "source": [
    "result_limits['low_kmeans'] = kmeans"
   ]
  },
  {
   "cell_type": "code",
   "execution_count": 62,
   "metadata": {},
   "outputs": [
    {
     "name": "stdout",
     "output_type": "stream",
     "text": [
      "4\n"
     ]
    }
   ],
   "source": [
    "print(len(result_limits))"
   ]
  },
  {
   "cell_type": "code",
   "execution_count": 98,
   "metadata": {},
   "outputs": [
    {
     "data": {
      "text/plain": [
       "41"
      ]
     },
     "execution_count": 98,
     "metadata": {},
     "output_type": "execute_result"
    }
   ],
   "source": [
    "### get the index's of results for each cluster\n",
    "cluster0 = []\n",
    "cluster1 = []\n",
    "cluster2 = []\n",
    "cluster3 = []\n",
    "\n",
    "idx0 = []\n",
    "idx1 = []\n",
    "idx2 = []\n",
    "idx3 = []\n",
    "\n",
    "for i in range(len(kmeans.labels_)):\n",
    "    if kmeans.labels_[i] == 0:\n",
    "        cluster0.append(df_resultsMAX[0].iloc[i])\n",
    "        idx0.append(i)\n",
    "    elif kmeans.labels_[i] == 1:\n",
    "        cluster1.append(df_resultsMAX[0].iloc[i])\n",
    "        idx1.append(i)\n",
    "    elif kmeans.labels_[i] == 2:\n",
    "        cluster2.append(df_resultsMAX[0].iloc[i])\n",
    "        idx2.append(i)\n",
    "    elif kmeans.labels_[i] == 3:\n",
    "        cluster3.append(df_resultsMAX[0].iloc[i])\n",
    "        idx3.append(i)\n",
    "\n",
    "len(cluster0)"
   ]
  },
  {
   "cell_type": "code",
   "execution_count": 99,
   "metadata": {},
   "outputs": [
    {
     "data": {
      "image/png": "[encoded data removed]",
      "text/plain": [
       "<Figure size 640x480 with 1 Axes>"
      ]
     },
     "metadata": {},
     "output_type": "display_data"
    }
   ],
   "source": [
    "### plot a histogram all the clusters\n",
    "plt.hist(cluster0, bins=10, alpha=0.5, label='Cluster 0')\n",
    "plt.hist(cluster1, bins=10, alpha=0.5, label='Cluster 1')\n",
    "plt.hist(cluster2, bins=10, alpha=0.5, label='Cluster 2')\n",
    "plt.hist(cluster3, bins=10, alpha=0.5, label='Cluster 3')\n",
    "plt.legend(loc='upper right')\n",
    "plt.show()"
   ]
  },
  {
   "cell_type": "code",
   "execution_count": 100,
   "metadata": {},
   "outputs": [
    {
     "name": "stdout",
     "output_type": "stream",
     "text": [
      "507\n",
      "579\n",
      "579\n",
      "579\n"
     ]
    }
   ],
   "source": [
    "### print colum names of df.iloc[idx0] that have values greater than 0\n",
    "print(len(df.iloc[idx0].columns[(df.iloc[idx0] > 0).any()]))\n",
    "print(len(df.iloc[idx1].columns[(df.iloc[idx1] > 0).any()]))\n",
    "print(len(df.iloc[idx2].columns[(df.iloc[idx2] > 0).any()]))\n",
    "print(len(df.iloc[idx3].columns[(df.iloc[idx3] > 0).any()]))\n",
    "\n"
   ]
  },
  {
   "cell_type": "code",
   "execution_count": 130,
   "metadata": {},
   "outputs": [
    {
     "name": "stdout",
     "output_type": "stream",
     "text": [
      "116967913      7\n",
      "91169782       7\n",
      "949300629      7\n",
      "10915734790    7\n",
      "711115701      6\n",
      "              ..\n",
      "10091170132    0\n",
      "711379673      0\n",
      "1156005087     0\n",
      "711251380      0\n",
      "105537445      0\n",
      "Length: 579, dtype: int64\n"
     ]
    }
   ],
   "source": [
    "### for each df.iloc[idx0] print the sum of all columns sorted from highest to lowest\n",
    "print(df.iloc[idx0].sum().sort_values(ascending=False))\n",
    "\n",
    "### get the top 10 columns of df.iloc[idx0] that have the highest sum\n",
    "maxSegs0 = df.iloc[idx0].sum().sort_values(ascending=False).head(200)\n",
    "maxSegs1 = df.iloc[idx1].sum().sort_values(ascending=False).head(200)\n",
    "maxSegs2 = df.iloc[idx2].sum().sort_values(ascending=False).head(200)\n",
    "maxSegs3 = df.iloc[idx3].sum().sort_values(ascending=False).head(200)\n"
   ]
  },
  {
   "cell_type": "code",
   "execution_count": 131,
   "metadata": {},
   "outputs": [
    {
     "name": "stdout",
     "output_type": "stream",
     "text": [
      "Index(['116967913', '10915734790', '10711209710', '710783587', '10915734793',\n",
      "       '10946271023', '91435359', '10709015679', '10711121748', '10949397063',\n",
      "       '1175069740', '91170205', '10708958458', '949279124', '105593873',\n",
      "       '11173060575', '704124376', '105540011', '10710782580', '10703777459',\n",
      "       '10127825675', '105574067', '10105574368', '703777459', '10703777750',\n",
      "       '105593568', '949290447', '1156080182', '1116878000', '949397070',\n",
      "       '10708548339', '1173048757', '116964285', '105539210', '10105538098',\n",
      "       '10105593499', '1156090945', '10105537958', '24501202', '10105537672',\n",
      "       '105539772', '105538755', '11173040622', '11173048767', '10704061070',\n",
      "       '703766145', '91169778', '10711379673', '91170619', '10105540066',\n",
      "       '937800492', '10105537818', '105593939', '708957454', '116970510',\n",
      "       '11172978481', '10091167864', '105574369', '11155878755', '10116952815',\n",
      "       '709015681', '1156083863', '105593941', '10710782582', '711440306',\n",
      "       '10091169790'],\n",
      "      dtype='object')\n",
      "Index(['91169782', '949293273', '91170120', '116970483', '10711115700',\n",
      "       '91435359', '105574033', '91170132', '1175324855', '10024501202',\n",
      "       '10127847593', '91169911', '709015679', '1172978480', '1173061123',\n",
      "       '999850568', '10105593842', '11156090945', '10024501500', '10116937342',\n",
      "       '10127825675', '711121748', '10703777750', '1172978482', '11156005092',\n",
      "       '105575910', '10949290444', '11172854052', '1172852963', '10709015680',\n",
      "       '91167864', '10703778100', '10949397061', '708847376', '10105538098',\n",
      "       '1156090945', '10105537958', '24501202', '10105537672', '10711121754',\n",
      "       '91169787', '11172854584', '1173048760', '91169778', '708549608',\n",
      "       '949397068', '1173061709', '24501500', '703777750', '949290457',\n",
      "       '11172978481', '127847573', '1172862677', '105537844', '11155878755',\n",
      "       '10703766144', '11155878757', '10105593375', '11173048760',\n",
      "       '1175069738', '709015681', '1156083863', '1172852973', '11172862677',\n",
      "       '10091169790'],\n",
      "      dtype='object')\n",
      "Index(['711115701', '10915734793', '10091169926', '10105575352', '11155878763',\n",
      "       '10711115700', '120406152', '10946271023', '91169928', '10937800492',\n",
      "       '10116970510', '10105539865', '10709015679', '10091434761',\n",
      "       '10703746957', '11155656403', '11156083866', '1175069740', '1172862678',\n",
      "       '11172854310', '1173061123', '704124376', '10710782580', '10116937342',\n",
      "       '1172969170', '703777459', '11172862691', '10105538093', '1110254020',\n",
      "       '1156080182', '10105593453', '949283528', '10708548339', '10091169928',\n",
      "       '10709017866', '105574370', '949283236', '703746957', '949536370',\n",
      "       '10105576311', '10112051471', '10091169778', '11173048758', '91169787',\n",
      "       '105535942', '91170209', '105593842', '1173048760', '10711379673',\n",
      "       '937800492', '10949290447', '91434762', '116970510', '116951485',\n",
      "       '10116952815', '10949300629', '10024563032', '1172978483',\n",
      "       '10709015681'],\n",
      "      dtype='object')\n",
      "Index(['10105537672', '10105538098', '710782580', '1155878757', '10704124377',\n",
      "       '24501202', '11155656395', '711443269', '11173048759', '10091167825',\n",
      "       '10127847572', '91170208', '1156083863', '11173040620', '105539843',\n",
      "       '10703766232', '105574065', '10116952816', '10703777750', '10949397067',\n",
      "       '1173040620', '116972286', '710771499', '11172978481', '10949279124',\n",
      "       '10091169790', '91435359', '10127825675', '709015681', '1155656405',\n",
      "       '1156083854', '11175073251', '956106017', '127825675', '105576311',\n",
      "       '1172862679', '10112037949', '10711443269', '10091435359',\n",
      "       '11172969170', '10116970513', '11155878755', '949290451', '91169778',\n",
      "       '10105574065', '10105537958', '1156090945', '91169779'],\n",
      "      dtype='object')\n",
      "Index(['10709015679', '10116970509', '10116946397', '11173040618',\n",
      "       '11156083854', '10091169781', '105594022', '116970510', '11156083863',\n",
      "       '11175324855', '10116952815', '11172872766', '11172862679',\n",
      "       '10915734793', '999850559', '10711440306', '937800492', '105538007',\n",
      "       '10710782580', '703777459', '1175069740', '10105593568', '711626973',\n",
      "       '10708503028', '116972286', '1156080182', '10112051514', '711620736',\n",
      "       '112037376', '1173048767', '105538876', '11155878750', '10127847594',\n",
      "       '91170034', '10711543789', '105593453', '112037949', '116952815',\n",
      "       '24563032', '704124376', '10105574370', '10711379673', '10946271023',\n",
      "       '10091170028', '10711376239', '10708548339', '10024517700',\n",
      "       '116945306'],\n",
      "      dtype='object')\n",
      "Index(['10711115700', '10091170129', '711376239', '10105539772', '11172978480',\n",
      "       '10949397065', '1173048765', '10708958457', '10116970483',\n",
      "       '10091170205', '116945261', '1173061123', '10949397068', '1173048760',\n",
      "       '105538093', '10999850559', '10116937342', '127847594', '1155878763',\n",
      "       '10711522483', '10105594022', '91169787', '10708749840', '11173061942',\n",
      "       '116972286'],\n",
      "      dtype='object')\n"
     ]
    }
   ],
   "source": [
    "overlaps = []\n",
    "### measure the overlap of the top 10 columns of df.iloc[idx0] and df.iloc[idx1]\n",
    "overlap = maxSegs0.index.intersection(maxSegs1.index)\n",
    "overlaps.append(overlap)\n",
    "print(overlap)\n",
    "\n",
    "### measure the overlap of the top 10 columns of df.iloc[idx0] and df.iloc[idx2]\n",
    "overlap = maxSegs0.index.intersection(maxSegs2.index)\n",
    "overlaps.append(overlap)\n",
    "print(overlap)\n",
    "\n",
    "### measure the overlap of the top 10 columns of df.iloc[idx0] and df.iloc[idx3]\n",
    "overlap = maxSegs0.index.intersection(maxSegs3.index)\n",
    "overlaps.append(overlap)\n",
    "print(overlap)\n",
    "\n",
    "### measure the overlap of the top 10 columns of df.iloc[idx1] and df.iloc[idx2]\n",
    "overlap = maxSegs1.index.intersection(maxSegs2.index)\n",
    "overlaps.append(overlap)\n",
    "print(overlap)\n",
    "\n",
    "### measure the overlap of the top 10 columns of df.iloc[idx1] and df.iloc[idx3]\n",
    "overlap = maxSegs1.index.intersection(maxSegs3.index)\n",
    "overlaps.append(overlap)\n",
    "print(overlap)\n",
    "\n",
    "### measure the overlap of the top 10 columns of df.iloc[idx2] and df.iloc[idx3]\n",
    "overlap = maxSegs2.index.intersection(maxSegs3.index)\n",
    "overlaps.append(overlap)\n",
    "print(overlap)\n"
   ]
  },
  {
   "cell_type": "code",
   "execution_count": 138,
   "metadata": {},
   "outputs": [
    {
     "name": "stdout",
     "output_type": "stream",
     "text": [
      "999850568\n",
      "10105576311\n",
      "116951485\n",
      "1155656405\n",
      "10711443269\n"
     ]
    }
   ],
   "source": [
    "for o in overlaps:\n",
    "    for i in o:\n",
    "        if i in primSegments:\n",
    "            print(i)"
   ]
  },
  {
   "cell_type": "code",
   "execution_count": null,
   "metadata": {},
   "outputs": [
    {
     "data": {
      "image/png": "[encoded data removed]",
      "text/plain": [
       "<Figure size 640x480 with 1 Axes>"
      ]
     },
     "metadata": {},
     "output_type": "display_data"
    }
   ],
   "source": []
  },
  {
   "cell_type": "markdown",
   "metadata": {},
   "source": [
    "# CART Tests\n",
    "- low coverage values indicate boxes of rare specific behaviors\n",
    "- high coverage values indicate boxes of general themes\n",
    "- res dim indicates the number of features associated with the variation"
   ]
  },
  {
   "cell_type": "code",
   "execution_count": 116,
   "metadata": {},
   "outputs": [],
   "source": [
    "### perform CART on the high inputs and high results\n",
    "import ema_workbench.analysis.cart as CART\n",
    "\n",
    "ca = CART.CART(low_inputs, low_results[0])\n",
    "ca.build_tree()"
   ]
  },
  {
   "cell_type": "code",
   "execution_count": 118,
   "metadata": {},
   "outputs": [
    {
     "name": "stdout",
     "output_type": "stream",
     "text": [
      "       coverage       density  res dim      mass\n",
      "box 1  0.627756  13894.991364        7  0.626623\n",
      "box 2  0.048947  13538.848921        7  0.050144\n",
      "box 3  0.051460  14132.142857        6  0.050505\n",
      "box 4  0.057749  14142.038217        5  0.056638\n",
      "box 5  0.051327  13516.438356        4  0.052670\n",
      "box 6  0.054370  13843.708609        3  0.054473\n",
      "box 7  0.056594  13684.905660        2  0.057359\n",
      "box 8  0.051795  13925.874126        1  0.051587\n"
     ]
    }
   ],
   "source": [
    "print(ca.stats_to_dataframe())"
   ]
  },
  {
   "cell_type": "code",
   "execution_count": 119,
   "metadata": {},
   "outputs": [
    {
     "name": "stdout",
     "output_type": "stream",
     "text": [
      "            box 1      box 2      box 3      box 4      box 5      box 6       \\\n",
      "              min  max   min  max   min  max   min  max   min  max   min  max   \n",
      "11172854308   0.0  0.5   0.0  0.5   0.0  0.5   0.5  1.0   0.0  1.0   0.0  1.0   \n",
      "116970509     0.0  0.5   0.0  0.5   0.0  0.5   0.0  0.5   0.0  0.5   0.0  0.5   \n",
      "105575352     0.0  0.5   0.0  0.5   0.0  0.5   0.0  0.5   0.0  0.5   0.0  0.5   \n",
      "1173040617    0.0  0.5   0.5  1.0   0.0  1.0   0.0  1.0   0.0  1.0   0.0  1.0   \n",
      "10112037948   0.0  0.5   0.0  0.5   0.5  1.0   0.0  1.0   0.0  1.0   0.0  1.0   \n",
      "1172978480    0.0  0.5   0.0  0.5   0.0  0.5   0.0  0.5   0.5  1.0   0.0  1.0   \n",
      "10091170208   0.0  0.5   0.0  0.5   0.0  0.5   0.0  0.5   0.0  0.5   0.5  1.0   \n",
      "\n",
      "            box 7      box 8       \n",
      "              min  max   min  max  \n",
      "11172854308   0.0  1.0   0.0  1.0  \n",
      "116970509     0.5  1.0   0.0  1.0  \n",
      "105575352     0.0  0.5   0.5  1.0  \n",
      "1173040617    0.0  1.0   0.0  1.0  \n",
      "10112037948   0.0  1.0   0.0  1.0  \n",
      "1172978480    0.0  1.0   0.0  1.0  \n",
      "10091170208   0.0  1.0   0.0  1.0  \n"
     ]
    }
   ],
   "source": [
    "print(ca.boxes_to_dataframe())"
   ]
  },
  {
   "cell_type": "code",
   "execution_count": 120,
   "metadata": {},
   "outputs": [
    {
     "data": {
      "text/html": [
       "<div>\n",
       "<style scoped>\n",
       "    .dataframe tbody tr th:only-of-type {\n",
       "        vertical-align: middle;\n",
       "    }\n",
       "\n",
       "    .dataframe tbody tr th {\n",
       "        vertical-align: top;\n",
       "    }\n",
       "\n",
       "    .dataframe thead th {\n",
       "        text-align: right;\n",
       "    }\n",
       "</style>\n",
       "<table border=\"1\" class=\"dataframe\">\n",
       "  <thead>\n",
       "    <tr style=\"text-align: right;\">\n",
       "      <th></th>\n",
       "      <th>min</th>\n",
       "      <th>max</th>\n",
       "    </tr>\n",
       "  </thead>\n",
       "  <tbody>\n",
       "    <tr>\n",
       "      <th>11172854308</th>\n",
       "      <td>0.0</td>\n",
       "      <td>1.0</td>\n",
       "    </tr>\n",
       "    <tr>\n",
       "      <th>116970509</th>\n",
       "      <td>0.0</td>\n",
       "      <td>1.0</td>\n",
       "    </tr>\n",
       "    <tr>\n",
       "      <th>105575352</th>\n",
       "      <td>0.5</td>\n",
       "      <td>1.0</td>\n",
       "    </tr>\n",
       "    <tr>\n",
       "      <th>1173040617</th>\n",
       "      <td>0.0</td>\n",
       "      <td>1.0</td>\n",
       "    </tr>\n",
       "    <tr>\n",
       "      <th>10112037948</th>\n",
       "      <td>0.0</td>\n",
       "      <td>1.0</td>\n",
       "    </tr>\n",
       "    <tr>\n",
       "      <th>1172978480</th>\n",
       "      <td>0.0</td>\n",
       "      <td>1.0</td>\n",
       "    </tr>\n",
       "    <tr>\n",
       "      <th>10091170208</th>\n",
       "      <td>0.0</td>\n",
       "      <td>1.0</td>\n",
       "    </tr>\n",
       "  </tbody>\n",
       "</table>\n",
       "</div>"
      ],
      "text/plain": [
       "             min  max\n",
       "11172854308  0.0  1.0\n",
       "116970509    0.0  1.0\n",
       "105575352    0.5  1.0\n",
       "1173040617   0.0  1.0\n",
       "10112037948  0.0  1.0\n",
       "1172978480   0.0  1.0\n",
       "10091170208  0.0  1.0"
      ]
     },
     "execution_count": 120,
     "metadata": {},
     "output_type": "execute_result"
    }
   ],
   "source": [
    "boxesdf = ca.boxes_to_dataframe()\n",
    "boxesdf['box 8']"
   ]
  },
  {
   "cell_type": "code",
   "execution_count": 121,
   "metadata": {},
   "outputs": [
    {
     "name": "stdout",
     "output_type": "stream",
     "text": [
      "7\n",
      "7\n",
      "7\n",
      "7\n",
      "7\n",
      "7\n",
      "7\n"
     ]
    }
   ],
   "source": [
    "for i in range(1, 8):\n",
    "    print(len(boxesdf['box {}'.format(i)]))"
   ]
  },
  {
   "cell_type": "code",
   "execution_count": 122,
   "metadata": {},
   "outputs": [
    {
     "name": "stderr",
     "output_type": "stream",
     "text": [
      "/home/pfoytik/anaconda3/lib/python3.7/site-packages/pandas/util/_decorators.py:311: SettingWithCopyWarning: \n",
      "A value is trying to be set on a copy of a slice from a DataFrame\n",
      "\n",
      "See the caveats in the documentation: https://pandas.pydata.org/pandas-docs/stable/user_guide/indexing.html#returning-a-view-versus-a-copy\n",
      "  return func(*args, **kwargs)\n"
     ]
    },
    {
     "data": {
      "image/png": "[encoded data removed]",
      "text/plain": [
       "<Figure size 1000x600 with 1 Axes>"
      ]
     },
     "metadata": {},
     "output_type": "display_data"
    }
   ],
   "source": [
    "import matplotlib.pyplot as plt\n",
    "\n",
    "box_8 = boxesdf['box 8']\n",
    "box_8.dropna(inplace=True)  # Remove rows where features are not used\n",
    "\n",
    "features = box_8.index\n",
    "min_vals = box_8['min']\n",
    "max_vals = box_8['max']\n",
    "\n",
    "plt.figure(figsize=(10, 6))\n",
    "plt.barh(features, max_vals - min_vals, left=min_vals)\n",
    "plt.xlabel(\"Feature Value Range\")\n",
    "plt.ylabel(\"Feature\")\n",
    "plt.title(\"Feature Ranges for Box 8\")\n",
    "plt.show()"
   ]
  },
  {
   "cell_type": "code",
   "execution_count": 123,
   "metadata": {},
   "outputs": [],
   "source": [
    "result_limits['low_CART'] = ca"
   ]
  },
  {
   "cell_type": "code",
   "execution_count": 125,
   "metadata": {},
   "outputs": [
    {
     "name": "stdout",
     "output_type": "stream",
     "text": [
      "        coverage       density  res dim      mass\n",
      "box 1   0.501186  23199.144777        9  0.502147\n",
      "box 2   0.052617  23315.789474        9  0.052454\n",
      "box 3   0.056806  23393.478261        8  0.056442\n",
      "box 4   0.051572  23400.000000        7  0.051227\n",
      "box 5   0.056513  23400.000000        6  0.056135\n",
      "box 6   0.062380  23400.000000        5  0.061963\n",
      "box 7   0.054533  22956.666667        4  0.055215\n",
      "box 8   0.051908  23137.058824        3  0.052147\n",
      "box 9   0.057142  23279.032258        2  0.057055\n",
      "box 10  0.055345  23298.333333        1  0.055215\n",
      "            box 1      box 2      box 3      box 4      box 5      box 6       \\\n",
      "              min  max   min  max   min  max   min  max   min  max   min  max   \n",
      "1172872766    0.0  0.5   0.0  0.5   0.0  0.5   0.0  0.5   0.0  0.5   0.5  1.0   \n",
      "10091170129   0.0  0.5   0.0  0.5   0.0  0.5   0.0  0.5   0.0  0.5   0.0  0.5   \n",
      "105574033     0.0  0.5   0.0  0.5   0.0  0.5   0.0  0.5   0.0  0.5   0.0  0.5   \n",
      "10091170618   0.0  0.5   0.5  1.0   0.0  1.0   0.0  1.0   0.0  1.0   0.0  1.0   \n",
      "116945306     0.0  0.5   0.0  0.5   0.0  0.5   0.0  0.5   0.0  0.5   0.0  0.5   \n",
      "10116945306   0.0  0.5   0.0  0.5   0.0  0.5   0.0  0.5   0.0  0.5   0.0  0.5   \n",
      "10112037376   0.0  0.5   0.0  0.5   0.0  0.5   0.5  1.0   0.0  1.0   0.0  1.0   \n",
      "91170618      0.0  0.5   0.0  0.5   0.0  0.5   0.0  0.5   0.5  1.0   0.0  1.0   \n",
      "711522483     0.0  0.5   0.0  0.5   0.5  1.0   0.0  1.0   0.0  1.0   0.0  1.0   \n",
      "\n",
      "            box 7      box 8      box 9      box 10       \n",
      "              min  max   min  max   min  max    min  max  \n",
      "1172872766    0.0  1.0   0.0  1.0   0.0  1.0    0.0  1.0  \n",
      "10091170129   0.5  1.0   0.0  1.0   0.0  1.0    0.0  1.0  \n",
      "105574033     0.0  0.5   0.5  1.0   0.0  1.0    0.0  1.0  \n",
      "10091170618   0.0  1.0   0.0  1.0   0.0  1.0    0.0  1.0  \n",
      "116945306     0.0  0.5   0.0  0.5   0.5  1.0    0.0  1.0  \n",
      "10116945306   0.0  0.5   0.0  0.5   0.0  0.5    0.5  1.0  \n",
      "10112037376   0.0  1.0   0.0  1.0   0.0  1.0    0.0  1.0  \n",
      "91170618      0.0  1.0   0.0  1.0   0.0  1.0    0.0  1.0  \n",
      "711522483     0.0  1.0   0.0  1.0   0.0  1.0    0.0  1.0  \n"
     ]
    },
    {
     "data": {
      "text/html": [
       "<div>\n",
       "<style scoped>\n",
       "    .dataframe tbody tr th:only-of-type {\n",
       "        vertical-align: middle;\n",
       "    }\n",
       "\n",
       "    .dataframe tbody tr th {\n",
       "        vertical-align: top;\n",
       "    }\n",
       "\n",
       "    .dataframe thead tr th {\n",
       "        text-align: left;\n",
       "    }\n",
       "</style>\n",
       "<table border=\"1\" class=\"dataframe\">\n",
       "  <thead>\n",
       "    <tr>\n",
       "      <th></th>\n",
       "      <th colspan=\"2\" halign=\"left\">box 1</th>\n",
       "      <th colspan=\"2\" halign=\"left\">box 2</th>\n",
       "      <th colspan=\"2\" halign=\"left\">box 3</th>\n",
       "      <th colspan=\"2\" halign=\"left\">box 4</th>\n",
       "      <th colspan=\"2\" halign=\"left\">box 5</th>\n",
       "      <th colspan=\"2\" halign=\"left\">box 6</th>\n",
       "      <th colspan=\"2\" halign=\"left\">box 7</th>\n",
       "      <th colspan=\"2\" halign=\"left\">box 8</th>\n",
       "      <th colspan=\"2\" halign=\"left\">box 9</th>\n",
       "      <th colspan=\"2\" halign=\"left\">box 10</th>\n",
       "    </tr>\n",
       "    <tr>\n",
       "      <th></th>\n",
       "      <th>min</th>\n",
       "      <th>max</th>\n",
       "      <th>min</th>\n",
       "      <th>max</th>\n",
       "      <th>min</th>\n",
       "      <th>max</th>\n",
       "      <th>min</th>\n",
       "      <th>max</th>\n",
       "      <th>min</th>\n",
       "      <th>max</th>\n",
       "      <th>min</th>\n",
       "      <th>max</th>\n",
       "      <th>min</th>\n",
       "      <th>max</th>\n",
       "      <th>min</th>\n",
       "      <th>max</th>\n",
       "      <th>min</th>\n",
       "      <th>max</th>\n",
       "      <th>min</th>\n",
       "      <th>max</th>\n",
       "    </tr>\n",
       "  </thead>\n",
       "  <tbody>\n",
       "    <tr>\n",
       "      <th>1172872766</th>\n",
       "      <td>0.0</td>\n",
       "      <td>0.5</td>\n",
       "      <td>0.0</td>\n",
       "      <td>0.5</td>\n",
       "      <td>0.0</td>\n",
       "      <td>0.5</td>\n",
       "      <td>0.0</td>\n",
       "      <td>0.5</td>\n",
       "      <td>0.0</td>\n",
       "      <td>0.5</td>\n",
       "      <td>0.5</td>\n",
       "      <td>1.0</td>\n",
       "      <td>0.0</td>\n",
       "      <td>1.0</td>\n",
       "      <td>0.0</td>\n",
       "      <td>1.0</td>\n",
       "      <td>0.0</td>\n",
       "      <td>1.0</td>\n",
       "      <td>0.0</td>\n",
       "      <td>1.0</td>\n",
       "    </tr>\n",
       "    <tr>\n",
       "      <th>10091170129</th>\n",
       "      <td>0.0</td>\n",
       "      <td>0.5</td>\n",
       "      <td>0.0</td>\n",
       "      <td>0.5</td>\n",
       "      <td>0.0</td>\n",
       "      <td>0.5</td>\n",
       "      <td>0.0</td>\n",
       "      <td>0.5</td>\n",
       "      <td>0.0</td>\n",
       "      <td>0.5</td>\n",
       "      <td>0.0</td>\n",
       "      <td>0.5</td>\n",
       "      <td>0.5</td>\n",
       "      <td>1.0</td>\n",
       "      <td>0.0</td>\n",
       "      <td>1.0</td>\n",
       "      <td>0.0</td>\n",
       "      <td>1.0</td>\n",
       "      <td>0.0</td>\n",
       "      <td>1.0</td>\n",
       "    </tr>\n",
       "    <tr>\n",
       "      <th>105574033</th>\n",
       "      <td>0.0</td>\n",
       "      <td>0.5</td>\n",
       "      <td>0.0</td>\n",
       "      <td>0.5</td>\n",
       "      <td>0.0</td>\n",
       "      <td>0.5</td>\n",
       "      <td>0.0</td>\n",
       "      <td>0.5</td>\n",
       "      <td>0.0</td>\n",
       "      <td>0.5</td>\n",
       "      <td>0.0</td>\n",
       "      <td>0.5</td>\n",
       "      <td>0.0</td>\n",
       "      <td>0.5</td>\n",
       "      <td>0.5</td>\n",
       "      <td>1.0</td>\n",
       "      <td>0.0</td>\n",
       "      <td>1.0</td>\n",
       "      <td>0.0</td>\n",
       "      <td>1.0</td>\n",
       "    </tr>\n",
       "    <tr>\n",
       "      <th>10091170618</th>\n",
       "      <td>0.0</td>\n",
       "      <td>0.5</td>\n",
       "      <td>0.5</td>\n",
       "      <td>1.0</td>\n",
       "      <td>0.0</td>\n",
       "      <td>1.0</td>\n",
       "      <td>0.0</td>\n",
       "      <td>1.0</td>\n",
       "      <td>0.0</td>\n",
       "      <td>1.0</td>\n",
       "      <td>0.0</td>\n",
       "      <td>1.0</td>\n",
       "      <td>0.0</td>\n",
       "      <td>1.0</td>\n",
       "      <td>0.0</td>\n",
       "      <td>1.0</td>\n",
       "      <td>0.0</td>\n",
       "      <td>1.0</td>\n",
       "      <td>0.0</td>\n",
       "      <td>1.0</td>\n",
       "    </tr>\n",
       "    <tr>\n",
       "      <th>116945306</th>\n",
       "      <td>0.0</td>\n",
       "      <td>0.5</td>\n",
       "      <td>0.0</td>\n",
       "      <td>0.5</td>\n",
       "      <td>0.0</td>\n",
       "      <td>0.5</td>\n",
       "      <td>0.0</td>\n",
       "      <td>0.5</td>\n",
       "      <td>0.0</td>\n",
       "      <td>0.5</td>\n",
       "      <td>0.0</td>\n",
       "      <td>0.5</td>\n",
       "      <td>0.0</td>\n",
       "      <td>0.5</td>\n",
       "      <td>0.0</td>\n",
       "      <td>0.5</td>\n",
       "      <td>0.5</td>\n",
       "      <td>1.0</td>\n",
       "      <td>0.0</td>\n",
       "      <td>1.0</td>\n",
       "    </tr>\n",
       "  </tbody>\n",
       "</table>\n",
       "</div>"
      ],
      "text/plain": [
       "            box 1      box 2      box 3      box 4      box 5      box 6       \\\n",
       "              min  max   min  max   min  max   min  max   min  max   min  max   \n",
       "1172872766    0.0  0.5   0.0  0.5   0.0  0.5   0.0  0.5   0.0  0.5   0.5  1.0   \n",
       "10091170129   0.0  0.5   0.0  0.5   0.0  0.5   0.0  0.5   0.0  0.5   0.0  0.5   \n",
       "105574033     0.0  0.5   0.0  0.5   0.0  0.5   0.0  0.5   0.0  0.5   0.0  0.5   \n",
       "10091170618   0.0  0.5   0.5  1.0   0.0  1.0   0.0  1.0   0.0  1.0   0.0  1.0   \n",
       "116945306     0.0  0.5   0.0  0.5   0.0  0.5   0.0  0.5   0.0  0.5   0.0  0.5   \n",
       "\n",
       "            box 7      box 8      box 9      box 10       \n",
       "              min  max   min  max   min  max    min  max  \n",
       "1172872766    0.0  1.0   0.0  1.0   0.0  1.0    0.0  1.0  \n",
       "10091170129   0.5  1.0   0.0  1.0   0.0  1.0    0.0  1.0  \n",
       "105574033     0.0  0.5   0.5  1.0   0.0  1.0    0.0  1.0  \n",
       "10091170618   0.0  1.0   0.0  1.0   0.0  1.0    0.0  1.0  \n",
       "116945306     0.0  0.5   0.0  0.5   0.5  1.0    0.0  1.0  "
      ]
     },
     "execution_count": 125,
     "metadata": {},
     "output_type": "execute_result"
    }
   ],
   "source": [
    "ca = CART.CART(high_inputs, high_results[0])\n",
    "ca.build_tree()\n",
    "\n",
    "print(ca.stats_to_dataframe())\n",
    "\n",
    "print(ca.boxes_to_dataframe())\n",
    "\n",
    "boxesdf = ca.boxes_to_dataframe()\n",
    "boxesdf.head()"
   ]
  },
  {
   "cell_type": "code",
   "execution_count": 126,
   "metadata": {},
   "outputs": [],
   "source": [
    "result_limits['high_CART'] = ca"
   ]
  },
  {
   "cell_type": "code",
   "execution_count": 127,
   "metadata": {},
   "outputs": [
    {
     "name": "stdout",
     "output_type": "stream",
     "text": [
      "6\n"
     ]
    }
   ],
   "source": [
    "print(len(result_limits))"
   ]
  },
  {
   "cell_type": "code",
   "execution_count": 128,
   "metadata": {},
   "outputs": [
    {
     "data": {
      "text/plain": [
       "dict_keys(['high_limits', 'low_limits', 'high_kmeans', 'low_kmeans', 'low_CART', 'high_CART'])"
      ]
     },
     "execution_count": 128,
     "metadata": {},
     "output_type": "execute_result"
    }
   ],
   "source": [
    "result_limits.keys()"
   ]
  },
  {
   "cell_type": "code",
   "execution_count": 139,
   "metadata": {},
   "outputs": [
    {
     "name": "stdout",
     "output_type": "stream",
     "text": [
      "['10949279384', '10708847376', '105537673', '1155656405', '708548339', '1173048758', '10105538098', '10708958457', '10112036712', '10708549612', '1172978482']\n"
     ]
    }
   ],
   "source": [
    "### create function go get feature names from prim limits\n",
    "def get_feature_names(limits):\n",
    "    feature_names = []\n",
    "    for key in list(limits.index):        \n",
    "        feature_names.append(key)\n",
    "    return feature_names\n",
    "\n",
    "def get_kmeans_features(df, kmeans, cluster):\n",
    "    return df.columns[kmeans.labels_ == cluster]\n"
   ]
  },
  {
   "cell_type": "code",
   "execution_count": 145,
   "metadata": {},
   "outputs": [
    {
     "name": "stdout",
     "output_type": "stream",
     "text": [
      "['10949279384', '10708847376', '105537673', '1155656405', '708548339', '1173048758', '10105538098', '10708958457', '10112036712', '10708549612', '1172978482']\n",
      "27\n",
      "['10091169783', '91167825', '91169890', '11173048760', '704060377', '10105593568', '10704060378', '710783586', '10091169901', '10708503028', '91170618', '105539865', '10949290451', '949790370', '10091170041', '709015679', '10091170205', '11173060573', '127825678', '127847572', '1173040618', '91169787', '91170209', '711121754', '10708957455', '1172978482', '105537706']\n",
      "['1172872766', '10091170129', '105574033', '10091170618', '116945306', '10116945306', '10112037376', '91170618', '711522483']\n"
     ]
    }
   ],
   "source": [
    "### Get the features from PRIM\n",
    "print(get_feature_names(result_limits['high_limits']))\n",
    "\n",
    "### Get the features from the kmeans\n",
    "print(list(high_inputs.columns[result_limits['high_kmeans'].labels_ == 2]))\n",
    "\n",
    "### get the feature names from the cart\n",
    "print(get_feature_names(result_limits['high_CART'].boxes_to_dataframe()['box 2']))"
   ]
  },
  {
   "cell_type": "code",
   "execution_count": 146,
   "metadata": {},
   "outputs": [],
   "source": [
    "highClusters = {}\n",
    "highClusters['prim'] = get_feature_names(result_limits['high_limits'])\n",
    "highClusters['kmeans'] = list(high_inputs.columns[result_limits['high_kmeans'].labels_ == 2])\n",
    "highClusters['cart'] = get_feature_names(result_limits['high_CART'].boxes_to_dataframe()['box 2'])\n",
    "\n",
    "lowClusters = {}\n",
    "lowClusters['prim'] = get_feature_names(result_limits['low_limits'])\n",
    "lowClusters['kmeans'] = list(low_inputs.columns[result_limits['low_kmeans'].labels_ == 2])\n",
    "lowClusters['cart'] = get_feature_names(result_limits['low_CART'].boxes_to_dataframe()['box 2'])"
   ]
  },
  {
   "cell_type": "code",
   "execution_count": 148,
   "metadata": {},
   "outputs": [
    {
     "name": "stdout",
     "output_type": "stream",
     "text": [
      "{'1172978482'}\n",
      "set()\n",
      "{'91170618'}\n",
      "{'1172872766', '11173056608', '91169778', '10709015681', '11156083863', '10116970509', '709017866', '1155878763', '105539865'}\n",
      "set()\n",
      "set()\n"
     ]
    }
   ],
   "source": [
    "### for each highClusters find the intersection of the features\n",
    "print(set(highClusters['prim']).intersection(set(highClusters['kmeans'])))\n",
    "print(set(highClusters['prim']).intersection(set(highClusters['cart'])))\n",
    "print(set(highClusters['kmeans']).intersection(set(highClusters['cart'])))\n",
    "      \n",
    "### for each lowClusters find the intersection of the features\n",
    "print(set(lowClusters['prim']).intersection(set(lowClusters['kmeans'])))\n",
    "print(set(lowClusters['prim']).intersection(set(lowClusters['cart'])))\n",
    "print(set(lowClusters['kmeans']).intersection(set(lowClusters['cart'])))"
   ]
  },
  {
   "cell_type": "code",
   "execution_count": null,
   "metadata": {},
   "outputs": [],
   "source": []
  }
 ],
 "metadata": {
  "kernelspec": {
   "display_name": "base",
   "language": "python",
   "name": "python3"
  },
  "language_info": {
   "codemirror_mode": {
    "name": "ipython",
    "version": 3
   },
   "file_extension": ".py",
   "mimetype": "text/x-python",
   "name": "python",
   "nbconvert_exporter": "python",
   "pygments_lexer": "ipython3",
   "version": "3.7.13"
  }
 },
 "nbformat": 4,
 "nbformat_minor": 2
}
