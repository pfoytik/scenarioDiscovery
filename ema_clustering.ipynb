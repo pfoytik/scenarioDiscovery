{
 "cells": [
  {
   "cell_type": "markdown",
   "metadata": {},
   "source": [
    "# Test different clustering methods to identify scenarios of high criticality\n",
    "- PRIM\n",
    "- K-means"
   ]
  },
  {
   "cell_type": "code",
   "execution_count": 1,
   "metadata": {},
   "outputs": [],
   "source": [
    "from concurrent.futures import ThreadPoolExecutor\n",
    "import sqlite3\n",
    "import pickle\n",
    "import pandas as pd"
   ]
  },
  {
   "cell_type": "code",
   "execution_count": 2,
   "metadata": {},
   "outputs": [],
   "source": [
    "def read_fleet_from_db(query):\n",
    "    dat = {}\n",
    "    conn = sqlite3.connect(dbFile)\n",
    "    c = conn.cursor()\n",
    "    c.execute(query)\n",
    "    rows = c.fetchall()   \n",
    "    print(\"Length of rows: \", len(rows)) \n",
    "    for row in rows:\n",
    "        ID = row[0]\n",
    "        response = row[1]\n",
    "        input = row[2]\n",
    "        output_90 = row[3]\n",
    "        output_100 = row[4]\n",
    "        output_dist = row[5]\n",
    "\n",
    "        inIDS = pickle.loads(input)\n",
    "        odist = pickle.loads(output_dist)\n",
    "        inXML = pickle.loads(input)\n",
    "\n",
    "        tmpDat = [ID, response, inIDS, output_90, output_100, odist]\n",
    "\n",
    "        d = tmpDat\n",
    "        scen = {}\n",
    "            \n",
    "        #try:\n",
    "        #    root = d[2].getroot()\n",
    "        #except:\n",
    "        #    print('error')\n",
    "        #    root = []\n",
    "        #    continue\n",
    "        scenID = d[0]\n",
    "        #print(root.tag)\n",
    "        #for child in root:    \n",
    "        #    ### find the segment ID\n",
    "        #    segmentID = child.find('ID').text\n",
    "        #    speed = float(child.find('Freeflow_Speed').text)\n",
    "        #    lanes = float(child.find('Number_of_Lanes').text)\n",
    "        #    blocked = False\n",
    "        #    if segmentID in link_ids:\n",
    "        #        scen[segmentID] = speed\n",
    "        saveDat = [inIDS, d[3]]  \n",
    "        dat[ID] = saveDat#.append([ID, response, inXML, output_90, output_100, odist])\n",
    "\n",
    "    conn.close()\n",
    "    return dat\n",
    "\n",
    "def read_ladris_from_db(query):\n",
    "    dat = {}\n",
    "    conn = sqlite3.connect(dbFile)\n",
    "    c = conn.cursor()\n",
    "    c.execute(query)\n",
    "    rows = c.fetchall()    \n",
    "    for row in rows:\n",
    "        ID = row[0]\n",
    "        response = row[1]\n",
    "        input = row[2]\n",
    "        output_90 = row[3]\n",
    "        output_100 = row[4]\n",
    "        output_dist = row[5]\n",
    "\n",
    "        inIDS = pickle.loads(input)\n",
    "        odist = pickle.loads(output_dist)\n",
    "        inXML = pickle.loads(input)\n",
    "\n",
    "        tmpDat = [ID, response, inXML, output_90, output_100, odist]\n",
    "\n",
    "        d = tmpDat\n",
    "        scen = {}\n",
    "\n",
    "        scenID = d[0]\n",
    "        #print(root.tag)\n",
    "        #for child in d[2]:    \n",
    "        #    ### find the segment ID\n",
    "        #    segmentID = child['osmid']\n",
    "        #    speed = float(child['speed_mph'])\n",
    "        #    lanes = float(child['num_lanes'])\n",
    "        #    blocked = child['is_blocked']\n",
    "        #    if blocked == True:\n",
    "        #        scen[segmentID] = 1\n",
    "        #    #if segmentID in link_ids:\n",
    "        #        #scen[segmentID] = blocked\n",
    "        saveDat = [inIDS, d[3]]  \n",
    "        dat[ID] = saveDat#.append([ID, response, inXML, output_90, output_100, odist])\n",
    "\n",
    "    conn.close()\n",
    "    return dat"
   ]
  },
  {
   "cell_type": "code",
   "execution_count": 3,
   "metadata": {},
   "outputs": [],
   "source": [
    "dbFile = 'lhc_samples/fleet_roadBlocked_scenarios.db'"
   ]
  },
  {
   "cell_type": "code",
   "execution_count": 4,
   "metadata": {},
   "outputs": [
    {
     "name": "stdout",
     "output_type": "stream",
     "text": [
      "Length of rows:  0\n",
      "Length of rows:  34\n",
      "Length of rows:  2000\n",
      "Length of rows:  2000\n",
      "Length of rows:  2000\n",
      "6034\n"
     ]
    }
   ],
   "source": [
    "queries = [\n",
    "    'SELECT * FROM scenarios ORDER BY id DESC limit 2000',\n",
    "    'SELECT * FROM scenarios ORDER BY id DESC limit 2000 offset 2000',\n",
    "    'SELECT * FROM scenarios ORDER BY id DESC limit 2000 offset 4000',\n",
    "    'SELECT * FROM scenarios ORDER BY id DESC limit 2000 offset 6000',\n",
    "    'SELECT * FROM scenarios ORDER BY id DESC limit 1000 offset 8000',    \n",
    "]\n",
    "\n",
    "comb_scenarios = {}\n",
    "with ThreadPoolExecutor(max_workers=6) as executor:\n",
    "    for result in executor.map(read_fleet_from_db, queries):\n",
    "        comb_scenarios.update(result)\n",
    "\n",
    "print(len(comb_scenarios))"
   ]
  },
  {
   "cell_type": "markdown",
   "metadata": {},
   "source": [
    "### Create Dataframes from the database read\n",
    "- df_results: a dataframe of the results\n",
    "- df: a dataframe of the inputs"
   ]
  },
  {
   "cell_type": "code",
   "execution_count": 5,
   "metadata": {},
   "outputs": [],
   "source": [
    "df_results = pd.DataFrame([x[1] for x in comb_scenarios.values()])\n",
    "\n",
    "dataDict = {}\n",
    "for k in comb_scenarios.keys():\n",
    "    for link in comb_scenarios[k][0]:        \n",
    "        if link in dataDict.keys():\n",
    "            pass\n",
    "        else:\n",
    "            #if link in link_ids:\n",
    "            dataDict[link] = []   \n",
    "\n",
    "for k in comb_scenarios.keys():\n",
    "    for i in dataDict.keys():\n",
    "        if i in comb_scenarios[k][0]:\n",
    "            #if link in link_ids:\n",
    "            dataDict[i].append(1)\n",
    "        else:\n",
    "            #if link in link_ids:\n",
    "            dataDict[i].append(0) \n",
    "\n",
    "df = pd.DataFrame(dataDict)\n",
    "\n"
   ]
  },
  {
   "cell_type": "code",
   "execution_count": 6,
   "metadata": {},
   "outputs": [],
   "source": [
    "experiments = df\n",
    "### Create outcomes as an array of df_results\n",
    "outcomes = list(df_results[0].values)"
   ]
  },
  {
   "cell_type": "code",
   "execution_count": 7,
   "metadata": {},
   "outputs": [
    {
     "name": "stdout",
     "output_type": "stream",
     "text": [
      "                  0\n",
      "count   6032.000000\n",
      "mean   18935.958223\n",
      "std     4913.071413\n",
      "min     9600.000000\n",
      "25%    13200.000000\n",
      "50%    23400.000000\n",
      "75%    23400.000000\n",
      "max    30000.000000\n"
     ]
    }
   ],
   "source": [
    "### print descriptive statistics of outcomes\n",
    "print(df_results.describe())\n"
   ]
  },
  {
   "cell_type": "code",
   "execution_count": 10,
   "metadata": {},
   "outputs": [
    {
     "data": {
      "text/plain": [
       "array([False,  True, False, ..., False,  True, False])"
      ]
     },
     "execution_count": 10,
     "metadata": {},
     "output_type": "execute_result"
    }
   ],
   "source": [
    "from ema_workbench.analysis import prim\n",
    "\n",
    "boxArr = []\n",
    "\n",
    "x = experiments\n",
    "### create a list y of boolean values based on outcome values > 23000\n",
    "y = df_results[0].values > 20000\n",
    "#y = outcomes[\"max_P\"]\n",
    "\n",
    "y"
   ]
  },
  {
   "cell_type": "code",
   "execution_count": 28,
   "metadata": {},
   "outputs": [],
   "source": [
    "np_results = df_results[0].to_numpy()"
   ]
  },
  {
   "cell_type": "code",
   "execution_count": 29,
   "metadata": {},
   "outputs": [
    {
     "data": {
      "text/plain": [
       "array([16500., 23400., 13200., ..., 12900., 23400.,  9600.])"
      ]
     },
     "execution_count": 29,
     "metadata": {},
     "output_type": "execute_result"
    }
   ],
   "source": [
    "np_results"
   ]
  },
  {
   "cell_type": "code",
   "execution_count": 12,
   "metadata": {},
   "outputs": [
    {
     "name": "stdout",
     "output_type": "stream",
     "text": [
      "6034 6034\n"
     ]
    }
   ],
   "source": [
    "print(len(df_results[0]), len(x))"
   ]
  },
  {
   "cell_type": "code",
   "execution_count": 17,
   "metadata": {},
   "outputs": [
    {
     "name": "stdout",
     "output_type": "stream",
     "text": [
      "      24501202  105574370  10091169782  10091169911  10091170028\n",
      "0            1          1            1            1            1\n",
      "1            0          0            0            0            0\n",
      "2            0          0            0            0            0\n",
      "3            0          0            0            0            0\n",
      "4            0          0            1            0            0\n",
      "...        ...        ...          ...          ...          ...\n",
      "6029         0          0            0            0            0\n",
      "6030         0          0            0            0            0\n",
      "6031         0          0            0            0            0\n",
      "6032         0          0            0            1            0\n",
      "6033         0          0            0            0            0\n",
      "\n",
      "[6034 rows x 5 columns]\n"
     ]
    }
   ],
   "source": [
    "### print just the first 5 columns of x\n",
    "print(x.iloc[:,0:5])"
   ]
  },
  {
   "cell_type": "code",
   "execution_count": 35,
   "metadata": {},
   "outputs": [
    {
     "data": {
      "image/png": "[encoded data removed]",
      "text/plain": [
       "<Figure size 640x480 with 1 Axes>"
      ]
     },
     "metadata": {},
     "output_type": "display_data"
    }
   ],
   "source": [
    "### plot df_results\n",
    "import matplotlib.pyplot as plt\n",
    "\n",
    "### plot histogram of df_results\n",
    "plt.hist(df_results[0], bins=20)\n",
    "plt.show()"
   ]
  },
  {
   "cell_type": "code",
   "execution_count": 36,
   "metadata": {},
   "outputs": [],
   "source": [
    "import prim as p_rim"
   ]
  },
  {
   "cell_type": "code",
   "execution_count": null,
   "metadata": {},
   "outputs": [],
   "source": [
    "prim_alg = p_rim.Prim(x, df_results[0], threshold=12000.0, threshold_type=\">\")\n"
   ]
  },
  {
   "cell_type": "code",
   "execution_count": 81,
   "metadata": {},
   "outputs": [],
   "source": [
    "box = prim_alg.find_box()"
   ]
  },
  {
   "cell_type": "code",
   "execution_count": 82,
   "metadata": {},
   "outputs": [
    {
     "data": {
      "text/html": [
       "<div>\n",
       "<style scoped>\n",
       "    .dataframe tbody tr th:only-of-type {\n",
       "        vertical-align: middle;\n",
       "    }\n",
       "\n",
       "    .dataframe tbody tr th {\n",
       "        vertical-align: top;\n",
       "    }\n",
       "\n",
       "    .dataframe thead th {\n",
       "        text-align: right;\n",
       "    }\n",
       "</style>\n",
       "<table border=\"1\" class=\"dataframe\">\n",
       "  <thead>\n",
       "    <tr style=\"text-align: right;\">\n",
       "      <th></th>\n",
       "      <th>min</th>\n",
       "      <th>max</th>\n",
       "      <th>qp values</th>\n",
       "    </tr>\n",
       "  </thead>\n",
       "  <tbody>\n",
       "  </tbody>\n",
       "</table>\n",
       "</div>"
      ],
      "text/plain": [
       "Empty DataFrame\n",
       "Columns: [min, max, qp values]\n",
       "Index: []"
      ]
     },
     "execution_count": 82,
     "metadata": {},
     "output_type": "execute_result"
    }
   ],
   "source": [
    "box.limits"
   ]
  },
  {
   "cell_type": "code",
   "execution_count": 76,
   "metadata": {},
   "outputs": [
    {
     "name": "stdout",
     "output_type": "stream",
     "text": [
      "['91170028', '703766232', '10105537445', '999850568', '1173040622', '915734793', '116951485', '10711443269', '1172854308', '1155656405', '11116878000', '11172862678', '10105576311', '10105593939', '708958458', '105576314']\n"
     ]
    }
   ],
   "source": [
    "### get the ids of the box.limits\n",
    "primSegments = list(box.limits.index)\n",
    "print(primSegments)\n"
   ]
  },
  {
   "cell_type": "code",
   "execution_count": 96,
   "metadata": {},
   "outputs": [
    {
     "name": "stdout",
     "output_type": "stream",
     "text": [
      "6034 6034\n",
      "3121 3121\n"
     ]
    }
   ],
   "source": [
    "print(len(df_results), len(df))\n",
    "\n",
    "### create a new dataframe from df that only includes the rows where the results are greater than 16400\n",
    "dfMAX = df[df_results[0] > 23000]\n",
    "#dfMAX = df[df_results[0] > 4.3]\n",
    "\n",
    "### create a new dataframe from df_results that only includes the rows where the results are greater than 16400\n",
    "df_resultsMAX = df_results[df_results[0] > 23000]\n",
    "#df_resultsMAX = df_results[df_results[0] > 4.3]\n",
    "\n",
    "print(len(dfMAX), len(df_resultsMAX))"
   ]
  },
  {
   "cell_type": "code",
   "execution_count": 97,
   "metadata": {},
   "outputs": [
    {
     "name": "stdout",
     "output_type": "stream",
     "text": [
      "2    1443\n",
      "3    1226\n",
      "1     411\n",
      "0      41\n",
      "Name: count, dtype: int64\n"
     ]
    }
   ],
   "source": [
    "### cluster the results\n",
    "from sklearn.cluster import KMeans\n",
    "\n",
    "kmeans = KMeans(n_clusters=4, random_state=21).fit(dfMAX)\n",
    "\n",
    "### print the count of each cluster\n",
    "print(pd.Series(kmeans.labels_).value_counts())\n"
   ]
  },
  {
   "cell_type": "code",
   "execution_count": 98,
   "metadata": {},
   "outputs": [
    {
     "data": {
      "text/plain": [
       "41"
      ]
     },
     "execution_count": 98,
     "metadata": {},
     "output_type": "execute_result"
    }
   ],
   "source": [
    "### get the index's of results for each cluster\n",
    "cluster0 = []\n",
    "cluster1 = []\n",
    "cluster2 = []\n",
    "cluster3 = []\n",
    "\n",
    "idx0 = []\n",
    "idx1 = []\n",
    "idx2 = []\n",
    "idx3 = []\n",
    "\n",
    "for i in range(len(kmeans.labels_)):\n",
    "    if kmeans.labels_[i] == 0:\n",
    "        cluster0.append(df_resultsMAX[0].iloc[i])\n",
    "        idx0.append(i)\n",
    "    elif kmeans.labels_[i] == 1:\n",
    "        cluster1.append(df_resultsMAX[0].iloc[i])\n",
    "        idx1.append(i)\n",
    "    elif kmeans.labels_[i] == 2:\n",
    "        cluster2.append(df_resultsMAX[0].iloc[i])\n",
    "        idx2.append(i)\n",
    "    elif kmeans.labels_[i] == 3:\n",
    "        cluster3.append(df_resultsMAX[0].iloc[i])\n",
    "        idx3.append(i)\n",
    "\n",
    "len(cluster0)"
   ]
  },
  {
   "cell_type": "code",
   "execution_count": 99,
   "metadata": {},
   "outputs": [
    {
     "data": {
      "image/png": "[encoded data removed]",
      "text/plain": [
       "<Figure size 640x480 with 1 Axes>"
      ]
     },
     "metadata": {},
     "output_type": "display_data"
    }
   ],
   "source": [
    "### plot a histogram all the clusters\n",
    "plt.hist(cluster0, bins=10, alpha=0.5, label='Cluster 0')\n",
    "plt.hist(cluster1, bins=10, alpha=0.5, label='Cluster 1')\n",
    "plt.hist(cluster2, bins=10, alpha=0.5, label='Cluster 2')\n",
    "plt.hist(cluster3, bins=10, alpha=0.5, label='Cluster 3')\n",
    "plt.legend(loc='upper right')\n",
    "plt.show()"
   ]
  },
  {
   "cell_type": "code",
   "execution_count": 100,
   "metadata": {},
   "outputs": [
    {
     "name": "stdout",
     "output_type": "stream",
     "text": [
      "507\n",
      "579\n",
      "579\n",
      "579\n"
     ]
    }
   ],
   "source": [
    "### print colum names of df.iloc[idx0] that have values greater than 0\n",
    "print(len(df.iloc[idx0].columns[(df.iloc[idx0] > 0).any()]))\n",
    "print(len(df.iloc[idx1].columns[(df.iloc[idx1] > 0).any()]))\n",
    "print(len(df.iloc[idx2].columns[(df.iloc[idx2] > 0).any()]))\n",
    "print(len(df.iloc[idx3].columns[(df.iloc[idx3] > 0).any()]))\n",
    "\n"
   ]
  },
  {
   "cell_type": "code",
   "execution_count": 130,
   "metadata": {},
   "outputs": [
    {
     "name": "stdout",
     "output_type": "stream",
     "text": [
      "116967913      7\n",
      "91169782       7\n",
      "949300629      7\n",
      "10915734790    7\n",
      "711115701      6\n",
      "              ..\n",
      "10091170132    0\n",
      "711379673      0\n",
      "1156005087     0\n",
      "711251380      0\n",
      "105537445      0\n",
      "Length: 579, dtype: int64\n"
     ]
    }
   ],
   "source": [
    "### for each df.iloc[idx0] print the sum of all columns sorted from highest to lowest\n",
    "print(df.iloc[idx0].sum().sort_values(ascending=False))\n",
    "\n",
    "### get the top 10 columns of df.iloc[idx0] that have the highest sum\n",
    "maxSegs0 = df.iloc[idx0].sum().sort_values(ascending=False).head(200)\n",
    "maxSegs1 = df.iloc[idx1].sum().sort_values(ascending=False).head(200)\n",
    "maxSegs2 = df.iloc[idx2].sum().sort_values(ascending=False).head(200)\n",
    "maxSegs3 = df.iloc[idx3].sum().sort_values(ascending=False).head(200)\n"
   ]
  },
  {
   "cell_type": "code",
   "execution_count": 131,
   "metadata": {},
   "outputs": [
    {
     "name": "stdout",
     "output_type": "stream",
     "text": [
      "Index(['116967913', '10915734790', '10711209710', '710783587', '10915734793',\n",
      "       '10946271023', '91435359', '10709015679', '10711121748', '10949397063',\n",
      "       '1175069740', '91170205', '10708958458', '949279124', '105593873',\n",
      "       '11173060575', '704124376', '105540011', '10710782580', '10703777459',\n",
      "       '10127825675', '105574067', '10105574368', '703777459', '10703777750',\n",
      "       '105593568', '949290447', '1156080182', '1116878000', '949397070',\n",
      "       '10708548339', '1173048757', '116964285', '105539210', '10105538098',\n",
      "       '10105593499', '1156090945', '10105537958', '24501202', '10105537672',\n",
      "       '105539772', '105538755', '11173040622', '11173048767', '10704061070',\n",
      "       '703766145', '91169778', '10711379673', '91170619', '10105540066',\n",
      "       '937800492', '10105537818', '105593939', '708957454', '116970510',\n",
      "       '11172978481', '10091167864', '105574369', '11155878755', '10116952815',\n",
      "       '709015681', '1156083863', '105593941', '10710782582', '711440306',\n",
      "       '10091169790'],\n",
      "      dtype='object')\n",
      "Index(['91169782', '949293273', '91170120', '116970483', '10711115700',\n",
      "       '91435359', '105574033', '91170132', '1175324855', '10024501202',\n",
      "       '10127847593', '91169911', '709015679', '1172978480', '1173061123',\n",
      "       '999850568', '10105593842', '11156090945', '10024501500', '10116937342',\n",
      "       '10127825675', '711121748', '10703777750', '1172978482', '11156005092',\n",
      "       '105575910', '10949290444', '11172854052', '1172852963', '10709015680',\n",
      "       '91167864', '10703778100', '10949397061', '708847376', '10105538098',\n",
      "       '1156090945', '10105537958', '24501202', '10105537672', '10711121754',\n",
      "       '91169787', '11172854584', '1173048760', '91169778', '708549608',\n",
      "       '949397068', '1173061709', '24501500', '703777750', '949290457',\n",
      "       '11172978481', '127847573', '1172862677', '105537844', '11155878755',\n",
      "       '10703766144', '11155878757', '10105593375', '11173048760',\n",
      "       '1175069738', '709015681', '1156083863', '1172852973', '11172862677',\n",
      "       '10091169790'],\n",
      "      dtype='object')\n",
      "Index(['711115701', '10915734793', '10091169926', '10105575352', '11155878763',\n",
      "       '10711115700', '120406152', '10946271023', '91169928', '10937800492',\n",
      "       '10116970510', '10105539865', '10709015679', '10091434761',\n",
      "       '10703746957', '11155656403', '11156083866', '1175069740', '1172862678',\n",
      "       '11172854310', '1173061123', '704124376', '10710782580', '10116937342',\n",
      "       '1172969170', '703777459', '11172862691', '10105538093', '1110254020',\n",
      "       '1156080182', '10105593453', '949283528', '10708548339', '10091169928',\n",
      "       '10709017866', '105574370', '949283236', '703746957', '949536370',\n",
      "       '10105576311', '10112051471', '10091169778', '11173048758', '91169787',\n",
      "       '105535942', '91170209', '105593842', '1173048760', '10711379673',\n",
      "       '937800492', '10949290447', '91434762', '116970510', '116951485',\n",
      "       '10116952815', '10949300629', '10024563032', '1172978483',\n",
      "       '10709015681'],\n",
      "      dtype='object')\n",
      "Index(['10105537672', '10105538098', '710782580', '1155878757', '10704124377',\n",
      "       '24501202', '11155656395', '711443269', '11173048759', '10091167825',\n",
      "       '10127847572', '91170208', '1156083863', '11173040620', '105539843',\n",
      "       '10703766232', '105574065', '10116952816', '10703777750', '10949397067',\n",
      "       '1173040620', '116972286', '710771499', '11172978481', '10949279124',\n",
      "       '10091169790', '91435359', '10127825675', '709015681', '1155656405',\n",
      "       '1156083854', '11175073251', '956106017', '127825675', '105576311',\n",
      "       '1172862679', '10112037949', '10711443269', '10091435359',\n",
      "       '11172969170', '10116970513', '11155878755', '949290451', '91169778',\n",
      "       '10105574065', '10105537958', '1156090945', '91169779'],\n",
      "      dtype='object')\n",
      "Index(['10709015679', '10116970509', '10116946397', '11173040618',\n",
      "       '11156083854', '10091169781', '105594022', '116970510', '11156083863',\n",
      "       '11175324855', '10116952815', '11172872766', '11172862679',\n",
      "       '10915734793', '999850559', '10711440306', '937800492', '105538007',\n",
      "       '10710782580', '703777459', '1175069740', '10105593568', '711626973',\n",
      "       '10708503028', '116972286', '1156080182', '10112051514', '711620736',\n",
      "       '112037376', '1173048767', '105538876', '11155878750', '10127847594',\n",
      "       '91170034', '10711543789', '105593453', '112037949', '116952815',\n",
      "       '24563032', '704124376', '10105574370', '10711379673', '10946271023',\n",
      "       '10091170028', '10711376239', '10708548339', '10024517700',\n",
      "       '116945306'],\n",
      "      dtype='object')\n",
      "Index(['10711115700', '10091170129', '711376239', '10105539772', '11172978480',\n",
      "       '10949397065', '1173048765', '10708958457', '10116970483',\n",
      "       '10091170205', '116945261', '1173061123', '10949397068', '1173048760',\n",
      "       '105538093', '10999850559', '10116937342', '127847594', '1155878763',\n",
      "       '10711522483', '10105594022', '91169787', '10708749840', '11173061942',\n",
      "       '116972286'],\n",
      "      dtype='object')\n"
     ]
    }
   ],
   "source": [
    "overlaps = []\n",
    "### measure the overlap of the top 10 columns of df.iloc[idx0] and df.iloc[idx1]\n",
    "overlap = maxSegs0.index.intersection(maxSegs1.index)\n",
    "overlaps.append(overlap)\n",
    "print(overlap)\n",
    "\n",
    "### measure the overlap of the top 10 columns of df.iloc[idx0] and df.iloc[idx2]\n",
    "overlap = maxSegs0.index.intersection(maxSegs2.index)\n",
    "overlaps.append(overlap)\n",
    "print(overlap)\n",
    "\n",
    "### measure the overlap of the top 10 columns of df.iloc[idx0] and df.iloc[idx3]\n",
    "overlap = maxSegs0.index.intersection(maxSegs3.index)\n",
    "overlaps.append(overlap)\n",
    "print(overlap)\n",
    "\n",
    "### measure the overlap of the top 10 columns of df.iloc[idx1] and df.iloc[idx2]\n",
    "overlap = maxSegs1.index.intersection(maxSegs2.index)\n",
    "overlaps.append(overlap)\n",
    "print(overlap)\n",
    "\n",
    "### measure the overlap of the top 10 columns of df.iloc[idx1] and df.iloc[idx3]\n",
    "overlap = maxSegs1.index.intersection(maxSegs3.index)\n",
    "overlaps.append(overlap)\n",
    "print(overlap)\n",
    "\n",
    "### measure the overlap of the top 10 columns of df.iloc[idx2] and df.iloc[idx3]\n",
    "overlap = maxSegs2.index.intersection(maxSegs3.index)\n",
    "overlaps.append(overlap)\n",
    "print(overlap)\n"
   ]
  },
  {
   "cell_type": "code",
   "execution_count": 138,
   "metadata": {},
   "outputs": [
    {
     "name": "stdout",
     "output_type": "stream",
     "text": [
      "999850568\n",
      "10105576311\n",
      "116951485\n",
      "1155656405\n",
      "10711443269\n"
     ]
    }
   ],
   "source": [
    "for o in overlaps:\n",
    "    for i in o:\n",
    "        if i in primSegments:\n",
    "            print(i)"
   ]
  },
  {
   "cell_type": "code",
   "execution_count": null,
   "metadata": {},
   "outputs": [
    {
     "data": {
      "image/png": "[encoded data removed]",
      "text/plain": [
       "<Figure size 640x480 with 1 Axes>"
      ]
     },
     "metadata": {},
     "output_type": "display_data"
    }
   ],
   "source": []
  },
  {
   "cell_type": "code",
   "execution_count": null,
   "metadata": {},
   "outputs": [],
   "source": []
  }
 ],
 "metadata": {
  "kernelspec": {
   "display_name": "base",
   "language": "python",
   "name": "python3"
  },
  "language_info": {
   "codemirror_mode": {
    "name": "ipython",
    "version": 3
   },
   "file_extension": ".py",
   "mimetype": "text/x-python",
   "name": "python",
   "nbconvert_exporter": "python",
   "pygments_lexer": "ipython3",
   "version": "3.10.13"
  }
 },
 "nbformat": 4,
 "nbformat_minor": 2
}
