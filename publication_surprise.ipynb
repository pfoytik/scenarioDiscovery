{
 "cells": [
  {
   "cell_type": "markdown",
   "metadata": {},
   "source": [
    "# Test different metrics of surprise for framework paper\n",
    "\n",
    "### set a measure of potential for inputs\n",
    " - for each road segment that is blocked calculate the potential as the capacity (lanes * speed)"
   ]
  },
  {
   "cell_type": "code",
   "execution_count": 589,
   "metadata": {},
   "outputs": [],
   "source": [
    "from concurrent.futures import ThreadPoolExecutor\n",
    "import sqlite3\n",
    "import pickle\n",
    "import pandas as pd\n",
    "import json\n",
    "import xml.etree.ElementTree as ET\n",
    "import numpy as np"
   ]
  },
  {
   "cell_type": "code",
   "execution_count": 590,
   "metadata": {},
   "outputs": [],
   "source": [
    "def read_fleet_from_db(query):\n",
    "    dat = {}\n",
    "    conn = sqlite3.connect(dbFile)\n",
    "    c = conn.cursor()\n",
    "    c.execute(query)\n",
    "    rows = c.fetchall()   \n",
    "    print(\"Length of rows: \", len(rows)) \n",
    "    for row in rows:\n",
    "        ID = row[0]\n",
    "        response = row[1]\n",
    "        input = row[2]\n",
    "        output_90 = row[3]\n",
    "        output_100 = row[4]\n",
    "        output_dist = row[5]\n",
    "\n",
    "        inIDS = pickle.loads(input)\n",
    "        odist = pickle.loads(output_dist)\n",
    "        inXML = pickle.loads(input)\n",
    "\n",
    "        tmpDat = [ID, response, inIDS, output_90, output_100, odist]\n",
    "\n",
    "        d = tmpDat\n",
    "        scen = {}\n",
    "            \n",
    "        #try:\n",
    "        #    root = d[2].getroot()\n",
    "        #except:\n",
    "        #    print('error')\n",
    "        #    root = []\n",
    "        #    continue\n",
    "        scenID = d[0]\n",
    "        #print(root.tag)\n",
    "        #for child in root:    \n",
    "        #    ### find the segment ID\n",
    "        #    segmentID = child.find('ID').text\n",
    "        #    speed = float(child.find('Freeflow_Speed').text)\n",
    "        #    lanes = float(child.find('Number_of_Lanes').text)\n",
    "        #    blocked = False\n",
    "        #    if segmentID in link_ids:\n",
    "        #        scen[segmentID] = speed\n",
    "        saveDat = [inIDS, d[3]]  \n",
    "        dat[ID] = saveDat#.append([ID, response, inXML, output_90, output_100, odist])\n",
    "\n",
    "    conn.close()\n",
    "    return dat\n",
    "\n",
    "def read_ladris_from_db(query):\n",
    "    dat = {}\n",
    "    conn = sqlite3.connect(dbFile)\n",
    "    c = conn.cursor()\n",
    "    c.execute(query)\n",
    "    rows = c.fetchall()    \n",
    "    for row in rows:\n",
    "        ID = row[0]\n",
    "        response = row[1]\n",
    "        input = row[2]\n",
    "        output_90 = row[3]\n",
    "        output_100 = row[4]\n",
    "        output_dist = row[5]\n",
    "\n",
    "        inIDS = pickle.loads(input)\n",
    "        odist = pickle.loads(output_dist)\n",
    "        inXML = pickle.loads(input)\n",
    "\n",
    "        tmpDat = [ID, response, inXML, output_90, output_100, odist]\n",
    "\n",
    "        d = tmpDat\n",
    "        scen = {}\n",
    "\n",
    "        scenID = d[0]\n",
    "        #print(root.tag)\n",
    "        #for child in d[2]:    \n",
    "        #    ### find the segment ID\n",
    "        #    segmentID = child['osmid']\n",
    "        #    speed = float(child['speed_mph'])\n",
    "        #    lanes = float(child['num_lanes'])\n",
    "        #    blocked = child['is_blocked']\n",
    "        #    if blocked == True:\n",
    "        #        scen[segmentID] = 1\n",
    "        #    #if segmentID in link_ids:\n",
    "        #        #scen[segmentID] = blocked\n",
    "        saveDat = [inIDS, d[3]]  \n",
    "        dat[ID] = saveDat#.append([ID, response, inXML, output_90, output_100, odist])\n",
    "\n",
    "    conn.close()\n",
    "    return dat"
   ]
  },
  {
   "cell_type": "code",
   "execution_count": 591,
   "metadata": {},
   "outputs": [],
   "source": [
    "dbFile = '/home/pfoytik/rtepm/EMA/lhc_samples/fleet_roadBlocked_scenarios.db'\n",
    "#dbFile = 'lhc_samples/fleet_scenarios_conv1.db'\n",
    "#dbFile = '/home/pfoytik/rtepm/EMA/lhc_samples/fleet_scenarios_conv1.db'\n",
    "#dbFile = '/home/pfoytik/rtepm/EMA/lhc_samples/ladris_scenarios_conv1.db'\n",
    "#dbFile = '/home/pfoytik/rtepm/EMA/lhc_samples/fleet_scenarios_conv2.db'\n",
    "#dbFile = '/home/pfoytik/rtepm/EMA/lhc_samples/fleet_scenarios_conv2.db'\n",
    "#dbFile = '/home/pfoytik/rtepm/EMA/lhc_samples/ladris_scenarios_conv2.db'\n",
    "comb_scenarios = {}\n"
   ]
  },
  {
   "cell_type": "code",
   "execution_count": 592,
   "metadata": {},
   "outputs": [
    {
     "name": "stdout",
     "output_type": "stream",
     "text": [
      "Length of rows:  0\n",
      "Length of rows:  0\n",
      "Length of rows:  0\n",
      "Length of rows:  0\n",
      "Length of rows:  2000\n",
      "2000\n"
     ]
    }
   ],
   "source": [
    "queries = [\n",
    "    'SELECT * FROM scenarios ORDER BY id DESC limit 2000',\n",
    "    'SELECT * FROM scenarios ORDER BY id DESC limit 2000 offset 2000',\n",
    "    'SELECT * FROM scenarios ORDER BY id DESC limit 2000 offset 4000',\n",
    "    'SELECT * FROM scenarios ORDER BY id DESC limit 2000 offset 6000',\n",
    "    'SELECT * FROM scenarios ORDER BY id DESC limit 1000 offset 8000',    \n",
    "]\n",
    "\n",
    "dbFile = '/home/pfoytik/rtepm/EMA/lhc_samples/fleet_scenarios_conv2.db'\n",
    "with ThreadPoolExecutor(max_workers=6) as executor:\n",
    "    ### if db file has fleet use function read_fleet_from_db else use read_ladris_from_db\n",
    "    if 'fleet' in dbFile:\n",
    "        for result in executor.map(read_fleet_from_db, queries):\n",
    "            comb_scenarios.update(result)        \n",
    "    else:\n",
    "        for result in executor.map(read_ladris_from_db, queries):\n",
    "            comb_scenarios.update(result)    \n",
    "\n",
    "print(len(comb_scenarios))"
   ]
  },
  {
   "cell_type": "code",
   "execution_count": 593,
   "metadata": {},
   "outputs": [
    {
     "name": "stdout",
     "output_type": "stream",
     "text": [
      "Length of rows:  0\n",
      "Length of rows:  0\n",
      "Length of rows:  0\n",
      "Length of rows:  292\n",
      "Length of rows:  2000\n",
      "Length of rows:  0\n",
      "Length of rows:  0\n",
      "Length of rows:  0\n",
      "Length of rows:  0\n",
      "Length of rows:  2000\n",
      "3896\n"
     ]
    }
   ],
   "source": [
    "### join 3 sqlite database files\n",
    "#dbFile1 = '/home/pfoytik/rtepm/EMA/lhc_samples/guid_blocked_ladris_scenarios.db'\n",
    "#dbFile2 = '/home/pfoytik/rtepm/EMA/lhc_samples/ladris_scenarios_conv1.db'\n",
    "#dbFile3 = '/home/pfoytik/rtepm/EMA/lhc_samples/ladris_scenarios_conv2.db'\n",
    "\n",
    "#dbFile1 = '/home/pfoytik/rtepm/EMA/lhc_samples/fleet_roadBlocked_scenarios.db'\n",
    "dbFile2 = '/home/pfoytik/rtepm/EMA/lhc_samples/fleet_scenarios_conv1.db'\n",
    "dbFile3 = '/home/pfoytik/rtepm/EMA/lhc_samples/fleet_scenarios_conv2.db'\n",
    "dbFiles = [dbFile2, dbFile3]\n",
    "comb_scenarios = {}\n",
    "scenCount = 0\n",
    "for dbFile in dbFiles:\n",
    "    with ThreadPoolExecutor(max_workers=6) as executor:\n",
    "        ### if db file has fleet use function read_fleet_from_db else use read_ladris_from_db\n",
    "        if 'fleet' in dbFile:\n",
    "            for result in executor.map(read_fleet_from_db, queries):\n",
    "                comb_scenarios.update(result)        \n",
    "        else:\n",
    "            for result in executor.map(read_ladris_from_db, queries):\n",
    "                for key, value in result.items():\n",
    "                    if key in comb_scenarios:\n",
    "                        new_key = scenCount + int(key)\n",
    "                        scenCount += 1\n",
    "                        comb_scenarios[new_key] = value\n",
    "                    else:\n",
    "                        comb_scenarios[key] = value \n",
    "print(len(comb_scenarios))"
   ]
  },
  {
   "cell_type": "markdown",
   "metadata": {},
   "source": [
    "# Get Ladris Roads\n",
    "- Potential is measured as Lanes * Speed * Length"
   ]
  },
  {
   "cell_type": "code",
   "execution_count": 594,
   "metadata": {},
   "outputs": [],
   "source": [
    "roadFile = '../lhc_samples/data/ladris/C27F9DE4CE6780696685FB4A4E31E242_orig'\n",
    "with open(roadFile, 'r') as f:\n",
    "    data = json.load(f)\n",
    "\n",
    "ladris_latlong_dict = {}\n",
    "ladris_potential_dict = {}\n",
    "modified_dict = {}\n",
    "\n",
    "for i in data:\n",
    "    #print(i)\n",
    "    ladris_latlong_dict[i['AC91D0B60F78BEFB85DE39CD9C3D2623']] = i['geometry']\n",
    "    lanes = i['num_lanes']\n",
    "    speed = i['speed_mph']\n",
    "    ### convert speed to m/s\n",
    "    speed = speed * 0.44704\n",
    "    length = i['length_meters']\n",
    "    ladris_potential_dict[i['AC91D0B60F78BEFB85DE39CD9C3D2623']] = lanes * speed# * length"
   ]
  },
  {
   "cell_type": "markdown",
   "metadata": {},
   "source": [
    "# !!!Length seems to give extra potential to low potential roads!!!!"
   ]
  },
  {
   "cell_type": "code",
   "execution_count": 595,
   "metadata": {},
   "outputs": [
    {
     "data": {
      "text/plain": [
       "21.45792"
      ]
     },
     "execution_count": 595,
     "metadata": {},
     "output_type": "execute_result"
    }
   ],
   "source": [
    "ladris_potential_dict[335090]"
   ]
  },
  {
   "cell_type": "markdown",
   "metadata": {},
   "source": [
    "# Get Fleet Roads"
   ]
  },
  {
   "cell_type": "code",
   "execution_count": 596,
   "metadata": {},
   "outputs": [],
   "source": [
    "### read segment id's from ../lhc_samples/data/fleet/segments.xml\n",
    "tree = ET.parse('../lhc_samples/data/fleet/segments.xml')\n",
    "root = tree.getroot()\n",
    "\n",
    "fleet_segment_dict = {}\n",
    "fleet_potential_dict = {}\n",
    "for child in root:\n",
    "    fleet_segment_dict[child.find('ID').text] = child.find('Link_ID').text\n",
    "    lanes = int(child.find('Number_of_Lanes').text)\n",
    "    speed = int(child.find('Freeflow_Speed').text)\n",
    "    fleet_potential_dict[child.find('ID').text] = lanes * speed\n",
    "\n",
    "### read ../lhcsamples/data/fleet/links.xml\n",
    "tree = ET.parse('../lhc_samples/data/fleet/links.xml')\n",
    "root = tree.getroot()\n",
    "\n",
    "fleet_link_dict = {}\n",
    "fleet_name_dict = {}\n",
    "for child in root:\n",
    "    fleet_link_dict[child.find('ID').text] = [child.find('ANode').text, child.find('BNode').text]    \n",
    "    fleet_name_dict[child.find('ID').text] = child.find('Name').text\n",
    "\n",
    "### read ../lhcsamples/data/fleet/nodes.xml and get lat long for BNode of each fleet_link_dict\n",
    "tree = ET.parse('../lhc_samples/data/fleet/nodes.xml')\n",
    "root = tree.getroot()\n",
    "\n",
    "fleet_node_dict = {}\n",
    "for child in root:\n",
    "    fleet_node_dict[child.find('ID').text] = [child.find('Latitude').text, child.find('Longitude').text]\n",
    "\n",
    "fleet_lat_long_dict = {}\n",
    "### for each segment in fleet_segment_dict, get the link_id, from fleet_link_dict get the BNode, from fleet_node_dict get the lat long\n",
    "for segment in fleet_segment_dict:\n",
    "    link_id = fleet_segment_dict[segment]\n",
    "    anode = fleet_link_dict[link_id][0]\n",
    "    bnode = fleet_link_dict[link_id][1]\n",
    "    lat_long = [fleet_node_dict[anode], fleet_node_dict[bnode]]\n",
    "    fleet_lat_long_dict[int(segment)] = [[float(lat_long[0][1]), float(lat_long[0][0])],[float(lat_long[1][1]), float(lat_long[1][0])]]"
   ]
  },
  {
   "cell_type": "code",
   "execution_count": 597,
   "metadata": {},
   "outputs": [],
   "source": [
    "df_results = pd.DataFrame([x[1] for x in comb_scenarios.values()])\n",
    "\n",
    "dataDict = {}\n",
    "for k in comb_scenarios.keys():\n",
    "    for link in comb_scenarios[k][0]:        \n",
    "        if link in dataDict.keys():\n",
    "            pass\n",
    "        else:\n",
    "            #if link in link_ids:\n",
    "            dataDict[link] = []   \n",
    "\n",
    "for k in comb_scenarios.keys():\n",
    "    for i in dataDict.keys():\n",
    "        if i in comb_scenarios[k][0]:\n",
    "            #if link in link_ids:\n",
    "            dataDict[i].append(1)\n",
    "        else:\n",
    "            #if link in link_ids:\n",
    "            dataDict[i].append(0) \n",
    "\n",
    "df = pd.DataFrame(dataDict)\n",
    "\n"
   ]
  },
  {
   "cell_type": "code",
   "execution_count": 598,
   "metadata": {},
   "outputs": [
    {
     "data": {
      "text/html": [
       "<div>\n",
       "<style scoped>\n",
       "    .dataframe tbody tr th:only-of-type {\n",
       "        vertical-align: middle;\n",
       "    }\n",
       "\n",
       "    .dataframe tbody tr th {\n",
       "        vertical-align: top;\n",
       "    }\n",
       "\n",
       "    .dataframe thead th {\n",
       "        text-align: right;\n",
       "    }\n",
       "</style>\n",
       "<table border=\"1\" class=\"dataframe\">\n",
       "  <thead>\n",
       "    <tr style=\"text-align: right;\">\n",
       "      <th></th>\n",
       "      <th>0</th>\n",
       "      <th>minutes</th>\n",
       "      <th>hours</th>\n",
       "    </tr>\n",
       "  </thead>\n",
       "  <tbody>\n",
       "    <tr>\n",
       "      <th>count</th>\n",
       "      <td>3896.000000</td>\n",
       "      <td>3896.000000</td>\n",
       "      <td>3896.000000</td>\n",
       "    </tr>\n",
       "    <tr>\n",
       "      <th>mean</th>\n",
       "      <td>12577.284394</td>\n",
       "      <td>209.621407</td>\n",
       "      <td>3.493690</td>\n",
       "    </tr>\n",
       "    <tr>\n",
       "      <th>std</th>\n",
       "      <td>3661.927762</td>\n",
       "      <td>61.032129</td>\n",
       "      <td>1.017202</td>\n",
       "    </tr>\n",
       "    <tr>\n",
       "      <th>min</th>\n",
       "      <td>9600.000000</td>\n",
       "      <td>160.000000</td>\n",
       "      <td>2.666667</td>\n",
       "    </tr>\n",
       "    <tr>\n",
       "      <th>25%</th>\n",
       "      <td>9600.000000</td>\n",
       "      <td>160.000000</td>\n",
       "      <td>2.666667</td>\n",
       "    </tr>\n",
       "    <tr>\n",
       "      <th>50%</th>\n",
       "      <td>12900.000000</td>\n",
       "      <td>215.000000</td>\n",
       "      <td>3.583333</td>\n",
       "    </tr>\n",
       "    <tr>\n",
       "      <th>75%</th>\n",
       "      <td>13200.000000</td>\n",
       "      <td>220.000000</td>\n",
       "      <td>3.666667</td>\n",
       "    </tr>\n",
       "    <tr>\n",
       "      <th>max</th>\n",
       "      <td>30000.000000</td>\n",
       "      <td>500.000000</td>\n",
       "      <td>8.333333</td>\n",
       "    </tr>\n",
       "  </tbody>\n",
       "</table>\n",
       "</div>"
      ],
      "text/plain": [
       "                  0      minutes        hours\n",
       "count   3896.000000  3896.000000  3896.000000\n",
       "mean   12577.284394   209.621407     3.493690\n",
       "std     3661.927762    61.032129     1.017202\n",
       "min     9600.000000   160.000000     2.666667\n",
       "25%     9600.000000   160.000000     2.666667\n",
       "50%    12900.000000   215.000000     3.583333\n",
       "75%    13200.000000   220.000000     3.666667\n",
       "max    30000.000000   500.000000     8.333333"
      ]
     },
     "execution_count": 598,
     "metadata": {},
     "output_type": "execute_result"
    }
   ],
   "source": [
    "if 'ladris' in dbFile:\n",
    "    df_results['minutes'] = df_results[0] * 60\n",
    "    df_results['hours'] = df_results[0]\n",
    "else:\n",
    "    ### create a new column for the df_results called minutes that is equal to df_results[0] / 60\n",
    "    df_results['minutes'] = df_results[0] / 60\n",
    "    ### create a new column for df_results called hours that is equal to df_results[0] / 3600\n",
    "    df_results['hours'] = df_results[0] / 3600\n",
    "\n",
    "df_results.describe()"
   ]
  },
  {
   "cell_type": "code",
   "execution_count": 599,
   "metadata": {},
   "outputs": [
    {
     "data": {
      "image/png": "[encoded data removed]",
      "text/plain": [
       "<Figure size 640x480 with 1 Axes>"
      ]
     },
     "metadata": {},
     "output_type": "display_data"
    }
   ],
   "source": [
    "### Plot histogram of df_results\n",
    "import matplotlib.pyplot as plt\n",
    "plt.hist(df_results['hours'], bins=50)\n",
    "plt.xlabel('Travel Time (seconds)')\n",
    "plt.ylabel('Frequency')\n",
    "plt.title('Histogram of Travel Time')\n",
    "plt.show()"
   ]
  },
  {
   "cell_type": "code",
   "execution_count": 600,
   "metadata": {},
   "outputs": [
    {
     "data": {
      "text/plain": [
       "0       2.666667\n",
       "1       4.583333\n",
       "2       3.666667\n",
       "3       3.666667\n",
       "4       3.583333\n",
       "          ...   \n",
       "3891    3.583333\n",
       "3892    2.666667\n",
       "3893    3.666667\n",
       "3894    3.666667\n",
       "3895    3.583333\n",
       "Name: hours, Length: 3896, dtype: float64"
      ]
     },
     "execution_count": 600,
     "metadata": {},
     "output_type": "execute_result"
    }
   ],
   "source": [
    "df_results['hours']"
   ]
  },
  {
   "cell_type": "code",
   "execution_count": 601,
   "metadata": {},
   "outputs": [
    {
     "data": {
      "text/html": [
       "<div>\n",
       "<style scoped>\n",
       "    .dataframe tbody tr th:only-of-type {\n",
       "        vertical-align: middle;\n",
       "    }\n",
       "\n",
       "    .dataframe tbody tr th {\n",
       "        vertical-align: top;\n",
       "    }\n",
       "\n",
       "    .dataframe thead th {\n",
       "        text-align: right;\n",
       "    }\n",
       "</style>\n",
       "<table border=\"1\" class=\"dataframe\">\n",
       "  <thead>\n",
       "    <tr style=\"text-align: right;\">\n",
       "      <th></th>\n",
       "      <th>0</th>\n",
       "      <th>minutes</th>\n",
       "      <th>hours</th>\n",
       "    </tr>\n",
       "  </thead>\n",
       "  <tbody>\n",
       "    <tr>\n",
       "      <th>count</th>\n",
       "      <td>727.000000</td>\n",
       "      <td>727.000000</td>\n",
       "      <td>727.000000</td>\n",
       "    </tr>\n",
       "    <tr>\n",
       "      <th>mean</th>\n",
       "      <td>18884.319120</td>\n",
       "      <td>314.738652</td>\n",
       "      <td>5.245644</td>\n",
       "    </tr>\n",
       "    <tr>\n",
       "      <th>std</th>\n",
       "      <td>3222.916659</td>\n",
       "      <td>53.715278</td>\n",
       "      <td>0.895255</td>\n",
       "    </tr>\n",
       "    <tr>\n",
       "      <th>min</th>\n",
       "      <td>16200.000000</td>\n",
       "      <td>270.000000</td>\n",
       "      <td>4.500000</td>\n",
       "    </tr>\n",
       "    <tr>\n",
       "      <th>25%</th>\n",
       "      <td>16500.000000</td>\n",
       "      <td>275.000000</td>\n",
       "      <td>4.583333</td>\n",
       "    </tr>\n",
       "    <tr>\n",
       "      <th>50%</th>\n",
       "      <td>16500.000000</td>\n",
       "      <td>275.000000</td>\n",
       "      <td>4.583333</td>\n",
       "    </tr>\n",
       "    <tr>\n",
       "      <th>75%</th>\n",
       "      <td>19800.000000</td>\n",
       "      <td>330.000000</td>\n",
       "      <td>5.500000</td>\n",
       "    </tr>\n",
       "    <tr>\n",
       "      <th>max</th>\n",
       "      <td>30000.000000</td>\n",
       "      <td>500.000000</td>\n",
       "      <td>8.333333</td>\n",
       "    </tr>\n",
       "  </tbody>\n",
       "</table>\n",
       "</div>"
      ],
      "text/plain": [
       "                  0     minutes       hours\n",
       "count    727.000000  727.000000  727.000000\n",
       "mean   18884.319120  314.738652    5.245644\n",
       "std     3222.916659   53.715278    0.895255\n",
       "min    16200.000000  270.000000    4.500000\n",
       "25%    16500.000000  275.000000    4.583333\n",
       "50%    16500.000000  275.000000    4.583333\n",
       "75%    19800.000000  330.000000    5.500000\n",
       "max    30000.000000  500.000000    8.333333"
      ]
     },
     "execution_count": 601,
     "metadata": {},
     "output_type": "execute_result"
    }
   ],
   "source": [
    "\n",
    "### get indexs of df_results for df_results['hours'] >= 6.5\n",
    "idx = df_results[df_results['hours'] >= 4].index\n",
    "### get indexs of df_results for df_results['hours'] < 6.5\n",
    "idx2 = df_results[df_results['hours'] < 4].index\n",
    "\n",
    "### describe df_results for the indexs of idx\n",
    "df_results.loc[idx].describe()"
   ]
  },
  {
   "cell_type": "code",
   "execution_count": 602,
   "metadata": {},
   "outputs": [],
   "source": [
    "experiments = df\n",
    "lowExperiments = experiments.loc[idx2]\n",
    "highExperiments = experiments.loc[idx]\n",
    "### Create outcomes as an array of df_results\n",
    "outcomes = list(df_results['hours'].values)\n",
    "lowOutcomes = list(df_results.loc[idx2]['hours'].values)\n",
    "highOutcomes = list(df_results.loc[idx]['hours'].values)"
   ]
  },
  {
   "cell_type": "code",
   "execution_count": 603,
   "metadata": {},
   "outputs": [
    {
     "data": {
      "text/plain": [
       "count    727.000000\n",
       "mean       5.245644\n",
       "std        0.895255\n",
       "min        4.500000\n",
       "25%        4.583333\n",
       "50%        4.583333\n",
       "75%        5.500000\n",
       "max        8.333333\n",
       "dtype: float64"
      ]
     },
     "execution_count": 603,
     "metadata": {},
     "output_type": "execute_result"
    }
   ],
   "source": [
    "### describe highOutcomes\n",
    "pd.Series(highOutcomes).describe()"
   ]
  },
  {
   "cell_type": "code",
   "execution_count": 604,
   "metadata": {},
   "outputs": [
    {
     "data": {
      "image/png": "[encoded data removed]",
      "text/plain": [
       "<Figure size 1000x1000 with 3 Axes>"
      ]
     },
     "metadata": {},
     "output_type": "display_data"
    }
   ],
   "source": [
    "import matplotlib.pyplot as plt\n",
    "\n",
    "### create three subplots of the outcomes\n",
    "fig, ax = plt.subplots(3, 1, figsize=(10, 10))\n",
    "ax[0].hist(outcomes, bins=20)\n",
    "ax[0].set_title('All outcomes')\n",
    "ax[1].hist(lowOutcomes, bins=20)\n",
    "ax[1].set_title('Outcomes < 6.5')\n",
    "ax[2].hist(highOutcomes, bins=20)\n",
    "ax[2].set_title('Outcomes >= 6.5')\n",
    "plt.tight_layout()\n",
    "plt.show()\n"
   ]
  },
  {
   "cell_type": "markdown",
   "metadata": {},
   "source": [
    "# The list of segments that are associated with High critical evacuation times and are low on potential 0.5 lam1, 1.0 lam2\n",
    "## Ladris Critical Segments\n",
    "![image.png](images/ladris_critical_segments_2025-05-23.png)\n",
    "## Ladris Critical and Low Potential (CSI)\n",
    "![image.png](images/ladris_CSI_segments_2025-05-28.png)\n",
    "## Fleet Critical Segments\n",
    "![image.png](images/fleet_critical_segments.png)\n",
    "## Fleet Critical and Low Potential (CSI)\n",
    "![image-2.png](images/fleet_CSI_segments.png)\n",
    "\n"
   ]
  },
  {
   "cell_type": "markdown",
   "metadata": {},
   "source": [
    "# Custom surprising critical measure\n",
    "$$\n",
    "Z=λ_1 × EvacuationTime − λ_2 × ScenarioPotential\n",
    "$$\n",
    "- Evacuation time is time 90% of population reaches destination\n",
    "- Scenario Potential is the total potential measure of closed segments for that scenario"
   ]
  },
  {
   "cell_type": "code",
   "execution_count": 605,
   "metadata": {},
   "outputs": [
    {
     "data": {
      "text/html": [
       "<div>\n",
       "<style scoped>\n",
       "    .dataframe tbody tr th:only-of-type {\n",
       "        vertical-align: middle;\n",
       "    }\n",
       "\n",
       "    .dataframe tbody tr th {\n",
       "        vertical-align: top;\n",
       "    }\n",
       "\n",
       "    .dataframe thead th {\n",
       "        text-align: right;\n",
       "    }\n",
       "</style>\n",
       "<table border=\"1\" class=\"dataframe\">\n",
       "  <thead>\n",
       "    <tr style=\"text-align: right;\">\n",
       "      <th></th>\n",
       "      <th>10091169783</th>\n",
       "      <th>949301691</th>\n",
       "      <th>10949397063</th>\n",
       "      <th>711440306</th>\n",
       "      <th>10116952815</th>\n",
       "      <th>711443713</th>\n",
       "      <th>10946271023</th>\n",
       "      <th>10105537445</th>\n",
       "      <th>10116970483</th>\n",
       "      <th>11156823230</th>\n",
       "      <th>...</th>\n",
       "      <th>703766232</th>\n",
       "      <th>105574067</th>\n",
       "      <th>949536370</th>\n",
       "      <th>10708503028</th>\n",
       "      <th>105576314</th>\n",
       "      <th>10091169790</th>\n",
       "      <th>949283531</th>\n",
       "      <th>711443269</th>\n",
       "      <th>91170034</th>\n",
       "      <th>10710783587</th>\n",
       "    </tr>\n",
       "  </thead>\n",
       "  <tbody>\n",
       "    <tr>\n",
       "      <th>0</th>\n",
       "      <td>1</td>\n",
       "      <td>1</td>\n",
       "      <td>1</td>\n",
       "      <td>1</td>\n",
       "      <td>1</td>\n",
       "      <td>1</td>\n",
       "      <td>1</td>\n",
       "      <td>1</td>\n",
       "      <td>1</td>\n",
       "      <td>1</td>\n",
       "      <td>...</td>\n",
       "      <td>0</td>\n",
       "      <td>0</td>\n",
       "      <td>0</td>\n",
       "      <td>0</td>\n",
       "      <td>0</td>\n",
       "      <td>0</td>\n",
       "      <td>0</td>\n",
       "      <td>0</td>\n",
       "      <td>0</td>\n",
       "      <td>0</td>\n",
       "    </tr>\n",
       "    <tr>\n",
       "      <th>1</th>\n",
       "      <td>1</td>\n",
       "      <td>1</td>\n",
       "      <td>1</td>\n",
       "      <td>0</td>\n",
       "      <td>0</td>\n",
       "      <td>1</td>\n",
       "      <td>0</td>\n",
       "      <td>0</td>\n",
       "      <td>0</td>\n",
       "      <td>1</td>\n",
       "      <td>...</td>\n",
       "      <td>1</td>\n",
       "      <td>1</td>\n",
       "      <td>1</td>\n",
       "      <td>0</td>\n",
       "      <td>0</td>\n",
       "      <td>0</td>\n",
       "      <td>0</td>\n",
       "      <td>0</td>\n",
       "      <td>0</td>\n",
       "      <td>0</td>\n",
       "    </tr>\n",
       "    <tr>\n",
       "      <th>2</th>\n",
       "      <td>1</td>\n",
       "      <td>0</td>\n",
       "      <td>0</td>\n",
       "      <td>1</td>\n",
       "      <td>0</td>\n",
       "      <td>0</td>\n",
       "      <td>0</td>\n",
       "      <td>1</td>\n",
       "      <td>1</td>\n",
       "      <td>1</td>\n",
       "      <td>...</td>\n",
       "      <td>1</td>\n",
       "      <td>0</td>\n",
       "      <td>0</td>\n",
       "      <td>1</td>\n",
       "      <td>1</td>\n",
       "      <td>1</td>\n",
       "      <td>1</td>\n",
       "      <td>1</td>\n",
       "      <td>0</td>\n",
       "      <td>0</td>\n",
       "    </tr>\n",
       "    <tr>\n",
       "      <th>3</th>\n",
       "      <td>1</td>\n",
       "      <td>0</td>\n",
       "      <td>1</td>\n",
       "      <td>0</td>\n",
       "      <td>1</td>\n",
       "      <td>0</td>\n",
       "      <td>1</td>\n",
       "      <td>0</td>\n",
       "      <td>1</td>\n",
       "      <td>1</td>\n",
       "      <td>...</td>\n",
       "      <td>1</td>\n",
       "      <td>1</td>\n",
       "      <td>0</td>\n",
       "      <td>1</td>\n",
       "      <td>1</td>\n",
       "      <td>1</td>\n",
       "      <td>0</td>\n",
       "      <td>0</td>\n",
       "      <td>1</td>\n",
       "      <td>0</td>\n",
       "    </tr>\n",
       "    <tr>\n",
       "      <th>4</th>\n",
       "      <td>0</td>\n",
       "      <td>0</td>\n",
       "      <td>1</td>\n",
       "      <td>1</td>\n",
       "      <td>1</td>\n",
       "      <td>1</td>\n",
       "      <td>1</td>\n",
       "      <td>0</td>\n",
       "      <td>1</td>\n",
       "      <td>0</td>\n",
       "      <td>...</td>\n",
       "      <td>1</td>\n",
       "      <td>1</td>\n",
       "      <td>0</td>\n",
       "      <td>0</td>\n",
       "      <td>1</td>\n",
       "      <td>1</td>\n",
       "      <td>0</td>\n",
       "      <td>0</td>\n",
       "      <td>0</td>\n",
       "      <td>0</td>\n",
       "    </tr>\n",
       "  </tbody>\n",
       "</table>\n",
       "<p>5 rows × 34 columns</p>\n",
       "</div>"
      ],
      "text/plain": [
       "   10091169783  949301691  10949397063  711440306  10116952815  711443713  \\\n",
       "0            1          1            1          1            1          1   \n",
       "1            1          1            1          0            0          1   \n",
       "2            1          0            0          1            0          0   \n",
       "3            1          0            1          0            1          0   \n",
       "4            0          0            1          1            1          1   \n",
       "\n",
       "   10946271023  10105537445  10116970483  11156823230  ...  703766232  \\\n",
       "0            1            1            1            1  ...          0   \n",
       "1            0            0            0            1  ...          1   \n",
       "2            0            1            1            1  ...          1   \n",
       "3            1            0            1            1  ...          1   \n",
       "4            1            0            1            0  ...          1   \n",
       "\n",
       "   105574067  949536370  10708503028  105576314  10091169790  949283531  \\\n",
       "0          0          0            0          0            0          0   \n",
       "1          1          1            0          0            0          0   \n",
       "2          0          0            1          1            1          1   \n",
       "3          1          0            1          1            1          0   \n",
       "4          1          0            0          1            1          0   \n",
       "\n",
       "   711443269  91170034  10710783587  \n",
       "0          0         0            0  \n",
       "1          0         0            0  \n",
       "2          1         0            0  \n",
       "3          0         1            0  \n",
       "4          0         0            0  \n",
       "\n",
       "[5 rows x 34 columns]"
      ]
     },
     "execution_count": 605,
     "metadata": {},
     "output_type": "execute_result"
    }
   ],
   "source": [
    "### create a new dataframe from df where each column is multiplied by the corresponding value in ladris_potential_dict\n",
    "ladris_potential_df = df.copy()\n",
    "for i in ladris_potential_dict:\n",
    "    if i in ladris_potential_df.columns:\n",
    "        ladris_potential_df[i] = ladris_potential_df[i] * ladris_potential_dict[i]\n",
    "\n",
    "ladris_potential_df.head()"
   ]
  },
  {
   "cell_type": "code",
   "execution_count": 606,
   "metadata": {},
   "outputs": [
    {
     "name": "stdout",
     "output_type": "stream",
     "text": [
      "10091169783    1\n",
      "949301691      1\n",
      "10949397063    1\n",
      "711443713      1\n",
      "11156823230    1\n",
      "1172855239     1\n",
      "1173061709     1\n",
      "91170204       1\n",
      "91169787       1\n",
      "10105575029    1\n",
      "91170209       1\n",
      "10091170129    1\n",
      "1175163236     1\n",
      "711209710      1\n",
      "10112051514    1\n",
      "11173061942    1\n",
      "10116945306    1\n",
      "10091170208    1\n",
      "10949290445    1\n",
      "703766232      1\n",
      "105574067      1\n",
      "949536370      1\n",
      "Name: 1, dtype: int64\n"
     ]
    }
   ],
   "source": [
    "### print the columns that are greater than 0 for ladris_potential_df.iloc[1]\n",
    "print(ladris_potential_df.iloc[1][ladris_potential_df.iloc[1] > 0])\n",
    "\n",
    "\n"
   ]
  },
  {
   "cell_type": "code",
   "execution_count": 607,
   "metadata": {},
   "outputs": [
    {
     "data": {
      "text/html": [
       "<div>\n",
       "<style scoped>\n",
       "    .dataframe tbody tr th:only-of-type {\n",
       "        vertical-align: middle;\n",
       "    }\n",
       "\n",
       "    .dataframe tbody tr th {\n",
       "        vertical-align: top;\n",
       "    }\n",
       "\n",
       "    .dataframe thead th {\n",
       "        text-align: right;\n",
       "    }\n",
       "</style>\n",
       "<table border=\"1\" class=\"dataframe\">\n",
       "  <thead>\n",
       "    <tr style=\"text-align: right;\">\n",
       "      <th></th>\n",
       "      <th>10091169783</th>\n",
       "      <th>949301691</th>\n",
       "      <th>10949397063</th>\n",
       "      <th>711440306</th>\n",
       "      <th>10116952815</th>\n",
       "      <th>711443713</th>\n",
       "      <th>10946271023</th>\n",
       "      <th>10105537445</th>\n",
       "      <th>10116970483</th>\n",
       "      <th>11156823230</th>\n",
       "      <th>...</th>\n",
       "      <th>949536370</th>\n",
       "      <th>10708503028</th>\n",
       "      <th>105576314</th>\n",
       "      <th>10091169790</th>\n",
       "      <th>949283531</th>\n",
       "      <th>711443269</th>\n",
       "      <th>91170034</th>\n",
       "      <th>10710783587</th>\n",
       "      <th>sum</th>\n",
       "      <th>count</th>\n",
       "    </tr>\n",
       "  </thead>\n",
       "  <tbody>\n",
       "    <tr>\n",
       "      <th>0</th>\n",
       "      <td>1</td>\n",
       "      <td>1</td>\n",
       "      <td>1</td>\n",
       "      <td>1</td>\n",
       "      <td>1</td>\n",
       "      <td>1</td>\n",
       "      <td>1</td>\n",
       "      <td>1</td>\n",
       "      <td>1</td>\n",
       "      <td>1</td>\n",
       "      <td>...</td>\n",
       "      <td>0</td>\n",
       "      <td>0</td>\n",
       "      <td>0</td>\n",
       "      <td>0</td>\n",
       "      <td>0</td>\n",
       "      <td>0</td>\n",
       "      <td>0</td>\n",
       "      <td>0</td>\n",
       "      <td>18</td>\n",
       "      <td>19</td>\n",
       "    </tr>\n",
       "    <tr>\n",
       "      <th>1</th>\n",
       "      <td>1</td>\n",
       "      <td>1</td>\n",
       "      <td>1</td>\n",
       "      <td>0</td>\n",
       "      <td>0</td>\n",
       "      <td>1</td>\n",
       "      <td>0</td>\n",
       "      <td>0</td>\n",
       "      <td>0</td>\n",
       "      <td>1</td>\n",
       "      <td>...</td>\n",
       "      <td>1</td>\n",
       "      <td>0</td>\n",
       "      <td>0</td>\n",
       "      <td>0</td>\n",
       "      <td>0</td>\n",
       "      <td>0</td>\n",
       "      <td>0</td>\n",
       "      <td>0</td>\n",
       "      <td>22</td>\n",
       "      <td>23</td>\n",
       "    </tr>\n",
       "    <tr>\n",
       "      <th>2</th>\n",
       "      <td>1</td>\n",
       "      <td>0</td>\n",
       "      <td>0</td>\n",
       "      <td>1</td>\n",
       "      <td>0</td>\n",
       "      <td>0</td>\n",
       "      <td>0</td>\n",
       "      <td>1</td>\n",
       "      <td>1</td>\n",
       "      <td>1</td>\n",
       "      <td>...</td>\n",
       "      <td>0</td>\n",
       "      <td>1</td>\n",
       "      <td>1</td>\n",
       "      <td>1</td>\n",
       "      <td>1</td>\n",
       "      <td>1</td>\n",
       "      <td>0</td>\n",
       "      <td>0</td>\n",
       "      <td>17</td>\n",
       "      <td>18</td>\n",
       "    </tr>\n",
       "    <tr>\n",
       "      <th>3</th>\n",
       "      <td>1</td>\n",
       "      <td>0</td>\n",
       "      <td>1</td>\n",
       "      <td>0</td>\n",
       "      <td>1</td>\n",
       "      <td>0</td>\n",
       "      <td>1</td>\n",
       "      <td>0</td>\n",
       "      <td>1</td>\n",
       "      <td>1</td>\n",
       "      <td>...</td>\n",
       "      <td>0</td>\n",
       "      <td>1</td>\n",
       "      <td>1</td>\n",
       "      <td>1</td>\n",
       "      <td>0</td>\n",
       "      <td>0</td>\n",
       "      <td>1</td>\n",
       "      <td>0</td>\n",
       "      <td>17</td>\n",
       "      <td>18</td>\n",
       "    </tr>\n",
       "    <tr>\n",
       "      <th>4</th>\n",
       "      <td>0</td>\n",
       "      <td>0</td>\n",
       "      <td>1</td>\n",
       "      <td>1</td>\n",
       "      <td>1</td>\n",
       "      <td>1</td>\n",
       "      <td>1</td>\n",
       "      <td>0</td>\n",
       "      <td>1</td>\n",
       "      <td>0</td>\n",
       "      <td>...</td>\n",
       "      <td>0</td>\n",
       "      <td>0</td>\n",
       "      <td>1</td>\n",
       "      <td>1</td>\n",
       "      <td>0</td>\n",
       "      <td>0</td>\n",
       "      <td>0</td>\n",
       "      <td>0</td>\n",
       "      <td>16</td>\n",
       "      <td>17</td>\n",
       "    </tr>\n",
       "    <tr>\n",
       "      <th>...</th>\n",
       "      <td>...</td>\n",
       "      <td>...</td>\n",
       "      <td>...</td>\n",
       "      <td>...</td>\n",
       "      <td>...</td>\n",
       "      <td>...</td>\n",
       "      <td>...</td>\n",
       "      <td>...</td>\n",
       "      <td>...</td>\n",
       "      <td>...</td>\n",
       "      <td>...</td>\n",
       "      <td>...</td>\n",
       "      <td>...</td>\n",
       "      <td>...</td>\n",
       "      <td>...</td>\n",
       "      <td>...</td>\n",
       "      <td>...</td>\n",
       "      <td>...</td>\n",
       "      <td>...</td>\n",
       "      <td>...</td>\n",
       "      <td>...</td>\n",
       "    </tr>\n",
       "    <tr>\n",
       "      <th>3891</th>\n",
       "      <td>0</td>\n",
       "      <td>1</td>\n",
       "      <td>0</td>\n",
       "      <td>0</td>\n",
       "      <td>0</td>\n",
       "      <td>0</td>\n",
       "      <td>0</td>\n",
       "      <td>1</td>\n",
       "      <td>0</td>\n",
       "      <td>0</td>\n",
       "      <td>...</td>\n",
       "      <td>0</td>\n",
       "      <td>0</td>\n",
       "      <td>0</td>\n",
       "      <td>0</td>\n",
       "      <td>0</td>\n",
       "      <td>0</td>\n",
       "      <td>0</td>\n",
       "      <td>0</td>\n",
       "      <td>5</td>\n",
       "      <td>6</td>\n",
       "    </tr>\n",
       "    <tr>\n",
       "      <th>3892</th>\n",
       "      <td>1</td>\n",
       "      <td>1</td>\n",
       "      <td>0</td>\n",
       "      <td>0</td>\n",
       "      <td>0</td>\n",
       "      <td>1</td>\n",
       "      <td>0</td>\n",
       "      <td>1</td>\n",
       "      <td>1</td>\n",
       "      <td>0</td>\n",
       "      <td>...</td>\n",
       "      <td>1</td>\n",
       "      <td>0</td>\n",
       "      <td>0</td>\n",
       "      <td>0</td>\n",
       "      <td>0</td>\n",
       "      <td>0</td>\n",
       "      <td>0</td>\n",
       "      <td>0</td>\n",
       "      <td>7</td>\n",
       "      <td>8</td>\n",
       "    </tr>\n",
       "    <tr>\n",
       "      <th>3893</th>\n",
       "      <td>0</td>\n",
       "      <td>0</td>\n",
       "      <td>0</td>\n",
       "      <td>0</td>\n",
       "      <td>0</td>\n",
       "      <td>1</td>\n",
       "      <td>0</td>\n",
       "      <td>1</td>\n",
       "      <td>0</td>\n",
       "      <td>0</td>\n",
       "      <td>...</td>\n",
       "      <td>1</td>\n",
       "      <td>0</td>\n",
       "      <td>0</td>\n",
       "      <td>0</td>\n",
       "      <td>0</td>\n",
       "      <td>0</td>\n",
       "      <td>0</td>\n",
       "      <td>0</td>\n",
       "      <td>6</td>\n",
       "      <td>7</td>\n",
       "    </tr>\n",
       "    <tr>\n",
       "      <th>3894</th>\n",
       "      <td>0</td>\n",
       "      <td>0</td>\n",
       "      <td>0</td>\n",
       "      <td>0</td>\n",
       "      <td>0</td>\n",
       "      <td>0</td>\n",
       "      <td>0</td>\n",
       "      <td>0</td>\n",
       "      <td>1</td>\n",
       "      <td>0</td>\n",
       "      <td>...</td>\n",
       "      <td>1</td>\n",
       "      <td>0</td>\n",
       "      <td>0</td>\n",
       "      <td>0</td>\n",
       "      <td>0</td>\n",
       "      <td>0</td>\n",
       "      <td>0</td>\n",
       "      <td>0</td>\n",
       "      <td>5</td>\n",
       "      <td>6</td>\n",
       "    </tr>\n",
       "    <tr>\n",
       "      <th>3895</th>\n",
       "      <td>1</td>\n",
       "      <td>0</td>\n",
       "      <td>0</td>\n",
       "      <td>0</td>\n",
       "      <td>0</td>\n",
       "      <td>0</td>\n",
       "      <td>0</td>\n",
       "      <td>0</td>\n",
       "      <td>0</td>\n",
       "      <td>0</td>\n",
       "      <td>...</td>\n",
       "      <td>0</td>\n",
       "      <td>0</td>\n",
       "      <td>0</td>\n",
       "      <td>0</td>\n",
       "      <td>0</td>\n",
       "      <td>0</td>\n",
       "      <td>0</td>\n",
       "      <td>0</td>\n",
       "      <td>4</td>\n",
       "      <td>5</td>\n",
       "    </tr>\n",
       "  </tbody>\n",
       "</table>\n",
       "<p>3896 rows × 36 columns</p>\n",
       "</div>"
      ],
      "text/plain": [
       "      10091169783  949301691  10949397063  711440306  10116952815  711443713  \\\n",
       "0               1          1            1          1            1          1   \n",
       "1               1          1            1          0            0          1   \n",
       "2               1          0            0          1            0          0   \n",
       "3               1          0            1          0            1          0   \n",
       "4               0          0            1          1            1          1   \n",
       "...           ...        ...          ...        ...          ...        ...   \n",
       "3891            0          1            0          0            0          0   \n",
       "3892            1          1            0          0            0          1   \n",
       "3893            0          0            0          0            0          1   \n",
       "3894            0          0            0          0            0          0   \n",
       "3895            1          0            0          0            0          0   \n",
       "\n",
       "      10946271023  10105537445  10116970483  11156823230  ...  949536370  \\\n",
       "0               1            1            1            1  ...          0   \n",
       "1               0            0            0            1  ...          1   \n",
       "2               0            1            1            1  ...          0   \n",
       "3               1            0            1            1  ...          0   \n",
       "4               1            0            1            0  ...          0   \n",
       "...           ...          ...          ...          ...  ...        ...   \n",
       "3891            0            1            0            0  ...          0   \n",
       "3892            0            1            1            0  ...          1   \n",
       "3893            0            1            0            0  ...          1   \n",
       "3894            0            0            1            0  ...          1   \n",
       "3895            0            0            0            0  ...          0   \n",
       "\n",
       "      10708503028  105576314  10091169790  949283531  711443269  91170034  \\\n",
       "0               0          0            0          0          0         0   \n",
       "1               0          0            0          0          0         0   \n",
       "2               1          1            1          1          1         0   \n",
       "3               1          1            1          0          0         1   \n",
       "4               0          1            1          0          0         0   \n",
       "...           ...        ...          ...        ...        ...       ...   \n",
       "3891            0          0            0          0          0         0   \n",
       "3892            0          0            0          0          0         0   \n",
       "3893            0          0            0          0          0         0   \n",
       "3894            0          0            0          0          0         0   \n",
       "3895            0          0            0          0          0         0   \n",
       "\n",
       "      10710783587  sum  count  \n",
       "0               0   18     19  \n",
       "1               0   22     23  \n",
       "2               0   17     18  \n",
       "3               0   17     18  \n",
       "4               0   16     17  \n",
       "...           ...  ...    ...  \n",
       "3891            0    5      6  \n",
       "3892            0    7      8  \n",
       "3893            0    6      7  \n",
       "3894            0    5      6  \n",
       "3895            0    4      5  \n",
       "\n",
       "[3896 rows x 36 columns]"
      ]
     },
     "execution_count": 607,
     "metadata": {},
     "output_type": "execute_result"
    }
   ],
   "source": [
    "### add a new column to ladris_potential_df that is the sum of all the columns\n",
    "ladris_potential_df['sum'] = ladris_potential_df.sum(axis=1)\n",
    "\n",
    "### create a new column in ladris_potential_df called 'count' that is the count of columns that are greater than 0\n",
    "ladris_potential_df['count'] = (ladris_potential_df > 0).sum(axis=1)\n",
    "\n",
    "ladris_potential_df"
   ]
  },
  {
   "cell_type": "code",
   "execution_count": 608,
   "metadata": {},
   "outputs": [
    {
     "data": {
      "text/html": [
       "<div>\n",
       "<style scoped>\n",
       "    .dataframe tbody tr th:only-of-type {\n",
       "        vertical-align: middle;\n",
       "    }\n",
       "\n",
       "    .dataframe tbody tr th {\n",
       "        vertical-align: top;\n",
       "    }\n",
       "\n",
       "    .dataframe thead th {\n",
       "        text-align: right;\n",
       "    }\n",
       "</style>\n",
       "<table border=\"1\" class=\"dataframe\">\n",
       "  <thead>\n",
       "    <tr style=\"text-align: right;\">\n",
       "      <th></th>\n",
       "      <th>0</th>\n",
       "      <th>minutes</th>\n",
       "      <th>hours</th>\n",
       "      <th>z</th>\n",
       "    </tr>\n",
       "  </thead>\n",
       "  <tbody>\n",
       "    <tr>\n",
       "      <th>0</th>\n",
       "      <td>9600</td>\n",
       "      <td>160.0</td>\n",
       "      <td>2.666667</td>\n",
       "      <td>0.333333</td>\n",
       "    </tr>\n",
       "    <tr>\n",
       "      <th>1</th>\n",
       "      <td>16500</td>\n",
       "      <td>275.0</td>\n",
       "      <td>4.583333</td>\n",
       "      <td>0.438862</td>\n",
       "    </tr>\n",
       "    <tr>\n",
       "      <th>2</th>\n",
       "      <td>13200</td>\n",
       "      <td>220.0</td>\n",
       "      <td>3.666667</td>\n",
       "      <td>0.502723</td>\n",
       "    </tr>\n",
       "    <tr>\n",
       "      <th>3</th>\n",
       "      <td>13200</td>\n",
       "      <td>220.0</td>\n",
       "      <td>3.666667</td>\n",
       "      <td>0.502723</td>\n",
       "    </tr>\n",
       "    <tr>\n",
       "      <th>4</th>\n",
       "      <td>12900</td>\n",
       "      <td>215.0</td>\n",
       "      <td>3.583333</td>\n",
       "      <td>0.528731</td>\n",
       "    </tr>\n",
       "  </tbody>\n",
       "</table>\n",
       "</div>"
      ],
      "text/plain": [
       "       0  minutes     hours         z\n",
       "0   9600    160.0  2.666667  0.333333\n",
       "1  16500    275.0  4.583333  0.438862\n",
       "2  13200    220.0  3.666667  0.502723\n",
       "3  13200    220.0  3.666667  0.502723\n",
       "4  12900    215.0  3.583333  0.528731"
      ]
     },
     "execution_count": 608,
     "metadata": {},
     "output_type": "execute_result"
    }
   ],
   "source": [
    "lam1 = 0.75\n",
    "lam2 = 1\n",
    "\n",
    "### create x as a normalized measure of df_results['hours'] to be values between 0 and 1\n",
    "normEvac = (df_results['hours'] - df_results['hours'].min()) / (df_results['hours'].max() - df_results['hours'].min())\n",
    "\n",
    "### creaet normPot as a normalized measure of ladris_potential_df['sum'] to be values between 0 and 1\n",
    "normPot = (ladris_potential_df['sum'] - ladris_potential_df['sum'].min()) / (ladris_potential_df['sum'].max() - ladris_potential_df['sum'].min())\n",
    "\n",
    "df_results['z'] = lam1*normEvac - lam2*normPot + lam2\n",
    "\n",
    "df_results.head()\n"
   ]
  },
  {
   "cell_type": "code",
   "execution_count": 609,
   "metadata": {},
   "outputs": [
    {
     "data": {
      "image/png": "[encoded data removed]",
      "text/plain": [
       "<Figure size 640x480 with 1 Axes>"
      ]
     },
     "metadata": {},
     "output_type": "display_data"
    }
   ],
   "source": [
    "### Plot histogram of df_results['z']\n",
    "plt.hist(df_results['z'], bins=20)\n",
    "plt.xlabel('z score')\n",
    "plt.ylabel('Frequency')\n",
    "plt.title('Histogram of z score')\n",
    "plt.show()"
   ]
  },
  {
   "cell_type": "code",
   "execution_count": 610,
   "metadata": {},
   "outputs": [
    {
     "data": {
      "text/plain": [
       "count    3896.000000\n",
       "mean        0.707185\n",
       "std         0.219163\n",
       "min         0.122141\n",
       "25%         0.512936\n",
       "50%         0.777778\n",
       "75%         0.888889\n",
       "max         1.375000\n",
       "Name: z, dtype: float64"
      ]
     },
     "execution_count": 610,
     "metadata": {},
     "output_type": "execute_result"
    }
   ],
   "source": [
    "df_results['z'].describe()"
   ]
  },
  {
   "cell_type": "code",
   "execution_count": 611,
   "metadata": {},
   "outputs": [
    {
     "data": {
      "text/html": [
       "<div>\n",
       "<style scoped>\n",
       "    .dataframe tbody tr th:only-of-type {\n",
       "        vertical-align: middle;\n",
       "    }\n",
       "\n",
       "    .dataframe tbody tr th {\n",
       "        vertical-align: top;\n",
       "    }\n",
       "\n",
       "    .dataframe thead th {\n",
       "        text-align: right;\n",
       "    }\n",
       "</style>\n",
       "<table border=\"1\" class=\"dataframe\">\n",
       "  <thead>\n",
       "    <tr style=\"text-align: right;\">\n",
       "      <th></th>\n",
       "      <th>10091169783</th>\n",
       "      <th>949301691</th>\n",
       "      <th>10949397063</th>\n",
       "      <th>711440306</th>\n",
       "      <th>10116952815</th>\n",
       "      <th>711443713</th>\n",
       "      <th>10946271023</th>\n",
       "      <th>10105537445</th>\n",
       "      <th>10116970483</th>\n",
       "      <th>11156823230</th>\n",
       "      <th>...</th>\n",
       "      <th>703766232</th>\n",
       "      <th>105574067</th>\n",
       "      <th>949536370</th>\n",
       "      <th>10708503028</th>\n",
       "      <th>105576314</th>\n",
       "      <th>10091169790</th>\n",
       "      <th>949283531</th>\n",
       "      <th>711443269</th>\n",
       "      <th>91170034</th>\n",
       "      <th>10710783587</th>\n",
       "    </tr>\n",
       "  </thead>\n",
       "  <tbody>\n",
       "    <tr>\n",
       "      <th>count</th>\n",
       "      <td>3896.000000</td>\n",
       "      <td>3896.000000</td>\n",
       "      <td>3896.000000</td>\n",
       "      <td>3896.000000</td>\n",
       "      <td>3896.000000</td>\n",
       "      <td>3896.000000</td>\n",
       "      <td>3896.000000</td>\n",
       "      <td>3896.000000</td>\n",
       "      <td>3896.000000</td>\n",
       "      <td>3896.000000</td>\n",
       "      <td>...</td>\n",
       "      <td>3896.000000</td>\n",
       "      <td>3896.000000</td>\n",
       "      <td>3896.000000</td>\n",
       "      <td>3896.000000</td>\n",
       "      <td>3896.000000</td>\n",
       "      <td>3896.000000</td>\n",
       "      <td>3896.000000</td>\n",
       "      <td>3896.000000</td>\n",
       "      <td>3896.000000</td>\n",
       "      <td>3896.000000</td>\n",
       "    </tr>\n",
       "    <tr>\n",
       "      <th>mean</th>\n",
       "      <td>0.500513</td>\n",
       "      <td>0.501283</td>\n",
       "      <td>0.245893</td>\n",
       "      <td>0.242556</td>\n",
       "      <td>0.243840</td>\n",
       "      <td>0.501797</td>\n",
       "      <td>0.242556</td>\n",
       "      <td>0.500000</td>\n",
       "      <td>0.500770</td>\n",
       "      <td>0.244353</td>\n",
       "      <td>...</td>\n",
       "      <td>0.246150</td>\n",
       "      <td>0.243840</td>\n",
       "      <td>0.498973</td>\n",
       "      <td>0.242813</td>\n",
       "      <td>0.244097</td>\n",
       "      <td>0.245380</td>\n",
       "      <td>0.244610</td>\n",
       "      <td>0.243070</td>\n",
       "      <td>0.243326</td>\n",
       "      <td>0.244610</td>\n",
       "    </tr>\n",
       "    <tr>\n",
       "      <th>std</th>\n",
       "      <td>0.500064</td>\n",
       "      <td>0.500063</td>\n",
       "      <td>0.430671</td>\n",
       "      <td>0.428684</td>\n",
       "      <td>0.429452</td>\n",
       "      <td>0.500061</td>\n",
       "      <td>0.428684</td>\n",
       "      <td>0.500064</td>\n",
       "      <td>0.500064</td>\n",
       "      <td>0.429758</td>\n",
       "      <td>...</td>\n",
       "      <td>0.430822</td>\n",
       "      <td>0.429452</td>\n",
       "      <td>0.500063</td>\n",
       "      <td>0.428838</td>\n",
       "      <td>0.429605</td>\n",
       "      <td>0.430367</td>\n",
       "      <td>0.429911</td>\n",
       "      <td>0.428992</td>\n",
       "      <td>0.429146</td>\n",
       "      <td>0.429911</td>\n",
       "    </tr>\n",
       "    <tr>\n",
       "      <th>min</th>\n",
       "      <td>0.000000</td>\n",
       "      <td>0.000000</td>\n",
       "      <td>0.000000</td>\n",
       "      <td>0.000000</td>\n",
       "      <td>0.000000</td>\n",
       "      <td>0.000000</td>\n",
       "      <td>0.000000</td>\n",
       "      <td>0.000000</td>\n",
       "      <td>0.000000</td>\n",
       "      <td>0.000000</td>\n",
       "      <td>...</td>\n",
       "      <td>0.000000</td>\n",
       "      <td>0.000000</td>\n",
       "      <td>0.000000</td>\n",
       "      <td>0.000000</td>\n",
       "      <td>0.000000</td>\n",
       "      <td>0.000000</td>\n",
       "      <td>0.000000</td>\n",
       "      <td>0.000000</td>\n",
       "      <td>0.000000</td>\n",
       "      <td>0.000000</td>\n",
       "    </tr>\n",
       "    <tr>\n",
       "      <th>25%</th>\n",
       "      <td>0.000000</td>\n",
       "      <td>0.000000</td>\n",
       "      <td>0.000000</td>\n",
       "      <td>0.000000</td>\n",
       "      <td>0.000000</td>\n",
       "      <td>0.000000</td>\n",
       "      <td>0.000000</td>\n",
       "      <td>0.000000</td>\n",
       "      <td>0.000000</td>\n",
       "      <td>0.000000</td>\n",
       "      <td>...</td>\n",
       "      <td>0.000000</td>\n",
       "      <td>0.000000</td>\n",
       "      <td>0.000000</td>\n",
       "      <td>0.000000</td>\n",
       "      <td>0.000000</td>\n",
       "      <td>0.000000</td>\n",
       "      <td>0.000000</td>\n",
       "      <td>0.000000</td>\n",
       "      <td>0.000000</td>\n",
       "      <td>0.000000</td>\n",
       "    </tr>\n",
       "    <tr>\n",
       "      <th>50%</th>\n",
       "      <td>1.000000</td>\n",
       "      <td>1.000000</td>\n",
       "      <td>0.000000</td>\n",
       "      <td>0.000000</td>\n",
       "      <td>0.000000</td>\n",
       "      <td>1.000000</td>\n",
       "      <td>0.000000</td>\n",
       "      <td>0.500000</td>\n",
       "      <td>1.000000</td>\n",
       "      <td>0.000000</td>\n",
       "      <td>...</td>\n",
       "      <td>0.000000</td>\n",
       "      <td>0.000000</td>\n",
       "      <td>0.000000</td>\n",
       "      <td>0.000000</td>\n",
       "      <td>0.000000</td>\n",
       "      <td>0.000000</td>\n",
       "      <td>0.000000</td>\n",
       "      <td>0.000000</td>\n",
       "      <td>0.000000</td>\n",
       "      <td>0.000000</td>\n",
       "    </tr>\n",
       "    <tr>\n",
       "      <th>75%</th>\n",
       "      <td>1.000000</td>\n",
       "      <td>1.000000</td>\n",
       "      <td>0.000000</td>\n",
       "      <td>0.000000</td>\n",
       "      <td>0.000000</td>\n",
       "      <td>1.000000</td>\n",
       "      <td>0.000000</td>\n",
       "      <td>1.000000</td>\n",
       "      <td>1.000000</td>\n",
       "      <td>0.000000</td>\n",
       "      <td>...</td>\n",
       "      <td>0.000000</td>\n",
       "      <td>0.000000</td>\n",
       "      <td>1.000000</td>\n",
       "      <td>0.000000</td>\n",
       "      <td>0.000000</td>\n",
       "      <td>0.000000</td>\n",
       "      <td>0.000000</td>\n",
       "      <td>0.000000</td>\n",
       "      <td>0.000000</td>\n",
       "      <td>0.000000</td>\n",
       "    </tr>\n",
       "    <tr>\n",
       "      <th>max</th>\n",
       "      <td>1.000000</td>\n",
       "      <td>1.000000</td>\n",
       "      <td>1.000000</td>\n",
       "      <td>1.000000</td>\n",
       "      <td>1.000000</td>\n",
       "      <td>1.000000</td>\n",
       "      <td>1.000000</td>\n",
       "      <td>1.000000</td>\n",
       "      <td>1.000000</td>\n",
       "      <td>1.000000</td>\n",
       "      <td>...</td>\n",
       "      <td>1.000000</td>\n",
       "      <td>1.000000</td>\n",
       "      <td>1.000000</td>\n",
       "      <td>1.000000</td>\n",
       "      <td>1.000000</td>\n",
       "      <td>1.000000</td>\n",
       "      <td>1.000000</td>\n",
       "      <td>1.000000</td>\n",
       "      <td>1.000000</td>\n",
       "      <td>1.000000</td>\n",
       "    </tr>\n",
       "  </tbody>\n",
       "</table>\n",
       "<p>8 rows × 34 columns</p>\n",
       "</div>"
      ],
      "text/plain": [
       "       10091169783    949301691  10949397063    711440306  10116952815  \\\n",
       "count  3896.000000  3896.000000  3896.000000  3896.000000  3896.000000   \n",
       "mean      0.500513     0.501283     0.245893     0.242556     0.243840   \n",
       "std       0.500064     0.500063     0.430671     0.428684     0.429452   \n",
       "min       0.000000     0.000000     0.000000     0.000000     0.000000   \n",
       "25%       0.000000     0.000000     0.000000     0.000000     0.000000   \n",
       "50%       1.000000     1.000000     0.000000     0.000000     0.000000   \n",
       "75%       1.000000     1.000000     0.000000     0.000000     0.000000   \n",
       "max       1.000000     1.000000     1.000000     1.000000     1.000000   \n",
       "\n",
       "         711443713  10946271023  10105537445  10116970483  11156823230  ...  \\\n",
       "count  3896.000000  3896.000000  3896.000000  3896.000000  3896.000000  ...   \n",
       "mean      0.501797     0.242556     0.500000     0.500770     0.244353  ...   \n",
       "std       0.500061     0.428684     0.500064     0.500064     0.429758  ...   \n",
       "min       0.000000     0.000000     0.000000     0.000000     0.000000  ...   \n",
       "25%       0.000000     0.000000     0.000000     0.000000     0.000000  ...   \n",
       "50%       1.000000     0.000000     0.500000     1.000000     0.000000  ...   \n",
       "75%       1.000000     0.000000     1.000000     1.000000     0.000000  ...   \n",
       "max       1.000000     1.000000     1.000000     1.000000     1.000000  ...   \n",
       "\n",
       "         703766232    105574067    949536370  10708503028    105576314  \\\n",
       "count  3896.000000  3896.000000  3896.000000  3896.000000  3896.000000   \n",
       "mean      0.246150     0.243840     0.498973     0.242813     0.244097   \n",
       "std       0.430822     0.429452     0.500063     0.428838     0.429605   \n",
       "min       0.000000     0.000000     0.000000     0.000000     0.000000   \n",
       "25%       0.000000     0.000000     0.000000     0.000000     0.000000   \n",
       "50%       0.000000     0.000000     0.000000     0.000000     0.000000   \n",
       "75%       0.000000     0.000000     1.000000     0.000000     0.000000   \n",
       "max       1.000000     1.000000     1.000000     1.000000     1.000000   \n",
       "\n",
       "       10091169790    949283531    711443269     91170034  10710783587  \n",
       "count  3896.000000  3896.000000  3896.000000  3896.000000  3896.000000  \n",
       "mean      0.245380     0.244610     0.243070     0.243326     0.244610  \n",
       "std       0.430367     0.429911     0.428992     0.429146     0.429911  \n",
       "min       0.000000     0.000000     0.000000     0.000000     0.000000  \n",
       "25%       0.000000     0.000000     0.000000     0.000000     0.000000  \n",
       "50%       0.000000     0.000000     0.000000     0.000000     0.000000  \n",
       "75%       0.000000     0.000000     0.000000     0.000000     0.000000  \n",
       "max       1.000000     1.000000     1.000000     1.000000     1.000000  \n",
       "\n",
       "[8 rows x 34 columns]"
      ]
     },
     "execution_count": 611,
     "metadata": {},
     "output_type": "execute_result"
    }
   ],
   "source": [
    "df.describe()"
   ]
  },
  {
   "cell_type": "code",
   "execution_count": 612,
   "metadata": {},
   "outputs": [],
   "source": [
    "import prim"
   ]
  },
  {
   "cell_type": "markdown",
   "metadata": {},
   "source": [
    "# Perform Prim Analysis on df_results and df based on maximizing critical (hours)"
   ]
  },
  {
   "cell_type": "code",
   "execution_count": 613,
   "metadata": {},
   "outputs": [
    {
     "data": {
      "image/png": "[encoded data removed]",
      "text/plain": [
       "<Figure size 640x480 with 1 Axes>"
      ]
     },
     "metadata": {},
     "output_type": "display_data"
    }
   ],
   "source": [
    "### plot histogram of df_results['hours']\n",
    "plt.hist(df_results['hours'], bins=20)\n",
    "plt.xlabel('Travel Time (hours)')\n",
    "plt.ylabel('Frequency')\n",
    "plt.title('Histogram of Travel Time')\n",
    "plt.show()\n"
   ]
  },
  {
   "cell_type": "markdown",
   "metadata": {},
   "source": [
    "# TODO: Establish automated way to identify otimum threshold for the PRIM analysis\n",
    "- start with mean\n",
    "- perform prim and measure number of inputs \n",
    "- iterate through increasing thershold values\n",
    "- determine the threshold with the largest number of inputs for scenario discovery"
   ]
  },
  {
   "cell_type": "code",
   "execution_count": 614,
   "metadata": {},
   "outputs": [
    {
     "data": {
      "text/plain": [
       "5.0"
      ]
     },
     "execution_count": 614,
     "metadata": {},
     "output_type": "execute_result"
    }
   ],
   "source": [
    "### get the index values of df_results.loc[lp_evac_idx]['hours] that are greater than 4\n",
    "#mask = df_results.loc[lp_evac_idx]['hours'] > 4\n",
    "### get the index of df_results where df_results['hours'] > 4\n",
    "critical_fleet_results_idx = df_results[df_results['hours'] > 4].index\n",
    "\n",
    "### describe df_results.loc[critical_fleet_results_idx]\n",
    "df_results.loc[critical_fleet_results_idx].describe()\n",
    "critical_results_describe = df_results.loc[critical_fleet_results_idx].describe().to_dict()\n",
    "np.floor(critical_results_describe['hours']['mean'])"
   ]
  },
  {
   "cell_type": "code",
   "execution_count": 615,
   "metadata": {},
   "outputs": [
    {
     "name": "stderr",
     "output_type": "stream",
     "text": [
      "/home/pfoytik/anaconda3/lib/python3.10/site-packages/prim/prim_box.py:783: RuntimeWarning: invalid value encountered in scalar divide\n",
      "  p = Hj/Tj\n"
     ]
    },
    {
     "name": "stdout",
     "output_type": "stream",
     "text": [
      "['10946271023', '10116970483', '91170204', '10091170129', '1175163236', '10116945306', '91170034']\n",
      "['10116970483', '1173061709', '10091170129', '10112051514', '10116945306']\n",
      "['10116970483', '1173061709', '10091170129', '10091169790']\n",
      "['10116952815', '10116970483', '91169787', '10105575029', '10116945306', '10091170208', '703766232', '105574067']\n",
      "['10116970483', '10091170129', '10116945306', '949536370']\n",
      "['10116970483', '91170209', '10091170129']\n",
      "['10105537445', '10091170208']\n",
      "['10116945306']\n",
      "[]\n",
      "Number of unique index values in crit_ids:  5.245644199908299 19\n"
     ]
    },
    {
     "name": "stderr",
     "output_type": "stream",
     "text": [
      "/home/pfoytik/anaconda3/lib/python3.10/site-packages/prim/prim_box.py:783: RuntimeWarning: invalid value encountered in scalar divide\n",
      "  p = Hj/Tj\n"
     ]
    },
    {
     "name": "stdout",
     "output_type": "stream",
     "text": [
      "['10116970483', '10091170129', '10112051514', '949536370', '10091169790']\n",
      "['10116970483', '10091170129', '10091170208', '10091169790', '10710783587']\n",
      "['10116970483', '1173061709', '10091170129', '10949290445']\n",
      "['10116970483', '1173061709', '10091170129', '10710783587']\n",
      "['10116970483', '1172855239', '10091170129']\n",
      "[]\n",
      "Number of unique index values in crit_ids:  5.554413113250803 10\n"
     ]
    },
    {
     "name": "stderr",
     "output_type": "stream",
     "text": [
      "/home/pfoytik/anaconda3/lib/python3.10/site-packages/prim/prim_box.py:783: RuntimeWarning: invalid value encountered in scalar divide\n",
      "  p = Hj/Tj\n"
     ]
    },
    {
     "name": "stdout",
     "output_type": "stream",
     "text": [
      "['10116970483', '10091170129', '10112051514', '949536370', '10091169790']\n",
      "['10116970483', '10091170129', '10091170208', '10091169790', '10710783587']\n",
      "['10116970483', '1173061709', '10091170129', '10949290445']\n",
      "['10116970483', '1173061709', '10091170129', '10710783587']\n",
      "['10116970483', '1172855239', '10091170129']\n",
      "[]\n",
      "Number of unique index values in crit_ids:  5.863182026593306 10\n"
     ]
    },
    {
     "name": "stderr",
     "output_type": "stream",
     "text": [
      "/home/pfoytik/anaconda3/lib/python3.10/site-packages/prim/prim_box.py:783: RuntimeWarning: invalid value encountered in scalar divide\n",
      "  p = Hj/Tj\n"
     ]
    },
    {
     "name": "stdout",
     "output_type": "stream",
     "text": [
      "['10116970483', '10091170129', '10112051514', '949536370', '10091169790']\n",
      "['10116970483', '10091170129', '10091170208', '10091169790', '10710783587']\n",
      "['10116970483', '1173061709', '10091170129', '10949290445']\n",
      "['10116970483', '1173061709', '10091170129', '10710783587']\n",
      "['10116970483', '1172855239', '10091170129']\n",
      "[]\n",
      "Number of unique index values in crit_ids:  6.17195093993581 10\n"
     ]
    },
    {
     "name": "stderr",
     "output_type": "stream",
     "text": [
      "/home/pfoytik/anaconda3/lib/python3.10/site-packages/prim/prim_box.py:783: RuntimeWarning: invalid value encountered in scalar divide\n",
      "  p = Hj/Tj\n"
     ]
    },
    {
     "name": "stdout",
     "output_type": "stream",
     "text": [
      "['10116970483', '91170204', '10091170129', '949536370', '10091169790']\n",
      "['10116970483', '10091170129', '10091170208', '949536370']\n",
      "['10116970483', '1173061709', '10091170129', '10091169790']\n",
      "['11156823230', '1173061709', '10091170129', '10091170208']\n",
      "['10116952815', '10105575029']\n",
      "[]\n",
      "Number of unique index values in crit_ids:  6.4807198532783135 10\n"
     ]
    },
    {
     "name": "stderr",
     "output_type": "stream",
     "text": [
      "/home/pfoytik/anaconda3/lib/python3.10/site-packages/prim/prim_box.py:783: RuntimeWarning: invalid value encountered in scalar divide\n",
      "  p = Hj/Tj\n"
     ]
    },
    {
     "name": "stdout",
     "output_type": "stream",
     "text": [
      "['10116970483', '1173061709', '10091170129', '711209710', '949536370']\n",
      "['10116970483', '1173061709', '91170204', '711209710', '949536370']\n",
      "['91169787', '711209710', '949536370']\n",
      "['11173061942', '10710783587']\n",
      "[]\n",
      "Number of unique index values in crit_ids:  6.789488766620817 9\n"
     ]
    },
    {
     "name": "stderr",
     "output_type": "stream",
     "text": [
      "/home/pfoytik/anaconda3/lib/python3.10/site-packages/prim/prim_box.py:783: RuntimeWarning: invalid value encountered in scalar divide\n",
      "  p = Hj/Tj\n"
     ]
    },
    {
     "name": "stdout",
     "output_type": "stream",
     "text": [
      "['10116970483', '1173061709', '10091170129', '711209710', '949536370']\n",
      "['10116970483', '1173061709', '91170204', '711209710', '949536370']\n",
      "['91169787', '711209710', '949536370']\n",
      "['11173061942', '10710783587']\n",
      "[]\n",
      "Number of unique index values in crit_ids:  7.098257679963321 9\n"
     ]
    },
    {
     "name": "stderr",
     "output_type": "stream",
     "text": [
      "/home/pfoytik/anaconda3/lib/python3.10/site-packages/prim/prim_box.py:783: RuntimeWarning: invalid value encountered in scalar divide\n",
      "  p = Hj/Tj\n",
      "/home/pfoytik/anaconda3/lib/python3.10/site-packages/prim/prim_box.py:783: RuntimeWarning: invalid value encountered in scalar divide\n",
      "  p = Hj/Tj\n"
     ]
    },
    {
     "name": "stdout",
     "output_type": "stream",
     "text": [
      "['10116970483', '1173061709', '10091170129', '711209710', '949536370']\n",
      "['10116970483', '1173061709', '91170204', '711209710', '949536370']\n",
      "['91169787', '711209710', '949536370']\n",
      "['11173061942', '10710783587']\n",
      "[]\n",
      "Number of unique index values in crit_ids:  7.407026593305824 9\n",
      "['10116970483', '1173061709', '949536370', '10091169790', '10710783587']\n",
      "[]\n",
      "Number of unique index values in crit_ids:  7.715795506648328 5\n",
      "['10116970483', '1173061709', '949536370', '10091169790', '10710783587']\n",
      "[]\n",
      "Number of unique index values in crit_ids:  8.024564419990831 5\n"
     ]
    },
    {
     "name": "stderr",
     "output_type": "stream",
     "text": [
      "/home/pfoytik/anaconda3/lib/python3.10/site-packages/prim/prim_box.py:783: RuntimeWarning: invalid value encountered in scalar divide\n",
      "  p = Hj/Tj\n"
     ]
    }
   ],
   "source": [
    "setMean = critical_results_describe['hours']['mean']\n",
    "setMax = critical_results_describe['hours']['max']\n",
    "\n",
    "crit_boxes = []\n",
    "\n",
    "### create 10 threshold values from setMean to setMax in increments of 0.5\n",
    "thresholds = []\n",
    "differ_increment = (setMax - setMean)/10\n",
    "for i in range(10):\n",
    "    if i == 0:\n",
    "        thresholds.append(setMean)\n",
    "    else:\n",
    "        thresholds.append(thresholds[i-1] + differ_increment)\n",
    "\n",
    "maxThreshold = 0\n",
    "maxCount = 0\n",
    "critIndex = 0\n",
    "### create a loop to iterate from setMean to setMax in increments of 0.5\n",
    "for t in thresholds:        \n",
    "    prim_alg = prim.Prim(df.loc[critical_fleet_results_idx], df_results.loc[critical_fleet_results_idx]['hours'], threshold=t, threshold_type='>')\n",
    "    try:\n",
    "        crit_box = prim_alg.find_all()\n",
    "        #print(len(crit_box))\n",
    "\n",
    "        crit_boxes.append(crit_box)\n",
    "        \n",
    "        ### get list of all index values for each crit_box\n",
    "        crit_ids = []\n",
    "        for i in range(len(crit_box)):\n",
    "            print(list(crit_box[i].limits.index))\n",
    "            ### add crit_box[i].limits.index to crit_ids but only if it is not already in crit_ids\n",
    "            for j in list(crit_box[i].limits.index):\n",
    "                if j not in crit_ids:\n",
    "                    crit_ids.append(j)\n",
    "\n",
    "        ### print the number of unique index values in crit_ids\n",
    "        if len(set(crit_ids)) >= maxCount:\n",
    "            maxCount = len(set(crit_ids))\n",
    "            maxThreshold = t\n",
    "            critIndex = thresholds.index(t)\n",
    "        print('Number of unique index values in crit_ids: ', t, len(set(crit_ids)))\n",
    "    except:\n",
    "        print(\"zero boxes\")\n",
    "        print('Number of unique index values in crit_ids: ', t, len(set(crit_ids)))"
   ]
  },
  {
   "cell_type": "code",
   "execution_count": 616,
   "metadata": {},
   "outputs": [
    {
     "name": "stdout",
     "output_type": "stream",
     "text": [
      "Max Count:  19\n",
      "Max Threshold:  5.245644199908299\n",
      "['10946271023', '10116970483', '91170204', '10091170129', '1175163236', '10116945306', '91170034']\n",
      "['10116970483', '1173061709', '10091170129', '10112051514', '10116945306']\n",
      "['10116970483', '1173061709', '10091170129', '10091169790']\n",
      "['10116952815', '10116970483', '91169787', '10105575029', '10116945306', '10091170208', '703766232', '105574067']\n",
      "['10116970483', '10091170129', '10116945306', '949536370']\n",
      "['10116970483', '91170209', '10091170129']\n",
      "['10105537445', '10091170208']\n",
      "['10116945306']\n",
      "[]\n"
     ]
    }
   ],
   "source": [
    "print('Max Count: ', maxCount)\n",
    "print('Max Threshold: ', maxThreshold)\n",
    "crit_boxes[critIndex][0].limits\n",
    "\n",
    "crit_ids = []\n",
    "for i in range(len(crit_boxes[critIndex])):\n",
    "    print(list(crit_boxes[critIndex][i].limits.index))\n",
    "    ### add crit_box[i].limits.index to crit_ids but only if it is not already in crit_ids\n",
    "    for j in list(crit_boxes[critIndex][i].limits.index):\n",
    "        if j not in crit_ids:\n",
    "            crit_ids.append(j)"
   ]
  },
  {
   "cell_type": "markdown",
   "metadata": {},
   "source": [
    "# Perform Prim Analysis on df_results and df based on maximizing z\n"
   ]
  },
  {
   "cell_type": "code",
   "execution_count": 617,
   "metadata": {},
   "outputs": [
    {
     "data": {
      "text/plain": [
       "count    3896.000000\n",
       "mean        0.707185\n",
       "std         0.219163\n",
       "min         0.122141\n",
       "25%         0.512936\n",
       "50%         0.777778\n",
       "75%         0.888889\n",
       "max         1.375000\n",
       "Name: z, dtype: float64"
      ]
     },
     "execution_count": 617,
     "metadata": {},
     "output_type": "execute_result"
    }
   ],
   "source": [
    "df_results['z'].describe()"
   ]
  },
  {
   "cell_type": "code",
   "execution_count": 618,
   "metadata": {},
   "outputs": [
    {
     "name": "stdout",
     "output_type": "stream",
     "text": [
      "0.8881489217111954\n"
     ]
    }
   ],
   "source": [
    "### Get the index of rows in df_results['z'] that are greater than 0.1\n",
    "idx = df_results[df_results['z'] > 0.75].index\n",
    "### print the rows of df where the index is in idx\n",
    "#df.loc[idx].describe()\n",
    "df_results.loc[idx]['z'].describe()\n",
    "CSI_results_describe = df_results.loc[idx]['z'].describe().to_dict()\n",
    "print(CSI_results_describe['mean'])"
   ]
  },
  {
   "cell_type": "code",
   "execution_count": 619,
   "metadata": {},
   "outputs": [
    {
     "name": "stderr",
     "output_type": "stream",
     "text": [
      "/home/pfoytik/anaconda3/lib/python3.10/site-packages/prim/prim_box.py:783: RuntimeWarning: invalid value encountered in scalar divide\n",
      "  p = Hj/Tj\n"
     ]
    },
    {
     "name": "stdout",
     "output_type": "stream",
     "text": [
      "['11173061942', '10091170208', '949536370', '105576314', '711443269']\n",
      "['10091169783', '10105537445', '11173061942', '10116945306', '949536370', '711443269']\n",
      "['949536370']\n",
      "[]\n",
      "Number of unique index values in csi_ids:  0.8881489217111954 8\n"
     ]
    },
    {
     "name": "stderr",
     "output_type": "stream",
     "text": [
      "/home/pfoytik/anaconda3/lib/python3.10/site-packages/prim/prim_box.py:783: RuntimeWarning: invalid value encountered in scalar divide\n",
      "  p = Hj/Tj\n"
     ]
    },
    {
     "name": "stdout",
     "output_type": "stream",
     "text": [
      "['10116970483', '1173061709', '91169787', '10116945306', '711443269', '91170034']\n",
      "['10091169783', '1172855239', '91169787', '949536370', '105576314']\n",
      "[]\n",
      "Number of unique index values in csi_ids:  0.9368340295400759 10\n"
     ]
    },
    {
     "name": "stderr",
     "output_type": "stream",
     "text": [
      "/home/pfoytik/anaconda3/lib/python3.10/site-packages/prim/prim_box.py:783: RuntimeWarning: invalid value encountered in scalar divide\n",
      "  p = Hj/Tj\n"
     ]
    },
    {
     "name": "stdout",
     "output_type": "stream",
     "text": [
      "['10116970483', '1173061709', '10116945306', '105574067', '10708503028', '91170034']\n",
      "[]\n",
      "Number of unique index values in csi_ids:  0.9855191373689564 6\n"
     ]
    },
    {
     "name": "stderr",
     "output_type": "stream",
     "text": [
      "/home/pfoytik/anaconda3/lib/python3.10/site-packages/prim/prim_box.py:783: RuntimeWarning: invalid value encountered in scalar divide\n",
      "  p = Hj/Tj\n"
     ]
    },
    {
     "name": "stdout",
     "output_type": "stream",
     "text": [
      "['711443713', '10116970483', '1172855239', '1173061709', '1175163236', '10116945306', '10949290445', '91170034']\n",
      "['10116970483', '1173061709', '10116945306']\n",
      "[]\n",
      "Number of unique index values in csi_ids:  1.0342042451978368 8\n"
     ]
    },
    {
     "name": "stderr",
     "output_type": "stream",
     "text": [
      "/home/pfoytik/anaconda3/lib/python3.10/site-packages/prim/prim_box.py:783: RuntimeWarning: invalid value encountered in scalar divide\n",
      "  p = Hj/Tj\n"
     ]
    },
    {
     "name": "stdout",
     "output_type": "stream",
     "text": [
      "['10949397063', '10946271023', '10116970483', '1173061709', '711209710', '10116945306', '949536370']\n",
      "[]\n",
      "Number of unique index values in csi_ids:  1.0828893530267172 7\n"
     ]
    },
    {
     "name": "stderr",
     "output_type": "stream",
     "text": [
      "/home/pfoytik/anaconda3/lib/python3.10/site-packages/prim/prim_box.py:783: RuntimeWarning: invalid value encountered in scalar divide\n",
      "  p = Hj/Tj\n"
     ]
    },
    {
     "name": "stdout",
     "output_type": "stream",
     "text": [
      "['10949397063', '10946271023', '10116970483', '1173061709', '711209710', '10116945306', '949536370']\n",
      "['10091169783', '949301691', '10105537445', '1173061709']\n",
      "['10091169783', '10105537445', '10091170129']\n",
      "[]\n",
      "Number of unique index values in csi_ids:  1.1315744608555975 11\n"
     ]
    },
    {
     "name": "stderr",
     "output_type": "stream",
     "text": [
      "/home/pfoytik/anaconda3/lib/python3.10/site-packages/prim/prim_box.py:783: RuntimeWarning: invalid value encountered in scalar divide\n",
      "  p = Hj/Tj\n"
     ]
    },
    {
     "name": "stdout",
     "output_type": "stream",
     "text": [
      "['10116970483', '1173061709', '10116945306', '949536370']\n",
      "['10091170129', '10112051514', '949536370']\n",
      "[]\n",
      "Number of unique index values in csi_ids:  1.180259568684478 6\n"
     ]
    },
    {
     "name": "stderr",
     "output_type": "stream",
     "text": [
      "/home/pfoytik/anaconda3/lib/python3.10/site-packages/prim/prim_box.py:783: RuntimeWarning: invalid value encountered in scalar divide\n",
      "  p = Hj/Tj\n"
     ]
    },
    {
     "name": "stdout",
     "output_type": "stream",
     "text": [
      "['10091169783', '949301691', '10105537445', '10091170129']\n",
      "[]\n",
      "Number of unique index values in csi_ids:  1.2289446765133583 4\n"
     ]
    },
    {
     "name": "stderr",
     "output_type": "stream",
     "text": [
      "/home/pfoytik/anaconda3/lib/python3.10/site-packages/prim/prim_box.py:783: RuntimeWarning: invalid value encountered in scalar divide\n",
      "  p = Hj/Tj\n"
     ]
    },
    {
     "name": "stdout",
     "output_type": "stream",
     "text": [
      "['10091169783', '949301691', '10105537445', '10091170129']\n",
      "[]\n",
      "Number of unique index values in csi_ids:  1.2776297843422386 4\n",
      "['10091169783', '949301691', '10105537445', '10091170129']\n",
      "[]\n",
      "Number of unique index values in csi_ids:  1.326314892171119 4\n"
     ]
    },
    {
     "name": "stderr",
     "output_type": "stream",
     "text": [
      "/home/pfoytik/anaconda3/lib/python3.10/site-packages/prim/prim_box.py:783: RuntimeWarning: invalid value encountered in scalar divide\n",
      "  p = Hj/Tj\n"
     ]
    }
   ],
   "source": [
    "setMean = CSI_results_describe['mean']\n",
    "setMax = CSI_results_describe['max']\n",
    "\n",
    "csi_boxes = []\n",
    "\n",
    "### create 10 threshold values from setMean to setMax in increments of 0.5\n",
    "thresholds = []\n",
    "differ_increment = (setMax - setMean)/10\n",
    "for i in range(10):\n",
    "    if i == 0:\n",
    "        thresholds.append(setMean)\n",
    "    else:\n",
    "        thresholds.append(thresholds[i-1] + differ_increment)\n",
    "\n",
    "maxThreshold = 0\n",
    "maxCount = 0\n",
    "csi_index = 0\n",
    "### create a loop to iterate from setMean to setMax in increments of 0.5\n",
    "for t in thresholds: \n",
    "    prim_alg = prim.Prim(df.loc[idx], df_results.loc[idx]['z'], threshold=t, threshold_type='>')\n",
    "    try:\n",
    "        CSI_box = prim_alg.find_all()\n",
    "        #print(len(CSI_box))\n",
    "        csi_boxes.append(CSI_box)\n",
    "\n",
    "        csi_ids = []\n",
    "        for i in range(len(CSI_box)):\n",
    "            print(list(CSI_box[i].limits.index))\n",
    "            ### add CSI_box[i].limits.index to csi_ids but only if it is not already in csi_ids\n",
    "            for j in list(CSI_box[i].limits.index):            \n",
    "                if j not in csi_ids:\n",
    "                    csi_ids.append(j)\n",
    "        ### print the number of unique index values in csi_ids\n",
    "        if len(csi_ids) >= maxCount:\n",
    "            maxCount = len(csi_ids)\n",
    "            maxThreshold = t\n",
    "            ### set csi_index to the index of t in thresholds\n",
    "            csiIndex = thresholds.index(t)\n",
    "        print('Number of unique index values in csi_ids: ', t, len(set(csi_ids)))\n",
    "    except:\n",
    "        print(\"found zero boxes\")\n",
    "        print('Number of unique index values in csi_ids: ', t, len(set(csi_ids)))"
   ]
  },
  {
   "cell_type": "code",
   "execution_count": 620,
   "metadata": {},
   "outputs": [
    {
     "name": "stdout",
     "output_type": "stream",
     "text": [
      "Max Count:  11\n",
      "Max Threshold:  1.1315744608555975\n",
      "['10949397063', '10946271023', '10116970483', '1173061709', '711209710', '10116945306', '949536370']\n",
      "['10091169783', '949301691', '10105537445', '1173061709']\n",
      "['10091169783', '10105537445', '10091170129']\n",
      "[]\n"
     ]
    }
   ],
   "source": [
    "print('Max Count: ', maxCount)\n",
    "print('Max Threshold: ', maxThreshold)\n",
    "csi_boxes[csiIndex][1].limits\n",
    "\n",
    "csi_ids = []\n",
    "for i in range(len(csi_boxes[csiIndex])):\n",
    "    print(list(csi_boxes[csiIndex][i].limits.index))\n",
    "    ### add CSI_box[i].limits.index to csi_ids but only if it is not already in csi_ids\n",
    "    for j in list(csi_boxes[csiIndex][i].limits.index):\n",
    "        if j not in csi_ids:\n",
    "            csi_ids.append(j)"
   ]
  },
  {
   "cell_type": "markdown",
   "metadata": {},
   "source": [
    "# Generate KML for crit_box and CSI_box IDs\n"
   ]
  },
  {
   "cell_type": "code",
   "execution_count": 621,
   "metadata": {},
   "outputs": [
    {
     "name": "stdout",
     "output_type": "stream",
     "text": [
      "[[-121.0313, 39.2669], [-121.03304, 39.2667]]\n"
     ]
    }
   ],
   "source": [
    "if 'fleet' in dbFile:\n",
    "    print(fleet_lat_long_dict[int(crit_ids[0])])\n",
    "else:\n",
    "    print(ladris_latlong_dict[int(crit_ids[0])])"
   ]
  },
  {
   "cell_type": "code",
   "execution_count": 622,
   "metadata": {},
   "outputs": [],
   "source": [
    "import ast\n",
    "from geopandas import GeoDataFrame\n",
    "import geopandas as gpd\n",
    "from shapely.geometry import LineString\n"
   ]
  },
  {
   "cell_type": "code",
   "execution_count": 623,
   "metadata": {},
   "outputs": [],
   "source": [
    "if 'fleet' in dbFile:\n",
    "    #### update fleet_lat_long_dict to be a dictionary of linestrings\n",
    "    for i in fleet_lat_long_dict:\n",
    "        fleet_lat_long_dict[i] = LineString([ast.literal_eval(str(fleet_lat_long_dict[i][0])), ast.literal_eval(str(fleet_lat_long_dict[i][1]))])\n",
    "else:\n",
    "    ### update ladris_latlong_dict to be a dictionary of linestrings\n",
    "    for i in ladris_latlong_dict:\n",
    "        ladris_latlong_dict[i] = LineString([ast.literal_eval(str(ladris_latlong_dict[i][0])), ast.literal_eval(str(ladris_latlong_dict[i][1]))])\n"
   ]
  },
  {
   "cell_type": "code",
   "execution_count": 624,
   "metadata": {},
   "outputs": [],
   "source": [
    "if 'fleet' in dbFile:\n",
    "    #all_gdf = GeoDataFrame(geometry=[fleet_lat_long_dict[i] for i in fleet_lat_long_dict])\n",
    "    all_gdf = GeoDataFrame(\n",
    "        {\"id\": list(fleet_lat_long_dict.keys()), \"geometry\": list(fleet_lat_long_dict.values())}\n",
    "    )\n",
    "\n",
    "    crit_sub_gdf = GeoDataFrame(\n",
    "        {\"id\": [int(i) for i in crit_ids], \"geometry\": [fleet_lat_long_dict[int(i)] for i in crit_ids]}\n",
    "    )\n",
    "\n",
    "    csi_sub_gdf = GeoDataFrame(\n",
    "        {\"id\": [int(i) for i in csi_ids], \"geometry\": [fleet_lat_long_dict[int(i)] for i in csi_ids]}\n",
    "    )\n",
    "else:\n",
    "    all_gdf = GeoDataFrame(\n",
    "        {\"id\": list(ladris_latlong_dict.keys()), \"geometry\": list(ladris_latlong_dict.values())}\n",
    "    )\n",
    "\n",
    "    crit_sub_gdf = GeoDataFrame(\n",
    "        {\"id\": [int(i) for i in crit_ids], \"geometry\": [ladris_latlong_dict[int(i)] for i in crit_ids]}\n",
    "    )\n",
    "\n",
    "    csi_sub_gdf = GeoDataFrame(\n",
    "        {\"id\": [int(i) for i in csi_ids], \"geometry\": [ladris_latlong_dict[int(i)] for i in csi_ids]}\n",
    "    )\n"
   ]
  },
  {
   "cell_type": "code",
   "execution_count": 625,
   "metadata": {},
   "outputs": [
    {
     "name": "stderr",
     "output_type": "stream",
     "text": [
      "/home/pfoytik/anaconda3/lib/python3.10/site-packages/pyogrio/geopandas.py:662: UserWarning: 'crs' was not provided.  The output dataset will not have projection information defined and may not be usable in other systems.\n",
      "  write(\n",
      "/home/pfoytik/anaconda3/lib/python3.10/site-packages/pyogrio/raw.py:723: RuntimeWarning: Layer name 'fleet_crit_segments_2025-05-29' adjusted to 'fleet_crit_segments_2025_05_29' for XML validity.\n",
      "  ogr_write(\n",
      "/home/pfoytik/anaconda3/lib/python3.10/site-packages/pyogrio/geopandas.py:662: UserWarning: 'crs' was not provided.  The output dataset will not have projection information defined and may not be usable in other systems.\n",
      "  write(\n",
      "/home/pfoytik/anaconda3/lib/python3.10/site-packages/pyogrio/raw.py:723: RuntimeWarning: Layer name 'fleet_csi_segments_2025-05-29' adjusted to 'fleet_csi_segments_2025_05_29' for XML validity.\n",
      "  ogr_write(\n"
     ]
    }
   ],
   "source": [
    "import datetime\n",
    "now = datetime.datetime.now()\n",
    "if 'fleet' in dbFile:\n",
    "    crit_fname = 'fleet_crit_segments_'+str(now.date())+'.kml'\n",
    "    csi_fname = 'fleet_csi_segments_'+str(now.date())+'.kml'\n",
    "    ### output geodataframe sub_gdf to kml file where id is the identity label and geometry is the lat long for position of the segment\n",
    "    crit_sub_gdf.to_file(crit_fname, driver='KML', index=False)\n",
    "    csi_sub_gdf.to_file(csi_fname, driver='KML', index=False)\n",
    "else:\n",
    "    ### output geodataframe sub_gdf to kml file where id is the identity label and geometry is the lat long for position of the segment\n",
    "    crit_fname = 'ladris_crit_segments_'+str(now.date())+'.kml'\n",
    "    csi_fname = 'ladris_csi_segments_'+str(now.date())+'.kml'\n",
    "    crit_sub_gdf.to_file(crit_fname, driver='KML', index=False)\n",
    "    csi_sub_gdf.to_file(csi_fname, driver='KML', index=False)\n",
    "\n",
    "\n"
   ]
  },
  {
   "cell_type": "code",
   "execution_count": 626,
   "metadata": {},
   "outputs": [
    {
     "data": {
      "text/plain": [
       "'2025-05-29'"
      ]
     },
     "execution_count": 626,
     "metadata": {},
     "output_type": "execute_result"
    }
   ],
   "source": [
    "str(now.date())"
   ]
  },
  {
   "cell_type": "markdown",
   "metadata": {},
   "source": [
    "# Compare evac time for scenarios of CRIT and scenarios of CSI"
   ]
  },
  {
   "cell_type": "code",
   "execution_count": 627,
   "metadata": {},
   "outputs": [
    {
     "name": "stdout",
     "output_type": "stream",
     "text": [
      "9 4\n"
     ]
    }
   ],
   "source": [
    "print(len(crit_boxes[critIndex]), len(csi_boxes[critIndex]))\n"
   ]
  },
  {
   "cell_type": "code",
   "execution_count": 628,
   "metadata": {},
   "outputs": [],
   "source": [
    "import prim as prim\n",
    "import numpy as np\n"
   ]
  },
  {
   "cell_type": "code",
   "execution_count": 629,
   "metadata": {},
   "outputs": [],
   "source": [
    "def getCriticalTimes(df, crit_box):\n",
    "    criticalTimes = {}\n",
    "    for c in range(len(crit_box)):\n",
    "        ctime = []\n",
    "        tempDict = {}\n",
    "\n",
    "        ## the list of column names\n",
    "        #list(crit_box[0].limits.index))\n",
    "\n",
    "        ### the list of values\n",
    "        #list(crit_box[0].limits['min'])\n",
    "        cb_index = list(crit_box[c].limits.index)\n",
    "        \n",
    "        ### convert cb_index to integers\n",
    "        if 'fleet' not in dbFile:\n",
    "            for i in range(len(cb_index)):\n",
    "                if isinstance(cb_index[i], str):\n",
    "                    cb_index[i] = int(cb_index[i])\n",
    "\n",
    "        ### create dictionary of list(crit_box[0].limits.index) and list(crit_box[0].limits['min'])\n",
    "        for i in range(len(cb_index)):\n",
    "            tempDict[cb_index[i]] = list(crit_box[c].limits['min'])[i]\n",
    "\n",
    "        if len(tempDict) > 2:\n",
    "            ### convert tempDict values to integers\n",
    "            for i in tempDict:\n",
    "                if isinstance(tempDict[i], str):\n",
    "                    tempDict[i] = int(tempDict[i])\n",
    "                else:\n",
    "                    tempDict[i] = int(tempDict[i])\n",
    "            #print(tempDict.values())\n",
    "\n",
    "            ### get the index of df[list(crit_box[1].limits.index)] where the values are equal to tempDict.values()\n",
    "            cb1_idx = list(df[cb_index].index)\n",
    "\n",
    "            ### for each row of df[list(crit_box[1].limits.index)].values.tolist() compare the list to tempDict.values()\n",
    "            count = 0\n",
    "            for i in df[cb_index].values.tolist():\n",
    "                if i == list(tempDict.values()):\n",
    "                    #print(cb1_idx[count], i)\n",
    "                    ctime.append(df_results.loc[cb1_idx[count]]['hours'])\n",
    "                count += 1\n",
    "            criticalTimes[c] = ctime\n",
    "            print(round(np.mean(ctime), 2), round(np.max(ctime), 2), round(np.min(ctime), 2), len(ctime))\n",
    "    return criticalTimes"
   ]
  },
  {
   "cell_type": "markdown",
   "metadata": {},
   "source": [
    "# Results for Fleet 0.75 lam1, 1 lam2\n",
    "### All Data\n",
    "| Mean | Max  | Min  | Count |\n",
    "|------|------|------|-------|\n",
    "| 3.49 | 8.33 | 2.67 | 3896  |\n",
    "\n",
    "### Critical\n",
    "| Mean | Max  | Min  | Count |\n",
    "|------|------|------|-------|\n",
    "| 4.42 | 7.42 | 2.67 | 281   |\n",
    "| 4.74 | 6.5  | 3.67 | 108   |\n",
    "| 5.1  | 6.5  | 2.67 | 117   |\n",
    "| 3.98 | 7.42 | 2.67 | 521   |\n",
    "| 5.11 | 8.33 | 2.67 | 262   |\n",
    "| 4.1  | 8.33 | 2.67 | 746   |\n",
    "\n",
    "### CSI\n",
    "| Mean | Max  | Min  | Count |\n",
    "|------|------|------|-------|\n",
    "| 4.97 | 5.5  | 3.58 | 148   |\n",
    "| 3.78 | 8.33 | 2.67 | 242   |\n",
    "| 3.19 | 5.5  | 2.67 | 481   |\n",
    "\n",
    "# Results for Ladris 0.5 lam1, 1 lam2\n",
    "- Reducing the crit lam1 to 0.1 reduced the mean eavacuation time of the CSI scenarios by 1 hour!\n",
    "- increaseing the crit lam1 to 1 increases the mean evacuation time of the CSI scenarios by 1 hours!\n",
    "  - doing this reduces several areas of surprise in particular the segments on lower colfax rd.\n",
    "### All Data\n",
    "| Mean | Max   | Min  | Count |\n",
    "|------|-------|------|-------|\n",
    "| 4.62 | 10.64 | 3.62 | 3980  |\n",
    "\n",
    "### Critical\n",
    "| Mean | Max   | Min  | Count |\n",
    "|------|-------|------|-------|\n",
    "| 8.04 | 10.55 | 5.17 | 114   |\n",
    "| 6.56 | 10.64 | 4.13 | 242   |\n",
    "| 6.23 | 10.55 | 4.11 | 508   |\n",
    "\n",
    "### CSI\n",
    "| Mean | Max   | Min  | Count |\n",
    "|------|-------|------|-------|\n",
    "| 5.63 | 10.51 | 4.19 | 175   |\n",
    "| 6.44 | 10.51 | 4.45 | 145   |\n",
    "| 5.58 | 10.29 | 4.19 | 317   |\n",
    "| 5.62 | 10.51 | 3.95 | 605   |\n",
    "| 4.52 | 10.21 | 3.65 | 503   |\n",
    "| 4.38 | 9.46  | 3.65 | 321   |\n",
    "| 4.33 | 8.38  | 3.67 | 494   |\n"
   ]
  },
  {
   "cell_type": "code",
   "execution_count": 630,
   "metadata": {},
   "outputs": [
    {
     "data": {
      "text/plain": [
       "9"
      ]
     },
     "execution_count": 630,
     "metadata": {},
     "output_type": "execute_result"
    }
   ],
   "source": [
    "len(crit_boxes[critIndex])"
   ]
  },
  {
   "cell_type": "code",
   "execution_count": 631,
   "metadata": {},
   "outputs": [
    {
     "name": "stderr",
     "output_type": "stream",
     "text": [
      "/home/pfoytik/anaconda3/lib/python3.10/site-packages/prim/prim_box.py:783: RuntimeWarning: invalid value encountered in scalar divide\n",
      "  p = Hj/Tj\n",
      "/home/pfoytik/anaconda3/lib/python3.10/site-packages/prim/prim_box.py:783: RuntimeWarning: invalid value encountered in scalar divide\n",
      "  p = Hj/Tj\n"
     ]
    },
    {
     "name": "stdout",
     "output_type": "stream",
     "text": [
      "4.42 7.42 2.67 281\n",
      "4.74 6.5 3.67 108\n"
     ]
    },
    {
     "name": "stderr",
     "output_type": "stream",
     "text": [
      "/home/pfoytik/anaconda3/lib/python3.10/site-packages/prim/prim_box.py:783: RuntimeWarning: invalid value encountered in scalar divide\n",
      "  p = Hj/Tj\n",
      "/home/pfoytik/anaconda3/lib/python3.10/site-packages/prim/prim_box.py:783: RuntimeWarning: invalid value encountered in scalar divide\n",
      "  p = Hj/Tj\n"
     ]
    },
    {
     "name": "stdout",
     "output_type": "stream",
     "text": [
      "5.1 6.5 2.67 117\n"
     ]
    },
    {
     "name": "stderr",
     "output_type": "stream",
     "text": [
      "/home/pfoytik/anaconda3/lib/python3.10/site-packages/prim/prim_box.py:783: RuntimeWarning: invalid value encountered in scalar divide\n",
      "  p = Hj/Tj\n"
     ]
    },
    {
     "name": "stdout",
     "output_type": "stream",
     "text": [
      "3.98 7.42 2.67 521\n",
      "5.11 8.33 2.67 262\n",
      "4.1 8.33 2.67 746\n",
      "<><><><><><><><><><><><><><><><><>\n",
      "4.97 5.5 3.58 148\n",
      "3.78 8.33 2.67 242\n"
     ]
    },
    {
     "name": "stderr",
     "output_type": "stream",
     "text": [
      "/home/pfoytik/anaconda3/lib/python3.10/site-packages/prim/prim_box.py:783: RuntimeWarning: invalid value encountered in scalar divide\n",
      "  p = Hj/Tj\n",
      "/home/pfoytik/anaconda3/lib/python3.10/site-packages/prim/prim_box.py:783: RuntimeWarning: invalid value encountered in scalar divide\n",
      "  p = Hj/Tj\n",
      "/home/pfoytik/anaconda3/lib/python3.10/site-packages/prim/prim_box.py:783: RuntimeWarning: invalid value encountered in scalar divide\n",
      "  p = Hj/Tj\n",
      "/home/pfoytik/anaconda3/lib/python3.10/site-packages/prim/prim_box.py:783: RuntimeWarning: invalid value encountered in scalar divide\n",
      "  p = Hj/Tj\n"
     ]
    },
    {
     "name": "stdout",
     "output_type": "stream",
     "text": [
      "3.19 5.5 2.67 481\n",
      "6 3\n"
     ]
    }
   ],
   "source": [
    "### get critical times for each crit_box\n",
    "criticalTimes = getCriticalTimes(df, crit_boxes[critIndex])\n",
    "#print(criticalTimes)\n",
    "print(\"<><><><><><><><><><><><><><><><><>\")\n",
    "csiTimes = getCriticalTimes(df, csi_boxes[csiIndex])\n",
    "print(len(criticalTimes), len(csiTimes))"
   ]
  },
  {
   "cell_type": "code",
   "execution_count": 632,
   "metadata": {},
   "outputs": [
    {
     "data": {
      "text/plain": [
       "count    3896.000000\n",
       "mean        3.493690\n",
       "std         1.017202\n",
       "min         2.666667\n",
       "25%         2.666667\n",
       "50%         3.583333\n",
       "75%         3.666667\n",
       "max         8.333333\n",
       "Name: hours, dtype: float64"
      ]
     },
     "execution_count": 632,
     "metadata": {},
     "output_type": "execute_result"
    }
   ],
   "source": [
    "df_results['hours'].describe()"
   ]
  },
  {
   "cell_type": "code",
   "execution_count": 633,
   "metadata": {},
   "outputs": [
    {
     "data": {
      "image/png": "[encoded data removed]",
      "text/plain": [
       "<Figure size 1000x500 with 1 Axes>"
      ]
     },
     "metadata": {},
     "output_type": "display_data"
    }
   ],
   "source": [
    "### create a histogram of the critical times combined\n",
    "plt.figure(figsize=(10, 5))\n",
    "plt.hist([item for sublist in criticalTimes.values() for item in sublist], bins=20)\n",
    "plt.xlabel('Travel Time (hours)')\n",
    "plt.ylabel('Frequency')\n",
    "plt.title('Histogram of Critical Times Combined')\n",
    "plt.show()"
   ]
  },
  {
   "cell_type": "code",
   "execution_count": 634,
   "metadata": {},
   "outputs": [
    {
     "data": {
      "image/png": "[encoded data removed]",
      "text/plain": [
       "<Figure size 1000x500 with 1 Axes>"
      ]
     },
     "metadata": {},
     "output_type": "display_data"
    }
   ],
   "source": [
    "### create a histogram of csi times combined\n",
    "plt.figure(figsize=(10, 5))\n",
    "plt.hist([item for sublist in csiTimes.values() for item in sublist], bins=20)\n",
    "plt.xlabel('Travel Time (hours)')\n",
    "plt.ylabel('Frequency')\n",
    "plt.title('Histogram of CSI Times Combined')\n",
    "plt.show()"
   ]
  },
  {
   "cell_type": "code",
   "execution_count": null,
   "metadata": {},
   "outputs": [],
   "source": []
  },
  {
   "cell_type": "code",
   "execution_count": null,
   "metadata": {},
   "outputs": [],
   "source": []
  },
  {
   "cell_type": "code",
   "execution_count": null,
   "metadata": {},
   "outputs": [],
   "source": []
  }
 ],
 "metadata": {
  "kernelspec": {
   "display_name": "Python 3 (ipykernel)",
   "language": "python",
   "name": "python3"
  },
  "language_info": {
   "codemirror_mode": {
    "name": "ipython",
    "version": 3
   },
   "file_extension": ".py",
   "mimetype": "text/x-python",
   "name": "python",
   "nbconvert_exporter": "python",
   "pygments_lexer": "ipython3",
   "version": "3.10.13"
  }
 },
 "nbformat": 4,
 "nbformat_minor": 2
}
