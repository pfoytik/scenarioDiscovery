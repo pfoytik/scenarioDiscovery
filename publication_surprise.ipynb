{
 "cells": [
  {
   "cell_type": "markdown",
   "metadata": {},
   "source": [
    "# Test different metrics of surprise for framework paper\n",
    "\n",
    "### set a measure of potential for inputs\n",
    " - for each road segment that is blocked calculate the potential as the capacity (lanes * speed)"
   ]
  },
  {
   "cell_type": "code",
   "execution_count": 87,
   "metadata": {},
   "outputs": [],
   "source": [
    "from concurrent.futures import ThreadPoolExecutor\n",
    "import sqlite3\n",
    "import pickle\n",
    "import pandas as pd\n",
    "import json\n",
    "import xml.etree.ElementTree as ET\n",
    "import numpy as np"
   ]
  },
  {
   "cell_type": "markdown",
   "metadata": {},
   "source": [
    "# Read in data methods for both fleet and ladris"
   ]
  },
  {
   "cell_type": "code",
   "execution_count": 88,
   "metadata": {},
   "outputs": [],
   "source": [
    "def read_fleet_from_db(query):\n",
    "    dat = {}\n",
    "    conn = sqlite3.connect(dbFile)\n",
    "    c = conn.cursor()\n",
    "    c.execute(query)\n",
    "    rows = c.fetchall()   \n",
    "    print(\"Length of rows: \", len(rows)) \n",
    "    for row in rows:\n",
    "        ID = row[0]\n",
    "        response = row[1]\n",
    "        input = row[2]\n",
    "        output_90 = row[3]\n",
    "        output_100 = row[4]\n",
    "        output_dist = row[5]\n",
    "\n",
    "        inIDS = pickle.loads(input)\n",
    "        odist = pickle.loads(output_dist)\n",
    "        inXML = pickle.loads(input)\n",
    "\n",
    "        tmpDat = [ID, response, inIDS, output_90, output_100, odist]\n",
    "\n",
    "        d = tmpDat\n",
    "        scen = {}\n",
    "            \n",
    "        #try:\n",
    "        #    root = d[2].getroot()\n",
    "        #except:\n",
    "        #    print('error')\n",
    "        #    root = []\n",
    "        #    continue\n",
    "        scenID = d[0]\n",
    "        #print(root.tag)\n",
    "        #for child in root:    \n",
    "        #    ### find the segment ID\n",
    "        #    segmentID = child.find('ID').text\n",
    "        #    speed = float(child.find('Freeflow_Speed').text)\n",
    "        #    lanes = float(child.find('Number_of_Lanes').text)\n",
    "        #    blocked = False\n",
    "        #    if segmentID in link_ids:\n",
    "        #        scen[segmentID] = speed\n",
    "        saveDat = [inIDS, d[3]]  \n",
    "        dat[ID] = saveDat#.append([ID, response, inXML, output_90, output_100, odist])\n",
    "\n",
    "    conn.close()\n",
    "    return dat\n",
    "\n",
    "def read_ladris_from_db(query):\n",
    "    dat = {}\n",
    "    conn = sqlite3.connect(dbFile)\n",
    "    c = conn.cursor()\n",
    "    c.execute(query)\n",
    "    rows = c.fetchall()    \n",
    "    for row in rows:\n",
    "        ID = row[0]\n",
    "        response = row[1]\n",
    "        input = row[2]\n",
    "        output_90 = row[3]\n",
    "        output_100 = row[4]\n",
    "        output_dist = row[5]\n",
    "\n",
    "        inIDS = pickle.loads(input)\n",
    "        odist = pickle.loads(output_dist)\n",
    "        inXML = pickle.loads(input)\n",
    "\n",
    "        tmpDat = [ID, response, inXML, output_90, output_100, odist]\n",
    "\n",
    "        d = tmpDat\n",
    "        scen = {}\n",
    "\n",
    "        scenID = d[0]\n",
    "        #print(root.tag)\n",
    "        #for child in d[2]:    \n",
    "        #    ### find the segment ID\n",
    "        #    segmentID = child['osmid']\n",
    "        #    speed = float(child['speed_mph'])\n",
    "        #    lanes = float(child['num_lanes'])\n",
    "        #    blocked = child['is_blocked']\n",
    "        #    if blocked == True:\n",
    "        #        scen[segmentID] = 1\n",
    "        #    #if segmentID in link_ids:\n",
    "        #        #scen[segmentID] = blocked\n",
    "        saveDat = [inIDS, d[3]]  \n",
    "        dat[ID] = saveDat#.append([ID, response, inXML, output_90, output_100, odist])\n",
    "\n",
    "    conn.close()\n",
    "    return dat"
   ]
  },
  {
   "cell_type": "code",
   "execution_count": 116,
   "metadata": {},
   "outputs": [],
   "source": [
    "#dbFile = '/home/pfoytik/rtepm/EMA/lhc_samples/fleet_roadBlocked_scenarios.db'\n",
    "#dbFile = '/home/pfoytik/rtepm/EMA/lhc_samples/guid_blocked_ladris_scenarios.db'\n",
    "#dbFile = 'lhc_samples/fleet_scenarios_conv1.db'\n",
    "#dbFile = '/home/pfoytik/rtepm/EMA/lhc_samples/fleet_scenarios_conv1.db'\n",
    "#dbFile = '/home/pfoytik/rtepm/EMA/lhc_samples/ladris_scenarios_conv1.db'\n",
    "#dbFile = '/home/pfoytik/rtepm/EMA/lhc_samples/fleet_scenarios_conv2.db'\n",
    "dbFile = '/home/pfoytik/rtepm/EMA/lhc_samples/fleet_scenarios_conv2.db'\n",
    "#dbFile = '/home/pfoytik/rtepm/EMA/lhc_samples/ladris_scenarios_conv2.db'\n",
    "comb_scenarios = {}\n"
   ]
  },
  {
   "cell_type": "markdown",
   "metadata": {},
   "source": [
    "# Specify the Queries for read data methods"
   ]
  },
  {
   "cell_type": "code",
   "execution_count": 117,
   "metadata": {},
   "outputs": [
    {
     "name": "stdout",
     "output_type": "stream",
     "text": [
      "Length of rows: Length of rows:  0\n",
      "Length of rows:  0\n",
      " 0\n",
      "Length of rows:  0\n",
      "Length of rows:  2000\n",
      "2000\n"
     ]
    }
   ],
   "source": [
    "queries = [\n",
    "    'SELECT * FROM scenarios ORDER BY id DESC limit 2000',\n",
    "    'SELECT * FROM scenarios ORDER BY id DESC limit 2000 offset 2000',\n",
    "    'SELECT * FROM scenarios ORDER BY id DESC limit 2000 offset 4000',\n",
    "    'SELECT * FROM scenarios ORDER BY id DESC limit 2000 offset 6000',\n",
    "    'SELECT * FROM scenarios ORDER BY id DESC limit 1000 offset 8000',    \n",
    "]\n",
    "\n",
    "#dbFile = '/home/pfoytik/rtepm/EMA/lhc_samples/fleet_scenarios_conv1.db'\n",
    "with ThreadPoolExecutor(max_workers=6) as executor:\n",
    "    ### if db file has fleet use function read_fleet_from_db else use read_ladris_from_db\n",
    "    if 'fleet' in dbFile:\n",
    "        for result in executor.map(read_fleet_from_db, queries):\n",
    "            comb_scenarios.update(result)        \n",
    "    else:\n",
    "        for result in executor.map(read_ladris_from_db, queries):\n",
    "            comb_scenarios.update(result)    \n",
    "\n",
    "print(len(comb_scenarios))"
   ]
  },
  {
   "cell_type": "code",
   "execution_count": null,
   "metadata": {},
   "outputs": [],
   "source": []
  },
  {
   "cell_type": "code",
   "execution_count": 118,
   "metadata": {},
   "outputs": [
    {
     "name": "stdout",
     "output_type": "stream",
     "text": [
      "2000\n"
     ]
    }
   ],
   "source": [
    "\n",
    "### get the last value for key key value pair\n",
    "results = []\n",
    "for key, value in comb_scenarios.items():\n",
    "    ### check if value is na or nonetype\n",
    "    if value is None or pd.isna(value[-1]):\n",
    "        results.append(np.nan)\n",
    "    else:\n",
    "        ### append the last value of the list\n",
    "        if isinstance(value[-1], list):\n",
    "            results.append(value[-1][-1])\n",
    "        else:\n",
    "            results.append(value[-1])\n",
    "print(len(results))    "
   ]
  },
  {
   "cell_type": "code",
   "execution_count": 121,
   "metadata": {},
   "outputs": [
    {
     "name": "stdout",
     "output_type": "stream",
     "text": [
      "4\n",
      "Variance of results:  8365005.697500001\n"
     ]
    }
   ],
   "source": [
    "### print unique values of results\n",
    "unique_results = set(results)\n",
    "print(len(unique_results))\n",
    "#print(\"Unique results: \", unique_results)\n",
    "### calculate the variance of the results\n",
    "variance = np.var(results)\n",
    "print(\"Variance of results: \", variance)"
   ]
  },
  {
   "cell_type": "code",
   "execution_count": 103,
   "metadata": {},
   "outputs": [
    {
     "data": {
      "image/png": "[encoded data removed]",
      "text/plain": [
       "<Figure size 640x480 with 1 Axes>"
      ]
     },
     "metadata": {},
     "output_type": "display_data"
    }
   ],
   "source": [
    "### plot histogram of results\n",
    "import matplotlib.pyplot as plt\n",
    "plt.hist(results, bins=5, edgecolor='black')\n",
    "plt.xlabel('Output Distances')\n",
    "plt.ylabel('Frequency')\n",
    "plt.title('Histogram of Output Distances')\n",
    "plt.show()"
   ]
  },
  {
   "cell_type": "code",
   "execution_count": 64,
   "metadata": {},
   "outputs": [
    {
     "name": "stdout",
     "output_type": "stream",
     "text": [
      "Entropy of results: 1.3745064576380837\n"
     ]
    }
   ],
   "source": [
    "### measure entropy of results\n",
    "from scipy.stats import entropy\n",
    "results = np.array(results)\n",
    "results = results[~np.isnan(results)]  # Remove NaN values\n",
    "if len(results) > 0:\n",
    "    hist, _ = np.histogram(results, bins=10, density=True)\n",
    "    hist = hist[hist > 0]  # Remove zero entries for entropy calculation\n",
    "    ent = entropy(hist)\n",
    "    print(f'Entropy of results: {ent}')"
   ]
  },
  {
   "cell_type": "markdown",
   "metadata": {},
   "source": [
    "# Code to read in multiple database files and join the dataset for analysis"
   ]
  },
  {
   "cell_type": "code",
   "execution_count": null,
   "metadata": {},
   "outputs": [
    {
     "name": "stdout",
     "output_type": "stream",
     "text": [
      "3980\n"
     ]
    }
   ],
   "source": [
    "### join 3 sqlite database files\n",
    "#dbFile1 = '/home/pfoytik/rtepm/EMA/lhc_samples/guid_blocked_ladris_scenarios.db'\n",
    "#dbFile2 = '/home/pfoytik/rtepm/EMA/lhc_samples/ladris_scenarios_conv1.db'\n",
    "#dbFile3 = '/home/pfoytik/rtepm/EMA/lhc_samples/ladris_scenarios_conv2.db'\n",
    "\n",
    "dbFile1 = '/home/pfoytik/rtepm/EMA/lhc_samples/fleet_roadBlocked_scenarios.db'\n",
    "dbFile2 = '/home/pfoytik/rtepm/EMA/lhc_samples/fleet_scenarios_conv1.db'\n",
    "dbFile3 = '/home/pfoytik/rtepm/EMA/lhc_samples/fleet_scenarios_conv2.db'\n",
    "dbFiles = [dbFile2, dbFile3]\n",
    "comb_scenarios = {}\n",
    "scenCount = 0\n",
    "for dbFile in dbFiles:\n",
    "    with ThreadPoolExecutor(max_workers=6) as executor:\n",
    "        ### if db file has fleet use function read_fleet_from_db else use read_ladris_from_db\n",
    "        if 'fleet' in dbFile:\n",
    "            for result in executor.map(read_fleet_from_db, queries):\n",
    "                comb_scenarios.update(result)        \n",
    "        else:\n",
    "            for result in executor.map(read_ladris_from_db, queries):\n",
    "                for key, value in result.items():\n",
    "                    if key in comb_scenarios:\n",
    "                        new_key = scenCount + int(key)\n",
    "                        scenCount += 1\n",
    "                        comb_scenarios[new_key] = value\n",
    "                    else:\n",
    "                        comb_scenarios[key] = value \n",
    "print(len(comb_scenarios))"
   ]
  },
  {
   "cell_type": "markdown",
   "metadata": {},
   "source": [
    "# Get Ladris Roads\n",
    "- process the Ladris road network (JSON)\n",
    "- read road data\n",
    "- store id, geometry, number lanes, speed, length, and calculate potential\n",
    "- Potential is measured as Lanes * Speed !!!removed length!!!"
   ]
  },
  {
   "cell_type": "code",
   "execution_count": 65,
   "metadata": {},
   "outputs": [],
   "source": [
    "roadFile = '../lhc_samples/data/ladris/C27F9DE4CE6780696685FB4A4E31E242_orig'\n",
    "with open(roadFile, 'r') as f:\n",
    "    data = json.load(f)\n",
    "\n",
    "ladris_latlong_dict = {}\n",
    "ladris_potential_dict = {}\n",
    "modified_dict = {}\n",
    "ladris_segment_roadNames = {}\n",
    "\n",
    "for i in data:\n",
    "    #print(i)\n",
    "    ladris_latlong_dict[i['AC91D0B60F78BEFB85DE39CD9C3D2623']] = i['geometry']\n",
    "    ladris_segment_roadNames[i['AC91D0B60F78BEFB85DE39CD9C3D2623']] = i['name']\n",
    "    lanes = i['num_lanes']\n",
    "    speed = i['speed_mph']\n",
    "    ### convert speed to m/s\n",
    "    speed = speed * 0.44704\n",
    "    length = i['length_meters']    \n",
    "    ladris_potential_dict[i['AC91D0B60F78BEFB85DE39CD9C3D2623']] = lanes * speed# * length"
   ]
  },
  {
   "cell_type": "code",
   "execution_count": 66,
   "metadata": {},
   "outputs": [
    {
     "data": {
      "text/plain": [
       "21.45792"
      ]
     },
     "execution_count": 66,
     "metadata": {},
     "output_type": "execute_result"
    }
   ],
   "source": [
    "ladris_potential_dict[335090]"
   ]
  },
  {
   "cell_type": "markdown",
   "metadata": {},
   "source": [
    "# Get Fleet Roads\n",
    "- process the fleet road network (XML)\n",
    "- read road data\n",
    "- store id, geometry, number lanes, speed, length, and calculate potential\n",
    "- Potential is measured as Lanes * Speed !!!removed length!!!"
   ]
  },
  {
   "cell_type": "code",
   "execution_count": 67,
   "metadata": {},
   "outputs": [],
   "source": [
    "### read segment id's from ../lhc_samples/data/fleet/segments.xml\n",
    "tree = ET.parse('../lhc_samples/data/fleet/segments.xml')\n",
    "root = tree.getroot()\n",
    "\n",
    "fleet_segment_dict = {}\n",
    "fleet_potential_dict = {}\n",
    "fleet_segment_roadNames = {}\n",
    "for child in root:\n",
    "    fleet_segment_dict[child.find('ID').text] = child.find('Link_ID').text\n",
    "    lanes = int(child.find('Number_of_Lanes').text)\n",
    "    speed = int(child.find('Freeflow_Speed').text)\n",
    "\n",
    "    fleet_potential_dict[child.find('ID').text] = lanes * speed\n",
    "\n",
    "### read ../lhcsamples/data/fleet/links.xml\n",
    "tree = ET.parse('../lhc_samples/data/fleet/links.xml')\n",
    "root = tree.getroot()\n",
    "\n",
    "fleet_link_dict = {}\n",
    "fleet_name_dict = {}\n",
    "for child in root:\n",
    "    fleet_link_dict[child.find('ID').text] = [child.find('ANode').text, child.find('BNode').text]    \n",
    "    fleet_name_dict[child.find('ID').text] = child.find('Name').text\n",
    "    fleet_segment_roadNames[child.find('ID').text] = child.find('Name').text\n",
    "\n",
    "### read ../lhcsamples/data/fleet/nodes.xml and get lat long for BNode of each fleet_link_dict\n",
    "tree = ET.parse('../lhc_samples/data/fleet/nodes.xml')\n",
    "root = tree.getroot()\n",
    "\n",
    "fleet_node_dict = {}\n",
    "for child in root:\n",
    "    fleet_node_dict[child.find('ID').text] = [child.find('Latitude').text, child.find('Longitude').text]\n",
    "\n",
    "fleet_lat_long_dict = {}\n",
    "### for each segment in fleet_segment_dict, get the link_id, from fleet_link_dict get the BNode, from fleet_node_dict get the lat long\n",
    "for segment in fleet_segment_dict:\n",
    "    link_id = fleet_segment_dict[segment]\n",
    "    anode = fleet_link_dict[link_id][0]\n",
    "    bnode = fleet_link_dict[link_id][1]\n",
    "    lat_long = [fleet_node_dict[anode], fleet_node_dict[bnode]]\n",
    "    fleet_lat_long_dict[int(segment)] = [[float(lat_long[0][1]), float(lat_long[0][0])],[float(lat_long[1][1]), float(lat_long[1][0])]]"
   ]
  },
  {
   "cell_type": "code",
   "execution_count": 68,
   "metadata": {},
   "outputs": [],
   "source": [
    "df_results = pd.DataFrame([x[1] for x in comb_scenarios.values()])\n",
    "\n",
    "dataDict = {}\n",
    "for k in comb_scenarios.keys():\n",
    "    for link in comb_scenarios[k][0]:        \n",
    "        if link in dataDict.keys():\n",
    "            pass\n",
    "        else:\n",
    "            #if link in link_ids:\n",
    "            dataDict[link] = []   \n",
    "\n",
    "for k in comb_scenarios.keys():\n",
    "    for i in dataDict.keys():\n",
    "        if i in comb_scenarios[k][0]:\n",
    "            #if link in link_ids:\n",
    "            dataDict[i].append(1)\n",
    "        else:\n",
    "            #if link in link_ids:\n",
    "            dataDict[i].append(0) \n",
    "\n",
    "df = pd.DataFrame(dataDict)\n",
    "\n"
   ]
  },
  {
   "cell_type": "code",
   "execution_count": 69,
   "metadata": {},
   "outputs": [
    {
     "data": {
      "text/html": [
       "<div>\n",
       "<style scoped>\n",
       "    .dataframe tbody tr th:only-of-type {\n",
       "        vertical-align: middle;\n",
       "    }\n",
       "\n",
       "    .dataframe tbody tr th {\n",
       "        vertical-align: top;\n",
       "    }\n",
       "\n",
       "    .dataframe thead th {\n",
       "        text-align: right;\n",
       "    }\n",
       "</style>\n",
       "<table border=\"1\" class=\"dataframe\">\n",
       "  <thead>\n",
       "    <tr style=\"text-align: right;\">\n",
       "      <th></th>\n",
       "      <th>0</th>\n",
       "      <th>minutes</th>\n",
       "      <th>hours</th>\n",
       "    </tr>\n",
       "  </thead>\n",
       "  <tbody>\n",
       "    <tr>\n",
       "      <th>count</th>\n",
       "      <td>8998.000000</td>\n",
       "      <td>8998.000000</td>\n",
       "      <td>8998.000000</td>\n",
       "    </tr>\n",
       "    <tr>\n",
       "      <th>mean</th>\n",
       "      <td>4.110287</td>\n",
       "      <td>246.617192</td>\n",
       "      <td>4.110287</td>\n",
       "    </tr>\n",
       "    <tr>\n",
       "      <th>std</th>\n",
       "      <td>1.742195</td>\n",
       "      <td>104.531681</td>\n",
       "      <td>1.742195</td>\n",
       "    </tr>\n",
       "    <tr>\n",
       "      <th>min</th>\n",
       "      <td>0.000000</td>\n",
       "      <td>0.000000</td>\n",
       "      <td>0.000000</td>\n",
       "    </tr>\n",
       "    <tr>\n",
       "      <th>25%</th>\n",
       "      <td>3.948825</td>\n",
       "      <td>236.929513</td>\n",
       "      <td>3.948825</td>\n",
       "    </tr>\n",
       "    <tr>\n",
       "      <th>50%</th>\n",
       "      <td>4.389533</td>\n",
       "      <td>263.372010</td>\n",
       "      <td>4.389533</td>\n",
       "    </tr>\n",
       "    <tr>\n",
       "      <th>75%</th>\n",
       "      <td>4.998629</td>\n",
       "      <td>299.917721</td>\n",
       "      <td>4.998629</td>\n",
       "    </tr>\n",
       "    <tr>\n",
       "      <th>max</th>\n",
       "      <td>10.857103</td>\n",
       "      <td>651.426167</td>\n",
       "      <td>10.857103</td>\n",
       "    </tr>\n",
       "  </tbody>\n",
       "</table>\n",
       "</div>"
      ],
      "text/plain": [
       "                 0      minutes        hours\n",
       "count  8998.000000  8998.000000  8998.000000\n",
       "mean      4.110287   246.617192     4.110287\n",
       "std       1.742195   104.531681     1.742195\n",
       "min       0.000000     0.000000     0.000000\n",
       "25%       3.948825   236.929513     3.948825\n",
       "50%       4.389533   263.372010     4.389533\n",
       "75%       4.998629   299.917721     4.998629\n",
       "max      10.857103   651.426167    10.857103"
      ]
     },
     "execution_count": 69,
     "metadata": {},
     "output_type": "execute_result"
    }
   ],
   "source": [
    "if 'ladris' in dbFile:\n",
    "    df_results['minutes'] = df_results[0] * 60\n",
    "    df_results['hours'] = df_results[0]\n",
    "else:\n",
    "    ### create a new column for the df_results called minutes that is equal to df_results[0] / 60\n",
    "    df_results['minutes'] = df_results[0] / 60\n",
    "    ### create a new column for df_results called hours that is equal to df_results[0] / 3600\n",
    "    df_results['hours'] = df_results[0] / 3600\n",
    "\n",
    "df_results.describe()"
   ]
  },
  {
   "cell_type": "code",
   "execution_count": 70,
   "metadata": {},
   "outputs": [
    {
     "data": {
      "image/png": "[encoded data removed]",
      "text/plain": [
       "<Figure size 640x480 with 1 Axes>"
      ]
     },
     "metadata": {},
     "output_type": "display_data"
    }
   ],
   "source": [
    "### Plot histogram of df_results\n",
    "import matplotlib.pyplot as plt\n",
    "plt.hist(df_results['hours'], bins=50)\n",
    "plt.xlabel('Travel Time (seconds)')\n",
    "plt.ylabel('Frequency')\n",
    "plt.title('Histogram of Travel Time')\n",
    "plt.show()"
   ]
  },
  {
   "cell_type": "code",
   "execution_count": 71,
   "metadata": {},
   "outputs": [
    {
     "data": {
      "text/plain": [
       "0       4.183883\n",
       "1       4.321939\n",
       "2       4.791880\n",
       "3       4.189669\n",
       "4       4.973522\n",
       "          ...   \n",
       "8993    3.600986\n",
       "8994    3.848572\n",
       "8995    3.790810\n",
       "8996    3.709071\n",
       "8997    0.000000\n",
       "Name: hours, Length: 8998, dtype: float64"
      ]
     },
     "execution_count": 71,
     "metadata": {},
     "output_type": "execute_result"
    }
   ],
   "source": [
    "df_results['hours']"
   ]
  },
  {
   "cell_type": "code",
   "execution_count": 72,
   "metadata": {},
   "outputs": [
    {
     "data": {
      "text/html": [
       "<div>\n",
       "<style scoped>\n",
       "    .dataframe tbody tr th:only-of-type {\n",
       "        vertical-align: middle;\n",
       "    }\n",
       "\n",
       "    .dataframe tbody tr th {\n",
       "        vertical-align: top;\n",
       "    }\n",
       "\n",
       "    .dataframe thead th {\n",
       "        text-align: right;\n",
       "    }\n",
       "</style>\n",
       "<table border=\"1\" class=\"dataframe\">\n",
       "  <thead>\n",
       "    <tr style=\"text-align: right;\">\n",
       "      <th></th>\n",
       "      <th>0</th>\n",
       "      <th>minutes</th>\n",
       "      <th>hours</th>\n",
       "    </tr>\n",
       "  </thead>\n",
       "  <tbody>\n",
       "    <tr>\n",
       "      <th>count</th>\n",
       "      <td>6592.000000</td>\n",
       "      <td>6592.000000</td>\n",
       "      <td>6592.000000</td>\n",
       "    </tr>\n",
       "    <tr>\n",
       "      <th>mean</th>\n",
       "      <td>4.883307</td>\n",
       "      <td>292.998432</td>\n",
       "      <td>4.883307</td>\n",
       "    </tr>\n",
       "    <tr>\n",
       "      <th>std</th>\n",
       "      <td>0.788760</td>\n",
       "      <td>47.325622</td>\n",
       "      <td>0.788760</td>\n",
       "    </tr>\n",
       "    <tr>\n",
       "      <th>min</th>\n",
       "      <td>4.000137</td>\n",
       "      <td>240.008193</td>\n",
       "      <td>4.000137</td>\n",
       "    </tr>\n",
       "    <tr>\n",
       "      <th>25%</th>\n",
       "      <td>4.310717</td>\n",
       "      <td>258.642997</td>\n",
       "      <td>4.310717</td>\n",
       "    </tr>\n",
       "    <tr>\n",
       "      <th>50%</th>\n",
       "      <td>4.671702</td>\n",
       "      <td>280.302130</td>\n",
       "      <td>4.671702</td>\n",
       "    </tr>\n",
       "    <tr>\n",
       "      <th>75%</th>\n",
       "      <td>5.228634</td>\n",
       "      <td>313.718050</td>\n",
       "      <td>5.228634</td>\n",
       "    </tr>\n",
       "    <tr>\n",
       "      <th>max</th>\n",
       "      <td>10.857103</td>\n",
       "      <td>651.426167</td>\n",
       "      <td>10.857103</td>\n",
       "    </tr>\n",
       "  </tbody>\n",
       "</table>\n",
       "</div>"
      ],
      "text/plain": [
       "                 0      minutes        hours\n",
       "count  6592.000000  6592.000000  6592.000000\n",
       "mean      4.883307   292.998432     4.883307\n",
       "std       0.788760    47.325622     0.788760\n",
       "min       4.000137   240.008193     4.000137\n",
       "25%       4.310717   258.642997     4.310717\n",
       "50%       4.671702   280.302130     4.671702\n",
       "75%       5.228634   313.718050     5.228634\n",
       "max      10.857103   651.426167    10.857103"
      ]
     },
     "execution_count": 72,
     "metadata": {},
     "output_type": "execute_result"
    }
   ],
   "source": [
    "\n",
    "### get indexs of df_results for df_results['hours'] >= 6.5\n",
    "idx = df_results[df_results['hours'] >= 4].index\n",
    "### get indexs of df_results for df_results['hours'] < 6.5\n",
    "idx2 = df_results[df_results['hours'] < 4].index\n",
    "\n",
    "### describe df_results for the indexs of idx\n",
    "df_results.loc[idx].describe()"
   ]
  },
  {
   "cell_type": "code",
   "execution_count": 73,
   "metadata": {},
   "outputs": [],
   "source": [
    "experiments = df\n",
    "lowExperiments = experiments.loc[idx2]\n",
    "highExperiments = experiments.loc[idx]\n",
    "### Create outcomes as an array of df_results\n",
    "outcomes = list(df_results['hours'].values)\n",
    "lowOutcomes = list(df_results.loc[idx2]['hours'].values)\n",
    "highOutcomes = list(df_results.loc[idx]['hours'].values)"
   ]
  },
  {
   "cell_type": "code",
   "execution_count": 74,
   "metadata": {},
   "outputs": [
    {
     "data": {
      "text/plain": [
       "count    6592.000000\n",
       "mean        4.883307\n",
       "std         0.788760\n",
       "min         4.000137\n",
       "25%         4.310717\n",
       "50%         4.671702\n",
       "75%         5.228634\n",
       "max        10.857103\n",
       "dtype: float64"
      ]
     },
     "execution_count": 74,
     "metadata": {},
     "output_type": "execute_result"
    }
   ],
   "source": [
    "### describe highOutcomes\n",
    "pd.Series(highOutcomes).describe()"
   ]
  },
  {
   "cell_type": "code",
   "execution_count": 75,
   "metadata": {},
   "outputs": [
    {
     "data": {
      "image/png": "[encoded data removed]",
      "text/plain": [
       "<Figure size 1000x1000 with 3 Axes>"
      ]
     },
     "metadata": {},
     "output_type": "display_data"
    }
   ],
   "source": [
    "import matplotlib.pyplot as plt\n",
    "\n",
    "### create three subplots of the outcomes\n",
    "fig, ax = plt.subplots(3, 1, figsize=(10, 10))\n",
    "ax[0].hist(outcomes, bins=20)\n",
    "ax[0].set_title('All outcomes')\n",
    "ax[1].hist(lowOutcomes, bins=20)\n",
    "ax[1].set_title('Outcomes < 6.5')\n",
    "ax[2].hist(highOutcomes, bins=20)\n",
    "ax[2].set_title('Outcomes >= 6.5')\n",
    "plt.tight_layout()\n",
    "plt.show()\n"
   ]
  },
  {
   "cell_type": "markdown",
   "metadata": {},
   "source": [
    "# The list of segments that are associated with High critical evacuation times and are low on potential 0.5 lam1, 1.0 lam2\n",
    "## Ladris Critical Segments\n",
    "![image.png](images/ladris_critical_segments_2025-05-23.png)\n",
    "## Ladris Critical and Low Potential (CSI)\n",
    "![image.png](images/ladris_CSI_segments_2025-05-28.png)\n",
    "## Fleet Critical Segments\n",
    "![image.png](images/fleet_critical_segments.png)\n",
    "## Fleet Critical and Low Potential (CSI)\n",
    "![image-2.png](images/fleet_CSI_segments.png)\n",
    "\n"
   ]
  },
  {
   "cell_type": "markdown",
   "metadata": {},
   "source": [
    "# Custom surprising critical measure\n",
    "$$\n",
    "Z=λ_1 × EvacuationTime − λ_2 × ScenarioPotential\n",
    "$$\n",
    "- Evacuation time is time 90% of population reaches destination\n",
    "- Scenario Potential is the total potential measure of closed segments for that scenario"
   ]
  },
  {
   "cell_type": "code",
   "execution_count": 76,
   "metadata": {},
   "outputs": [
    {
     "data": {
      "text/html": [
       "<div>\n",
       "<style scoped>\n",
       "    .dataframe tbody tr th:only-of-type {\n",
       "        vertical-align: middle;\n",
       "    }\n",
       "\n",
       "    .dataframe tbody tr th {\n",
       "        vertical-align: top;\n",
       "    }\n",
       "\n",
       "    .dataframe thead th {\n",
       "        text-align: right;\n",
       "    }\n",
       "</style>\n",
       "<table border=\"1\" class=\"dataframe\">\n",
       "  <thead>\n",
       "    <tr style=\"text-align: right;\">\n",
       "      <th></th>\n",
       "      <th>333615</th>\n",
       "      <th>332041</th>\n",
       "      <th>343220</th>\n",
       "      <th>328559</th>\n",
       "      <th>329741</th>\n",
       "      <th>329385</th>\n",
       "      <th>334269</th>\n",
       "      <th>332584</th>\n",
       "      <th>344418</th>\n",
       "      <th>331224</th>\n",
       "      <th>...</th>\n",
       "      <th>330399</th>\n",
       "      <th>331209</th>\n",
       "      <th>328168</th>\n",
       "      <th>335242</th>\n",
       "      <th>344419</th>\n",
       "      <th>341317</th>\n",
       "      <th>335083</th>\n",
       "      <th>341540</th>\n",
       "      <th>332615</th>\n",
       "      <th>332386</th>\n",
       "    </tr>\n",
       "  </thead>\n",
       "  <tbody>\n",
       "    <tr>\n",
       "      <th>0</th>\n",
       "      <td>21.45792</td>\n",
       "      <td>21.45792</td>\n",
       "      <td>21.45792</td>\n",
       "      <td>30.39872</td>\n",
       "      <td>33.08096</td>\n",
       "      <td>21.45792</td>\n",
       "      <td>35.7632</td>\n",
       "      <td>33.08096</td>\n",
       "      <td>33.08096</td>\n",
       "      <td>33.08096</td>\n",
       "      <td>...</td>\n",
       "      <td>0.0</td>\n",
       "      <td>0.0</td>\n",
       "      <td>0.0</td>\n",
       "      <td>0.0</td>\n",
       "      <td>0.0</td>\n",
       "      <td>0.0</td>\n",
       "      <td>0.0</td>\n",
       "      <td>0.0</td>\n",
       "      <td>0.0</td>\n",
       "      <td>0.0</td>\n",
       "    </tr>\n",
       "    <tr>\n",
       "      <th>1</th>\n",
       "      <td>0.00000</td>\n",
       "      <td>0.00000</td>\n",
       "      <td>0.00000</td>\n",
       "      <td>0.00000</td>\n",
       "      <td>0.00000</td>\n",
       "      <td>0.00000</td>\n",
       "      <td>0.0000</td>\n",
       "      <td>0.00000</td>\n",
       "      <td>0.00000</td>\n",
       "      <td>0.00000</td>\n",
       "      <td>...</td>\n",
       "      <td>0.0</td>\n",
       "      <td>0.0</td>\n",
       "      <td>0.0</td>\n",
       "      <td>0.0</td>\n",
       "      <td>0.0</td>\n",
       "      <td>0.0</td>\n",
       "      <td>0.0</td>\n",
       "      <td>0.0</td>\n",
       "      <td>0.0</td>\n",
       "      <td>0.0</td>\n",
       "    </tr>\n",
       "    <tr>\n",
       "      <th>2</th>\n",
       "      <td>21.45792</td>\n",
       "      <td>0.00000</td>\n",
       "      <td>0.00000</td>\n",
       "      <td>0.00000</td>\n",
       "      <td>0.00000</td>\n",
       "      <td>0.00000</td>\n",
       "      <td>35.7632</td>\n",
       "      <td>0.00000</td>\n",
       "      <td>0.00000</td>\n",
       "      <td>0.00000</td>\n",
       "      <td>...</td>\n",
       "      <td>0.0</td>\n",
       "      <td>0.0</td>\n",
       "      <td>0.0</td>\n",
       "      <td>0.0</td>\n",
       "      <td>0.0</td>\n",
       "      <td>0.0</td>\n",
       "      <td>0.0</td>\n",
       "      <td>0.0</td>\n",
       "      <td>0.0</td>\n",
       "      <td>0.0</td>\n",
       "    </tr>\n",
       "    <tr>\n",
       "      <th>3</th>\n",
       "      <td>0.00000</td>\n",
       "      <td>21.45792</td>\n",
       "      <td>0.00000</td>\n",
       "      <td>0.00000</td>\n",
       "      <td>0.00000</td>\n",
       "      <td>0.00000</td>\n",
       "      <td>0.0000</td>\n",
       "      <td>0.00000</td>\n",
       "      <td>0.00000</td>\n",
       "      <td>0.00000</td>\n",
       "      <td>...</td>\n",
       "      <td>0.0</td>\n",
       "      <td>0.0</td>\n",
       "      <td>0.0</td>\n",
       "      <td>0.0</td>\n",
       "      <td>0.0</td>\n",
       "      <td>0.0</td>\n",
       "      <td>0.0</td>\n",
       "      <td>0.0</td>\n",
       "      <td>0.0</td>\n",
       "      <td>0.0</td>\n",
       "    </tr>\n",
       "    <tr>\n",
       "      <th>4</th>\n",
       "      <td>0.00000</td>\n",
       "      <td>0.00000</td>\n",
       "      <td>0.00000</td>\n",
       "      <td>0.00000</td>\n",
       "      <td>0.00000</td>\n",
       "      <td>0.00000</td>\n",
       "      <td>0.0000</td>\n",
       "      <td>0.00000</td>\n",
       "      <td>0.00000</td>\n",
       "      <td>0.00000</td>\n",
       "      <td>...</td>\n",
       "      <td>0.0</td>\n",
       "      <td>0.0</td>\n",
       "      <td>0.0</td>\n",
       "      <td>0.0</td>\n",
       "      <td>0.0</td>\n",
       "      <td>0.0</td>\n",
       "      <td>0.0</td>\n",
       "      <td>0.0</td>\n",
       "      <td>0.0</td>\n",
       "      <td>0.0</td>\n",
       "    </tr>\n",
       "  </tbody>\n",
       "</table>\n",
       "<p>5 rows × 2295 columns</p>\n",
       "</div>"
      ],
      "text/plain": [
       "     333615    332041    343220    328559    329741    329385   334269  \\\n",
       "0  21.45792  21.45792  21.45792  30.39872  33.08096  21.45792  35.7632   \n",
       "1   0.00000   0.00000   0.00000   0.00000   0.00000   0.00000   0.0000   \n",
       "2  21.45792   0.00000   0.00000   0.00000   0.00000   0.00000  35.7632   \n",
       "3   0.00000  21.45792   0.00000   0.00000   0.00000   0.00000   0.0000   \n",
       "4   0.00000   0.00000   0.00000   0.00000   0.00000   0.00000   0.0000   \n",
       "\n",
       "     332584    344418    331224  ...  330399  331209  328168  335242  344419  \\\n",
       "0  33.08096  33.08096  33.08096  ...     0.0     0.0     0.0     0.0     0.0   \n",
       "1   0.00000   0.00000   0.00000  ...     0.0     0.0     0.0     0.0     0.0   \n",
       "2   0.00000   0.00000   0.00000  ...     0.0     0.0     0.0     0.0     0.0   \n",
       "3   0.00000   0.00000   0.00000  ...     0.0     0.0     0.0     0.0     0.0   \n",
       "4   0.00000   0.00000   0.00000  ...     0.0     0.0     0.0     0.0     0.0   \n",
       "\n",
       "   341317  335083  341540  332615  332386  \n",
       "0     0.0     0.0     0.0     0.0     0.0  \n",
       "1     0.0     0.0     0.0     0.0     0.0  \n",
       "2     0.0     0.0     0.0     0.0     0.0  \n",
       "3     0.0     0.0     0.0     0.0     0.0  \n",
       "4     0.0     0.0     0.0     0.0     0.0  \n",
       "\n",
       "[5 rows x 2295 columns]"
      ]
     },
     "execution_count": 76,
     "metadata": {},
     "output_type": "execute_result"
    }
   ],
   "source": [
    "### create a new dataframe from df where each column is multiplied by the corresponding value in ladris_potential_dict\n",
    "ladris_potential_df = df.copy()\n",
    "for i in ladris_potential_dict:\n",
    "    if i in ladris_potential_df.columns:\n",
    "        ladris_potential_df[i] = ladris_potential_df[i] * ladris_potential_dict[i]\n",
    "\n",
    "ladris_potential_df.head()"
   ]
  },
  {
   "cell_type": "code",
   "execution_count": 77,
   "metadata": {},
   "outputs": [
    {
     "name": "stdout",
     "output_type": "stream",
     "text": [
      "332997    21.45792\n",
      "333580    21.45792\n",
      "329173    21.45792\n",
      "328669    30.39872\n",
      "334375    21.45792\n",
      "            ...   \n",
      "336221    21.45792\n",
      "334672    21.45792\n",
      "343319    21.45792\n",
      "340874    37.55136\n",
      "332656    30.39872\n",
      "Name: 1, Length: 95, dtype: float64\n"
     ]
    }
   ],
   "source": [
    "### print the columns that are greater than 0 for ladris_potential_df.iloc[1]\n",
    "print(ladris_potential_df.iloc[1][ladris_potential_df.iloc[1] > 0])\n",
    "\n",
    "\n"
   ]
  },
  {
   "cell_type": "code",
   "execution_count": 78,
   "metadata": {},
   "outputs": [
    {
     "name": "stderr",
     "output_type": "stream",
     "text": [
      "/tmp/ipykernel_3189117/3913432881.py:2: PerformanceWarning: DataFrame is highly fragmented.  This is usually the result of calling `frame.insert` many times, which has poor performance.  Consider joining all columns at once using pd.concat(axis=1) instead. To get a de-fragmented frame, use `newframe = frame.copy()`\n",
      "  ladris_potential_df['sum'] = ladris_potential_df.sum(axis=1)\n",
      "/tmp/ipykernel_3189117/3913432881.py:5: PerformanceWarning: DataFrame is highly fragmented.  This is usually the result of calling `frame.insert` many times, which has poor performance.  Consider joining all columns at once using pd.concat(axis=1) instead. To get a de-fragmented frame, use `newframe = frame.copy()`\n",
      "  ladris_potential_df['count'] = (ladris_potential_df > 0).sum(axis=1)\n"
     ]
    },
    {
     "data": {
      "text/html": [
       "<div>\n",
       "<style scoped>\n",
       "    .dataframe tbody tr th:only-of-type {\n",
       "        vertical-align: middle;\n",
       "    }\n",
       "\n",
       "    .dataframe tbody tr th {\n",
       "        vertical-align: top;\n",
       "    }\n",
       "\n",
       "    .dataframe thead th {\n",
       "        text-align: right;\n",
       "    }\n",
       "</style>\n",
       "<table border=\"1\" class=\"dataframe\">\n",
       "  <thead>\n",
       "    <tr style=\"text-align: right;\">\n",
       "      <th></th>\n",
       "      <th>333615</th>\n",
       "      <th>332041</th>\n",
       "      <th>343220</th>\n",
       "      <th>328559</th>\n",
       "      <th>329741</th>\n",
       "      <th>329385</th>\n",
       "      <th>334269</th>\n",
       "      <th>332584</th>\n",
       "      <th>344418</th>\n",
       "      <th>331224</th>\n",
       "      <th>...</th>\n",
       "      <th>328168</th>\n",
       "      <th>335242</th>\n",
       "      <th>344419</th>\n",
       "      <th>341317</th>\n",
       "      <th>335083</th>\n",
       "      <th>341540</th>\n",
       "      <th>332615</th>\n",
       "      <th>332386</th>\n",
       "      <th>sum</th>\n",
       "      <th>count</th>\n",
       "    </tr>\n",
       "  </thead>\n",
       "  <tbody>\n",
       "    <tr>\n",
       "      <th>0</th>\n",
       "      <td>21.45792</td>\n",
       "      <td>21.45792</td>\n",
       "      <td>21.45792</td>\n",
       "      <td>30.39872</td>\n",
       "      <td>33.08096</td>\n",
       "      <td>21.45792</td>\n",
       "      <td>35.7632</td>\n",
       "      <td>33.08096</td>\n",
       "      <td>33.08096</td>\n",
       "      <td>33.08096</td>\n",
       "      <td>...</td>\n",
       "      <td>0.0</td>\n",
       "      <td>0.0</td>\n",
       "      <td>0.0</td>\n",
       "      <td>0.0</td>\n",
       "      <td>0.0</td>\n",
       "      <td>0.0</td>\n",
       "      <td>0.0</td>\n",
       "      <td>0.0</td>\n",
       "      <td>2160.99136</td>\n",
       "      <td>79</td>\n",
       "    </tr>\n",
       "    <tr>\n",
       "      <th>1</th>\n",
       "      <td>0.00000</td>\n",
       "      <td>0.00000</td>\n",
       "      <td>0.00000</td>\n",
       "      <td>0.00000</td>\n",
       "      <td>0.00000</td>\n",
       "      <td>0.00000</td>\n",
       "      <td>0.0000</td>\n",
       "      <td>0.00000</td>\n",
       "      <td>0.00000</td>\n",
       "      <td>0.00000</td>\n",
       "      <td>...</td>\n",
       "      <td>0.0</td>\n",
       "      <td>0.0</td>\n",
       "      <td>0.0</td>\n",
       "      <td>0.0</td>\n",
       "      <td>0.0</td>\n",
       "      <td>0.0</td>\n",
       "      <td>0.0</td>\n",
       "      <td>0.0</td>\n",
       "      <td>2503.42400</td>\n",
       "      <td>96</td>\n",
       "    </tr>\n",
       "    <tr>\n",
       "      <th>2</th>\n",
       "      <td>21.45792</td>\n",
       "      <td>0.00000</td>\n",
       "      <td>0.00000</td>\n",
       "      <td>0.00000</td>\n",
       "      <td>0.00000</td>\n",
       "      <td>0.00000</td>\n",
       "      <td>35.7632</td>\n",
       "      <td>0.00000</td>\n",
       "      <td>0.00000</td>\n",
       "      <td>0.00000</td>\n",
       "      <td>...</td>\n",
       "      <td>0.0</td>\n",
       "      <td>0.0</td>\n",
       "      <td>0.0</td>\n",
       "      <td>0.0</td>\n",
       "      <td>0.0</td>\n",
       "      <td>0.0</td>\n",
       "      <td>0.0</td>\n",
       "      <td>0.0</td>\n",
       "      <td>2709.06240</td>\n",
       "      <td>95</td>\n",
       "    </tr>\n",
       "    <tr>\n",
       "      <th>3</th>\n",
       "      <td>0.00000</td>\n",
       "      <td>21.45792</td>\n",
       "      <td>0.00000</td>\n",
       "      <td>0.00000</td>\n",
       "      <td>0.00000</td>\n",
       "      <td>0.00000</td>\n",
       "      <td>0.0000</td>\n",
       "      <td>0.00000</td>\n",
       "      <td>0.00000</td>\n",
       "      <td>0.00000</td>\n",
       "      <td>...</td>\n",
       "      <td>0.0</td>\n",
       "      <td>0.0</td>\n",
       "      <td>0.0</td>\n",
       "      <td>0.0</td>\n",
       "      <td>0.0</td>\n",
       "      <td>0.0</td>\n",
       "      <td>0.0</td>\n",
       "      <td>0.0</td>\n",
       "      <td>2367.07680</td>\n",
       "      <td>87</td>\n",
       "    </tr>\n",
       "    <tr>\n",
       "      <th>4</th>\n",
       "      <td>0.00000</td>\n",
       "      <td>0.00000</td>\n",
       "      <td>0.00000</td>\n",
       "      <td>0.00000</td>\n",
       "      <td>0.00000</td>\n",
       "      <td>0.00000</td>\n",
       "      <td>0.0000</td>\n",
       "      <td>0.00000</td>\n",
       "      <td>0.00000</td>\n",
       "      <td>0.00000</td>\n",
       "      <td>...</td>\n",
       "      <td>0.0</td>\n",
       "      <td>0.0</td>\n",
       "      <td>0.0</td>\n",
       "      <td>0.0</td>\n",
       "      <td>0.0</td>\n",
       "      <td>0.0</td>\n",
       "      <td>0.0</td>\n",
       "      <td>0.0</td>\n",
       "      <td>2506.55328</td>\n",
       "      <td>89</td>\n",
       "    </tr>\n",
       "    <tr>\n",
       "      <th>...</th>\n",
       "      <td>...</td>\n",
       "      <td>...</td>\n",
       "      <td>...</td>\n",
       "      <td>...</td>\n",
       "      <td>...</td>\n",
       "      <td>...</td>\n",
       "      <td>...</td>\n",
       "      <td>...</td>\n",
       "      <td>...</td>\n",
       "      <td>...</td>\n",
       "      <td>...</td>\n",
       "      <td>...</td>\n",
       "      <td>...</td>\n",
       "      <td>...</td>\n",
       "      <td>...</td>\n",
       "      <td>...</td>\n",
       "      <td>...</td>\n",
       "      <td>...</td>\n",
       "      <td>...</td>\n",
       "      <td>...</td>\n",
       "      <td>...</td>\n",
       "    </tr>\n",
       "    <tr>\n",
       "      <th>8993</th>\n",
       "      <td>0.00000</td>\n",
       "      <td>0.00000</td>\n",
       "      <td>0.00000</td>\n",
       "      <td>0.00000</td>\n",
       "      <td>0.00000</td>\n",
       "      <td>0.00000</td>\n",
       "      <td>0.0000</td>\n",
       "      <td>0.00000</td>\n",
       "      <td>0.00000</td>\n",
       "      <td>0.00000</td>\n",
       "      <td>...</td>\n",
       "      <td>0.0</td>\n",
       "      <td>0.0</td>\n",
       "      <td>0.0</td>\n",
       "      <td>0.0</td>\n",
       "      <td>0.0</td>\n",
       "      <td>0.0</td>\n",
       "      <td>0.0</td>\n",
       "      <td>0.0</td>\n",
       "      <td>742.98048</td>\n",
       "      <td>25</td>\n",
       "    </tr>\n",
       "    <tr>\n",
       "      <th>8994</th>\n",
       "      <td>0.00000</td>\n",
       "      <td>0.00000</td>\n",
       "      <td>0.00000</td>\n",
       "      <td>0.00000</td>\n",
       "      <td>0.00000</td>\n",
       "      <td>0.00000</td>\n",
       "      <td>35.7632</td>\n",
       "      <td>0.00000</td>\n",
       "      <td>0.00000</td>\n",
       "      <td>0.00000</td>\n",
       "      <td>...</td>\n",
       "      <td>0.0</td>\n",
       "      <td>0.0</td>\n",
       "      <td>0.0</td>\n",
       "      <td>0.0</td>\n",
       "      <td>0.0</td>\n",
       "      <td>0.0</td>\n",
       "      <td>0.0</td>\n",
       "      <td>0.0</td>\n",
       "      <td>945.93664</td>\n",
       "      <td>29</td>\n",
       "    </tr>\n",
       "    <tr>\n",
       "      <th>8995</th>\n",
       "      <td>0.00000</td>\n",
       "      <td>0.00000</td>\n",
       "      <td>0.00000</td>\n",
       "      <td>0.00000</td>\n",
       "      <td>0.00000</td>\n",
       "      <td>0.00000</td>\n",
       "      <td>0.0000</td>\n",
       "      <td>0.00000</td>\n",
       "      <td>0.00000</td>\n",
       "      <td>0.00000</td>\n",
       "      <td>...</td>\n",
       "      <td>0.0</td>\n",
       "      <td>0.0</td>\n",
       "      <td>0.0</td>\n",
       "      <td>0.0</td>\n",
       "      <td>0.0</td>\n",
       "      <td>0.0</td>\n",
       "      <td>0.0</td>\n",
       "      <td>0.0</td>\n",
       "      <td>953.98336</td>\n",
       "      <td>31</td>\n",
       "    </tr>\n",
       "    <tr>\n",
       "      <th>8996</th>\n",
       "      <td>0.00000</td>\n",
       "      <td>0.00000</td>\n",
       "      <td>0.00000</td>\n",
       "      <td>0.00000</td>\n",
       "      <td>0.00000</td>\n",
       "      <td>0.00000</td>\n",
       "      <td>0.0000</td>\n",
       "      <td>0.00000</td>\n",
       "      <td>0.00000</td>\n",
       "      <td>0.00000</td>\n",
       "      <td>...</td>\n",
       "      <td>0.0</td>\n",
       "      <td>0.0</td>\n",
       "      <td>0.0</td>\n",
       "      <td>0.0</td>\n",
       "      <td>0.0</td>\n",
       "      <td>0.0</td>\n",
       "      <td>0.0</td>\n",
       "      <td>0.0</td>\n",
       "      <td>0.00000</td>\n",
       "      <td>0</td>\n",
       "    </tr>\n",
       "    <tr>\n",
       "      <th>8997</th>\n",
       "      <td>0.00000</td>\n",
       "      <td>0.00000</td>\n",
       "      <td>0.00000</td>\n",
       "      <td>0.00000</td>\n",
       "      <td>0.00000</td>\n",
       "      <td>0.00000</td>\n",
       "      <td>0.0000</td>\n",
       "      <td>0.00000</td>\n",
       "      <td>0.00000</td>\n",
       "      <td>0.00000</td>\n",
       "      <td>...</td>\n",
       "      <td>0.0</td>\n",
       "      <td>0.0</td>\n",
       "      <td>0.0</td>\n",
       "      <td>0.0</td>\n",
       "      <td>0.0</td>\n",
       "      <td>0.0</td>\n",
       "      <td>0.0</td>\n",
       "      <td>0.0</td>\n",
       "      <td>0.00000</td>\n",
       "      <td>0</td>\n",
       "    </tr>\n",
       "  </tbody>\n",
       "</table>\n",
       "<p>8998 rows × 2297 columns</p>\n",
       "</div>"
      ],
      "text/plain": [
       "        333615    332041    343220    328559    329741    329385   334269  \\\n",
       "0     21.45792  21.45792  21.45792  30.39872  33.08096  21.45792  35.7632   \n",
       "1      0.00000   0.00000   0.00000   0.00000   0.00000   0.00000   0.0000   \n",
       "2     21.45792   0.00000   0.00000   0.00000   0.00000   0.00000  35.7632   \n",
       "3      0.00000  21.45792   0.00000   0.00000   0.00000   0.00000   0.0000   \n",
       "4      0.00000   0.00000   0.00000   0.00000   0.00000   0.00000   0.0000   \n",
       "...        ...       ...       ...       ...       ...       ...      ...   \n",
       "8993   0.00000   0.00000   0.00000   0.00000   0.00000   0.00000   0.0000   \n",
       "8994   0.00000   0.00000   0.00000   0.00000   0.00000   0.00000  35.7632   \n",
       "8995   0.00000   0.00000   0.00000   0.00000   0.00000   0.00000   0.0000   \n",
       "8996   0.00000   0.00000   0.00000   0.00000   0.00000   0.00000   0.0000   \n",
       "8997   0.00000   0.00000   0.00000   0.00000   0.00000   0.00000   0.0000   \n",
       "\n",
       "        332584    344418    331224  ...  328168  335242  344419  341317  \\\n",
       "0     33.08096  33.08096  33.08096  ...     0.0     0.0     0.0     0.0   \n",
       "1      0.00000   0.00000   0.00000  ...     0.0     0.0     0.0     0.0   \n",
       "2      0.00000   0.00000   0.00000  ...     0.0     0.0     0.0     0.0   \n",
       "3      0.00000   0.00000   0.00000  ...     0.0     0.0     0.0     0.0   \n",
       "4      0.00000   0.00000   0.00000  ...     0.0     0.0     0.0     0.0   \n",
       "...        ...       ...       ...  ...     ...     ...     ...     ...   \n",
       "8993   0.00000   0.00000   0.00000  ...     0.0     0.0     0.0     0.0   \n",
       "8994   0.00000   0.00000   0.00000  ...     0.0     0.0     0.0     0.0   \n",
       "8995   0.00000   0.00000   0.00000  ...     0.0     0.0     0.0     0.0   \n",
       "8996   0.00000   0.00000   0.00000  ...     0.0     0.0     0.0     0.0   \n",
       "8997   0.00000   0.00000   0.00000  ...     0.0     0.0     0.0     0.0   \n",
       "\n",
       "      335083  341540  332615  332386         sum  count  \n",
       "0        0.0     0.0     0.0     0.0  2160.99136     79  \n",
       "1        0.0     0.0     0.0     0.0  2503.42400     96  \n",
       "2        0.0     0.0     0.0     0.0  2709.06240     95  \n",
       "3        0.0     0.0     0.0     0.0  2367.07680     87  \n",
       "4        0.0     0.0     0.0     0.0  2506.55328     89  \n",
       "...      ...     ...     ...     ...         ...    ...  \n",
       "8993     0.0     0.0     0.0     0.0   742.98048     25  \n",
       "8994     0.0     0.0     0.0     0.0   945.93664     29  \n",
       "8995     0.0     0.0     0.0     0.0   953.98336     31  \n",
       "8996     0.0     0.0     0.0     0.0     0.00000      0  \n",
       "8997     0.0     0.0     0.0     0.0     0.00000      0  \n",
       "\n",
       "[8998 rows x 2297 columns]"
      ]
     },
     "execution_count": 78,
     "metadata": {},
     "output_type": "execute_result"
    }
   ],
   "source": [
    "### add a new column to ladris_potential_df that is the sum of all the columns\n",
    "ladris_potential_df['sum'] = ladris_potential_df.sum(axis=1)\n",
    "\n",
    "### create a new column in ladris_potential_df called 'count' that is the count of columns that are greater than 0\n",
    "ladris_potential_df['count'] = (ladris_potential_df > 0).sum(axis=1)\n",
    "\n",
    "ladris_potential_df"
   ]
  },
  {
   "cell_type": "code",
   "execution_count": 79,
   "metadata": {},
   "outputs": [
    {
     "data": {
      "text/html": [
       "<div>\n",
       "<style scoped>\n",
       "    .dataframe tbody tr th:only-of-type {\n",
       "        vertical-align: middle;\n",
       "    }\n",
       "\n",
       "    .dataframe tbody tr th {\n",
       "        vertical-align: top;\n",
       "    }\n",
       "\n",
       "    .dataframe thead th {\n",
       "        text-align: right;\n",
       "    }\n",
       "</style>\n",
       "<table border=\"1\" class=\"dataframe\">\n",
       "  <thead>\n",
       "    <tr style=\"text-align: right;\">\n",
       "      <th></th>\n",
       "      <th>0</th>\n",
       "      <th>minutes</th>\n",
       "      <th>hours</th>\n",
       "      <th>z</th>\n",
       "    </tr>\n",
       "  </thead>\n",
       "  <tbody>\n",
       "    <tr>\n",
       "      <th>0</th>\n",
       "      <td>4.183883</td>\n",
       "      <td>251.033007</td>\n",
       "      <td>4.183883</td>\n",
       "      <td>0.680169</td>\n",
       "    </tr>\n",
       "    <tr>\n",
       "      <th>1</th>\n",
       "      <td>4.321939</td>\n",
       "      <td>259.316337</td>\n",
       "      <td>4.321939</td>\n",
       "      <td>0.605314</td>\n",
       "    </tr>\n",
       "    <tr>\n",
       "      <th>2</th>\n",
       "      <td>4.791880</td>\n",
       "      <td>287.512812</td>\n",
       "      <td>4.791880</td>\n",
       "      <td>0.578186</td>\n",
       "    </tr>\n",
       "    <tr>\n",
       "      <th>3</th>\n",
       "      <td>4.189669</td>\n",
       "      <td>251.380163</td>\n",
       "      <td>4.189669</td>\n",
       "      <td>0.631559</td>\n",
       "    </tr>\n",
       "    <tr>\n",
       "      <th>4</th>\n",
       "      <td>4.973522</td>\n",
       "      <td>298.411333</td>\n",
       "      <td>4.973522</td>\n",
       "      <td>0.634579</td>\n",
       "    </tr>\n",
       "  </tbody>\n",
       "</table>\n",
       "</div>"
      ],
      "text/plain": [
       "          0     minutes     hours         z\n",
       "0  4.183883  251.033007  4.183883  0.680169\n",
       "1  4.321939  259.316337  4.321939  0.605314\n",
       "2  4.791880  287.512812  4.791880  0.578186\n",
       "3  4.189669  251.380163  4.189669  0.631559\n",
       "4  4.973522  298.411333  4.973522  0.634579"
      ]
     },
     "execution_count": 79,
     "metadata": {},
     "output_type": "execute_result"
    }
   ],
   "source": [
    "lam1 = 0.5\n",
    "lam2 = 1\n",
    "\n",
    "### create x as a normalized measure of df_results['hours'] to be values between 0 and 1\n",
    "normEvac = (df_results['hours'] - df_results['hours'].min()) / (df_results['hours'].max() - df_results['hours'].min())\n",
    "\n",
    "### creaet normPot as a normalized measure of ladris_potential_df['sum'] to be values between 0 and 1\n",
    "normPot = (ladris_potential_df['sum'] - ladris_potential_df['sum'].min()) / (ladris_potential_df['sum'].max() - ladris_potential_df['sum'].min())\n",
    "\n",
    "df_results['z'] = lam1*normEvac - lam2*normPot + lam2\n",
    "\n",
    "df_results.head()\n"
   ]
  },
  {
   "cell_type": "code",
   "execution_count": 80,
   "metadata": {},
   "outputs": [
    {
     "data": {
      "image/png": "[encoded data removed]",
      "text/plain": [
       "<Figure size 640x480 with 1 Axes>"
      ]
     },
     "metadata": {},
     "output_type": "display_data"
    }
   ],
   "source": [
    "### Plot histogram of df_results['z']\n",
    "plt.hist(df_results['z'], bins=20)\n",
    "plt.xlabel('z score')\n",
    "plt.ylabel('Frequency')\n",
    "plt.title('Histogram of z score')\n",
    "plt.show()"
   ]
  },
  {
   "cell_type": "code",
   "execution_count": 81,
   "metadata": {},
   "outputs": [
    {
     "data": {
      "text/plain": [
       "count    8998.000000\n",
       "mean        0.563851\n",
       "std         0.148890\n",
       "min         0.062977\n",
       "25%         0.464368\n",
       "50%         0.559884\n",
       "75%         0.643760\n",
       "max         1.202347\n",
       "Name: z, dtype: float64"
      ]
     },
     "execution_count": 81,
     "metadata": {},
     "output_type": "execute_result"
    }
   ],
   "source": [
    "df_results['z'].describe()"
   ]
  },
  {
   "cell_type": "code",
   "execution_count": 82,
   "metadata": {},
   "outputs": [
    {
     "data": {
      "text/html": [
       "<div>\n",
       "<style scoped>\n",
       "    .dataframe tbody tr th:only-of-type {\n",
       "        vertical-align: middle;\n",
       "    }\n",
       "\n",
       "    .dataframe tbody tr th {\n",
       "        vertical-align: top;\n",
       "    }\n",
       "\n",
       "    .dataframe thead th {\n",
       "        text-align: right;\n",
       "    }\n",
       "</style>\n",
       "<table border=\"1\" class=\"dataframe\">\n",
       "  <thead>\n",
       "    <tr style=\"text-align: right;\">\n",
       "      <th></th>\n",
       "      <th>333615</th>\n",
       "      <th>332041</th>\n",
       "      <th>343220</th>\n",
       "      <th>328559</th>\n",
       "      <th>329741</th>\n",
       "      <th>329385</th>\n",
       "      <th>334269</th>\n",
       "      <th>332584</th>\n",
       "      <th>344418</th>\n",
       "      <th>331224</th>\n",
       "      <th>...</th>\n",
       "      <th>330399</th>\n",
       "      <th>331209</th>\n",
       "      <th>328168</th>\n",
       "      <th>335242</th>\n",
       "      <th>344419</th>\n",
       "      <th>341317</th>\n",
       "      <th>335083</th>\n",
       "      <th>341540</th>\n",
       "      <th>332615</th>\n",
       "      <th>332386</th>\n",
       "    </tr>\n",
       "  </thead>\n",
       "  <tbody>\n",
       "    <tr>\n",
       "      <th>count</th>\n",
       "      <td>8998.000000</td>\n",
       "      <td>8998.000000</td>\n",
       "      <td>8998.000000</td>\n",
       "      <td>8998.00000</td>\n",
       "      <td>8998.000000</td>\n",
       "      <td>8998.000000</td>\n",
       "      <td>8998.000000</td>\n",
       "      <td>8998.000000</td>\n",
       "      <td>8998.000000</td>\n",
       "      <td>8998.000000</td>\n",
       "      <td>...</td>\n",
       "      <td>8998.000000</td>\n",
       "      <td>8998.000000</td>\n",
       "      <td>8998.000000</td>\n",
       "      <td>8998.000000</td>\n",
       "      <td>8998.000000</td>\n",
       "      <td>8998.00000</td>\n",
       "      <td>8998.000000</td>\n",
       "      <td>8998.000000</td>\n",
       "      <td>8998.000000</td>\n",
       "      <td>8998.000000</td>\n",
       "    </tr>\n",
       "    <tr>\n",
       "      <th>mean</th>\n",
       "      <td>0.047233</td>\n",
       "      <td>0.033341</td>\n",
       "      <td>0.044454</td>\n",
       "      <td>0.04990</td>\n",
       "      <td>0.047122</td>\n",
       "      <td>0.047122</td>\n",
       "      <td>0.050011</td>\n",
       "      <td>0.047010</td>\n",
       "      <td>0.044454</td>\n",
       "      <td>0.047233</td>\n",
       "      <td>...</td>\n",
       "      <td>0.022227</td>\n",
       "      <td>0.013892</td>\n",
       "      <td>0.016559</td>\n",
       "      <td>0.013892</td>\n",
       "      <td>0.019449</td>\n",
       "      <td>0.01667</td>\n",
       "      <td>0.022227</td>\n",
       "      <td>0.019449</td>\n",
       "      <td>0.022116</td>\n",
       "      <td>0.022227</td>\n",
       "    </tr>\n",
       "    <tr>\n",
       "      <th>std</th>\n",
       "      <td>0.212148</td>\n",
       "      <td>0.179535</td>\n",
       "      <td>0.206114</td>\n",
       "      <td>0.21775</td>\n",
       "      <td>0.211911</td>\n",
       "      <td>0.211911</td>\n",
       "      <td>0.217980</td>\n",
       "      <td>0.211673</td>\n",
       "      <td>0.206114</td>\n",
       "      <td>0.212148</td>\n",
       "      <td>...</td>\n",
       "      <td>0.147430</td>\n",
       "      <td>0.117049</td>\n",
       "      <td>0.127620</td>\n",
       "      <td>0.117049</td>\n",
       "      <td>0.138104</td>\n",
       "      <td>0.12804</td>\n",
       "      <td>0.147430</td>\n",
       "      <td>0.138104</td>\n",
       "      <td>0.147069</td>\n",
       "      <td>0.147430</td>\n",
       "    </tr>\n",
       "    <tr>\n",
       "      <th>min</th>\n",
       "      <td>0.000000</td>\n",
       "      <td>0.000000</td>\n",
       "      <td>0.000000</td>\n",
       "      <td>0.00000</td>\n",
       "      <td>0.000000</td>\n",
       "      <td>0.000000</td>\n",
       "      <td>0.000000</td>\n",
       "      <td>0.000000</td>\n",
       "      <td>0.000000</td>\n",
       "      <td>0.000000</td>\n",
       "      <td>...</td>\n",
       "      <td>0.000000</td>\n",
       "      <td>0.000000</td>\n",
       "      <td>0.000000</td>\n",
       "      <td>0.000000</td>\n",
       "      <td>0.000000</td>\n",
       "      <td>0.00000</td>\n",
       "      <td>0.000000</td>\n",
       "      <td>0.000000</td>\n",
       "      <td>0.000000</td>\n",
       "      <td>0.000000</td>\n",
       "    </tr>\n",
       "    <tr>\n",
       "      <th>25%</th>\n",
       "      <td>0.000000</td>\n",
       "      <td>0.000000</td>\n",
       "      <td>0.000000</td>\n",
       "      <td>0.00000</td>\n",
       "      <td>0.000000</td>\n",
       "      <td>0.000000</td>\n",
       "      <td>0.000000</td>\n",
       "      <td>0.000000</td>\n",
       "      <td>0.000000</td>\n",
       "      <td>0.000000</td>\n",
       "      <td>...</td>\n",
       "      <td>0.000000</td>\n",
       "      <td>0.000000</td>\n",
       "      <td>0.000000</td>\n",
       "      <td>0.000000</td>\n",
       "      <td>0.000000</td>\n",
       "      <td>0.00000</td>\n",
       "      <td>0.000000</td>\n",
       "      <td>0.000000</td>\n",
       "      <td>0.000000</td>\n",
       "      <td>0.000000</td>\n",
       "    </tr>\n",
       "    <tr>\n",
       "      <th>50%</th>\n",
       "      <td>0.000000</td>\n",
       "      <td>0.000000</td>\n",
       "      <td>0.000000</td>\n",
       "      <td>0.00000</td>\n",
       "      <td>0.000000</td>\n",
       "      <td>0.000000</td>\n",
       "      <td>0.000000</td>\n",
       "      <td>0.000000</td>\n",
       "      <td>0.000000</td>\n",
       "      <td>0.000000</td>\n",
       "      <td>...</td>\n",
       "      <td>0.000000</td>\n",
       "      <td>0.000000</td>\n",
       "      <td>0.000000</td>\n",
       "      <td>0.000000</td>\n",
       "      <td>0.000000</td>\n",
       "      <td>0.00000</td>\n",
       "      <td>0.000000</td>\n",
       "      <td>0.000000</td>\n",
       "      <td>0.000000</td>\n",
       "      <td>0.000000</td>\n",
       "    </tr>\n",
       "    <tr>\n",
       "      <th>75%</th>\n",
       "      <td>0.000000</td>\n",
       "      <td>0.000000</td>\n",
       "      <td>0.000000</td>\n",
       "      <td>0.00000</td>\n",
       "      <td>0.000000</td>\n",
       "      <td>0.000000</td>\n",
       "      <td>0.000000</td>\n",
       "      <td>0.000000</td>\n",
       "      <td>0.000000</td>\n",
       "      <td>0.000000</td>\n",
       "      <td>...</td>\n",
       "      <td>0.000000</td>\n",
       "      <td>0.000000</td>\n",
       "      <td>0.000000</td>\n",
       "      <td>0.000000</td>\n",
       "      <td>0.000000</td>\n",
       "      <td>0.00000</td>\n",
       "      <td>0.000000</td>\n",
       "      <td>0.000000</td>\n",
       "      <td>0.000000</td>\n",
       "      <td>0.000000</td>\n",
       "    </tr>\n",
       "    <tr>\n",
       "      <th>max</th>\n",
       "      <td>1.000000</td>\n",
       "      <td>1.000000</td>\n",
       "      <td>1.000000</td>\n",
       "      <td>1.00000</td>\n",
       "      <td>1.000000</td>\n",
       "      <td>1.000000</td>\n",
       "      <td>1.000000</td>\n",
       "      <td>1.000000</td>\n",
       "      <td>1.000000</td>\n",
       "      <td>1.000000</td>\n",
       "      <td>...</td>\n",
       "      <td>1.000000</td>\n",
       "      <td>1.000000</td>\n",
       "      <td>1.000000</td>\n",
       "      <td>1.000000</td>\n",
       "      <td>1.000000</td>\n",
       "      <td>1.00000</td>\n",
       "      <td>1.000000</td>\n",
       "      <td>1.000000</td>\n",
       "      <td>1.000000</td>\n",
       "      <td>1.000000</td>\n",
       "    </tr>\n",
       "  </tbody>\n",
       "</table>\n",
       "<p>8 rows × 2295 columns</p>\n",
       "</div>"
      ],
      "text/plain": [
       "            333615       332041       343220      328559       329741  \\\n",
       "count  8998.000000  8998.000000  8998.000000  8998.00000  8998.000000   \n",
       "mean      0.047233     0.033341     0.044454     0.04990     0.047122   \n",
       "std       0.212148     0.179535     0.206114     0.21775     0.211911   \n",
       "min       0.000000     0.000000     0.000000     0.00000     0.000000   \n",
       "25%       0.000000     0.000000     0.000000     0.00000     0.000000   \n",
       "50%       0.000000     0.000000     0.000000     0.00000     0.000000   \n",
       "75%       0.000000     0.000000     0.000000     0.00000     0.000000   \n",
       "max       1.000000     1.000000     1.000000     1.00000     1.000000   \n",
       "\n",
       "            329385       334269       332584       344418       331224  ...  \\\n",
       "count  8998.000000  8998.000000  8998.000000  8998.000000  8998.000000  ...   \n",
       "mean      0.047122     0.050011     0.047010     0.044454     0.047233  ...   \n",
       "std       0.211911     0.217980     0.211673     0.206114     0.212148  ...   \n",
       "min       0.000000     0.000000     0.000000     0.000000     0.000000  ...   \n",
       "25%       0.000000     0.000000     0.000000     0.000000     0.000000  ...   \n",
       "50%       0.000000     0.000000     0.000000     0.000000     0.000000  ...   \n",
       "75%       0.000000     0.000000     0.000000     0.000000     0.000000  ...   \n",
       "max       1.000000     1.000000     1.000000     1.000000     1.000000  ...   \n",
       "\n",
       "            330399       331209       328168       335242       344419  \\\n",
       "count  8998.000000  8998.000000  8998.000000  8998.000000  8998.000000   \n",
       "mean      0.022227     0.013892     0.016559     0.013892     0.019449   \n",
       "std       0.147430     0.117049     0.127620     0.117049     0.138104   \n",
       "min       0.000000     0.000000     0.000000     0.000000     0.000000   \n",
       "25%       0.000000     0.000000     0.000000     0.000000     0.000000   \n",
       "50%       0.000000     0.000000     0.000000     0.000000     0.000000   \n",
       "75%       0.000000     0.000000     0.000000     0.000000     0.000000   \n",
       "max       1.000000     1.000000     1.000000     1.000000     1.000000   \n",
       "\n",
       "           341317       335083       341540       332615       332386  \n",
       "count  8998.00000  8998.000000  8998.000000  8998.000000  8998.000000  \n",
       "mean      0.01667     0.022227     0.019449     0.022116     0.022227  \n",
       "std       0.12804     0.147430     0.138104     0.147069     0.147430  \n",
       "min       0.00000     0.000000     0.000000     0.000000     0.000000  \n",
       "25%       0.00000     0.000000     0.000000     0.000000     0.000000  \n",
       "50%       0.00000     0.000000     0.000000     0.000000     0.000000  \n",
       "75%       0.00000     0.000000     0.000000     0.000000     0.000000  \n",
       "max       1.00000     1.000000     1.000000     1.000000     1.000000  \n",
       "\n",
       "[8 rows x 2295 columns]"
      ]
     },
     "execution_count": 82,
     "metadata": {},
     "output_type": "execute_result"
    }
   ],
   "source": [
    "df.describe()"
   ]
  },
  {
   "cell_type": "code",
   "execution_count": 83,
   "metadata": {},
   "outputs": [],
   "source": [
    "import prim"
   ]
  },
  {
   "cell_type": "markdown",
   "metadata": {},
   "source": [
    "# Perform Prim Analysis on df_results and df based on maximizing critical (hours)"
   ]
  },
  {
   "cell_type": "code",
   "execution_count": 84,
   "metadata": {},
   "outputs": [
    {
     "data": {
      "image/png": "[encoded data removed]",
      "text/plain": [
       "<Figure size 640x480 with 1 Axes>"
      ]
     },
     "metadata": {},
     "output_type": "display_data"
    }
   ],
   "source": [
    "### plot histogram of df_results['hours']\n",
    "plt.hist(df_results['hours'], bins=20)\n",
    "plt.xlabel('Travel Time (hours)')\n",
    "plt.ylabel('Frequency')\n",
    "plt.title('Histogram of Travel Time')\n",
    "plt.show()\n"
   ]
  },
  {
   "cell_type": "markdown",
   "metadata": {},
   "source": [
    "# TODO: Establish automated way to identify otimum threshold for the PRIM analysis\n",
    "- start with mean\n",
    "- perform prim and measure number of inputs \n",
    "- iterate through increasing thershold values\n",
    "- determine the threshold with the largest number of inputs for scenario discovery"
   ]
  },
  {
   "cell_type": "code",
   "execution_count": 85,
   "metadata": {},
   "outputs": [
    {
     "data": {
      "text/plain": [
       "4.0"
      ]
     },
     "execution_count": 85,
     "metadata": {},
     "output_type": "execute_result"
    }
   ],
   "source": [
    "### get the index values of df_results.loc[lp_evac_idx]['hours] that are greater than 4\n",
    "#mask = df_results.loc[lp_evac_idx]['hours'] > 4\n",
    "### get the index of df_results where df_results['hours'] > 4\n",
    "critical_fleet_results_idx = df_results[df_results['hours'] > 4].index\n",
    "\n",
    "### describe df_results.loc[critical_fleet_results_idx]\n",
    "df_results.loc[critical_fleet_results_idx].describe()\n",
    "critical_results_describe = df_results.loc[critical_fleet_results_idx].describe().to_dict()\n",
    "np.floor(critical_results_describe['hours']['mean'])"
   ]
  },
  {
   "cell_type": "code",
   "execution_count": 86,
   "metadata": {},
   "outputs": [
    {
     "name": "stdout",
     "output_type": "stream",
     "text": [
      "[]\n",
      "Number of unique index values in crit_ids:  4.883307202848992 0\n",
      "[]\n",
      "Number of unique index values in crit_ids:  5.480686760341871 0\n",
      "[]\n",
      "Number of unique index values in crit_ids:  6.078066317834749 0\n",
      "[]\n",
      "Number of unique index values in crit_ids:  6.675445875327628 0\n",
      "[]\n",
      "Number of unique index values in crit_ids:  7.272825432820507 0\n",
      "[]\n",
      "Number of unique index values in crit_ids:  7.870204990313385 0\n",
      "[]\n",
      "Number of unique index values in crit_ids:  8.467584547806263 0\n",
      "[]\n",
      "Number of unique index values in crit_ids:  9.064964105299142 0\n",
      "[]\n",
      "Number of unique index values in crit_ids:  9.66234366279202 0\n",
      "[]\n",
      "Number of unique index values in crit_ids:  10.259723220284899 0\n"
     ]
    }
   ],
   "source": [
    "setMean = critical_results_describe['hours']['mean']\n",
    "setMax = critical_results_describe['hours']['max']\n",
    "\n",
    "crit_boxes = []\n",
    "\n",
    "### create 10 threshold values from setMean to setMax in increments of 0.5\n",
    "thresholds = []\n",
    "differ_increment = (setMax - setMean)/10\n",
    "for i in range(10):\n",
    "    if i == 0:\n",
    "        thresholds.append(setMean)\n",
    "    else:\n",
    "        thresholds.append(thresholds[i-1] + differ_increment)\n",
    "\n",
    "maxThreshold = 0\n",
    "maxCount = 0\n",
    "critIndex = 0\n",
    "### create a loop to iterate from setMean to setMax in increments of 0.5\n",
    "for t in thresholds:        \n",
    "    prim_alg = prim.Prim(df.loc[critical_fleet_results_idx], df_results.loc[critical_fleet_results_idx]['hours'], threshold=t, threshold_type='>')\n",
    "    try:\n",
    "        crit_box = prim_alg.find_all()\n",
    "        #print(len(crit_box))\n",
    "\n",
    "        crit_boxes.append(crit_box)\n",
    "        \n",
    "        ### get list of all index values for each crit_box\n",
    "        crit_ids = []\n",
    "        for i in range(len(crit_box)):\n",
    "            print(list(crit_box[i].limits.index))\n",
    "            ### add crit_box[i].limits.index to crit_ids but only if it is not already in crit_ids\n",
    "            for j in list(crit_box[i].limits.index):\n",
    "                if j not in crit_ids:\n",
    "                    crit_ids.append(j)\n",
    "\n",
    "        ### print the number of unique index values in crit_ids\n",
    "        if len(set(crit_ids)) >= maxCount:\n",
    "            maxCount = len(set(crit_ids))\n",
    "            maxThreshold = t\n",
    "            critIndex = thresholds.index(t)\n",
    "        print('Number of unique index values in crit_ids: ', t, len(set(crit_ids)))\n",
    "    except:\n",
    "        print(\"zero boxes\")\n",
    "        print('Number of unique index values in crit_ids: ', t, len(set(crit_ids)))"
   ]
  },
  {
   "cell_type": "code",
   "execution_count": 540,
   "metadata": {},
   "outputs": [
    {
     "name": "stdout",
     "output_type": "stream",
     "text": [
      "Max Count:  9\n",
      "Max Threshold:  6.858030522826883\n",
      "['334420', '330512', '329644', '329502', '330221']\n",
      "['329644', '329940', '330221']\n",
      "['329644', '329502', '330221']\n",
      "['335090', '328862']\n",
      "['329644', '329091']\n",
      "[]\n"
     ]
    }
   ],
   "source": [
    "print('Max Count: ', maxCount)\n",
    "print('Max Threshold: ', maxThreshold)\n",
    "crit_boxes[critIndex][0].limits\n",
    "\n",
    "crit_ids = []\n",
    "for i in range(len(crit_boxes[critIndex])):\n",
    "    print(list(crit_boxes[critIndex][i].limits.index))\n",
    "    ### add crit_box[i].limits.index to crit_ids but only if it is not already in crit_ids\n",
    "    for j in list(crit_boxes[critIndex][i].limits.index):\n",
    "        if j not in crit_ids:\n",
    "            crit_ids.append(j)"
   ]
  },
  {
   "cell_type": "markdown",
   "metadata": {},
   "source": [
    "# Perform Prim Analysis on df_results and df based on maximizing z\n"
   ]
  },
  {
   "cell_type": "code",
   "execution_count": 541,
   "metadata": {},
   "outputs": [
    {
     "data": {
      "text/plain": [
       "count    3980.000000\n",
       "mean        0.617195\n",
       "std         0.241593\n",
       "min         0.072978\n",
       "25%         0.380519\n",
       "50%         0.738599\n",
       "75%         0.831922\n",
       "max         1.193958\n",
       "Name: z, dtype: float64"
      ]
     },
     "execution_count": 541,
     "metadata": {},
     "output_type": "execute_result"
    }
   ],
   "source": [
    "df_results['z'].describe()"
   ]
  },
  {
   "cell_type": "code",
   "execution_count": 542,
   "metadata": {},
   "outputs": [
    {
     "name": "stdout",
     "output_type": "stream",
     "text": [
      "0.8434588690717761\n"
     ]
    }
   ],
   "source": [
    "### Get the index of rows in df_results['z'] that are greater than 0.1\n",
    "idx = df_results[df_results['z'] > 0.75].index\n",
    "### print the rows of df where the index is in idx\n",
    "#df.loc[idx].describe()\n",
    "df_results.loc[idx]['z'].describe()\n",
    "CSI_results_describe = df_results.loc[idx]['z'].describe().to_dict()\n",
    "print(CSI_results_describe['mean'])"
   ]
  },
  {
   "cell_type": "code",
   "execution_count": 543,
   "metadata": {},
   "outputs": [
    {
     "name": "stderr",
     "output_type": "stream",
     "text": [
      "/home/pfoytik/anaconda3/lib/python3.10/site-packages/prim/prim_box.py:783: RuntimeWarning: invalid value encountered in scalar divide\n",
      "  p = Hj/Tj\n"
     ]
    },
    {
     "name": "stdout",
     "output_type": "stream",
     "text": [
      "['335360']\n",
      "[]\n",
      "Number of unique index values in csi_ids:  0.8434588690717761 1\n"
     ]
    },
    {
     "name": "stderr",
     "output_type": "stream",
     "text": [
      "/home/pfoytik/anaconda3/lib/python3.10/site-packages/prim/prim_box.py:783: RuntimeWarning: invalid value encountered in scalar divide\n",
      "  p = Hj/Tj\n"
     ]
    },
    {
     "name": "stdout",
     "output_type": "stream",
     "text": [
      "['329174', '341121', '334931', '330221', '334722', '329105']\n",
      "['330512', '332329', '329644', '334931', '330221', '329105']\n",
      "['328156', '334931', '330221', '334722', '329105']\n",
      "['330512', '334931', '330221', '329105']\n",
      "['335525', '338651', '334250']\n",
      "['332329', '336216', '329821', '335360', '332253']\n",
      "['331775', '330221']\n",
      "['341121', '334722', '341295']\n",
      "['330512', '332329']\n",
      "[]\n",
      "Number of unique index values in csi_ids:  0.8785088080891481 19\n"
     ]
    },
    {
     "name": "stderr",
     "output_type": "stream",
     "text": [
      "/home/pfoytik/anaconda3/lib/python3.10/site-packages/prim/prim_box.py:783: RuntimeWarning: invalid value encountered in scalar divide\n",
      "  p = Hj/Tj\n"
     ]
    },
    {
     "name": "stdout",
     "output_type": "stream",
     "text": [
      "['330512', '329644', '329502', '336066', '335360', '330221']\n",
      "['332329', '334931', '331750', '330221', '334722', '341386']\n",
      "['330512', '329644', '330221']\n",
      "['330512', '329174', '330184', '329821']\n",
      "['338651', '330221', '334722']\n",
      "['332329', '330221']\n",
      "[]\n",
      "Number of unique index values in csi_ids:  0.9135587471065201 15\n"
     ]
    },
    {
     "name": "stderr",
     "output_type": "stream",
     "text": [
      "/home/pfoytik/anaconda3/lib/python3.10/site-packages/prim/prim_box.py:783: RuntimeWarning: invalid value encountered in scalar divide\n",
      "  p = Hj/Tj\n"
     ]
    },
    {
     "name": "stdout",
     "output_type": "stream",
     "text": [
      "['330512', '329644', '343703', '329502', '336276', '330221']\n",
      "['329174', '336153', '341121', '333480']\n",
      "['330512', '329644', '330221']\n",
      "['330512', '330221']\n",
      "[]\n",
      "Number of unique index values in csi_ids:  0.948608686123892 10\n"
     ]
    },
    {
     "name": "stderr",
     "output_type": "stream",
     "text": [
      "/home/pfoytik/anaconda3/lib/python3.10/site-packages/prim/prim_box.py:783: RuntimeWarning: invalid value encountered in scalar divide\n",
      "  p = Hj/Tj\n"
     ]
    },
    {
     "name": "stdout",
     "output_type": "stream",
     "text": [
      "['330512', '329644', '343703', '329502', '336276', '330221']\n",
      "['329174', '336153', '341386', '333480']\n",
      "[]\n",
      "Number of unique index values in csi_ids:  0.983658625141264 10\n"
     ]
    },
    {
     "name": "stderr",
     "output_type": "stream",
     "text": [
      "/home/pfoytik/anaconda3/lib/python3.10/site-packages/prim/prim_box.py:783: RuntimeWarning: invalid value encountered in scalar divide\n",
      "  p = Hj/Tj\n"
     ]
    },
    {
     "name": "stdout",
     "output_type": "stream",
     "text": [
      "['330512', '329644', '343703', '329502', '336276', '330221']\n",
      "[]\n",
      "Number of unique index values in csi_ids:  1.018708564158636 6\n"
     ]
    },
    {
     "name": "stderr",
     "output_type": "stream",
     "text": [
      "/home/pfoytik/anaconda3/lib/python3.10/site-packages/prim/prim_box.py:783: RuntimeWarning: invalid value encountered in scalar divide\n",
      "  p = Hj/Tj\n"
     ]
    },
    {
     "name": "stdout",
     "output_type": "stream",
     "text": [
      "['330512', '329644', '329502', '330221']\n",
      "[]\n",
      "Number of unique index values in csi_ids:  1.053758503176008 4\n"
     ]
    },
    {
     "name": "stderr",
     "output_type": "stream",
     "text": [
      "/home/pfoytik/anaconda3/lib/python3.10/site-packages/prim/prim_box.py:783: RuntimeWarning: invalid value encountered in scalar divide\n",
      "  p = Hj/Tj\n"
     ]
    },
    {
     "name": "stdout",
     "output_type": "stream",
     "text": [
      "['330512', '329644', '329502', '330221']\n",
      "[]\n",
      "Number of unique index values in csi_ids:  1.08880844219338 4\n"
     ]
    },
    {
     "name": "stderr",
     "output_type": "stream",
     "text": [
      "/home/pfoytik/anaconda3/lib/python3.10/site-packages/prim/prim_box.py:783: RuntimeWarning: invalid value encountered in scalar divide\n",
      "  p = Hj/Tj\n"
     ]
    },
    {
     "name": "stdout",
     "output_type": "stream",
     "text": [
      "['330512', '329502', '330221', '334722']\n",
      "[]\n",
      "Number of unique index values in csi_ids:  1.1238583812107519 4\n",
      "['330512', '329502', '341121', '332253']\n",
      "[]\n",
      "Number of unique index values in csi_ids:  1.1589083202281238 4\n"
     ]
    },
    {
     "name": "stderr",
     "output_type": "stream",
     "text": [
      "/home/pfoytik/anaconda3/lib/python3.10/site-packages/prim/prim_box.py:783: RuntimeWarning: invalid value encountered in scalar divide\n",
      "  p = Hj/Tj\n"
     ]
    }
   ],
   "source": [
    "setMean = CSI_results_describe['mean']\n",
    "setMax = CSI_results_describe['max']\n",
    "\n",
    "csi_boxes = []\n",
    "\n",
    "### create 10 threshold values from setMean to setMax in increments of 0.5\n",
    "thresholds = []\n",
    "differ_increment = (setMax - setMean)/10\n",
    "for i in range(10):\n",
    "    if i == 0:\n",
    "        thresholds.append(setMean)\n",
    "    else:\n",
    "        thresholds.append(thresholds[i-1] + differ_increment)\n",
    "\n",
    "maxThreshold = 0\n",
    "maxCount = 0\n",
    "csi_index = 0\n",
    "### create a loop to iterate from setMean to setMax in increments of 0.5\n",
    "for t in thresholds: \n",
    "    prim_alg = prim.Prim(df.loc[idx], df_results.loc[idx]['z'], threshold=t, threshold_type='>')\n",
    "    try:\n",
    "        CSI_box = prim_alg.find_all()\n",
    "        #print(len(CSI_box))\n",
    "        csi_boxes.append(CSI_box)\n",
    "\n",
    "        csi_ids = []\n",
    "        for i in range(len(CSI_box)):\n",
    "            print(list(CSI_box[i].limits.index))\n",
    "            ### add CSI_box[i].limits.index to csi_ids but only if it is not already in csi_ids\n",
    "            for j in list(CSI_box[i].limits.index):            \n",
    "                if j not in csi_ids:\n",
    "                    csi_ids.append(j)\n",
    "        ### print the number of unique index values in csi_ids\n",
    "        if len(csi_ids) >= maxCount:\n",
    "            maxCount = len(csi_ids)\n",
    "            maxThreshold = t\n",
    "            ### set csi_index to the index of t in thresholds\n",
    "            csiIndex = thresholds.index(t)\n",
    "        print('Number of unique index values in csi_ids: ', t, len(set(csi_ids)))\n",
    "    except:\n",
    "        print(\"found zero boxes\")\n",
    "        print('Number of unique index values in csi_ids: ', t, len(set(csi_ids)))"
   ]
  },
  {
   "cell_type": "code",
   "execution_count": 544,
   "metadata": {},
   "outputs": [
    {
     "name": "stdout",
     "output_type": "stream",
     "text": [
      "Max Count:  19\n",
      "Max Threshold:  0.8785088080891481\n",
      "['329174', '341121', '334931', '330221', '334722', '329105']\n",
      "['330512', '332329', '329644', '334931', '330221', '329105']\n",
      "['328156', '334931', '330221', '334722', '329105']\n",
      "['330512', '334931', '330221', '329105']\n",
      "['335525', '338651', '334250']\n",
      "['332329', '336216', '329821', '335360', '332253']\n",
      "['331775', '330221']\n",
      "['341121', '334722', '341295']\n",
      "['330512', '332329']\n",
      "[]\n"
     ]
    }
   ],
   "source": [
    "print('Max Count: ', maxCount)\n",
    "print('Max Threshold: ', maxThreshold)\n",
    "csi_boxes[csiIndex][1].limits\n",
    "\n",
    "csi_ids = []\n",
    "for i in range(len(csi_boxes[csiIndex])):\n",
    "    print(list(csi_boxes[csiIndex][i].limits.index))\n",
    "    ### add CSI_box[i].limits.index to csi_ids but only if it is not already in csi_ids\n",
    "    for j in list(csi_boxes[csiIndex][i].limits.index):\n",
    "        if j not in csi_ids:\n",
    "            csi_ids.append(j)"
   ]
  },
  {
   "cell_type": "markdown",
   "metadata": {},
   "source": [
    "# Generate KML for crit_box and CSI_box IDs\n"
   ]
  },
  {
   "cell_type": "code",
   "execution_count": 545,
   "metadata": {},
   "outputs": [
    {
     "name": "stdout",
     "output_type": "stream",
     "text": [
      "[[-121.1323993, 39.1644618], [-121.1324019, 39.1644117], [-121.1324066, 39.1643185], [-121.1314762, 39.1632896], [-121.1314409, 39.1629635], [-121.1316671, 39.162649], [-121.1324963, 39.1618332], [-121.1327205, 39.1615423], [-121.1327307, 39.1615155], [-121.1327857, 39.1613709], [-121.1328344, 39.1612429], [-121.1332105, 39.1602543], [-121.1333773, 39.159969], [-121.1343037, 39.15924]]\n",
      "McCourtney Road\n"
     ]
    }
   ],
   "source": [
    "if 'fleet' in dbFile:\n",
    "    print(fleet_lat_long_dict[int(crit_ids[0])])\n",
    "else:\n",
    "    print(ladris_latlong_dict[int(crit_ids[0])])\n",
    "    print(ladris_segment_roadNames[int(crit_ids[0])])"
   ]
  },
  {
   "cell_type": "code",
   "execution_count": 546,
   "metadata": {},
   "outputs": [],
   "source": [
    "import ast\n",
    "from geopandas import GeoDataFrame\n",
    "import geopandas as gpd\n",
    "from shapely.geometry import LineString\n"
   ]
  },
  {
   "cell_type": "code",
   "execution_count": 547,
   "metadata": {},
   "outputs": [],
   "source": [
    "if 'fleet' in dbFile:\n",
    "    #### update fleet_lat_long_dict to be a dictionary of linestrings\n",
    "    for i in fleet_lat_long_dict:\n",
    "        fleet_lat_long_dict[i] = LineString([ast.literal_eval(str(fleet_lat_long_dict[i][0])), ast.literal_eval(str(fleet_lat_long_dict[i][1]))])\n",
    "else:\n",
    "    ### update ladris_latlong_dict to be a dictionary of linestrings\n",
    "    for i in ladris_latlong_dict:\n",
    "        ladris_latlong_dict[i] = LineString([ast.literal_eval(str(ladris_latlong_dict[i][0])), ast.literal_eval(str(ladris_latlong_dict[i][1]))])\n"
   ]
  },
  {
   "cell_type": "code",
   "execution_count": 548,
   "metadata": {},
   "outputs": [],
   "source": [
    "if 'fleet' in dbFile:\n",
    "    #all_gdf = GeoDataFrame(geometry=[fleet_lat_long_dict[i] for i in fleet_lat_long_dict])\n",
    "    all_gdf = GeoDataFrame(\n",
    "        {\"id\": list(fleet_lat_long_dict.keys()), \"geometry\": list(fleet_lat_long_dict.values())}\n",
    "    )\n",
    "\n",
    "    crit_sub_gdf = GeoDataFrame(\n",
    "        {\"id\": [int(i) for i in crit_ids], \"geometry\": [fleet_lat_long_dict[int(i)] for i in crit_ids]}\n",
    "    )\n",
    "\n",
    "    csi_sub_gdf = GeoDataFrame(\n",
    "        {\"id\": [int(i) for i in csi_ids], \"geometry\": [fleet_lat_long_dict[int(i)] for i in csi_ids]}\n",
    "    )\n",
    "else:\n",
    "    all_gdf = GeoDataFrame(\n",
    "        {\"id\": list(ladris_latlong_dict.keys()), \"geometry\": list(ladris_latlong_dict.values())}\n",
    "    )\n",
    "\n",
    "    crit_sub_gdf = GeoDataFrame(\n",
    "        {\"id\": [int(i) for i in crit_ids], \"geometry\": [ladris_latlong_dict[int(i)] for i in crit_ids]}\n",
    "    )\n",
    "\n",
    "    csi_sub_gdf = GeoDataFrame(\n",
    "        {\"id\": [int(i) for i in csi_ids], \"geometry\": [ladris_latlong_dict[int(i)] for i in csi_ids]}\n",
    "    )\n"
   ]
  },
  {
   "cell_type": "code",
   "execution_count": null,
   "metadata": {},
   "outputs": [],
   "source": []
  },
  {
   "cell_type": "code",
   "execution_count": 549,
   "metadata": {},
   "outputs": [
    {
     "name": "stderr",
     "output_type": "stream",
     "text": [
      "/home/pfoytik/anaconda3/lib/python3.10/site-packages/pyogrio/geopandas.py:662: UserWarning: 'crs' was not provided.  The output dataset will not have projection information defined and may not be usable in other systems.\n",
      "  write(\n",
      "/home/pfoytik/anaconda3/lib/python3.10/site-packages/pyogrio/raw.py:723: RuntimeWarning: Layer name 'ladris_crit_segments_2025-06-04' adjusted to 'ladris_crit_segments_2025_06_04' for XML validity.\n",
      "  ogr_write(\n",
      "/home/pfoytik/anaconda3/lib/python3.10/site-packages/pyogrio/geopandas.py:662: UserWarning: 'crs' was not provided.  The output dataset will not have projection information defined and may not be usable in other systems.\n",
      "  write(\n",
      "/home/pfoytik/anaconda3/lib/python3.10/site-packages/pyogrio/raw.py:723: RuntimeWarning: Layer name 'ladris_csi_segments_2025-06-04' adjusted to 'ladris_csi_segments_2025_06_04' for XML validity.\n",
      "  ogr_write(\n"
     ]
    }
   ],
   "source": [
    "import datetime\n",
    "now = datetime.datetime.now()\n",
    "if 'fleet' in dbFile:\n",
    "    crit_fname = 'fleet_crit_segments_'+str(now.date())+'.kml'\n",
    "    csi_fname = 'fleet_csi_segments_'+str(now.date())+'.kml'\n",
    "    ### output geodataframe sub_gdf to kml file where id is the identity label and geometry is the lat long for position of the segment\n",
    "    crit_sub_gdf.to_file(crit_fname, driver='KML', index=False)\n",
    "    csi_sub_gdf.to_file(csi_fname, driver='KML', index=False)\n",
    "else:\n",
    "    ### output geodataframe sub_gdf to kml file where id is the identity label and geometry is the lat long for position of the segment\n",
    "    crit_fname = 'ladris_crit_segments_'+str(now.date())+'.kml'\n",
    "    csi_fname = 'ladris_csi_segments_'+str(now.date())+'.kml'\n",
    "    crit_sub_gdf.to_file(crit_fname, driver='KML', index=False)\n",
    "    csi_sub_gdf.to_file(csi_fname, driver='KML', index=False)\n",
    "\n",
    "\n"
   ]
  },
  {
   "cell_type": "code",
   "execution_count": 550,
   "metadata": {},
   "outputs": [
    {
     "data": {
      "text/plain": [
       "'2025-06-04'"
      ]
     },
     "execution_count": 550,
     "metadata": {},
     "output_type": "execute_result"
    }
   ],
   "source": [
    "str(now.date())"
   ]
  },
  {
   "cell_type": "markdown",
   "metadata": {},
   "source": [
    "# Compare evac time for scenarios of CRIT and scenarios of CSI"
   ]
  },
  {
   "cell_type": "code",
   "execution_count": 551,
   "metadata": {},
   "outputs": [
    {
     "name": "stdout",
     "output_type": "stream",
     "text": [
      "6 5\n"
     ]
    }
   ],
   "source": [
    "print(len(crit_boxes[critIndex]), len(csi_boxes[critIndex]))\n"
   ]
  },
  {
   "cell_type": "code",
   "execution_count": 552,
   "metadata": {},
   "outputs": [],
   "source": [
    "import prim as prim\n",
    "import numpy as np\n"
   ]
  },
  {
   "cell_type": "code",
   "execution_count": 553,
   "metadata": {},
   "outputs": [],
   "source": [
    "def getCriticalTimes(df, crit_box):\n",
    "    criticalTimes = {}\n",
    "    for c in range(len(crit_box)):\n",
    "        ctime = []\n",
    "        tempDict = {}\n",
    "\n",
    "        ## the list of column names\n",
    "        #list(crit_box[0].limits.index))\n",
    "\n",
    "        ### the list of values\n",
    "        #list(crit_box[0].limits['min'])\n",
    "        cb_index = list(crit_box[c].limits.index)\n",
    "        \n",
    "        ### convert cb_index to integers\n",
    "        if 'fleet' not in dbFile:\n",
    "            for i in range(len(cb_index)):\n",
    "                if isinstance(cb_index[i], str):\n",
    "                    cb_index[i] = int(cb_index[i])\n",
    "\n",
    "        ### create dictionary of list(crit_box[0].limits.index) and list(crit_box[0].limits['min'])\n",
    "        for i in range(len(cb_index)):\n",
    "            tempDict[cb_index[i]] = list(crit_box[c].limits['min'])[i]\n",
    "\n",
    "        if len(tempDict) > 2:\n",
    "            ### convert tempDict values to integers\n",
    "            for i in tempDict:\n",
    "                if isinstance(tempDict[i], str):\n",
    "                    tempDict[i] = int(tempDict[i])\n",
    "                else:\n",
    "                    tempDict[i] = int(tempDict[i])\n",
    "            #print(tempDict.values())\n",
    "\n",
    "            ### get the index of df[list(crit_box[1].limits.index)] where the values are equal to tempDict.values()\n",
    "            cb1_idx = list(df[cb_index].index)\n",
    "\n",
    "            ### for each row of df[list(crit_box[1].limits.index)].values.tolist() compare the list to tempDict.values()\n",
    "            count = 0\n",
    "            for i in df[cb_index].values.tolist():\n",
    "                if i == list(tempDict.values()):\n",
    "                    #print(cb1_idx[count], i)\n",
    "                    ctime.append(df_results.loc[cb1_idx[count]]['hours'])\n",
    "                count += 1\n",
    "            criticalTimes[c] = ctime\n",
    "            print(round(np.mean(ctime), 2), round(np.max(ctime), 2), round(np.min(ctime), 2), len(ctime))\n",
    "    return criticalTimes"
   ]
  },
  {
   "cell_type": "markdown",
   "metadata": {},
   "source": [
    "# Results for Fleet 0.75 lam1, 1 lam2\n",
    "### All Data\n",
    "| Mean | Max  | Min  | Count |\n",
    "|------|------|------|-------|\n",
    "| 3.49 | 8.33 | 2.67 | 3896  |\n",
    "\n",
    "### Critical\n",
    "| Mean | Max  | Min  | Count |\n",
    "|------|------|------|-------|\n",
    "| 4.42 | 7.42 | 2.67 | 281   |\n",
    "| 4.74 | 6.5  | 3.67 | 108   |\n",
    "| 5.1  | 6.5  | 2.67 | 117   |\n",
    "| 3.98 | 7.42 | 2.67 | 521   |\n",
    "| 5.11 | 8.33 | 2.67 | 262   |\n",
    "| 4.1  | 8.33 | 2.67 | 746   |\n",
    "\n",
    "### CSI\n",
    "| Mean | Max  | Min  | Count |\n",
    "|------|------|------|-------|\n",
    "| 4.97 | 5.5  | 3.58 | 148   |\n",
    "| 3.78 | 8.33 | 2.67 | 242   |\n",
    "| 3.19 | 5.5  | 2.67 | 481   |\n",
    "\n",
    "# Results for Ladris 0.5 lam1, 1 lam2\n",
    "- Reducing the crit lam1 to 0.1 reduced the mean eavacuation time of the CSI scenarios by 1 hour!\n",
    "- increaseing the crit lam1 to 1 increases the mean evacuation time of the CSI scenarios by 1 hours!\n",
    "  - doing this reduces several areas of surprise in particular the segments on lower colfax rd.\n",
    "### All Data\n",
    "| Mean | Max   | Min  | Count |\n",
    "|------|-------|------|-------|\n",
    "| 4.62 | 10.64 | 3.62 | 3980  |\n",
    "\n",
    "### Critical\n",
    "| Mean | Max   | Min  | Count |\n",
    "|------|-------|------|-------|\n",
    "| 8.04 | 10.55 | 5.17 | 114   |\n",
    "| 6.56 | 10.64 | 4.13 | 242   |\n",
    "| 6.23 | 10.55 | 4.11 | 508   |\n",
    "\n",
    "### CSI\n",
    "| Mean | Max   | Min  | Count |\n",
    "|------|-------|------|-------|\n",
    "| 5.63 | 10.51 | 4.19 | 175   |\n",
    "| 6.44 | 10.51 | 4.45 | 145   |\n",
    "| 5.58 | 10.29 | 4.19 | 317   |\n",
    "| 5.62 | 10.51 | 3.95 | 605   |\n",
    "| 4.52 | 10.21 | 3.65 | 503   |\n",
    "| 4.38 | 9.46  | 3.65 | 321   |\n",
    "| 4.33 | 8.38  | 3.67 | 494   |\n"
   ]
  },
  {
   "cell_type": "code",
   "execution_count": 554,
   "metadata": {},
   "outputs": [
    {
     "data": {
      "text/plain": [
       "6"
      ]
     },
     "execution_count": 554,
     "metadata": {},
     "output_type": "execute_result"
    }
   ],
   "source": [
    "len(crit_boxes[critIndex])"
   ]
  },
  {
   "cell_type": "code",
   "execution_count": 555,
   "metadata": {},
   "outputs": [
    {
     "name": "stderr",
     "output_type": "stream",
     "text": [
      "/home/pfoytik/anaconda3/lib/python3.10/site-packages/prim/prim_box.py:783: RuntimeWarning: invalid value encountered in scalar divide\n",
      "  p = Hj/Tj\n",
      "/home/pfoytik/anaconda3/lib/python3.10/site-packages/prim/prim_box.py:783: RuntimeWarning: invalid value encountered in scalar divide\n",
      "  p = Hj/Tj\n",
      "/home/pfoytik/anaconda3/lib/python3.10/site-packages/prim/prim_box.py:783: RuntimeWarning: invalid value encountered in scalar divide\n",
      "  p = Hj/Tj\n",
      "/home/pfoytik/anaconda3/lib/python3.10/site-packages/prim/prim_box.py:783: RuntimeWarning: invalid value encountered in scalar divide\n",
      "  p = Hj/Tj\n"
     ]
    },
    {
     "name": "stdout",
     "output_type": "stream",
     "text": [
      "8.04 10.55 5.17 114\n",
      "6.56 10.64 4.13 242\n",
      "6.23 10.55 4.11 508\n",
      "<><><><><><><><><><><><><><><><><>\n",
      "5.63 10.51 4.19 175\n",
      "6.44 10.51 4.45 145\n",
      "5.58 10.29 4.19 317\n",
      "5.62 10.51 3.95 605\n"
     ]
    },
    {
     "name": "stderr",
     "output_type": "stream",
     "text": [
      "/home/pfoytik/anaconda3/lib/python3.10/site-packages/prim/prim_box.py:783: RuntimeWarning: invalid value encountered in scalar divide\n",
      "  p = Hj/Tj\n",
      "/home/pfoytik/anaconda3/lib/python3.10/site-packages/prim/prim_box.py:783: RuntimeWarning: invalid value encountered in scalar divide\n",
      "  p = Hj/Tj\n",
      "/home/pfoytik/anaconda3/lib/python3.10/site-packages/prim/prim_box.py:783: RuntimeWarning: invalid value encountered in scalar divide\n",
      "  p = Hj/Tj\n",
      "/home/pfoytik/anaconda3/lib/python3.10/site-packages/prim/prim_box.py:783: RuntimeWarning: invalid value encountered in scalar divide\n",
      "  p = Hj/Tj\n"
     ]
    },
    {
     "name": "stdout",
     "output_type": "stream",
     "text": [
      "4.52 10.21 3.65 503\n",
      "4.38 9.46 3.65 321\n",
      "4.33 8.38 3.67 494\n",
      "3 7\n"
     ]
    },
    {
     "name": "stderr",
     "output_type": "stream",
     "text": [
      "/home/pfoytik/anaconda3/lib/python3.10/site-packages/prim/prim_box.py:783: RuntimeWarning: invalid value encountered in scalar divide\n",
      "  p = Hj/Tj\n",
      "/home/pfoytik/anaconda3/lib/python3.10/site-packages/prim/prim_box.py:783: RuntimeWarning: invalid value encountered in scalar divide\n",
      "  p = Hj/Tj\n",
      "/home/pfoytik/anaconda3/lib/python3.10/site-packages/prim/prim_box.py:783: RuntimeWarning: invalid value encountered in scalar divide\n",
      "  p = Hj/Tj\n"
     ]
    }
   ],
   "source": [
    "### get critical times for each crit_box\n",
    "criticalTimes = getCriticalTimes(df, crit_boxes[critIndex])\n",
    "#print(criticalTimes)\n",
    "print(\"<><><><><><><><><><><><><><><><><>\")\n",
    "csiTimes = getCriticalTimes(df, csi_boxes[csiIndex])\n",
    "print(len(criticalTimes), len(csiTimes))"
   ]
  },
  {
   "cell_type": "code",
   "execution_count": 556,
   "metadata": {},
   "outputs": [
    {
     "data": {
      "text/plain": [
       "count    3980.000000\n",
       "mean        4.621546\n",
       "std         1.209052\n",
       "min         3.624039\n",
       "25%         3.793138\n",
       "50%         4.140205\n",
       "75%         5.171863\n",
       "max        10.639947\n",
       "Name: hours, dtype: float64"
      ]
     },
     "execution_count": 556,
     "metadata": {},
     "output_type": "execute_result"
    }
   ],
   "source": [
    "df_results['hours'].describe()"
   ]
  },
  {
   "cell_type": "code",
   "execution_count": 557,
   "metadata": {},
   "outputs": [
    {
     "data": {
      "image/png": "[encoded data removed]",
      "text/plain": [
       "<Figure size 1000x500 with 1 Axes>"
      ]
     },
     "metadata": {},
     "output_type": "display_data"
    }
   ],
   "source": [
    "### create a histogram of the critical times combined\n",
    "plt.figure(figsize=(10, 5))\n",
    "plt.hist([item for sublist in criticalTimes.values() for item in sublist], bins=20)\n",
    "plt.xlabel('Travel Time (hours)')\n",
    "plt.ylabel('Frequency')\n",
    "plt.title('Histogram of Critical Times Combined')\n",
    "plt.show()"
   ]
  },
  {
   "cell_type": "code",
   "execution_count": 558,
   "metadata": {},
   "outputs": [
    {
     "data": {
      "image/png": "[encoded data removed]",
      "text/plain": [
       "<Figure size 1000x500 with 1 Axes>"
      ]
     },
     "metadata": {},
     "output_type": "display_data"
    }
   ],
   "source": [
    "### create a histogram of csi times combined\n",
    "plt.figure(figsize=(10, 5))\n",
    "plt.hist([item for sublist in csiTimes.values() for item in sublist], bins=20)\n",
    "plt.xlabel('Travel Time (hours)')\n",
    "plt.ylabel('Frequency')\n",
    "plt.title('Histogram of CSI Times Combined')\n",
    "plt.show()"
   ]
  },
  {
   "cell_type": "code",
   "execution_count": 567,
   "metadata": {},
   "outputs": [
    {
     "name": "stdout",
     "output_type": "stream",
     "text": [
      "329940 Colfax Highway [5.837976666666666, 10.339149083333334, 8.353910611111111, 7.941659777777778, 5.541368666666667, 10.506315916666669, 9.159998888888888, 8.083556805555554, 5.576642888888888, 8.381494277777778, 9.554956222222222, 9.251831944444444, 5.183307222222222, 7.878779166666666, 5.6916224444444445, 8.958286333333332, 8.056443500000002, 8.04355475, 7.9849230833333324, 10.236361333333331, 5.174888194444445, 10.08854277777778, 9.1483055, 9.733348166666666, 8.105839583333333, 10.20699, 8.001647, 6.136309388888889, 7.829692805555556, 8.014229222222223, 8.022224999999999, 8.361721249999999, 5.20959211111111, 10.55172525, 9.052595, 8.010688055555555, 5.288685972222223, 8.0214225, 7.94720388888889, 9.135502277777778, 5.363711388888889, 7.794951833333333, 7.962676666666666, 7.854442055555555, 8.060518472222222, 5.329385888888889, 8.09984888888889, 7.992330777777778, 10.07100977777778, 8.090518611111111, 8.1148725, 7.915405527777778, 7.948755166666667, 8.02120611111111, 10.32501625, 8.284332583333333, 8.046285805555556, 8.034152944444445, 10.363758861111112, 9.1741, 8.03976888888889, 9.379968055555556, 8.085241694444445, 8.255099277777779, 7.811098611111111, 9.506362555555558, 7.942330833333333, 9.098466666666669, 5.706970111111111, 9.28510488888889, 8.026932222222221, 9.73698111111111, 7.892795138888888, 8.128094444444445, 9.169255555555557, 9.22920977777778, 9.461332444444446, 7.969469055555556, 5.634384861111111, 9.19928838888889, 7.9060209722222226, 7.975091111111111, 5.527699555555556, 7.948628722222222, 7.960047361111111, 7.899932861111111, 7.985688055555555, 9.561763833333336, 5.217523222222222, 5.190620833333333, 9.276885833333331, 5.706401388888889, 9.215571527777778, 7.8381175, 9.721381388888888, 9.233032777777778, 9.076694027777778, 5.263562944444445, 5.541765833333333, 5.598733944444445, 9.198183333333333, 9.120360833333333, 7.924268388888889, 9.461708833333336, 7.9825125, 9.171238972222222, 9.589977777777776, 5.589492222222222, 7.829406666666667, 5.6550520833333335, 7.822213888888888, 9.13200325, 7.889218333333334, 7.866076166666668]\n"
     ]
    }
   ],
   "source": [
    "### check the segment IDs in criticalTimes and csiTimes and print the road name\n",
    "segz = crit_boxes[csiIndex][1].limits.index\n",
    "for s in segz:\n",
    "    if 'fleet' in dbFile:\n",
    "        print(s, fleet_segment_roadNames[int(s)], criticalTimes[0])\n",
    "    else:\n",
    "        if 'Colfax' in ladris_segment_roadNames[int(s)]:\n",
    "            print(s, ladris_segment_roadNames[int(s)], criticalTimes[0])"
   ]
  },
  {
   "cell_type": "code",
   "execution_count": 562,
   "metadata": {},
   "outputs": [
    {
     "data": {
      "text/plain": [
       "'Rattlesnake Road'"
      ]
     },
     "execution_count": 562,
     "metadata": {},
     "output_type": "execute_result"
    }
   ],
   "source": [
    "ladris_segment_roadNames[329174]\n",
    "#ladris_latlong_dict[329174]"
   ]
  },
  {
   "cell_type": "code",
   "execution_count": null,
   "metadata": {},
   "outputs": [],
   "source": []
  }
 ],
 "metadata": {
  "kernelspec": {
   "display_name": "base",
   "language": "python",
   "name": "python3"
  },
  "language_info": {
   "codemirror_mode": {
    "name": "ipython",
    "version": 3
   },
   "file_extension": ".py",
   "mimetype": "text/x-python",
   "name": "python",
   "nbconvert_exporter": "python",
   "pygments_lexer": "ipython3",
   "version": "3.10.13"
  }
 },
 "nbformat": 4,
 "nbformat_minor": 2
}
