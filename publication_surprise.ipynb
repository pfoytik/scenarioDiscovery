{
 "cells": [
  {
   "cell_type": "markdown",
   "metadata": {},
   "source": [
    "# Test different metrics of surprise for framework paper\n",
    "\n",
    "### set a measure of potential for inputs\n",
    " - for each road segment that is blocked calculate the potential as the capacity (lanes * speed)"
   ]
  },
  {
   "cell_type": "code",
   "execution_count": 217,
   "metadata": {},
   "outputs": [],
   "source": [
    "from concurrent.futures import ThreadPoolExecutor\n",
    "import sqlite3\n",
    "import pickle\n",
    "import pandas as pd\n",
    "import json\n",
    "import xml.etree.ElementTree as ET\n",
    "import numpy as np"
   ]
  },
  {
   "cell_type": "code",
   "execution_count": 218,
   "metadata": {},
   "outputs": [],
   "source": [
    "def read_fleet_from_db(query):\n",
    "    dat = {}\n",
    "    conn = sqlite3.connect(dbFile)\n",
    "    c = conn.cursor()\n",
    "    c.execute(query)\n",
    "    rows = c.fetchall()   \n",
    "    print(\"Length of rows: \", len(rows)) \n",
    "    for row in rows:\n",
    "        ID = row[0]\n",
    "        response = row[1]\n",
    "        input = row[2]\n",
    "        output_90 = row[3]\n",
    "        output_100 = row[4]\n",
    "        output_dist = row[5]\n",
    "\n",
    "        inIDS = pickle.loads(input)\n",
    "        odist = pickle.loads(output_dist)\n",
    "        inXML = pickle.loads(input)\n",
    "\n",
    "        tmpDat = [ID, response, inIDS, output_90, output_100, odist]\n",
    "\n",
    "        d = tmpDat\n",
    "        scen = {}\n",
    "            \n",
    "        #try:\n",
    "        #    root = d[2].getroot()\n",
    "        #except:\n",
    "        #    print('error')\n",
    "        #    root = []\n",
    "        #    continue\n",
    "        scenID = d[0]\n",
    "        #print(root.tag)\n",
    "        #for child in root:    \n",
    "        #    ### find the segment ID\n",
    "        #    segmentID = child.find('ID').text\n",
    "        #    speed = float(child.find('Freeflow_Speed').text)\n",
    "        #    lanes = float(child.find('Number_of_Lanes').text)\n",
    "        #    blocked = False\n",
    "        #    if segmentID in link_ids:\n",
    "        #        scen[segmentID] = speed\n",
    "        saveDat = [inIDS, d[3]]  \n",
    "        dat[ID] = saveDat#.append([ID, response, inXML, output_90, output_100, odist])\n",
    "\n",
    "    conn.close()\n",
    "    return dat\n",
    "\n",
    "def read_ladris_from_db(query):\n",
    "    dat = {}\n",
    "    conn = sqlite3.connect(dbFile)\n",
    "    c = conn.cursor()\n",
    "    c.execute(query)\n",
    "    rows = c.fetchall()    \n",
    "    for row in rows:\n",
    "        ID = row[0]\n",
    "        response = row[1]\n",
    "        input = row[2]\n",
    "        output_90 = row[3]\n",
    "        output_100 = row[4]\n",
    "        output_dist = row[5]\n",
    "\n",
    "        inIDS = pickle.loads(input)\n",
    "        odist = pickle.loads(output_dist)\n",
    "        inXML = pickle.loads(input)\n",
    "\n",
    "        tmpDat = [ID, response, inXML, output_90, output_100, odist]\n",
    "\n",
    "        d = tmpDat\n",
    "        scen = {}\n",
    "\n",
    "        scenID = d[0]\n",
    "        #print(root.tag)\n",
    "        #for child in d[2]:    \n",
    "        #    ### find the segment ID\n",
    "        #    segmentID = child['osmid']\n",
    "        #    speed = float(child['speed_mph'])\n",
    "        #    lanes = float(child['num_lanes'])\n",
    "        #    blocked = child['is_blocked']\n",
    "        #    if blocked == True:\n",
    "        #        scen[segmentID] = 1\n",
    "        #    #if segmentID in link_ids:\n",
    "        #        #scen[segmentID] = blocked\n",
    "        saveDat = [inIDS, d[3]]  \n",
    "        dat[ID] = saveDat#.append([ID, response, inXML, output_90, output_100, odist])\n",
    "\n",
    "    conn.close()\n",
    "    return dat"
   ]
  },
  {
   "cell_type": "code",
   "execution_count": 219,
   "metadata": {},
   "outputs": [],
   "source": [
    "#dbFile = '/home/pfoytik/rtepm/EMA/lhc_samples/fleet_roadBlocked_scenarios.db'\n",
    "#dbFile = 'lhc_samples/fleet_scenarios_conv1.db'\n",
    "#dbFile = '/home/pfoytik/rtepm/EMA/lhc_samples/fleet_scenarios_conv1.db'\n",
    "dbFile = '/home/pfoytik/rtepm/EMA/lhc_samples/ladris_scenarios_conv1.db'\n",
    "#dbFile = '/home/pfoytik/rtepm/EMA/lhc_samples/fleet_scenarios_conv2.db'\n",
    "#dbFile = '/home/pfoytik/rtepm/EMA/lhc_samples/fleet_scenarios_conv2.db'\n",
    "#dbFile = '/home/pfoytik/rtepm/EMA/lhc_samples/ladris_scenarios_conv2.db'\n",
    "comb_scenarios = {}\n"
   ]
  },
  {
   "cell_type": "code",
   "execution_count": 220,
   "metadata": {},
   "outputs": [
    {
     "name": "stdout",
     "output_type": "stream",
     "text": [
      "Length of rows: Length of rows:  0\n",
      " 0\n",
      "Length of rows:  0\n",
      "Length of rows:  0\n",
      "Length of rows:  2000\n",
      "2000\n"
     ]
    }
   ],
   "source": [
    "queries = [\n",
    "    'SELECT * FROM scenarios ORDER BY id DESC limit 2000',\n",
    "    'SELECT * FROM scenarios ORDER BY id DESC limit 2000 offset 2000',\n",
    "    'SELECT * FROM scenarios ORDER BY id DESC limit 2000 offset 4000',\n",
    "    'SELECT * FROM scenarios ORDER BY id DESC limit 2000 offset 6000',\n",
    "    'SELECT * FROM scenarios ORDER BY id DESC limit 1000 offset 8000',    \n",
    "]\n",
    "\n",
    "dbFile = '/home/pfoytik/rtepm/EMA/lhc_samples/fleet_scenarios_conv2.db'\n",
    "with ThreadPoolExecutor(max_workers=6) as executor:\n",
    "    ### if db file has fleet use function read_fleet_from_db else use read_ladris_from_db\n",
    "    if 'fleet' in dbFile:\n",
    "        for result in executor.map(read_fleet_from_db, queries):\n",
    "            comb_scenarios.update(result)        \n",
    "    else:\n",
    "        for result in executor.map(read_ladris_from_db, queries):\n",
    "            comb_scenarios.update(result)    \n",
    "\n",
    "print(len(comb_scenarios))"
   ]
  },
  {
   "cell_type": "code",
   "execution_count": 221,
   "metadata": {},
   "outputs": [
    {
     "name": "stdout",
     "output_type": "stream",
     "text": [
      "3980\n"
     ]
    }
   ],
   "source": [
    "### join 3 sqlite database files\n",
    "#dbFile1 = '/home/pfoytik/rtepm/EMA/lhc_samples/guid_blocked_ladris_scenarios.db'\n",
    "dbFile2 = '/home/pfoytik/rtepm/EMA/lhc_samples/ladris_scenarios_conv1.db'\n",
    "dbFile3 = '/home/pfoytik/rtepm/EMA/lhc_samples/ladris_scenarios_conv2.db'\n",
    "\n",
    "#dbFile1 = '/home/pfoytik/rtepm/EMA/lhc_samples/fleet_roadBlocked_scenarios.db'\n",
    "#dbFile2 = '/home/pfoytik/rtepm/EMA/lhc_samples/fleet_scenarios_conv1.db'\n",
    "#dbFile3 = '/home/pfoytik/rtepm/EMA/lhc_samples/fleet_scenarios_conv2.db'\n",
    "dbFiles = [dbFile2, dbFile3]\n",
    "comb_scenarios = {}\n",
    "scenCount = 0\n",
    "for dbFile in dbFiles:\n",
    "    with ThreadPoolExecutor(max_workers=6) as executor:\n",
    "        ### if db file has fleet use function read_fleet_from_db else use read_ladris_from_db\n",
    "        if 'fleet' in dbFile:\n",
    "            for result in executor.map(read_fleet_from_db, queries):\n",
    "                comb_scenarios.update(result)        \n",
    "        else:\n",
    "            for result in executor.map(read_ladris_from_db, queries):\n",
    "                for key, value in result.items():\n",
    "                    if key in comb_scenarios:\n",
    "                        new_key = scenCount + int(key)\n",
    "                        scenCount += 1\n",
    "                        comb_scenarios[new_key] = value\n",
    "                    else:\n",
    "                        comb_scenarios[key] = value \n",
    "print(len(comb_scenarios))"
   ]
  },
  {
   "cell_type": "markdown",
   "metadata": {},
   "source": [
    "# Get Ladris Roads\n",
    "- Potential is measured as Lanes * Speed * Length"
   ]
  },
  {
   "cell_type": "code",
   "execution_count": 222,
   "metadata": {},
   "outputs": [],
   "source": [
    "roadFile = '../lhc_samples/data/ladris/C27F9DE4CE6780696685FB4A4E31E242_orig'\n",
    "with open(roadFile, 'r') as f:\n",
    "    data = json.load(f)\n",
    "\n",
    "ladris_latlong_dict = {}\n",
    "ladris_potential_dict = {}\n",
    "modified_dict = {}\n",
    "\n",
    "for i in data:\n",
    "    #print(i)\n",
    "    ladris_latlong_dict[i['AC91D0B60F78BEFB85DE39CD9C3D2623']] = i['geometry']\n",
    "    lanes = i['num_lanes']\n",
    "    speed = i['speed_mph']\n",
    "    ### convert speed to m/s\n",
    "    speed = speed * 0.44704\n",
    "    length = i['length_meters']\n",
    "    ladris_potential_dict[i['AC91D0B60F78BEFB85DE39CD9C3D2623']] = lanes * speed# * length"
   ]
  },
  {
   "cell_type": "markdown",
   "metadata": {},
   "source": [
    "# !!!Length seems to give extra potential to low potential roads!!!!"
   ]
  },
  {
   "cell_type": "code",
   "execution_count": 223,
   "metadata": {},
   "outputs": [
    {
     "data": {
      "text/plain": [
       "21.45792"
      ]
     },
     "execution_count": 223,
     "metadata": {},
     "output_type": "execute_result"
    }
   ],
   "source": [
    "ladris_potential_dict[335090]"
   ]
  },
  {
   "cell_type": "markdown",
   "metadata": {},
   "source": [
    "# Get Fleet Roads"
   ]
  },
  {
   "cell_type": "code",
   "execution_count": 224,
   "metadata": {},
   "outputs": [],
   "source": [
    "### read segment id's from ../lhc_samples/data/fleet/segments.xml\n",
    "tree = ET.parse('../lhc_samples/data/fleet/segments.xml')\n",
    "root = tree.getroot()\n",
    "\n",
    "fleet_segment_dict = {}\n",
    "fleet_potential_dict = {}\n",
    "for child in root:\n",
    "    fleet_segment_dict[child.find('ID').text] = child.find('Link_ID').text\n",
    "    lanes = int(child.find('Number_of_Lanes').text)\n",
    "    speed = int(child.find('Freeflow_Speed').text)\n",
    "    fleet_potential_dict[child.find('ID').text] = lanes * speed\n",
    "\n",
    "### read ../lhcsamples/data/fleet/links.xml\n",
    "tree = ET.parse('../lhc_samples/data/fleet/links.xml')\n",
    "root = tree.getroot()\n",
    "\n",
    "fleet_link_dict = {}\n",
    "fleet_name_dict = {}\n",
    "for child in root:\n",
    "    fleet_link_dict[child.find('ID').text] = [child.find('ANode').text, child.find('BNode').text]    \n",
    "    fleet_name_dict[child.find('ID').text] = child.find('Name').text\n",
    "\n",
    "### read ../lhcsamples/data/fleet/nodes.xml and get lat long for BNode of each fleet_link_dict\n",
    "tree = ET.parse('../lhc_samples/data/fleet/nodes.xml')\n",
    "root = tree.getroot()\n",
    "\n",
    "fleet_node_dict = {}\n",
    "for child in root:\n",
    "    fleet_node_dict[child.find('ID').text] = [child.find('Latitude').text, child.find('Longitude').text]\n",
    "\n",
    "fleet_lat_long_dict = {}\n",
    "### for each segment in fleet_segment_dict, get the link_id, from fleet_link_dict get the BNode, from fleet_node_dict get the lat long\n",
    "for segment in fleet_segment_dict:\n",
    "    link_id = fleet_segment_dict[segment]\n",
    "    anode = fleet_link_dict[link_id][0]\n",
    "    bnode = fleet_link_dict[link_id][1]\n",
    "    lat_long = [fleet_node_dict[anode], fleet_node_dict[bnode]]\n",
    "    fleet_lat_long_dict[int(segment)] = [[float(lat_long[0][1]), float(lat_long[0][0])],[float(lat_long[1][1]), float(lat_long[1][0])]]"
   ]
  },
  {
   "cell_type": "code",
   "execution_count": 225,
   "metadata": {},
   "outputs": [],
   "source": [
    "df_results = pd.DataFrame([x[1] for x in comb_scenarios.values()])\n",
    "\n",
    "dataDict = {}\n",
    "for k in comb_scenarios.keys():\n",
    "    for link in comb_scenarios[k][0]:        \n",
    "        if link in dataDict.keys():\n",
    "            pass\n",
    "        else:\n",
    "            #if link in link_ids:\n",
    "            dataDict[link] = []   \n",
    "\n",
    "for k in comb_scenarios.keys():\n",
    "    for i in dataDict.keys():\n",
    "        if i in comb_scenarios[k][0]:\n",
    "            #if link in link_ids:\n",
    "            dataDict[i].append(1)\n",
    "        else:\n",
    "            #if link in link_ids:\n",
    "            dataDict[i].append(0) \n",
    "\n",
    "df = pd.DataFrame(dataDict)\n",
    "\n"
   ]
  },
  {
   "cell_type": "code",
   "execution_count": 226,
   "metadata": {},
   "outputs": [
    {
     "data": {
      "text/html": [
       "<div>\n",
       "<style scoped>\n",
       "    .dataframe tbody tr th:only-of-type {\n",
       "        vertical-align: middle;\n",
       "    }\n",
       "\n",
       "    .dataframe tbody tr th {\n",
       "        vertical-align: top;\n",
       "    }\n",
       "\n",
       "    .dataframe thead th {\n",
       "        text-align: right;\n",
       "    }\n",
       "</style>\n",
       "<table border=\"1\" class=\"dataframe\">\n",
       "  <thead>\n",
       "    <tr style=\"text-align: right;\">\n",
       "      <th></th>\n",
       "      <th>0</th>\n",
       "      <th>minutes</th>\n",
       "      <th>hours</th>\n",
       "    </tr>\n",
       "  </thead>\n",
       "  <tbody>\n",
       "    <tr>\n",
       "      <th>count</th>\n",
       "      <td>3980.000000</td>\n",
       "      <td>3980.000000</td>\n",
       "      <td>3980.000000</td>\n",
       "    </tr>\n",
       "    <tr>\n",
       "      <th>mean</th>\n",
       "      <td>4.621546</td>\n",
       "      <td>277.292735</td>\n",
       "      <td>4.621546</td>\n",
       "    </tr>\n",
       "    <tr>\n",
       "      <th>std</th>\n",
       "      <td>1.209052</td>\n",
       "      <td>72.543102</td>\n",
       "      <td>1.209052</td>\n",
       "    </tr>\n",
       "    <tr>\n",
       "      <th>min</th>\n",
       "      <td>3.624039</td>\n",
       "      <td>217.442350</td>\n",
       "      <td>3.624039</td>\n",
       "    </tr>\n",
       "    <tr>\n",
       "      <th>25%</th>\n",
       "      <td>3.793138</td>\n",
       "      <td>227.588265</td>\n",
       "      <td>3.793138</td>\n",
       "    </tr>\n",
       "    <tr>\n",
       "      <th>50%</th>\n",
       "      <td>4.140205</td>\n",
       "      <td>248.412295</td>\n",
       "      <td>4.140205</td>\n",
       "    </tr>\n",
       "    <tr>\n",
       "      <th>75%</th>\n",
       "      <td>5.171863</td>\n",
       "      <td>310.311787</td>\n",
       "      <td>5.171863</td>\n",
       "    </tr>\n",
       "    <tr>\n",
       "      <th>max</th>\n",
       "      <td>10.639947</td>\n",
       "      <td>638.396830</td>\n",
       "      <td>10.639947</td>\n",
       "    </tr>\n",
       "  </tbody>\n",
       "</table>\n",
       "</div>"
      ],
      "text/plain": [
       "                 0      minutes        hours\n",
       "count  3980.000000  3980.000000  3980.000000\n",
       "mean      4.621546   277.292735     4.621546\n",
       "std       1.209052    72.543102     1.209052\n",
       "min       3.624039   217.442350     3.624039\n",
       "25%       3.793138   227.588265     3.793138\n",
       "50%       4.140205   248.412295     4.140205\n",
       "75%       5.171863   310.311787     5.171863\n",
       "max      10.639947   638.396830    10.639947"
      ]
     },
     "execution_count": 226,
     "metadata": {},
     "output_type": "execute_result"
    }
   ],
   "source": [
    "if 'ladris' in dbFile:\n",
    "    df_results['minutes'] = df_results[0] * 60\n",
    "    df_results['hours'] = df_results[0]\n",
    "else:\n",
    "    ### create a new column for the df_results called minutes that is equal to df_results[0] / 60\n",
    "    df_results['minutes'] = df_results[0] / 60\n",
    "    ### create a new column for df_results called hours that is equal to df_results[0] / 3600\n",
    "    df_results['hours'] = df_results[0] / 3600\n",
    "\n",
    "df_results.describe()"
   ]
  },
  {
   "cell_type": "code",
   "execution_count": 227,
   "metadata": {},
   "outputs": [
    {
     "data": {
      "image/png": "[encoded data removed]",
      "text/plain": [
       "<Figure size 640x480 with 1 Axes>"
      ]
     },
     "metadata": {},
     "output_type": "display_data"
    }
   ],
   "source": [
    "### Plot histogram of df_results\n",
    "import matplotlib.pyplot as plt\n",
    "plt.hist(df_results['hours'], bins=50)\n",
    "plt.xlabel('Travel Time (seconds)')\n",
    "plt.ylabel('Frequency')\n",
    "plt.title('Histogram of Travel Time')\n",
    "plt.show()"
   ]
  },
  {
   "cell_type": "code",
   "execution_count": 228,
   "metadata": {},
   "outputs": [
    {
     "data": {
      "text/plain": [
       "0       3.879646\n",
       "1       4.497688\n",
       "2       4.507523\n",
       "3       4.110474\n",
       "4       6.261405\n",
       "          ...   \n",
       "3975    4.119792\n",
       "3976    4.583354\n",
       "3977    5.270471\n",
       "3978    3.792136\n",
       "3979    3.789124\n",
       "Name: hours, Length: 3980, dtype: float64"
      ]
     },
     "execution_count": 228,
     "metadata": {},
     "output_type": "execute_result"
    }
   ],
   "source": [
    "df_results['hours']"
   ]
  },
  {
   "cell_type": "code",
   "execution_count": 229,
   "metadata": {},
   "outputs": [
    {
     "data": {
      "text/html": [
       "<div>\n",
       "<style scoped>\n",
       "    .dataframe tbody tr th:only-of-type {\n",
       "        vertical-align: middle;\n",
       "    }\n",
       "\n",
       "    .dataframe tbody tr th {\n",
       "        vertical-align: top;\n",
       "    }\n",
       "\n",
       "    .dataframe thead th {\n",
       "        text-align: right;\n",
       "    }\n",
       "</style>\n",
       "<table border=\"1\" class=\"dataframe\">\n",
       "  <thead>\n",
       "    <tr style=\"text-align: right;\">\n",
       "      <th></th>\n",
       "      <th>0</th>\n",
       "      <th>minutes</th>\n",
       "      <th>hours</th>\n",
       "    </tr>\n",
       "  </thead>\n",
       "  <tbody>\n",
       "    <tr>\n",
       "      <th>count</th>\n",
       "      <td>2274.000000</td>\n",
       "      <td>2274.000000</td>\n",
       "      <td>2274.000000</td>\n",
       "    </tr>\n",
       "    <tr>\n",
       "      <th>mean</th>\n",
       "      <td>5.237209</td>\n",
       "      <td>314.232546</td>\n",
       "      <td>5.237209</td>\n",
       "    </tr>\n",
       "    <tr>\n",
       "      <th>std</th>\n",
       "      <td>1.292862</td>\n",
       "      <td>77.571748</td>\n",
       "      <td>1.292862</td>\n",
       "    </tr>\n",
       "    <tr>\n",
       "      <th>min</th>\n",
       "      <td>4.000374</td>\n",
       "      <td>240.022467</td>\n",
       "      <td>4.000374</td>\n",
       "    </tr>\n",
       "    <tr>\n",
       "      <th>25%</th>\n",
       "      <td>4.275487</td>\n",
       "      <td>256.529234</td>\n",
       "      <td>4.275487</td>\n",
       "    </tr>\n",
       "    <tr>\n",
       "      <th>50%</th>\n",
       "      <td>4.948092</td>\n",
       "      <td>296.885508</td>\n",
       "      <td>4.948092</td>\n",
       "    </tr>\n",
       "    <tr>\n",
       "      <th>75%</th>\n",
       "      <td>5.575655</td>\n",
       "      <td>334.539285</td>\n",
       "      <td>5.575655</td>\n",
       "    </tr>\n",
       "    <tr>\n",
       "      <th>max</th>\n",
       "      <td>10.639947</td>\n",
       "      <td>638.396830</td>\n",
       "      <td>10.639947</td>\n",
       "    </tr>\n",
       "  </tbody>\n",
       "</table>\n",
       "</div>"
      ],
      "text/plain": [
       "                 0      minutes        hours\n",
       "count  2274.000000  2274.000000  2274.000000\n",
       "mean      5.237209   314.232546     5.237209\n",
       "std       1.292862    77.571748     1.292862\n",
       "min       4.000374   240.022467     4.000374\n",
       "25%       4.275487   256.529234     4.275487\n",
       "50%       4.948092   296.885508     4.948092\n",
       "75%       5.575655   334.539285     5.575655\n",
       "max      10.639947   638.396830    10.639947"
      ]
     },
     "execution_count": 229,
     "metadata": {},
     "output_type": "execute_result"
    }
   ],
   "source": [
    "\n",
    "### get indexs of df_results for df_results['hours'] >= 6.5\n",
    "idx = df_results[df_results['hours'] >= 4].index\n",
    "### get indexs of df_results for df_results['hours'] < 6.5\n",
    "idx2 = df_results[df_results['hours'] < 4].index\n",
    "\n",
    "### describe df_results for the indexs of idx\n",
    "df_results.loc[idx].describe()"
   ]
  },
  {
   "cell_type": "code",
   "execution_count": 230,
   "metadata": {},
   "outputs": [],
   "source": [
    "experiments = df\n",
    "lowExperiments = experiments.loc[idx2]\n",
    "highExperiments = experiments.loc[idx]\n",
    "### Create outcomes as an array of df_results\n",
    "outcomes = list(df_results['hours'].values)\n",
    "lowOutcomes = list(df_results.loc[idx2]['hours'].values)\n",
    "highOutcomes = list(df_results.loc[idx]['hours'].values)"
   ]
  },
  {
   "cell_type": "code",
   "execution_count": 231,
   "metadata": {},
   "outputs": [
    {
     "data": {
      "text/plain": [
       "count    2274.000000\n",
       "mean        5.237209\n",
       "std         1.292862\n",
       "min         4.000374\n",
       "25%         4.275487\n",
       "50%         4.948092\n",
       "75%         5.575655\n",
       "max        10.639947\n",
       "dtype: float64"
      ]
     },
     "execution_count": 231,
     "metadata": {},
     "output_type": "execute_result"
    }
   ],
   "source": [
    "### describe highOutcomes\n",
    "pd.Series(highOutcomes).describe()"
   ]
  },
  {
   "cell_type": "code",
   "execution_count": 232,
   "metadata": {},
   "outputs": [
    {
     "data": {
      "image/png": "[encoded data removed]",
      "text/plain": [
       "<Figure size 1000x1000 with 3 Axes>"
      ]
     },
     "metadata": {},
     "output_type": "display_data"
    }
   ],
   "source": [
    "import matplotlib.pyplot as plt\n",
    "\n",
    "### create three subplots of the outcomes\n",
    "fig, ax = plt.subplots(3, 1, figsize=(10, 10))\n",
    "ax[0].hist(outcomes, bins=20)\n",
    "ax[0].set_title('All outcomes')\n",
    "ax[1].hist(lowOutcomes, bins=20)\n",
    "ax[1].set_title('Outcomes < 6.5')\n",
    "ax[2].hist(highOutcomes, bins=20)\n",
    "ax[2].set_title('Outcomes >= 6.5')\n",
    "plt.tight_layout()\n",
    "plt.show()\n"
   ]
  },
  {
   "cell_type": "markdown",
   "metadata": {},
   "source": [
    "# The list of segments that are associated with High critical evacuation times and are low on potential 0.5 lam1, 1.0 lam2\n",
    "## Ladris Critical Segments\n",
    "![image.png](images/ladris_critical_segments_2025-05-23.png)\n",
    "## Ladris Critical and Low Potential (CSI)\n",
    "![image.png](images/ladris_CSI_segments_2025-05-28.png)\n",
    "## Fleet Critical Segments\n",
    "![image.png](images/fleet_critical_segments.png)\n",
    "## Fleet Critical and Low Potential (CSI)\n",
    "![image-2.png](images/fleet_CSI_segments.png)\n",
    "\n"
   ]
  },
  {
   "cell_type": "markdown",
   "metadata": {},
   "source": [
    "# Custom surprising critical measure\n",
    "$$\n",
    "Z=λ_1 × EvacuationTime − λ_2 × ScenarioPotential\n",
    "$$\n",
    "- Evacuation time is time 90% of population reaches destination\n",
    "- Scenario Potential is the total potential measure of closed segments for that scenario"
   ]
  },
  {
   "cell_type": "code",
   "execution_count": 233,
   "metadata": {},
   "outputs": [
    {
     "data": {
      "text/html": [
       "<div>\n",
       "<style scoped>\n",
       "    .dataframe tbody tr th:only-of-type {\n",
       "        vertical-align: middle;\n",
       "    }\n",
       "\n",
       "    .dataframe tbody tr th {\n",
       "        vertical-align: top;\n",
       "    }\n",
       "\n",
       "    .dataframe thead th {\n",
       "        text-align: right;\n",
       "    }\n",
       "</style>\n",
       "<table border=\"1\" class=\"dataframe\">\n",
       "  <thead>\n",
       "    <tr style=\"text-align: right;\">\n",
       "      <th></th>\n",
       "      <th>334420</th>\n",
       "      <th>330512</th>\n",
       "      <th>329174</th>\n",
       "      <th>335525</th>\n",
       "      <th>328156</th>\n",
       "      <th>332329</th>\n",
       "      <th>338651</th>\n",
       "      <th>336153</th>\n",
       "      <th>342952</th>\n",
       "      <th>334250</th>\n",
       "      <th>...</th>\n",
       "      <th>343088</th>\n",
       "      <th>341386</th>\n",
       "      <th>344316</th>\n",
       "      <th>329431</th>\n",
       "      <th>333480</th>\n",
       "      <th>329056</th>\n",
       "      <th>332438</th>\n",
       "      <th>335189</th>\n",
       "      <th>341324</th>\n",
       "      <th>335880</th>\n",
       "    </tr>\n",
       "  </thead>\n",
       "  <tbody>\n",
       "    <tr>\n",
       "      <th>0</th>\n",
       "      <td>30.39872</td>\n",
       "      <td>30.39872</td>\n",
       "      <td>30.39872</td>\n",
       "      <td>30.39872</td>\n",
       "      <td>21.45792</td>\n",
       "      <td>30.39872</td>\n",
       "      <td>39.33952</td>\n",
       "      <td>21.45792</td>\n",
       "      <td>21.45792</td>\n",
       "      <td>30.39872</td>\n",
       "      <td>...</td>\n",
       "      <td>0.00000</td>\n",
       "      <td>0.00000</td>\n",
       "      <td>0.00000</td>\n",
       "      <td>0.00000</td>\n",
       "      <td>0.00000</td>\n",
       "      <td>0.0</td>\n",
       "      <td>0.0</td>\n",
       "      <td>0.0</td>\n",
       "      <td>0.0</td>\n",
       "      <td>0.0</td>\n",
       "    </tr>\n",
       "    <tr>\n",
       "      <th>1</th>\n",
       "      <td>30.39872</td>\n",
       "      <td>30.39872</td>\n",
       "      <td>0.00000</td>\n",
       "      <td>0.00000</td>\n",
       "      <td>21.45792</td>\n",
       "      <td>30.39872</td>\n",
       "      <td>0.00000</td>\n",
       "      <td>0.00000</td>\n",
       "      <td>0.00000</td>\n",
       "      <td>30.39872</td>\n",
       "      <td>...</td>\n",
       "      <td>0.00000</td>\n",
       "      <td>0.00000</td>\n",
       "      <td>0.00000</td>\n",
       "      <td>0.00000</td>\n",
       "      <td>0.00000</td>\n",
       "      <td>0.0</td>\n",
       "      <td>0.0</td>\n",
       "      <td>0.0</td>\n",
       "      <td>0.0</td>\n",
       "      <td>0.0</td>\n",
       "    </tr>\n",
       "    <tr>\n",
       "      <th>2</th>\n",
       "      <td>30.39872</td>\n",
       "      <td>0.00000</td>\n",
       "      <td>0.00000</td>\n",
       "      <td>0.00000</td>\n",
       "      <td>0.00000</td>\n",
       "      <td>0.00000</td>\n",
       "      <td>39.33952</td>\n",
       "      <td>21.45792</td>\n",
       "      <td>21.45792</td>\n",
       "      <td>0.00000</td>\n",
       "      <td>...</td>\n",
       "      <td>0.00000</td>\n",
       "      <td>0.00000</td>\n",
       "      <td>0.00000</td>\n",
       "      <td>0.00000</td>\n",
       "      <td>0.00000</td>\n",
       "      <td>0.0</td>\n",
       "      <td>0.0</td>\n",
       "      <td>0.0</td>\n",
       "      <td>0.0</td>\n",
       "      <td>0.0</td>\n",
       "    </tr>\n",
       "    <tr>\n",
       "      <th>3</th>\n",
       "      <td>0.00000</td>\n",
       "      <td>0.00000</td>\n",
       "      <td>30.39872</td>\n",
       "      <td>30.39872</td>\n",
       "      <td>0.00000</td>\n",
       "      <td>0.00000</td>\n",
       "      <td>39.33952</td>\n",
       "      <td>21.45792</td>\n",
       "      <td>0.00000</td>\n",
       "      <td>0.00000</td>\n",
       "      <td>...</td>\n",
       "      <td>0.00000</td>\n",
       "      <td>0.00000</td>\n",
       "      <td>0.00000</td>\n",
       "      <td>0.00000</td>\n",
       "      <td>0.00000</td>\n",
       "      <td>0.0</td>\n",
       "      <td>0.0</td>\n",
       "      <td>0.0</td>\n",
       "      <td>0.0</td>\n",
       "      <td>0.0</td>\n",
       "    </tr>\n",
       "    <tr>\n",
       "      <th>4</th>\n",
       "      <td>0.00000</td>\n",
       "      <td>30.39872</td>\n",
       "      <td>0.00000</td>\n",
       "      <td>0.00000</td>\n",
       "      <td>21.45792</td>\n",
       "      <td>0.00000</td>\n",
       "      <td>0.00000</td>\n",
       "      <td>0.00000</td>\n",
       "      <td>0.00000</td>\n",
       "      <td>30.39872</td>\n",
       "      <td>...</td>\n",
       "      <td>21.45792</td>\n",
       "      <td>21.45792</td>\n",
       "      <td>10.72896</td>\n",
       "      <td>30.39872</td>\n",
       "      <td>21.45792</td>\n",
       "      <td>0.0</td>\n",
       "      <td>0.0</td>\n",
       "      <td>0.0</td>\n",
       "      <td>0.0</td>\n",
       "      <td>0.0</td>\n",
       "    </tr>\n",
       "  </tbody>\n",
       "</table>\n",
       "<p>5 rows × 87 columns</p>\n",
       "</div>"
      ],
      "text/plain": [
       "     334420    330512    329174    335525    328156    332329    338651  \\\n",
       "0  30.39872  30.39872  30.39872  30.39872  21.45792  30.39872  39.33952   \n",
       "1  30.39872  30.39872   0.00000   0.00000  21.45792  30.39872   0.00000   \n",
       "2  30.39872   0.00000   0.00000   0.00000   0.00000   0.00000  39.33952   \n",
       "3   0.00000   0.00000  30.39872  30.39872   0.00000   0.00000  39.33952   \n",
       "4   0.00000  30.39872   0.00000   0.00000  21.45792   0.00000   0.00000   \n",
       "\n",
       "     336153    342952    334250  ...    343088    341386    344316    329431  \\\n",
       "0  21.45792  21.45792  30.39872  ...   0.00000   0.00000   0.00000   0.00000   \n",
       "1   0.00000   0.00000  30.39872  ...   0.00000   0.00000   0.00000   0.00000   \n",
       "2  21.45792  21.45792   0.00000  ...   0.00000   0.00000   0.00000   0.00000   \n",
       "3  21.45792   0.00000   0.00000  ...   0.00000   0.00000   0.00000   0.00000   \n",
       "4   0.00000   0.00000  30.39872  ...  21.45792  21.45792  10.72896  30.39872   \n",
       "\n",
       "     333480  329056  332438  335189  341324  335880  \n",
       "0   0.00000     0.0     0.0     0.0     0.0     0.0  \n",
       "1   0.00000     0.0     0.0     0.0     0.0     0.0  \n",
       "2   0.00000     0.0     0.0     0.0     0.0     0.0  \n",
       "3   0.00000     0.0     0.0     0.0     0.0     0.0  \n",
       "4  21.45792     0.0     0.0     0.0     0.0     0.0  \n",
       "\n",
       "[5 rows x 87 columns]"
      ]
     },
     "execution_count": 233,
     "metadata": {},
     "output_type": "execute_result"
    }
   ],
   "source": [
    "### create a new dataframe from df where each column is multiplied by the corresponding value in ladris_potential_dict\n",
    "ladris_potential_df = df.copy()\n",
    "for i in ladris_potential_dict:\n",
    "    if i in ladris_potential_df.columns:\n",
    "        ladris_potential_df[i] = ladris_potential_df[i] * ladris_potential_dict[i]\n",
    "\n",
    "ladris_potential_df.head()"
   ]
  },
  {
   "cell_type": "code",
   "execution_count": 234,
   "metadata": {},
   "outputs": [
    {
     "data": {
      "text/plain": [
       "0        0.00000\n",
       "1       21.45792\n",
       "2        0.00000\n",
       "3        0.00000\n",
       "4       21.45792\n",
       "          ...   \n",
       "3975     0.00000\n",
       "3976     0.00000\n",
       "3977     0.00000\n",
       "3978     0.00000\n",
       "3979     0.00000\n",
       "Name: 335090, Length: 3980, dtype: float64"
      ]
     },
     "execution_count": 234,
     "metadata": {},
     "output_type": "execute_result"
    }
   ],
   "source": [
    "ladris_potential_df[335090]"
   ]
  },
  {
   "cell_type": "code",
   "execution_count": 235,
   "metadata": {},
   "outputs": [
    {
     "name": "stdout",
     "output_type": "stream",
     "text": [
      "334420    30.39872\n",
      "330512    30.39872\n",
      "328156    21.45792\n",
      "332329    30.39872\n",
      "334250    30.39872\n",
      "329644    30.39872\n",
      "335451    21.45792\n",
      "342669    21.45792\n",
      "336216    30.39872\n",
      "343703    39.33952\n",
      "331077    21.45792\n",
      "332206    10.72896\n",
      "332229    21.45792\n",
      "333272    26.82240\n",
      "329802    30.39872\n",
      "332620    30.39872\n",
      "329502    39.33952\n",
      "336276    33.08096\n",
      "341121    30.39872\n",
      "329670    21.45792\n",
      "334931    21.45792\n",
      "333128    30.39872\n",
      "330184    21.45792\n",
      "342002    30.39872\n",
      "344238    30.39872\n",
      "336066    30.39872\n",
      "335883    21.45792\n",
      "334473    35.76320\n",
      "336067    30.39872\n",
      "335197    30.39872\n",
      "333582    33.08096\n",
      "344407    60.79744\n",
      "343312    21.45792\n",
      "335090    21.45792\n",
      "335976    30.39872\n",
      "344422    19.66976\n",
      "Name: 1, dtype: float64\n"
     ]
    }
   ],
   "source": [
    "### print the columns that are greater than 0 for ladris_potential_df.iloc[1]\n",
    "print(ladris_potential_df.iloc[1][ladris_potential_df.iloc[1] > 0])\n",
    "\n",
    "\n"
   ]
  },
  {
   "cell_type": "code",
   "execution_count": 236,
   "metadata": {},
   "outputs": [
    {
     "data": {
      "text/html": [
       "<div>\n",
       "<style scoped>\n",
       "    .dataframe tbody tr th:only-of-type {\n",
       "        vertical-align: middle;\n",
       "    }\n",
       "\n",
       "    .dataframe tbody tr th {\n",
       "        vertical-align: top;\n",
       "    }\n",
       "\n",
       "    .dataframe thead th {\n",
       "        text-align: right;\n",
       "    }\n",
       "</style>\n",
       "<table border=\"1\" class=\"dataframe\">\n",
       "  <thead>\n",
       "    <tr style=\"text-align: right;\">\n",
       "      <th></th>\n",
       "      <th>334420</th>\n",
       "      <th>330512</th>\n",
       "      <th>329174</th>\n",
       "      <th>335525</th>\n",
       "      <th>328156</th>\n",
       "      <th>332329</th>\n",
       "      <th>338651</th>\n",
       "      <th>336153</th>\n",
       "      <th>342952</th>\n",
       "      <th>334250</th>\n",
       "      <th>...</th>\n",
       "      <th>344316</th>\n",
       "      <th>329431</th>\n",
       "      <th>333480</th>\n",
       "      <th>329056</th>\n",
       "      <th>332438</th>\n",
       "      <th>335189</th>\n",
       "      <th>341324</th>\n",
       "      <th>335880</th>\n",
       "      <th>sum</th>\n",
       "      <th>count</th>\n",
       "    </tr>\n",
       "  </thead>\n",
       "  <tbody>\n",
       "    <tr>\n",
       "      <th>0</th>\n",
       "      <td>30.39872</td>\n",
       "      <td>30.39872</td>\n",
       "      <td>30.39872</td>\n",
       "      <td>30.39872</td>\n",
       "      <td>21.45792</td>\n",
       "      <td>30.39872</td>\n",
       "      <td>39.33952</td>\n",
       "      <td>21.45792</td>\n",
       "      <td>21.45792</td>\n",
       "      <td>30.39872</td>\n",
       "      <td>...</td>\n",
       "      <td>0.00000</td>\n",
       "      <td>0.00000</td>\n",
       "      <td>0.00000</td>\n",
       "      <td>0.0</td>\n",
       "      <td>0.0</td>\n",
       "      <td>0.0</td>\n",
       "      <td>0.0</td>\n",
       "      <td>0.0</td>\n",
       "      <td>380.87808</td>\n",
       "      <td>15</td>\n",
       "    </tr>\n",
       "    <tr>\n",
       "      <th>1</th>\n",
       "      <td>30.39872</td>\n",
       "      <td>30.39872</td>\n",
       "      <td>0.00000</td>\n",
       "      <td>0.00000</td>\n",
       "      <td>21.45792</td>\n",
       "      <td>30.39872</td>\n",
       "      <td>0.00000</td>\n",
       "      <td>0.00000</td>\n",
       "      <td>0.00000</td>\n",
       "      <td>30.39872</td>\n",
       "      <td>...</td>\n",
       "      <td>0.00000</td>\n",
       "      <td>0.00000</td>\n",
       "      <td>0.00000</td>\n",
       "      <td>0.0</td>\n",
       "      <td>0.0</td>\n",
       "      <td>0.0</td>\n",
       "      <td>0.0</td>\n",
       "      <td>0.0</td>\n",
       "      <td>1021.03936</td>\n",
       "      <td>37</td>\n",
       "    </tr>\n",
       "    <tr>\n",
       "      <th>2</th>\n",
       "      <td>30.39872</td>\n",
       "      <td>0.00000</td>\n",
       "      <td>0.00000</td>\n",
       "      <td>0.00000</td>\n",
       "      <td>0.00000</td>\n",
       "      <td>0.00000</td>\n",
       "      <td>39.33952</td>\n",
       "      <td>21.45792</td>\n",
       "      <td>21.45792</td>\n",
       "      <td>0.00000</td>\n",
       "      <td>...</td>\n",
       "      <td>0.00000</td>\n",
       "      <td>0.00000</td>\n",
       "      <td>0.00000</td>\n",
       "      <td>0.0</td>\n",
       "      <td>0.0</td>\n",
       "      <td>0.0</td>\n",
       "      <td>0.0</td>\n",
       "      <td>0.0</td>\n",
       "      <td>1384.92992</td>\n",
       "      <td>47</td>\n",
       "    </tr>\n",
       "    <tr>\n",
       "      <th>3</th>\n",
       "      <td>0.00000</td>\n",
       "      <td>0.00000</td>\n",
       "      <td>30.39872</td>\n",
       "      <td>30.39872</td>\n",
       "      <td>0.00000</td>\n",
       "      <td>0.00000</td>\n",
       "      <td>39.33952</td>\n",
       "      <td>21.45792</td>\n",
       "      <td>0.00000</td>\n",
       "      <td>0.00000</td>\n",
       "      <td>...</td>\n",
       "      <td>0.00000</td>\n",
       "      <td>0.00000</td>\n",
       "      <td>0.00000</td>\n",
       "      <td>0.0</td>\n",
       "      <td>0.0</td>\n",
       "      <td>0.0</td>\n",
       "      <td>0.0</td>\n",
       "      <td>0.0</td>\n",
       "      <td>1200.74944</td>\n",
       "      <td>39</td>\n",
       "    </tr>\n",
       "    <tr>\n",
       "      <th>4</th>\n",
       "      <td>0.00000</td>\n",
       "      <td>30.39872</td>\n",
       "      <td>0.00000</td>\n",
       "      <td>0.00000</td>\n",
       "      <td>21.45792</td>\n",
       "      <td>0.00000</td>\n",
       "      <td>0.00000</td>\n",
       "      <td>0.00000</td>\n",
       "      <td>0.00000</td>\n",
       "      <td>30.39872</td>\n",
       "      <td>...</td>\n",
       "      <td>10.72896</td>\n",
       "      <td>30.39872</td>\n",
       "      <td>21.45792</td>\n",
       "      <td>0.0</td>\n",
       "      <td>0.0</td>\n",
       "      <td>0.0</td>\n",
       "      <td>0.0</td>\n",
       "      <td>0.0</td>\n",
       "      <td>1301.78048</td>\n",
       "      <td>44</td>\n",
       "    </tr>\n",
       "    <tr>\n",
       "      <th>...</th>\n",
       "      <td>...</td>\n",
       "      <td>...</td>\n",
       "      <td>...</td>\n",
       "      <td>...</td>\n",
       "      <td>...</td>\n",
       "      <td>...</td>\n",
       "      <td>...</td>\n",
       "      <td>...</td>\n",
       "      <td>...</td>\n",
       "      <td>...</td>\n",
       "      <td>...</td>\n",
       "      <td>...</td>\n",
       "      <td>...</td>\n",
       "      <td>...</td>\n",
       "      <td>...</td>\n",
       "      <td>...</td>\n",
       "      <td>...</td>\n",
       "      <td>...</td>\n",
       "      <td>...</td>\n",
       "      <td>...</td>\n",
       "      <td>...</td>\n",
       "    </tr>\n",
       "    <tr>\n",
       "      <th>3975</th>\n",
       "      <td>0.00000</td>\n",
       "      <td>0.00000</td>\n",
       "      <td>0.00000</td>\n",
       "      <td>30.39872</td>\n",
       "      <td>21.45792</td>\n",
       "      <td>30.39872</td>\n",
       "      <td>39.33952</td>\n",
       "      <td>21.45792</td>\n",
       "      <td>0.00000</td>\n",
       "      <td>0.00000</td>\n",
       "      <td>...</td>\n",
       "      <td>0.00000</td>\n",
       "      <td>0.00000</td>\n",
       "      <td>21.45792</td>\n",
       "      <td>0.0</td>\n",
       "      <td>0.0</td>\n",
       "      <td>0.0</td>\n",
       "      <td>0.0</td>\n",
       "      <td>0.0</td>\n",
       "      <td>449.72224</td>\n",
       "      <td>16</td>\n",
       "    </tr>\n",
       "    <tr>\n",
       "      <th>3976</th>\n",
       "      <td>0.00000</td>\n",
       "      <td>0.00000</td>\n",
       "      <td>30.39872</td>\n",
       "      <td>0.00000</td>\n",
       "      <td>0.00000</td>\n",
       "      <td>0.00000</td>\n",
       "      <td>0.00000</td>\n",
       "      <td>21.45792</td>\n",
       "      <td>0.00000</td>\n",
       "      <td>0.00000</td>\n",
       "      <td>...</td>\n",
       "      <td>0.00000</td>\n",
       "      <td>0.00000</td>\n",
       "      <td>0.00000</td>\n",
       "      <td>0.0</td>\n",
       "      <td>0.0</td>\n",
       "      <td>0.0</td>\n",
       "      <td>0.0</td>\n",
       "      <td>0.0</td>\n",
       "      <td>362.10240</td>\n",
       "      <td>13</td>\n",
       "    </tr>\n",
       "    <tr>\n",
       "      <th>3977</th>\n",
       "      <td>30.39872</td>\n",
       "      <td>0.00000</td>\n",
       "      <td>30.39872</td>\n",
       "      <td>30.39872</td>\n",
       "      <td>21.45792</td>\n",
       "      <td>30.39872</td>\n",
       "      <td>39.33952</td>\n",
       "      <td>0.00000</td>\n",
       "      <td>0.00000</td>\n",
       "      <td>0.00000</td>\n",
       "      <td>...</td>\n",
       "      <td>0.00000</td>\n",
       "      <td>0.00000</td>\n",
       "      <td>0.00000</td>\n",
       "      <td>0.0</td>\n",
       "      <td>0.0</td>\n",
       "      <td>0.0</td>\n",
       "      <td>0.0</td>\n",
       "      <td>0.0</td>\n",
       "      <td>428.26432</td>\n",
       "      <td>14</td>\n",
       "    </tr>\n",
       "    <tr>\n",
       "      <th>3978</th>\n",
       "      <td>0.00000</td>\n",
       "      <td>0.00000</td>\n",
       "      <td>0.00000</td>\n",
       "      <td>0.00000</td>\n",
       "      <td>0.00000</td>\n",
       "      <td>0.00000</td>\n",
       "      <td>0.00000</td>\n",
       "      <td>0.00000</td>\n",
       "      <td>0.00000</td>\n",
       "      <td>0.00000</td>\n",
       "      <td>...</td>\n",
       "      <td>0.00000</td>\n",
       "      <td>0.00000</td>\n",
       "      <td>0.00000</td>\n",
       "      <td>0.0</td>\n",
       "      <td>0.0</td>\n",
       "      <td>0.0</td>\n",
       "      <td>0.0</td>\n",
       "      <td>0.0</td>\n",
       "      <td>0.00000</td>\n",
       "      <td>0</td>\n",
       "    </tr>\n",
       "    <tr>\n",
       "      <th>3979</th>\n",
       "      <td>0.00000</td>\n",
       "      <td>0.00000</td>\n",
       "      <td>0.00000</td>\n",
       "      <td>0.00000</td>\n",
       "      <td>0.00000</td>\n",
       "      <td>0.00000</td>\n",
       "      <td>0.00000</td>\n",
       "      <td>0.00000</td>\n",
       "      <td>0.00000</td>\n",
       "      <td>0.00000</td>\n",
       "      <td>...</td>\n",
       "      <td>0.00000</td>\n",
       "      <td>0.00000</td>\n",
       "      <td>0.00000</td>\n",
       "      <td>0.0</td>\n",
       "      <td>0.0</td>\n",
       "      <td>0.0</td>\n",
       "      <td>0.0</td>\n",
       "      <td>0.0</td>\n",
       "      <td>0.00000</td>\n",
       "      <td>0</td>\n",
       "    </tr>\n",
       "  </tbody>\n",
       "</table>\n",
       "<p>3980 rows × 89 columns</p>\n",
       "</div>"
      ],
      "text/plain": [
       "        334420    330512    329174    335525    328156    332329    338651  \\\n",
       "0     30.39872  30.39872  30.39872  30.39872  21.45792  30.39872  39.33952   \n",
       "1     30.39872  30.39872   0.00000   0.00000  21.45792  30.39872   0.00000   \n",
       "2     30.39872   0.00000   0.00000   0.00000   0.00000   0.00000  39.33952   \n",
       "3      0.00000   0.00000  30.39872  30.39872   0.00000   0.00000  39.33952   \n",
       "4      0.00000  30.39872   0.00000   0.00000  21.45792   0.00000   0.00000   \n",
       "...        ...       ...       ...       ...       ...       ...       ...   \n",
       "3975   0.00000   0.00000   0.00000  30.39872  21.45792  30.39872  39.33952   \n",
       "3976   0.00000   0.00000  30.39872   0.00000   0.00000   0.00000   0.00000   \n",
       "3977  30.39872   0.00000  30.39872  30.39872  21.45792  30.39872  39.33952   \n",
       "3978   0.00000   0.00000   0.00000   0.00000   0.00000   0.00000   0.00000   \n",
       "3979   0.00000   0.00000   0.00000   0.00000   0.00000   0.00000   0.00000   \n",
       "\n",
       "        336153    342952    334250  ...    344316    329431    333480  329056  \\\n",
       "0     21.45792  21.45792  30.39872  ...   0.00000   0.00000   0.00000     0.0   \n",
       "1      0.00000   0.00000  30.39872  ...   0.00000   0.00000   0.00000     0.0   \n",
       "2     21.45792  21.45792   0.00000  ...   0.00000   0.00000   0.00000     0.0   \n",
       "3     21.45792   0.00000   0.00000  ...   0.00000   0.00000   0.00000     0.0   \n",
       "4      0.00000   0.00000  30.39872  ...  10.72896  30.39872  21.45792     0.0   \n",
       "...        ...       ...       ...  ...       ...       ...       ...     ...   \n",
       "3975  21.45792   0.00000   0.00000  ...   0.00000   0.00000  21.45792     0.0   \n",
       "3976  21.45792   0.00000   0.00000  ...   0.00000   0.00000   0.00000     0.0   \n",
       "3977   0.00000   0.00000   0.00000  ...   0.00000   0.00000   0.00000     0.0   \n",
       "3978   0.00000   0.00000   0.00000  ...   0.00000   0.00000   0.00000     0.0   \n",
       "3979   0.00000   0.00000   0.00000  ...   0.00000   0.00000   0.00000     0.0   \n",
       "\n",
       "      332438  335189  341324  335880         sum  count  \n",
       "0        0.0     0.0     0.0     0.0   380.87808     15  \n",
       "1        0.0     0.0     0.0     0.0  1021.03936     37  \n",
       "2        0.0     0.0     0.0     0.0  1384.92992     47  \n",
       "3        0.0     0.0     0.0     0.0  1200.74944     39  \n",
       "4        0.0     0.0     0.0     0.0  1301.78048     44  \n",
       "...      ...     ...     ...     ...         ...    ...  \n",
       "3975     0.0     0.0     0.0     0.0   449.72224     16  \n",
       "3976     0.0     0.0     0.0     0.0   362.10240     13  \n",
       "3977     0.0     0.0     0.0     0.0   428.26432     14  \n",
       "3978     0.0     0.0     0.0     0.0     0.00000      0  \n",
       "3979     0.0     0.0     0.0     0.0     0.00000      0  \n",
       "\n",
       "[3980 rows x 89 columns]"
      ]
     },
     "execution_count": 236,
     "metadata": {},
     "output_type": "execute_result"
    }
   ],
   "source": [
    "### add a new column to ladris_potential_df that is the sum of all the columns\n",
    "ladris_potential_df['sum'] = ladris_potential_df.sum(axis=1)\n",
    "\n",
    "### create a new column in ladris_potential_df called 'count' that is the count of columns that are greater than 0\n",
    "ladris_potential_df['count'] = (ladris_potential_df > 0).sum(axis=1)\n",
    "\n",
    "ladris_potential_df"
   ]
  },
  {
   "cell_type": "code",
   "execution_count": 237,
   "metadata": {},
   "outputs": [
    {
     "data": {
      "text/html": [
       "<div>\n",
       "<style scoped>\n",
       "    .dataframe tbody tr th:only-of-type {\n",
       "        vertical-align: middle;\n",
       "    }\n",
       "\n",
       "    .dataframe tbody tr th {\n",
       "        vertical-align: top;\n",
       "    }\n",
       "\n",
       "    .dataframe thead th {\n",
       "        text-align: right;\n",
       "    }\n",
       "</style>\n",
       "<table border=\"1\" class=\"dataframe\">\n",
       "  <thead>\n",
       "    <tr style=\"text-align: right;\">\n",
       "      <th></th>\n",
       "      <th>0</th>\n",
       "      <th>minutes</th>\n",
       "      <th>hours</th>\n",
       "      <th>z</th>\n",
       "    </tr>\n",
       "  </thead>\n",
       "  <tbody>\n",
       "    <tr>\n",
       "      <th>0</th>\n",
       "      <td>3.879646</td>\n",
       "      <td>232.778743</td>\n",
       "      <td>3.879646</td>\n",
       "      <td>0.834153</td>\n",
       "    </tr>\n",
       "    <tr>\n",
       "      <th>1</th>\n",
       "      <td>4.497688</td>\n",
       "      <td>269.861260</td>\n",
       "      <td>4.497688</td>\n",
       "      <td>0.582264</td>\n",
       "    </tr>\n",
       "    <tr>\n",
       "      <th>2</th>\n",
       "      <td>4.507523</td>\n",
       "      <td>270.451407</td>\n",
       "      <td>4.507523</td>\n",
       "      <td>0.390408</td>\n",
       "    </tr>\n",
       "    <tr>\n",
       "      <th>3</th>\n",
       "      <td>4.110474</td>\n",
       "      <td>246.628428</td>\n",
       "      <td>4.110474</td>\n",
       "      <td>0.431631</td>\n",
       "    </tr>\n",
       "    <tr>\n",
       "      <th>4</th>\n",
       "      <td>6.261405</td>\n",
       "      <td>375.684273</td>\n",
       "      <td>6.261405</td>\n",
       "      <td>0.684554</td>\n",
       "    </tr>\n",
       "  </tbody>\n",
       "</table>\n",
       "</div>"
      ],
      "text/plain": [
       "          0     minutes     hours         z\n",
       "0  3.879646  232.778743  3.879646  0.834153\n",
       "1  4.497688  269.861260  4.497688  0.582264\n",
       "2  4.507523  270.451407  4.507523  0.390408\n",
       "3  4.110474  246.628428  4.110474  0.431631\n",
       "4  6.261405  375.684273  6.261405  0.684554"
      ]
     },
     "execution_count": 237,
     "metadata": {},
     "output_type": "execute_result"
    }
   ],
   "source": [
    "lam1 = 1\n",
    "lam2 = 1\n",
    "\n",
    "### create x as a normalized measure of df_results['hours'] to be values between 0 and 1\n",
    "normEvac = (df_results['hours'] - df_results['hours'].min()) / (df_results['hours'].max() - df_results['hours'].min())\n",
    "\n",
    "### creaet normPot as a normalized measure of ladris_potential_df['sum'] to be values between 0 and 1\n",
    "normPot = (ladris_potential_df['sum'] - ladris_potential_df['sum'].min()) / (ladris_potential_df['sum'].max() - ladris_potential_df['sum'].min())\n",
    "\n",
    "df_results['z'] = lam1*normEvac - lam2*normPot + lam2\n",
    "\n",
    "df_results.head()\n"
   ]
  },
  {
   "cell_type": "code",
   "execution_count": 238,
   "metadata": {},
   "outputs": [
    {
     "data": {
      "image/png": "[encoded data removed]",
      "text/plain": [
       "<Figure size 640x480 with 1 Axes>"
      ]
     },
     "metadata": {},
     "output_type": "display_data"
    }
   ],
   "source": [
    "### Plot histogram of df_results['z']\n",
    "plt.hist(df_results['z'], bins=20)\n",
    "plt.xlabel('z score')\n",
    "plt.ylabel('Frequency')\n",
    "plt.title('Histogram of z score')\n",
    "plt.show()"
   ]
  },
  {
   "cell_type": "code",
   "execution_count": 239,
   "metadata": {},
   "outputs": [
    {
     "data": {
      "text/plain": [
       "count    3980.000000\n",
       "mean        0.688284\n",
       "std         0.266550\n",
       "min         0.096573\n",
       "25%         0.431587\n",
       "50%         0.786496\n",
       "75%         0.871041\n",
       "max         1.629607\n",
       "Name: z, dtype: float64"
      ]
     },
     "execution_count": 239,
     "metadata": {},
     "output_type": "execute_result"
    }
   ],
   "source": [
    "df_results['z'].describe()"
   ]
  },
  {
   "cell_type": "code",
   "execution_count": 240,
   "metadata": {},
   "outputs": [
    {
     "data": {
      "text/html": [
       "<div>\n",
       "<style scoped>\n",
       "    .dataframe tbody tr th:only-of-type {\n",
       "        vertical-align: middle;\n",
       "    }\n",
       "\n",
       "    .dataframe tbody tr th {\n",
       "        vertical-align: top;\n",
       "    }\n",
       "\n",
       "    .dataframe thead th {\n",
       "        text-align: right;\n",
       "    }\n",
       "</style>\n",
       "<table border=\"1\" class=\"dataframe\">\n",
       "  <thead>\n",
       "    <tr style=\"text-align: right;\">\n",
       "      <th></th>\n",
       "      <th>334420</th>\n",
       "      <th>330512</th>\n",
       "      <th>329174</th>\n",
       "      <th>335525</th>\n",
       "      <th>328156</th>\n",
       "      <th>332329</th>\n",
       "      <th>338651</th>\n",
       "      <th>336153</th>\n",
       "      <th>342952</th>\n",
       "      <th>334250</th>\n",
       "      <th>...</th>\n",
       "      <th>343088</th>\n",
       "      <th>341386</th>\n",
       "      <th>344316</th>\n",
       "      <th>329431</th>\n",
       "      <th>333480</th>\n",
       "      <th>329056</th>\n",
       "      <th>332438</th>\n",
       "      <th>335189</th>\n",
       "      <th>341324</th>\n",
       "      <th>335880</th>\n",
       "    </tr>\n",
       "  </thead>\n",
       "  <tbody>\n",
       "    <tr>\n",
       "      <th>count</th>\n",
       "      <td>3980.000000</td>\n",
       "      <td>3980.000000</td>\n",
       "      <td>3980.000000</td>\n",
       "      <td>3980.000000</td>\n",
       "      <td>3980.000000</td>\n",
       "      <td>3980.000000</td>\n",
       "      <td>3980.000000</td>\n",
       "      <td>3980.000000</td>\n",
       "      <td>3980.000000</td>\n",
       "      <td>3980.000000</td>\n",
       "      <td>...</td>\n",
       "      <td>3980.000000</td>\n",
       "      <td>3980.000000</td>\n",
       "      <td>3980.000000</td>\n",
       "      <td>3980.000000</td>\n",
       "      <td>3980.000000</td>\n",
       "      <td>3980.000000</td>\n",
       "      <td>3980.000000</td>\n",
       "      <td>3980.000000</td>\n",
       "      <td>3980.000000</td>\n",
       "      <td>3980.000000</td>\n",
       "    </tr>\n",
       "    <tr>\n",
       "      <th>mean</th>\n",
       "      <td>0.499246</td>\n",
       "      <td>0.499497</td>\n",
       "      <td>0.498995</td>\n",
       "      <td>0.500000</td>\n",
       "      <td>0.496985</td>\n",
       "      <td>0.499246</td>\n",
       "      <td>0.497236</td>\n",
       "      <td>0.498241</td>\n",
       "      <td>0.497990</td>\n",
       "      <td>0.499246</td>\n",
       "      <td>...</td>\n",
       "      <td>0.248241</td>\n",
       "      <td>0.498995</td>\n",
       "      <td>0.248995</td>\n",
       "      <td>0.248492</td>\n",
       "      <td>0.498995</td>\n",
       "      <td>0.248492</td>\n",
       "      <td>0.249246</td>\n",
       "      <td>0.248744</td>\n",
       "      <td>0.248995</td>\n",
       "      <td>0.249246</td>\n",
       "    </tr>\n",
       "    <tr>\n",
       "      <th>std</th>\n",
       "      <td>0.500062</td>\n",
       "      <td>0.500063</td>\n",
       "      <td>0.500062</td>\n",
       "      <td>0.500063</td>\n",
       "      <td>0.500054</td>\n",
       "      <td>0.500062</td>\n",
       "      <td>0.500055</td>\n",
       "      <td>0.500060</td>\n",
       "      <td>0.500059</td>\n",
       "      <td>0.500062</td>\n",
       "      <td>...</td>\n",
       "      <td>0.432047</td>\n",
       "      <td>0.500062</td>\n",
       "      <td>0.432485</td>\n",
       "      <td>0.432193</td>\n",
       "      <td>0.500062</td>\n",
       "      <td>0.432193</td>\n",
       "      <td>0.432631</td>\n",
       "      <td>0.432339</td>\n",
       "      <td>0.432485</td>\n",
       "      <td>0.432631</td>\n",
       "    </tr>\n",
       "    <tr>\n",
       "      <th>min</th>\n",
       "      <td>0.000000</td>\n",
       "      <td>0.000000</td>\n",
       "      <td>0.000000</td>\n",
       "      <td>0.000000</td>\n",
       "      <td>0.000000</td>\n",
       "      <td>0.000000</td>\n",
       "      <td>0.000000</td>\n",
       "      <td>0.000000</td>\n",
       "      <td>0.000000</td>\n",
       "      <td>0.000000</td>\n",
       "      <td>...</td>\n",
       "      <td>0.000000</td>\n",
       "      <td>0.000000</td>\n",
       "      <td>0.000000</td>\n",
       "      <td>0.000000</td>\n",
       "      <td>0.000000</td>\n",
       "      <td>0.000000</td>\n",
       "      <td>0.000000</td>\n",
       "      <td>0.000000</td>\n",
       "      <td>0.000000</td>\n",
       "      <td>0.000000</td>\n",
       "    </tr>\n",
       "    <tr>\n",
       "      <th>25%</th>\n",
       "      <td>0.000000</td>\n",
       "      <td>0.000000</td>\n",
       "      <td>0.000000</td>\n",
       "      <td>0.000000</td>\n",
       "      <td>0.000000</td>\n",
       "      <td>0.000000</td>\n",
       "      <td>0.000000</td>\n",
       "      <td>0.000000</td>\n",
       "      <td>0.000000</td>\n",
       "      <td>0.000000</td>\n",
       "      <td>...</td>\n",
       "      <td>0.000000</td>\n",
       "      <td>0.000000</td>\n",
       "      <td>0.000000</td>\n",
       "      <td>0.000000</td>\n",
       "      <td>0.000000</td>\n",
       "      <td>0.000000</td>\n",
       "      <td>0.000000</td>\n",
       "      <td>0.000000</td>\n",
       "      <td>0.000000</td>\n",
       "      <td>0.000000</td>\n",
       "    </tr>\n",
       "    <tr>\n",
       "      <th>50%</th>\n",
       "      <td>0.000000</td>\n",
       "      <td>0.000000</td>\n",
       "      <td>0.000000</td>\n",
       "      <td>0.500000</td>\n",
       "      <td>0.000000</td>\n",
       "      <td>0.000000</td>\n",
       "      <td>0.000000</td>\n",
       "      <td>0.000000</td>\n",
       "      <td>0.000000</td>\n",
       "      <td>0.000000</td>\n",
       "      <td>...</td>\n",
       "      <td>0.000000</td>\n",
       "      <td>0.000000</td>\n",
       "      <td>0.000000</td>\n",
       "      <td>0.000000</td>\n",
       "      <td>0.000000</td>\n",
       "      <td>0.000000</td>\n",
       "      <td>0.000000</td>\n",
       "      <td>0.000000</td>\n",
       "      <td>0.000000</td>\n",
       "      <td>0.000000</td>\n",
       "    </tr>\n",
       "    <tr>\n",
       "      <th>75%</th>\n",
       "      <td>1.000000</td>\n",
       "      <td>1.000000</td>\n",
       "      <td>1.000000</td>\n",
       "      <td>1.000000</td>\n",
       "      <td>1.000000</td>\n",
       "      <td>1.000000</td>\n",
       "      <td>1.000000</td>\n",
       "      <td>1.000000</td>\n",
       "      <td>1.000000</td>\n",
       "      <td>1.000000</td>\n",
       "      <td>...</td>\n",
       "      <td>0.000000</td>\n",
       "      <td>1.000000</td>\n",
       "      <td>0.000000</td>\n",
       "      <td>0.000000</td>\n",
       "      <td>1.000000</td>\n",
       "      <td>0.000000</td>\n",
       "      <td>0.000000</td>\n",
       "      <td>0.000000</td>\n",
       "      <td>0.000000</td>\n",
       "      <td>0.000000</td>\n",
       "    </tr>\n",
       "    <tr>\n",
       "      <th>max</th>\n",
       "      <td>1.000000</td>\n",
       "      <td>1.000000</td>\n",
       "      <td>1.000000</td>\n",
       "      <td>1.000000</td>\n",
       "      <td>1.000000</td>\n",
       "      <td>1.000000</td>\n",
       "      <td>1.000000</td>\n",
       "      <td>1.000000</td>\n",
       "      <td>1.000000</td>\n",
       "      <td>1.000000</td>\n",
       "      <td>...</td>\n",
       "      <td>1.000000</td>\n",
       "      <td>1.000000</td>\n",
       "      <td>1.000000</td>\n",
       "      <td>1.000000</td>\n",
       "      <td>1.000000</td>\n",
       "      <td>1.000000</td>\n",
       "      <td>1.000000</td>\n",
       "      <td>1.000000</td>\n",
       "      <td>1.000000</td>\n",
       "      <td>1.000000</td>\n",
       "    </tr>\n",
       "  </tbody>\n",
       "</table>\n",
       "<p>8 rows × 87 columns</p>\n",
       "</div>"
      ],
      "text/plain": [
       "            334420       330512       329174       335525       328156  \\\n",
       "count  3980.000000  3980.000000  3980.000000  3980.000000  3980.000000   \n",
       "mean      0.499246     0.499497     0.498995     0.500000     0.496985   \n",
       "std       0.500062     0.500063     0.500062     0.500063     0.500054   \n",
       "min       0.000000     0.000000     0.000000     0.000000     0.000000   \n",
       "25%       0.000000     0.000000     0.000000     0.000000     0.000000   \n",
       "50%       0.000000     0.000000     0.000000     0.500000     0.000000   \n",
       "75%       1.000000     1.000000     1.000000     1.000000     1.000000   \n",
       "max       1.000000     1.000000     1.000000     1.000000     1.000000   \n",
       "\n",
       "            332329       338651       336153       342952       334250  ...  \\\n",
       "count  3980.000000  3980.000000  3980.000000  3980.000000  3980.000000  ...   \n",
       "mean      0.499246     0.497236     0.498241     0.497990     0.499246  ...   \n",
       "std       0.500062     0.500055     0.500060     0.500059     0.500062  ...   \n",
       "min       0.000000     0.000000     0.000000     0.000000     0.000000  ...   \n",
       "25%       0.000000     0.000000     0.000000     0.000000     0.000000  ...   \n",
       "50%       0.000000     0.000000     0.000000     0.000000     0.000000  ...   \n",
       "75%       1.000000     1.000000     1.000000     1.000000     1.000000  ...   \n",
       "max       1.000000     1.000000     1.000000     1.000000     1.000000  ...   \n",
       "\n",
       "            343088       341386       344316       329431       333480  \\\n",
       "count  3980.000000  3980.000000  3980.000000  3980.000000  3980.000000   \n",
       "mean      0.248241     0.498995     0.248995     0.248492     0.498995   \n",
       "std       0.432047     0.500062     0.432485     0.432193     0.500062   \n",
       "min       0.000000     0.000000     0.000000     0.000000     0.000000   \n",
       "25%       0.000000     0.000000     0.000000     0.000000     0.000000   \n",
       "50%       0.000000     0.000000     0.000000     0.000000     0.000000   \n",
       "75%       0.000000     1.000000     0.000000     0.000000     1.000000   \n",
       "max       1.000000     1.000000     1.000000     1.000000     1.000000   \n",
       "\n",
       "            329056       332438       335189       341324       335880  \n",
       "count  3980.000000  3980.000000  3980.000000  3980.000000  3980.000000  \n",
       "mean      0.248492     0.249246     0.248744     0.248995     0.249246  \n",
       "std       0.432193     0.432631     0.432339     0.432485     0.432631  \n",
       "min       0.000000     0.000000     0.000000     0.000000     0.000000  \n",
       "25%       0.000000     0.000000     0.000000     0.000000     0.000000  \n",
       "50%       0.000000     0.000000     0.000000     0.000000     0.000000  \n",
       "75%       0.000000     0.000000     0.000000     0.000000     0.000000  \n",
       "max       1.000000     1.000000     1.000000     1.000000     1.000000  \n",
       "\n",
       "[8 rows x 87 columns]"
      ]
     },
     "execution_count": 240,
     "metadata": {},
     "output_type": "execute_result"
    }
   ],
   "source": [
    "df.describe()"
   ]
  },
  {
   "cell_type": "code",
   "execution_count": 241,
   "metadata": {},
   "outputs": [],
   "source": [
    "import prim"
   ]
  },
  {
   "cell_type": "markdown",
   "metadata": {},
   "source": [
    "# Perform Prim Analysis on df_results and df based on maximizing critical (hours)"
   ]
  },
  {
   "cell_type": "code",
   "execution_count": 242,
   "metadata": {},
   "outputs": [
    {
     "data": {
      "image/png": "[encoded data removed]",
      "text/plain": [
       "<Figure size 640x480 with 1 Axes>"
      ]
     },
     "metadata": {},
     "output_type": "display_data"
    }
   ],
   "source": [
    "### plot histogram of df_results['hours']\n",
    "plt.hist(df_results['hours'], bins=20)\n",
    "plt.xlabel('Travel Time (hours)')\n",
    "plt.ylabel('Frequency')\n",
    "plt.title('Histogram of Travel Time')\n",
    "plt.show()\n"
   ]
  },
  {
   "cell_type": "markdown",
   "metadata": {},
   "source": [
    "# TODO: Establish automated way to identify otimum threshold for the PRIM analysis\n",
    "- start with mean\n",
    "- perform prim and measure number of inputs \n",
    "- iterate through increasing thershold values\n",
    "- determine the threshold with the largest number of inputs for scenario discovery"
   ]
  },
  {
   "cell_type": "code",
   "execution_count": 243,
   "metadata": {},
   "outputs": [
    {
     "data": {
      "text/plain": [
       "5.0"
      ]
     },
     "execution_count": 243,
     "metadata": {},
     "output_type": "execute_result"
    }
   ],
   "source": [
    "### get the index values of df_results.loc[lp_evac_idx]['hours] that are greater than 4\n",
    "#mask = df_results.loc[lp_evac_idx]['hours'] > 4\n",
    "### get the index of df_results where df_results['hours'] > 4\n",
    "critical_fleet_results_idx = df_results[df_results['hours'] > 4].index\n",
    "\n",
    "### describe df_results.loc[critical_fleet_results_idx]\n",
    "df_results.loc[critical_fleet_results_idx].describe()\n",
    "critical_results_describe = df_results.loc[critical_fleet_results_idx].describe().to_dict()\n",
    "np.floor(critical_results_describe['hours']['mean'])"
   ]
  },
  {
   "cell_type": "code",
   "execution_count": 244,
   "metadata": {},
   "outputs": [
    {
     "name": "stderr",
     "output_type": "stream",
     "text": [
      "/home/pfoytik/anaconda3/lib/python3.10/site-packages/prim/prim_box.py:783: RuntimeWarning: invalid value encountered in scalar divide\n",
      "  p = Hj/Tj\n"
     ]
    },
    {
     "name": "stdout",
     "output_type": "stream",
     "text": [
      "['329644', '330221', '334722', '329091']\n",
      "['330221', '334722', '335189']\n",
      "['334420', '330512', '329644', '330221']\n",
      "['329502', '330221', '334722']\n",
      "['330512', '329644', '330221']\n",
      "['329644', '336067']\n",
      "['329502', '334722']\n",
      "['330512']\n",
      "[]\n",
      "Number of unique index values in crit_ids:  5.237209104038405 9\n"
     ]
    },
    {
     "name": "stderr",
     "output_type": "stream",
     "text": [
      "/home/pfoytik/anaconda3/lib/python3.10/site-packages/prim/prim_box.py:783: RuntimeWarning: invalid value encountered in scalar divide\n",
      "  p = Hj/Tj\n"
     ]
    },
    {
     "name": "stdout",
     "output_type": "stream",
     "text": [
      "['330512', '329644', '329502', '330221', '341295']\n",
      "['329940', '330221', '334722']\n",
      "['330512', '334250', '329644', '330221']\n",
      "['329644', '336067', '330221']\n",
      "['330221', '334722']\n",
      "['330512', '329644']\n",
      "[]\n",
      "Number of unique index values in crit_ids:  5.777482910301231 9\n"
     ]
    },
    {
     "name": "stderr",
     "output_type": "stream",
     "text": [
      "/home/pfoytik/anaconda3/lib/python3.10/site-packages/prim/prim_box.py:783: RuntimeWarning: invalid value encountered in scalar divide\n",
      "  p = Hj/Tj\n"
     ]
    },
    {
     "name": "stdout",
     "output_type": "stream",
     "text": [
      "['330512', '334250', '329644', '329502', '330221']\n",
      "['329644', '329940', '330221']\n",
      "['330221', '334722', '335189']\n",
      "['329644', '330221']\n",
      "['344422']\n",
      "[]\n",
      "Number of unique index values in crit_ids:  6.317756716564057 9\n"
     ]
    },
    {
     "name": "stderr",
     "output_type": "stream",
     "text": [
      "/home/pfoytik/anaconda3/lib/python3.10/site-packages/prim/prim_box.py:783: RuntimeWarning: invalid value encountered in scalar divide\n",
      "  p = Hj/Tj\n"
     ]
    },
    {
     "name": "stdout",
     "output_type": "stream",
     "text": [
      "['334420', '330512', '329644', '329502', '330221']\n",
      "['329644', '329940', '330221']\n",
      "['329644', '329502', '330221']\n",
      "['335090', '328862']\n",
      "['329644', '329091']\n",
      "[]\n",
      "Number of unique index values in crit_ids:  6.858030522826883 9\n"
     ]
    },
    {
     "name": "stderr",
     "output_type": "stream",
     "text": [
      "/home/pfoytik/anaconda3/lib/python3.10/site-packages/prim/prim_box.py:783: RuntimeWarning: invalid value encountered in scalar divide\n",
      "  p = Hj/Tj\n"
     ]
    },
    {
     "name": "stdout",
     "output_type": "stream",
     "text": [
      "['334420', '330512', '329644', '329502', '330221']\n",
      "['329644', '329940', '330221']\n",
      "['329644', '329502', '330221']\n",
      "[]\n",
      "Number of unique index values in crit_ids:  7.39830432908971 6\n"
     ]
    },
    {
     "name": "stderr",
     "output_type": "stream",
     "text": [
      "/home/pfoytik/anaconda3/lib/python3.10/site-packages/prim/prim_box.py:783: RuntimeWarning: invalid value encountered in scalar divide\n",
      "  p = Hj/Tj\n"
     ]
    },
    {
     "name": "stdout",
     "output_type": "stream",
     "text": [
      "['334420', '330512', '329644', '329502', '330221']\n",
      "['329644', '336216', '330221']\n",
      "['329644', '330221']\n",
      "[]\n",
      "Number of unique index values in crit_ids:  7.938578135352536 6\n"
     ]
    },
    {
     "name": "stderr",
     "output_type": "stream",
     "text": [
      "/home/pfoytik/anaconda3/lib/python3.10/site-packages/prim/prim_box.py:783: RuntimeWarning: invalid value encountered in scalar divide\n",
      "  p = Hj/Tj\n"
     ]
    },
    {
     "name": "stdout",
     "output_type": "stream",
     "text": [
      "['330512', '329644', '329502', '330221', '334722']\n",
      "['329644', '329940', '334722']\n",
      "['336067', '334722']\n",
      "[]\n",
      "Number of unique index values in crit_ids:  8.478851941615362 7\n"
     ]
    },
    {
     "name": "stderr",
     "output_type": "stream",
     "text": [
      "/home/pfoytik/anaconda3/lib/python3.10/site-packages/prim/prim_box.py:783: RuntimeWarning: invalid value encountered in scalar divide\n",
      "  p = Hj/Tj\n"
     ]
    },
    {
     "name": "stdout",
     "output_type": "stream",
     "text": [
      "['330512', '329644', '329502', '330221', '334722']\n",
      "['329644', '331750', '334722']\n",
      "['329940', '334722']\n",
      "['332438']\n",
      "[]\n",
      "Number of unique index values in crit_ids:  9.019125747878189 8\n"
     ]
    },
    {
     "name": "stderr",
     "output_type": "stream",
     "text": [
      "/home/pfoytik/anaconda3/lib/python3.10/site-packages/prim/prim_box.py:783: RuntimeWarning: invalid value encountered in scalar divide\n",
      "  p = Hj/Tj\n"
     ]
    },
    {
     "name": "stdout",
     "output_type": "stream",
     "text": [
      "['329644', '334722', '335189']\n",
      "['329644', '329502', '341121', '334722']\n",
      "[]\n",
      "Number of unique index values in crit_ids:  9.559399554141015 5\n",
      "['329644', '334722', '335189']\n",
      "[]\n",
      "Number of unique index values in crit_ids:  10.099673360403841 3\n"
     ]
    },
    {
     "name": "stderr",
     "output_type": "stream",
     "text": [
      "/home/pfoytik/anaconda3/lib/python3.10/site-packages/prim/prim_box.py:783: RuntimeWarning: invalid value encountered in scalar divide\n",
      "  p = Hj/Tj\n"
     ]
    }
   ],
   "source": [
    "setMean = critical_results_describe['hours']['mean']\n",
    "setMax = critical_results_describe['hours']['max']\n",
    "\n",
    "crit_boxes = []\n",
    "\n",
    "### create 10 threshold values from setMean to setMax in increments of 0.5\n",
    "thresholds = []\n",
    "differ_increment = (setMax - setMean)/10\n",
    "for i in range(10):\n",
    "    if i == 0:\n",
    "        thresholds.append(setMean)\n",
    "    else:\n",
    "        thresholds.append(thresholds[i-1] + differ_increment)\n",
    "\n",
    "maxThreshold = 0\n",
    "maxCount = 0\n",
    "critIndex = 0\n",
    "### create a loop to iterate from setMean to setMax in increments of 0.5\n",
    "for t in thresholds:        \n",
    "    prim_alg = prim.Prim(df.loc[critical_fleet_results_idx], df_results.loc[critical_fleet_results_idx]['hours'], threshold=t, threshold_type='>')\n",
    "    try:\n",
    "        crit_box = prim_alg.find_all()\n",
    "        #print(len(crit_box))\n",
    "\n",
    "        crit_boxes.append(crit_box)\n",
    "        \n",
    "        ### get list of all index values for each crit_box\n",
    "        crit_ids = []\n",
    "        for i in range(len(crit_box)):\n",
    "            print(list(crit_box[i].limits.index))\n",
    "            ### add crit_box[i].limits.index to crit_ids but only if it is not already in crit_ids\n",
    "            for j in list(crit_box[i].limits.index):\n",
    "                if j not in crit_ids:\n",
    "                    crit_ids.append(j)\n",
    "\n",
    "        ### print the number of unique index values in crit_ids\n",
    "        if len(set(crit_ids)) >= maxCount:\n",
    "            maxCount = len(set(crit_ids))\n",
    "            maxThreshold = t\n",
    "            critIndex = thresholds.index(t)\n",
    "        print('Number of unique index values in crit_ids: ', t, len(set(crit_ids)))\n",
    "    except:\n",
    "        print(\"zero boxes\")\n",
    "        print('Number of unique index values in crit_ids: ', t, len(set(crit_ids)))"
   ]
  },
  {
   "cell_type": "code",
   "execution_count": 245,
   "metadata": {},
   "outputs": [
    {
     "name": "stdout",
     "output_type": "stream",
     "text": [
      "Max Count:  9\n",
      "Max Threshold:  6.858030522826883\n",
      "['334420', '330512', '329644', '329502', '330221']\n",
      "['329644', '329940', '330221']\n",
      "['329644', '329502', '330221']\n",
      "['335090', '328862']\n",
      "['329644', '329091']\n",
      "[]\n"
     ]
    }
   ],
   "source": [
    "print('Max Count: ', maxCount)\n",
    "print('Max Threshold: ', maxThreshold)\n",
    "crit_boxes[critIndex][0].limits\n",
    "\n",
    "crit_ids = []\n",
    "for i in range(len(crit_boxes[critIndex])):\n",
    "    print(list(crit_boxes[critIndex][i].limits.index))\n",
    "    ### add crit_box[i].limits.index to crit_ids but only if it is not already in crit_ids\n",
    "    for j in list(crit_boxes[critIndex][i].limits.index):\n",
    "        if j not in crit_ids:\n",
    "            crit_ids.append(j)"
   ]
  },
  {
   "cell_type": "markdown",
   "metadata": {},
   "source": [
    "# Perform Prim Analysis on df_results and df based on maximizing z\n"
   ]
  },
  {
   "cell_type": "code",
   "execution_count": 246,
   "metadata": {},
   "outputs": [
    {
     "data": {
      "text/plain": [
       "count    3980.000000\n",
       "mean        0.688284\n",
       "std         0.266550\n",
       "min         0.096573\n",
       "25%         0.431587\n",
       "50%         0.786496\n",
       "75%         0.871041\n",
       "max         1.629607\n",
       "Name: z, dtype: float64"
      ]
     },
     "execution_count": 246,
     "metadata": {},
     "output_type": "execute_result"
    }
   ],
   "source": [
    "df_results['z'].describe()"
   ]
  },
  {
   "cell_type": "code",
   "execution_count": 247,
   "metadata": {},
   "outputs": [
    {
     "name": "stdout",
     "output_type": "stream",
     "text": [
      "0.90592548965157\n"
     ]
    }
   ],
   "source": [
    "### Get the index of rows in df_results['z'] that are greater than 0.1\n",
    "idx = df_results[df_results['z'] > 0.75].index\n",
    "### print the rows of df where the index is in idx\n",
    "#df.loc[idx].describe()\n",
    "df_results.loc[idx]['z'].describe()\n",
    "CSI_results_describe = df_results.loc[idx]['z'].describe().to_dict()\n",
    "print(CSI_results_describe['mean'])"
   ]
  },
  {
   "cell_type": "code",
   "execution_count": null,
   "metadata": {},
   "outputs": [
    {
     "name": "stderr",
     "output_type": "stream",
     "text": [
      "/home/pfoytik/anaconda3/lib/python3.10/site-packages/prim/prim_box.py:783: RuntimeWarning: invalid value encountered in scalar divide\n",
      "  p = Hj/Tj\n"
     ]
    },
    {
     "name": "stdout",
     "output_type": "stream",
     "text": [
      "['329644', '344407', '329043', '330221', '334722', '329091', '342678']\n",
      "['334420', '333582', '330221', '334722', '328862']\n",
      "['330512', '329644', '333272', '335712', '330221', '334722', '329105', '341324']\n",
      "[]\n",
      "Number of unique index values in csi_ids:  0.90592548965157 15\n"
     ]
    },
    {
     "name": "stderr",
     "output_type": "stream",
     "text": [
      "/home/pfoytik/anaconda3/lib/python3.10/site-packages/prim/prim_box.py:783: RuntimeWarning: invalid value encountered in scalar divide\n",
      "  p = Hj/Tj\n"
     ]
    },
    {
     "name": "stdout",
     "output_type": "stream",
     "text": [
      "['329644', '330221', '334722']\n",
      "['334931', '333128', '330221']\n",
      "['329174', '328156', '334722']\n",
      "['329174', '334722']\n",
      "[]\n",
      "Number of unique index values in csi_ids:  0.9782936333712198 7\n",
      "[]\n",
      "Number of unique index values in csi_ids:  1.0506617770908695 0\n",
      "[]\n",
      "Number of unique index values in csi_ids:  1.1230299208105192 0\n",
      "[]\n",
      "Number of unique index values in csi_ids:  1.195398064530169 0\n"
     ]
    },
    {
     "name": "stderr",
     "output_type": "stream",
     "text": [
      "/home/pfoytik/anaconda3/lib/python3.10/site-packages/prim/prim_box.py:783: RuntimeWarning: invalid value encountered in scalar divide\n",
      "  p = Hj/Tj\n"
     ]
    },
    {
     "name": "stdout",
     "output_type": "stream",
     "text": [
      "['330512', '329644', '343703', '332206', '329502', '336067', '331750', '330221']\n",
      "[]\n",
      "Number of unique index values in csi_ids:  1.2677662082498187 8\n"
     ]
    },
    {
     "name": "stderr",
     "output_type": "stream",
     "text": [
      "/home/pfoytik/anaconda3/lib/python3.10/site-packages/prim/prim_box.py:783: RuntimeWarning: invalid value encountered in scalar divide\n",
      "  p = Hj/Tj\n"
     ]
    },
    {
     "name": "stdout",
     "output_type": "stream",
     "text": [
      "['330512', '329644', '343703', '332206', '329502', '336067', '331750', '330221']\n",
      "[]\n",
      "Number of unique index values in csi_ids:  1.3401343519694684 8\n"
     ]
    },
    {
     "name": "stderr",
     "output_type": "stream",
     "text": [
      "/home/pfoytik/anaconda3/lib/python3.10/site-packages/prim/prim_box.py:783: RuntimeWarning: invalid value encountered in scalar divide\n",
      "  p = Hj/Tj\n"
     ]
    },
    {
     "name": "stdout",
     "output_type": "stream",
     "text": [
      "['330512', '329502', '330221', '334722']\n",
      "[]\n",
      "Number of unique index values in csi_ids:  1.4125024956891181 4\n"
     ]
    },
    {
     "name": "stderr",
     "output_type": "stream",
     "text": [
      "/home/pfoytik/anaconda3/lib/python3.10/site-packages/prim/prim_box.py:783: RuntimeWarning: invalid value encountered in scalar divide\n",
      "  p = Hj/Tj\n"
     ]
    },
    {
     "name": "stdout",
     "output_type": "stream",
     "text": [
      "['330512', '329502', '330221', '334722']\n",
      "[]\n",
      "Number of unique index values in csi_ids:  1.4848706394087678 4\n",
      "['330512', '338651', '330221', '334722']\n",
      "[]\n",
      "Number of unique index values in csi_ids:  1.5572387831284176 4\n"
     ]
    },
    {
     "name": "stderr",
     "output_type": "stream",
     "text": [
      "/home/pfoytik/anaconda3/lib/python3.10/site-packages/prim/prim_box.py:783: RuntimeWarning: invalid value encountered in scalar divide\n",
      "  p = Hj/Tj\n"
     ]
    }
   ],
   "source": [
    "setMean = CSI_results_describe['mean']\n",
    "setMax = CSI_results_describe['max']\n",
    "\n",
    "csi_boxes = []\n",
    "\n",
    "### create 10 threshold values from setMean to setMax in increments of 0.5\n",
    "thresholds = []\n",
    "differ_increment = (setMax - setMean)/10\n",
    "for i in range(10):\n",
    "    if i == 0:\n",
    "        thresholds.append(setMean)\n",
    "    else:\n",
    "        thresholds.append(thresholds[i-1] + differ_increment)\n",
    "\n",
    "maxThreshold = 0\n",
    "maxCount = 0\n",
    "csi_index = 0\n",
    "### create a loop to iterate from setMean to setMax in increments of 0.5\n",
    "for t in thresholds: \n",
    "    prim_alg = prim.Prim(df.loc[idx], df_results.loc[idx]['z'], threshold=t, threshold_type='>')\n",
    "    try:\n",
    "        CSI_box = prim_alg.find_all()\n",
    "        #print(len(CSI_box))\n",
    "        csi_boxes.append(CSI_box)\n",
    "\n",
    "        csi_ids = []\n",
    "        for i in range(len(CSI_box)):\n",
    "            print(list(CSI_box[i].limits.index))\n",
    "            ### add CSI_box[i].limits.index to csi_ids but only if it is not already in csi_ids\n",
    "            for j in list(CSI_box[i].limits.index):lam1\n",
    "                if j not in csi_ids:\n",
    "                    csi_ids.append(j)\n",
    "        ### print the number of unique index values in csi_ids\n",
    "        if len(csi_ids) >= maxCount:\n",
    "            maxCount = len(csi_ids)\n",
    "            maxThreshold = t\n",
    "            ### set csi_index to the index of t in thresholds\n",
    "            csiIndex = thresholds.index(t)\n",
    "        print('Number of unique index values in csi_ids: ', t, len(set(csi_ids)))\n",
    "    except:\n",
    "        print(\"found zero boxes\")\n",
    "        print('Number of unique index values in csi_ids: ', t, len(set(csi_ids)))"
   ]
  },
  {
   "cell_type": "code",
   "execution_count": 249,
   "metadata": {},
   "outputs": [
    {
     "name": "stdout",
     "output_type": "stream",
     "text": [
      "Max Count:  15\n",
      "Max Threshold:  0.90592548965157\n",
      "['329644', '344407', '329043', '330221', '334722', '329091', '342678']\n",
      "['334420', '333582', '330221', '334722', '328862']\n",
      "['330512', '329644', '333272', '335712', '330221', '334722', '329105', '341324']\n",
      "[]\n"
     ]
    }
   ],
   "source": [
    "print('Max Count: ', maxCount)\n",
    "print('Max Threshold: ', maxThreshold)\n",
    "csi_boxes[csiIndex][1].limits\n",
    "\n",
    "csi_ids = []\n",
    "for i in range(len(csi_boxes[csiIndex])):\n",
    "    print(list(csi_boxes[csiIndex][i].limits.index))\n",
    "    ### add CSI_box[i].limits.index to csi_ids but only if it is not already in csi_ids\n",
    "    for j in list(csi_boxes[csiIndex][i].limits.index):\n",
    "        if j not in csi_ids:\n",
    "            csi_ids.append(j)"
   ]
  },
  {
   "cell_type": "markdown",
   "metadata": {},
   "source": [
    "# Generate KML for crit_box and CSI_box IDs\n"
   ]
  },
  {
   "cell_type": "code",
   "execution_count": 250,
   "metadata": {},
   "outputs": [
    {
     "name": "stdout",
     "output_type": "stream",
     "text": [
      "[[-121.1323993, 39.1644618], [-121.1324019, 39.1644117], [-121.1324066, 39.1643185], [-121.1314762, 39.1632896], [-121.1314409, 39.1629635], [-121.1316671, 39.162649], [-121.1324963, 39.1618332], [-121.1327205, 39.1615423], [-121.1327307, 39.1615155], [-121.1327857, 39.1613709], [-121.1328344, 39.1612429], [-121.1332105, 39.1602543], [-121.1333773, 39.159969], [-121.1343037, 39.15924]]\n"
     ]
    }
   ],
   "source": [
    "if 'fleet' in dbFile:\n",
    "    print(fleet_lat_long_dict[int(crit_ids[0])])\n",
    "else:\n",
    "    print(ladris_latlong_dict[int(crit_ids[0])])"
   ]
  },
  {
   "cell_type": "code",
   "execution_count": 251,
   "metadata": {},
   "outputs": [],
   "source": [
    "import ast\n",
    "from geopandas import GeoDataFrame\n",
    "import geopandas as gpd\n",
    "from shapely.geometry import LineString\n"
   ]
  },
  {
   "cell_type": "code",
   "execution_count": 252,
   "metadata": {},
   "outputs": [],
   "source": [
    "if 'fleet' in dbFile:\n",
    "    #### update fleet_lat_long_dict to be a dictionary of linestrings\n",
    "    for i in fleet_lat_long_dict:\n",
    "        fleet_lat_long_dict[i] = LineString([ast.literal_eval(str(fleet_lat_long_dict[i][0])), ast.literal_eval(str(fleet_lat_long_dict[i][1]))])\n",
    "else:\n",
    "    ### update ladris_latlong_dict to be a dictionary of linestrings\n",
    "    for i in ladris_latlong_dict:\n",
    "        ladris_latlong_dict[i] = LineString([ast.literal_eval(str(ladris_latlong_dict[i][0])), ast.literal_eval(str(ladris_latlong_dict[i][1]))])\n"
   ]
  },
  {
   "cell_type": "code",
   "execution_count": 253,
   "metadata": {},
   "outputs": [],
   "source": [
    "if 'fleet' in dbFile:\n",
    "    #all_gdf = GeoDataFrame(geometry=[fleet_lat_long_dict[i] for i in fleet_lat_long_dict])\n",
    "    all_gdf = GeoDataFrame(\n",
    "        {\"id\": list(fleet_lat_long_dict.keys()), \"geometry\": list(fleet_lat_long_dict.values())}\n",
    "    )\n",
    "\n",
    "    crit_sub_gdf = GeoDataFrame(\n",
    "        {\"id\": [int(i) for i in crit_ids], \"geometry\": [fleet_lat_long_dict[int(i)] for i in crit_ids]}\n",
    "    )\n",
    "\n",
    "    csi_sub_gdf = GeoDataFrame(\n",
    "        {\"id\": [int(i) for i in csi_ids], \"geometry\": [fleet_lat_long_dict[int(i)] for i in csi_ids]}\n",
    "    )\n",
    "else:\n",
    "    all_gdf = GeoDataFrame(\n",
    "        {\"id\": list(ladris_latlong_dict.keys()), \"geometry\": list(ladris_latlong_dict.values())}\n",
    "    )\n",
    "\n",
    "    crit_sub_gdf = GeoDataFrame(\n",
    "        {\"id\": [int(i) for i in crit_ids], \"geometry\": [ladris_latlong_dict[int(i)] for i in crit_ids]}\n",
    "    )\n",
    "\n",
    "    csi_sub_gdf = GeoDataFrame(\n",
    "        {\"id\": [int(i) for i in csi_ids], \"geometry\": [ladris_latlong_dict[int(i)] for i in csi_ids]}\n",
    "    )\n"
   ]
  },
  {
   "cell_type": "code",
   "execution_count": 254,
   "metadata": {},
   "outputs": [
    {
     "name": "stderr",
     "output_type": "stream",
     "text": [
      "/home/pfoytik/anaconda3/lib/python3.10/site-packages/pyogrio/geopandas.py:662: UserWarning: 'crs' was not provided.  The output dataset will not have projection information defined and may not be usable in other systems.\n",
      "  write(\n",
      "/home/pfoytik/anaconda3/lib/python3.10/site-packages/pyogrio/raw.py:723: RuntimeWarning: Layer name 'ladris_crit_segments_2025-05-28' adjusted to 'ladris_crit_segments_2025_05_28' for XML validity.\n",
      "  ogr_write(\n",
      "/home/pfoytik/anaconda3/lib/python3.10/site-packages/pyogrio/geopandas.py:662: UserWarning: 'crs' was not provided.  The output dataset will not have projection information defined and may not be usable in other systems.\n",
      "  write(\n",
      "/home/pfoytik/anaconda3/lib/python3.10/site-packages/pyogrio/raw.py:723: RuntimeWarning: Layer name 'ladris_csi_segments_2025-05-28' adjusted to 'ladris_csi_segments_2025_05_28' for XML validity.\n",
      "  ogr_write(\n"
     ]
    }
   ],
   "source": [
    "import datetime\n",
    "now = datetime.datetime.now()\n",
    "if 'fleet' in dbFile:\n",
    "    crit_fname = 'fleet_crit_segments_'+str(now.date())+'.kml'\n",
    "    csi_fname = 'fleet_csi_segments_'+str(now.date())+'.kml'\n",
    "    ### output geodataframe sub_gdf to kml file where id is the identity label and geometry is the lat long for position of the segment\n",
    "    crit_sub_gdf.to_file(crit_fname, driver='KML', index=False)\n",
    "    csi_sub_gdf.to_file(csi_fname, driver='KML', index=False)\n",
    "else:\n",
    "    ### output geodataframe sub_gdf to kml file where id is the identity label and geometry is the lat long for position of the segment\n",
    "    crit_fname = 'ladris_crit_segments_'+str(now.date())+'.kml'\n",
    "    csi_fname = 'ladris_csi_segments_'+str(now.date())+'.kml'\n",
    "    crit_sub_gdf.to_file(crit_fname, driver='KML', index=False)\n",
    "    csi_sub_gdf.to_file(csi_fname, driver='KML', index=False)\n",
    "\n",
    "\n"
   ]
  },
  {
   "cell_type": "code",
   "execution_count": 255,
   "metadata": {},
   "outputs": [
    {
     "data": {
      "text/plain": [
       "'2025-05-28'"
      ]
     },
     "execution_count": 255,
     "metadata": {},
     "output_type": "execute_result"
    }
   ],
   "source": [
    "str(now.date())"
   ]
  },
  {
   "cell_type": "markdown",
   "metadata": {},
   "source": [
    "# Compare evac time for scenarios of CRIT and scenarios of CSI"
   ]
  },
  {
   "cell_type": "code",
   "execution_count": 256,
   "metadata": {},
   "outputs": [
    {
     "name": "stdout",
     "output_type": "stream",
     "text": [
      "6 1\n"
     ]
    }
   ],
   "source": [
    "print(len(crit_boxes[critIndex]), len(csi_boxes[critIndex]))\n"
   ]
  },
  {
   "cell_type": "code",
   "execution_count": 257,
   "metadata": {},
   "outputs": [],
   "source": [
    "import prim as prim\n",
    "import numpy as np\n"
   ]
  },
  {
   "cell_type": "code",
   "execution_count": 258,
   "metadata": {},
   "outputs": [],
   "source": [
    "def getCriticalTimes(df, crit_box):\n",
    "    criticalTimes = {}\n",
    "    for c in range(len(crit_box)):\n",
    "        ctime = []\n",
    "        tempDict = {}\n",
    "\n",
    "        ## the list of column names\n",
    "        #list(crit_box[0].limits.index))\n",
    "\n",
    "        ### the list of values\n",
    "        #list(crit_box[0].limits['min'])\n",
    "        cb_index = list(crit_box[c].limits.index)\n",
    "        \n",
    "        ### convert cb_index to integers\n",
    "        if 'fleet' not in dbFile:\n",
    "            for i in range(len(cb_index)):\n",
    "                if isinstance(cb_index[i], str):\n",
    "                    cb_index[i] = int(cb_index[i])\n",
    "\n",
    "        ### create dictionary of list(crit_box[0].limits.index) and list(crit_box[0].limits['min'])\n",
    "        for i in range(len(cb_index)):\n",
    "            tempDict[cb_index[i]] = list(crit_box[c].limits['min'])[i]\n",
    "\n",
    "        if len(tempDict) > 2:\n",
    "            ### convert tempDict values to integers\n",
    "            for i in tempDict:\n",
    "                if isinstance(tempDict[i], str):\n",
    "                    tempDict[i] = int(tempDict[i])\n",
    "                else:\n",
    "                    tempDict[i] = int(tempDict[i])\n",
    "            #print(tempDict.values())\n",
    "\n",
    "            ### get the index of df[list(crit_box[1].limits.index)] where the values are equal to tempDict.values()\n",
    "            cb1_idx = list(df[cb_index].index)\n",
    "\n",
    "            ### for each row of df[list(crit_box[1].limits.index)].values.tolist() compare the list to tempDict.values()\n",
    "            count = 0\n",
    "            for i in df[cb_index].values.tolist():\n",
    "                if i == list(tempDict.values()):\n",
    "                    #print(cb1_idx[count], i)\n",
    "                    ctime.append(df_results.loc[cb1_idx[count]]['hours'])\n",
    "                count += 1\n",
    "            criticalTimes[c] = ctime\n",
    "            print(round(np.mean(ctime), 2), round(np.max(ctime), 2), round(np.min(ctime), 2), len(ctime))\n",
    "    return criticalTimes"
   ]
  },
  {
   "cell_type": "markdown",
   "metadata": {},
   "source": [
    "# Results for Fleet\n",
    "### All Data\n",
    "| Mean | Max  | Min  | Count |\n",
    "|------|------|------|-------|\n",
    "| 3.49 | 8.33 | 2.67 | 3896  |\n",
    "\n",
    "### Critical\n",
    "| Mean | Max  | Min  | Count |\n",
    "|------|------|------|-------|\n",
    "| 4.42 | 7.42 | 2.67 | 281   |\n",
    "| 4.74 | 6.5  | 3.67 | 108   |\n",
    "| 5.1  | 6.5  | 2.67 | 117   |\n",
    "| 3.98 | 7.42 | 2.67 | 521   |\n",
    "| 5.11 | 8.33 | 2.67 | 262   |\n",
    "| 4.1  | 8.33 | 2.67 | 746   |\n",
    "\n",
    "### CSI\n",
    "| Mean | Max  | Min  | Count |\n",
    "|------|------|------|-------|\n",
    "| 3.37 | 6.5  | 2.67 | 1239  |\n",
    "| 4.41 | 7.42 | 2.67 | 290   |\n",
    "| 3.12 | 5.5  | 2.67 | 467   |\n",
    "| 3.17 | 7.42 | 2.67 | 613   |\n",
    "\n",
    "# Results for Ladris 0.5 lam1, 1 lam2\n",
    "- Reducing the crit lam1 to 0.1 reduced the mean eavacuation time of the CSI scenarios by 1 hour!\n",
    "- increaseing the crit lam1 to 1 increases the mean evacuation time of the CSI scenarios by 1 hours!\n",
    "  - doing this reduces several areas of surprise in particular the segments on lower colfax rd.\n",
    "### All Data\n",
    "| Mean | Max   | Min  | Count |\n",
    "|------|-------|------|-------|\n",
    "| 4.62 | 10.64 | 3.62 | 3980  |\n",
    "\n",
    "### Critical\n",
    "| Mean | Max   | Min  | Count |\n",
    "|------|-------|------|-------|\n",
    "| 8.04 | 10.55 | 5.17 | 114   |\n",
    "| 6.56 | 10.64 | 4.13 | 242   |\n",
    "| 6.23 | 10.55 | 4.11 | 508   |\n",
    "\n",
    "### CSI\n",
    "| Mean | Max   | Min  | Count |\n",
    "|------|-------|------|-------|\n",
    "| 5.63 | 10.51 | 4.19 | 175   |\n",
    "| 6.44 | 10.51 | 4.45 | 145   |\n",
    "| 5.58 | 10.29 | 4.19 | 317   |\n",
    "| 5.62 | 10.51 | 3.95 | 605   |\n",
    "| 4.52 | 10.21 | 3.65 | 503   |\n",
    "| 4.38 | 9.46  | 3.65 | 321   |\n",
    "| 4.33 | 8.38  | 3.67 | 494   |\n"
   ]
  },
  {
   "cell_type": "code",
   "execution_count": 259,
   "metadata": {},
   "outputs": [
    {
     "data": {
      "text/plain": [
       "6"
      ]
     },
     "execution_count": 259,
     "metadata": {},
     "output_type": "execute_result"
    }
   ],
   "source": [
    "len(crit_boxes[critIndex])"
   ]
  },
  {
   "cell_type": "code",
   "execution_count": 260,
   "metadata": {},
   "outputs": [
    {
     "name": "stderr",
     "output_type": "stream",
     "text": [
      "/home/pfoytik/anaconda3/lib/python3.10/site-packages/prim/prim_box.py:783: RuntimeWarning: invalid value encountered in scalar divide\n",
      "  p = Hj/Tj\n",
      "/home/pfoytik/anaconda3/lib/python3.10/site-packages/prim/prim_box.py:783: RuntimeWarning: invalid value encountered in scalar divide\n",
      "  p = Hj/Tj\n",
      "/home/pfoytik/anaconda3/lib/python3.10/site-packages/prim/prim_box.py:783: RuntimeWarning: invalid value encountered in scalar divide\n",
      "  p = Hj/Tj\n"
     ]
    },
    {
     "name": "stdout",
     "output_type": "stream",
     "text": [
      "8.04 10.55 5.17 114\n",
      "6.56 10.64 4.13 242\n"
     ]
    },
    {
     "name": "stderr",
     "output_type": "stream",
     "text": [
      "/home/pfoytik/anaconda3/lib/python3.10/site-packages/prim/prim_box.py:783: RuntimeWarning: invalid value encountered in scalar divide\n",
      "  p = Hj/Tj\n",
      "/home/pfoytik/anaconda3/lib/python3.10/site-packages/prim/prim_box.py:783: RuntimeWarning: invalid value encountered in scalar divide\n",
      "  p = Hj/Tj\n"
     ]
    },
    {
     "name": "stdout",
     "output_type": "stream",
     "text": [
      "6.23 10.55 4.11 508\n",
      "<><><><><><><><><><><><><><><><><>\n",
      "6.5 10.43 4.57 153\n",
      "5.88 10.64 4.32 303\n",
      "6.09 8.13 4.45 136\n",
      "3 3\n"
     ]
    },
    {
     "name": "stderr",
     "output_type": "stream",
     "text": [
      "/home/pfoytik/anaconda3/lib/python3.10/site-packages/prim/prim_box.py:783: RuntimeWarning: invalid value encountered in scalar divide\n",
      "  p = Hj/Tj\n"
     ]
    }
   ],
   "source": [
    "### get critical times for each crit_box\n",
    "criticalTimes = getCriticalTimes(df, crit_boxes[critIndex])\n",
    "#print(criticalTimes)\n",
    "print(\"<><><><><><><><><><><><><><><><><>\")\n",
    "csiTimes = getCriticalTimes(df, csi_boxes[csiIndex])\n",
    "print(len(criticalTimes), len(csiTimes))"
   ]
  },
  {
   "cell_type": "code",
   "execution_count": 261,
   "metadata": {},
   "outputs": [
    {
     "data": {
      "text/plain": [
       "count    3980.000000\n",
       "mean        4.621546\n",
       "std         1.209052\n",
       "min         3.624039\n",
       "25%         3.793138\n",
       "50%         4.140205\n",
       "75%         5.171863\n",
       "max        10.639947\n",
       "Name: hours, dtype: float64"
      ]
     },
     "execution_count": 261,
     "metadata": {},
     "output_type": "execute_result"
    }
   ],
   "source": [
    "df_results['hours'].describe()"
   ]
  },
  {
   "cell_type": "code",
   "execution_count": 262,
   "metadata": {},
   "outputs": [
    {
     "data": {
      "image/png": "[encoded data removed]",
      "text/plain": [
       "<Figure size 1000x500 with 1 Axes>"
      ]
     },
     "metadata": {},
     "output_type": "display_data"
    }
   ],
   "source": [
    "### create a histogram of the critical times combined\n",
    "plt.figure(figsize=(10, 5))\n",
    "plt.hist([item for sublist in criticalTimes.values() for item in sublist], bins=20)\n",
    "plt.xlabel('Travel Time (hours)')\n",
    "plt.ylabel('Frequency')\n",
    "plt.title('Histogram of Critical Times Combined')\n",
    "plt.show()"
   ]
  },
  {
   "cell_type": "code",
   "execution_count": 263,
   "metadata": {},
   "outputs": [
    {
     "data": {
      "image/png": "[encoded data removed]",
      "text/plain": [
       "<Figure size 1000x500 with 1 Axes>"
      ]
     },
     "metadata": {},
     "output_type": "display_data"
    }
   ],
   "source": [
    "### create a histogram of csi times combined\n",
    "plt.figure(figsize=(10, 5))\n",
    "plt.hist([item for sublist in csiTimes.values() for item in sublist], bins=20)\n",
    "plt.xlabel('Travel Time (hours)')\n",
    "plt.ylabel('Frequency')\n",
    "plt.title('Histogram of CSI Times Combined')\n",
    "plt.show()"
   ]
  },
  {
   "cell_type": "code",
   "execution_count": null,
   "metadata": {},
   "outputs": [],
   "source": []
  },
  {
   "cell_type": "code",
   "execution_count": null,
   "metadata": {},
   "outputs": [],
   "source": []
  },
  {
   "cell_type": "code",
   "execution_count": null,
   "metadata": {},
   "outputs": [],
   "source": []
  }
 ],
 "metadata": {
  "kernelspec": {
   "display_name": "Python 3 (ipykernel)",
   "language": "python",
   "name": "python3"
  },
  "language_info": {
   "codemirror_mode": {
    "name": "ipython",
    "version": 3
   },
   "file_extension": ".py",
   "mimetype": "text/x-python",
   "name": "python",
   "nbconvert_exporter": "python",
   "pygments_lexer": "ipython3",
   "version": "3.10.13"
  }
 },
 "nbformat": 4,
 "nbformat_minor": 2
}
